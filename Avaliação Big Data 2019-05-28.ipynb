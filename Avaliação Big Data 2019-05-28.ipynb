{
  "nbformat": 4,
  "nbformat_minor": 0,
  "metadata": {
    "colab": {
      "name": "Avaliação Big Data.ipynb",
      "version": "0.3.2",
      "provenance": [],
      "collapsed_sections": [
        "DXFbhfDs3KXG",
        "TV9OfmjJ3aib",
        "gkwPAIS_7khv",
        "khpTjMea8cXK",
        "TVh8I5YH3ip6",
        "NTNYJz_sCUQj",
        "xCNqQ0o-Ak-M",
        "krGoCs9kVImg"
      ],
      "include_colab_link": true
    },
    "kernelspec": {
      "name": "python2",
      "display_name": "Python 2"
    }
  },
  "cells": [
    {
      "cell_type": "markdown",
      "metadata": {
        "id": "view-in-github",
        "colab_type": "text"
      },
      "source": [
        "<a href=\"https://colab.research.google.com/github/EdnilsonRosa/Data-Science/blob/master/Avalia%C3%A7%C3%A3o%20Big%20Data%202019-05-28.ipynb\" target=\"_parent\"><img src=\"https://colab.research.google.com/assets/colab-badge.svg\" alt=\"Open In Colab\"/></a>"
      ]
    },
    {
      "cell_type": "markdown",
      "metadata": {
        "id": "EzATYNEw4yxP",
        "colab_type": "text"
      },
      "source": [
        "# Avaliação Processamento e Análise para Big Data"
      ]
    },
    {
      "cell_type": "markdown",
      "metadata": {
        "id": "OF2sZTtqbzEl",
        "colab_type": "text"
      },
      "source": [
        "###Alunos: Ednilson Rosa e Rogério Prates Peres\n",
        "#### Versão do Phyton: 2"
      ]
    },
    {
      "cell_type": "markdown",
      "metadata": {
        "id": "HeAFpH1H4Mj7",
        "colab_type": "text"
      },
      "source": [
        "## Inicializando o ambiente e carregando as bibliotecas"
      ]
    },
    {
      "cell_type": "code",
      "metadata": {
        "id": "fxBhk2b5l2vE",
        "colab_type": "code",
        "outputId": "012cbd18-f707-4428-e06e-9d0c96dafd09",
        "colab": {
          "base_uri": "https://localhost:8080/",
          "height": 68
        }
      },
      "source": [
        "#!apt-get install openjdk-8-jdk-headless -qq > /dev/null\n",
        "!wget -q http://archive.apache.org/dist/spark/spark-2.4.2/spark-2.4.2-bin-hadoop2.7.tgz\n",
        "!tar xf spark-2.4.2-bin-hadoop2.7.tgz\n",
        "!pip install -q findspark\n",
        "\n",
        "!java -version\n",
        "\n",
        "import os\n",
        "os.environ[\"JAVA_HOME\"] = \"/usr/lib/jvm/java-1.11.0-openjdk-amd64/\"\n",
        "os.environ[\"SPARK_HOME\"] = \"/content/spark-2.4.2-bin-hadoop2.7\"\n",
        "\n",
        "import findspark\n",
        "findspark.init()\n",
        "from pyspark.sql import SparkSession\n",
        "spark = SparkSession.builder.master(\"local[*]\").getOrCreate()\n",
        "\n",
        "### Chamada da biblioteca\n",
        "\n",
        "from pyspark.sql import SparkSession\n",
        "import pyspark.sql.functions as F\n",
        "from pyspark.sql.types import StringType\n",
        "from pyspark.sql.types import IntegerType\n",
        "from pyspark.sql.types import DoubleType\n",
        "\n",
        "### Inicializaçaõ da Sessão do Spark - \n",
        "\n",
        "spark = SparkSession.builder \\\n",
        "                    .appName(\"Tutorial PySpark SQL\") \\\n",
        "                    .config(\"spark.some.config.option\", \"some-value\") \\\n",
        "                    .getOrCreate()"
      ],
      "execution_count": 1,
      "outputs": [
        {
          "output_type": "stream",
          "text": [
            "openjdk version \"11.0.3\" 2019-04-16\n",
            "OpenJDK Runtime Environment (build 11.0.3+7-Ubuntu-1ubuntu218.04.1)\n",
            "OpenJDK 64-Bit Server VM (build 11.0.3+7-Ubuntu-1ubuntu218.04.1, mixed mode, sharing)\n"
          ],
          "name": "stdout"
        }
      ]
    },
    {
      "cell_type": "code",
      "metadata": {
        "id": "SN14McSe09um",
        "colab_type": "code",
        "outputId": "77f32402-9641-43d4-ff8c-16641020427e",
        "colab": {
          "base_uri": "https://localhost:8080/",
          "height": 170
        }
      },
      "source": [
        "!pip install jellyfish\n",
        "import jellyfish"
      ],
      "execution_count": 2,
      "outputs": [
        {
          "output_type": "stream",
          "text": [
            "Collecting jellyfish\n",
            "\u001b[?25l  Downloading https://files.pythonhosted.org/packages/61/3f/60ac86fb43dfbf976768e80674b5538e535f6eca5aa7806cf2fdfd63550f/jellyfish-0.6.1.tar.gz (132kB)\n",
            "\u001b[K     |████████████████████████████████| 133kB 2.7MB/s \n",
            "\u001b[?25hBuilding wheels for collected packages: jellyfish\n",
            "  Building wheel for jellyfish (setup.py) ... \u001b[?25l\u001b[?25hdone\n",
            "  Stored in directory: /root/.cache/pip/wheels/9c/6f/33/92bb9a4b4562a60ba6a80cedbab8907e48bc7a8b1f369ea0ae\n",
            "Successfully built jellyfish\n",
            "Installing collected packages: jellyfish\n",
            "Successfully installed jellyfish-0.6.1\n"
          ],
          "name": "stdout"
        }
      ]
    },
    {
      "cell_type": "code",
      "metadata": {
        "id": "_WD9ie0Tw01B",
        "colab_type": "code",
        "colab": {}
      },
      "source": [
        "import pandas as pd"
      ],
      "execution_count": 0,
      "outputs": []
    },
    {
      "cell_type": "markdown",
      "metadata": {
        "id": "lndoP-vn4YJW",
        "colab_type": "text"
      },
      "source": [
        "## Montando o Drive e carregando o arquivo"
      ]
    },
    {
      "cell_type": "code",
      "metadata": {
        "id": "6apsGNwnvZEV",
        "colab_type": "code",
        "outputId": "6db11ee3-6d30-4d63-821a-da42ce7a1159",
        "colab": {
          "base_uri": "https://localhost:8080/",
          "height": 122
        }
      },
      "source": [
        "### Montagem de drive do Google\n",
        "### Será solicitada autorização\n",
        "### O Colab tem como raiz uma pasta 'content'\n",
        "\n",
        "from google.colab import drive\n",
        "drive.mount('/content/gdrive')"
      ],
      "execution_count": 4,
      "outputs": [
        {
          "output_type": "stream",
          "text": [
            "Go to this URL in a browser: https://accounts.google.com/o/oauth2/auth?client_id=947318989803-6bn6qk8qdgf4n4g3pfee6491hc0brc4i.apps.googleusercontent.com&redirect_uri=urn%3Aietf%3Awg%3Aoauth%3A2.0%3Aoob&scope=email%20https%3A%2F%2Fwww.googleapis.com%2Fauth%2Fdocs.test%20https%3A%2F%2Fwww.googleapis.com%2Fauth%2Fdrive%20https%3A%2F%2Fwww.googleapis.com%2Fauth%2Fdrive.photos.readonly%20https%3A%2F%2Fwww.googleapis.com%2Fauth%2Fpeopleapi.readonly&response_type=code\n",
            "\n",
            "Enter your authorization code:\n",
            "··········\n",
            "Mounted at /content/gdrive\n"
          ],
          "name": "stdout"
        }
      ]
    },
    {
      "cell_type": "code",
      "metadata": {
        "id": "Mzr1wPwOvv68",
        "colab_type": "code",
        "colab": {}
      },
      "source": [
        "dfa = spark.read.csv('gdrive/My Drive/Colab Notebooks/base_sintetica_ascii_a.csv', header=True, sep=',')"
      ],
      "execution_count": 0,
      "outputs": []
    },
    {
      "cell_type": "code",
      "metadata": {
        "id": "VxWZz1lOwjrd",
        "colab_type": "code",
        "outputId": "18bbd525-86ee-45f0-d05b-04d293d10e15",
        "colab": {
          "base_uri": "https://localhost:8080/",
          "height": 34
        }
      },
      "source": [
        "dfa.count()"
      ],
      "execution_count": 6,
      "outputs": [
        {
          "output_type": "execute_result",
          "data": {
            "text/plain": [
              "540"
            ]
          },
          "metadata": {
            "tags": []
          },
          "execution_count": 6
        }
      ]
    },
    {
      "cell_type": "code",
      "metadata": {
        "id": "akzNC8RCwUmN",
        "colab_type": "code",
        "colab": {}
      },
      "source": [
        "dfb = spark.read.csv('gdrive/My Drive/Colab Notebooks/base_sintetica_ascii_b.csv', header=True, sep=',')"
      ],
      "execution_count": 0,
      "outputs": []
    },
    {
      "cell_type": "code",
      "metadata": {
        "id": "J-2Oknqiwb33",
        "colab_type": "code",
        "outputId": "8c80533a-7599-4432-b93c-327ac9a0ff82",
        "colab": {
          "base_uri": "https://localhost:8080/",
          "height": 34
        }
      },
      "source": [
        "dfb.count()"
      ],
      "execution_count": 10,
      "outputs": [
        {
          "output_type": "execute_result",
          "data": {
            "text/plain": [
              "143"
            ]
          },
          "metadata": {
            "tags": []
          },
          "execution_count": 10
        }
      ]
    },
    {
      "cell_type": "code",
      "metadata": {
        "id": "8PEhGkpPww9P",
        "colab_type": "code",
        "outputId": "e6617483-88ef-48a2-b951-634bd14efe20",
        "colab": {
          "base_uri": "https://localhost:8080/",
          "height": 204
        }
      },
      "source": [
        "dfa.show(5)"
      ],
      "execution_count": 11,
      "outputs": [
        {
          "output_type": "stream",
          "text": [
            "+---+--------------+---------+---------+--------------+----------+--------------------+--------------------+------+-----+--------------------+--------------------+------+---------+--------------+----+\n",
            "| id|        bairro|      cep|   cidade|           cpf| data_nasc|               email|            endereco|estado|idade|                 mae|                nome|numero|    signo|tipo_sanguineo|_c15|\n",
            "+---+--------------+---------+---------+--------------+----------+--------------------+--------------------+------+-----+--------------------+--------------------+------+---------+--------------+----+\n",
            "|  0|   Vila Sarney|65090-677| Sao Luis|097.627.958-49|10/09/1948|vicenteolivermont...|2a Travessa do Ri...|    MA|   71|     Louise Beatriz |Vicente Oliver Mo...|   738|   Virgem|           AB-|null|\n",
            "|  1|Vila Sao Jorge|75044-220| Anapolis|685.096.335-09|24/04/1995|miguelbernardogon...|  Praca Joao Salomao|    GO|   24|     Raquel Barbara |Miguel Bernardo G...|   805|    Touro|            A-|null|\n",
            "|  2|   Cabralzinho|68906-846|   Macapa|956.997.968-27|13/03/1984|ericktheomarcosvi...|    Alameda Calcoene|    AP|   35|Maite Valentina R...|Erick Theo Marcos...|   669|   Peixes|            B+|null|\n",
            "|  3|     Mae Luiza|59014-227|    Natal|631.875.885-22|27/09/1965|mariorobertoisaac...|1a Rua Sao Francisco|    RN|   54|Alicia Cristiane ...|Mario Roberto Isa...|   978|    Libra|           AB+|null|\n",
            "|  4| Jardim Monaco|86702-790|Arapongas|397.480.478-14|24/11/1965|eeliasandersonmat...|Rua Mariquita-dos...|    PR|   54|     Tatiane Josefa |Elias Anderson Ma...|   558|Sagitario|            A+|null|\n",
            "+---+--------------+---------+---------+--------------+----------+--------------------+--------------------+------+-----+--------------------+--------------------+------+---------+--------------+----+\n",
            "only showing top 5 rows\n",
            "\n"
          ],
          "name": "stdout"
        }
      ]
    },
    {
      "cell_type": "code",
      "metadata": {
        "id": "5p5jXN36wpqU",
        "colab_type": "code",
        "outputId": "42d83dbf-b360-4064-be64-26ee9951bcf7",
        "colab": {
          "base_uri": "https://localhost:8080/",
          "height": 204
        }
      },
      "source": [
        "dfb.limit(5).toPandas()"
      ],
      "execution_count": 12,
      "outputs": [
        {
          "output_type": "execute_result",
          "data": {
            "text/html": [
              "<div>\n",
              "<style scoped>\n",
              "    .dataframe tbody tr th:only-of-type {\n",
              "        vertical-align: middle;\n",
              "    }\n",
              "\n",
              "    .dataframe tbody tr th {\n",
              "        vertical-align: top;\n",
              "    }\n",
              "\n",
              "    .dataframe thead th {\n",
              "        text-align: right;\n",
              "    }\n",
              "</style>\n",
              "<table border=\"1\" class=\"dataframe\">\n",
              "  <thead>\n",
              "    <tr style=\"text-align: right;\">\n",
              "      <th></th>\n",
              "      <th>id</th>\n",
              "      <th>cep</th>\n",
              "      <th>cidade</th>\n",
              "      <th>cpf</th>\n",
              "      <th>data_nasc</th>\n",
              "      <th>endereco</th>\n",
              "      <th>estado</th>\n",
              "      <th>mae</th>\n",
              "      <th>nome</th>\n",
              "      <th>tipo_sanguineo</th>\n",
              "    </tr>\n",
              "  </thead>\n",
              "  <tbody>\n",
              "    <tr>\n",
              "      <th>0</th>\n",
              "      <td>01</td>\n",
              "      <td>69304-350</td>\n",
              "      <td>Boa Vista</td>\n",
              "      <td>506.865.202-46</td>\n",
              "      <td>22/11/1965</td>\n",
              "      <td>Avenida Mario Homem de Melo</td>\n",
              "      <td>RR</td>\n",
              "      <td>Isabelle Marcia Antonella</td>\n",
              "      <td>Felipe Bruno dos Santos</td>\n",
              "      <td>AB-</td>\n",
              "    </tr>\n",
              "    <tr>\n",
              "      <th>1</th>\n",
              "      <td>02</td>\n",
              "      <td>78132-360</td>\n",
              "      <td>Varzea Grande</td>\n",
              "      <td>325.828.867-42</td>\n",
              "      <td>None</td>\n",
              "      <td>Rua Rio Cuiaba</td>\n",
              "      <td>MT</td>\n",
              "      <td>Alana Isadora</td>\n",
              "      <td>Marcio Heitor Silveira</td>\n",
              "      <td>AB-</td>\n",
              "    </tr>\n",
              "    <tr>\n",
              "      <th>2</th>\n",
              "      <td>03</td>\n",
              "      <td>88810-336</td>\n",
              "      <td>Criciuma</td>\n",
              "      <td>284.536.218-88</td>\n",
              "      <td>23/09/1961</td>\n",
              "      <td>Rua Romeu Lopes de Carvalho</td>\n",
              "      <td>SC</td>\n",
              "      <td>Caroline Gabriela</td>\n",
              "      <td>Theo Mario Victor Barbosa</td>\n",
              "      <td>A-</td>\n",
              "    </tr>\n",
              "    <tr>\n",
              "      <th>3</th>\n",
              "      <td>04</td>\n",
              "      <td>60874-405</td>\n",
              "      <td>Fortaleza</td>\n",
              "      <td>390.375.925-20</td>\n",
              "      <td>11/05/1981</td>\n",
              "      <td>None</td>\n",
              "      <td>CE</td>\n",
              "      <td>Tereza Bruna</td>\n",
              "      <td>Pietro Henrique de Paula</td>\n",
              "      <td>AB-</td>\n",
              "    </tr>\n",
              "    <tr>\n",
              "      <th>4</th>\n",
              "      <td>05</td>\n",
              "      <td>79106-140</td>\n",
              "      <td>Campo Grande</td>\n",
              "      <td>756.005.387-40</td>\n",
              "      <td>14/12/1941</td>\n",
              "      <td>Rua Pato Branco</td>\n",
              "      <td>MS</td>\n",
              "      <td>Alice Leticia</td>\n",
              "      <td>Kaique Thiago de Paula</td>\n",
              "      <td>A-</td>\n",
              "    </tr>\n",
              "  </tbody>\n",
              "</table>\n",
              "</div>"
            ],
            "text/plain": [
              "   id        cep  ...                       nome tipo_sanguineo\n",
              "0  01  69304-350  ...    Felipe Bruno dos Santos            AB-\n",
              "1  02  78132-360  ...     Marcio Heitor Silveira            AB-\n",
              "2  03  88810-336  ...  Theo Mario Victor Barbosa             A-\n",
              "3  04  60874-405  ...   Pietro Henrique de Paula            AB-\n",
              "4  05  79106-140  ...     Kaique Thiago de Paula             A-\n",
              "\n",
              "[5 rows x 10 columns]"
            ]
          },
          "metadata": {
            "tags": []
          },
          "execution_count": 12
        }
      ]
    },
    {
      "cell_type": "code",
      "metadata": {
        "id": "NWN7XbL-x_Sa",
        "colab_type": "code",
        "outputId": "0ed6b7c0-138d-4134-bda4-d868711a0382",
        "colab": {
          "base_uri": "https://localhost:8080/",
          "height": 527
        }
      },
      "source": [
        "dfa.printSchema()\n",
        "dfb.printSchema()"
      ],
      "execution_count": 13,
      "outputs": [
        {
          "output_type": "stream",
          "text": [
            "root\n",
            " |-- id: string (nullable = true)\n",
            " |-- bairro: string (nullable = true)\n",
            " |-- cep: string (nullable = true)\n",
            " |-- cidade: string (nullable = true)\n",
            " |-- cpf: string (nullable = true)\n",
            " |-- data_nasc: string (nullable = true)\n",
            " |-- email: string (nullable = true)\n",
            " |-- endereco: string (nullable = true)\n",
            " |-- estado: string (nullable = true)\n",
            " |-- idade: string (nullable = true)\n",
            " |-- mae: string (nullable = true)\n",
            " |-- nome: string (nullable = true)\n",
            " |-- numero: string (nullable = true)\n",
            " |-- signo: string (nullable = true)\n",
            " |-- tipo_sanguineo: string (nullable = true)\n",
            " |-- _c15: string (nullable = true)\n",
            "\n",
            "root\n",
            " |-- id: string (nullable = true)\n",
            " |-- cep: string (nullable = true)\n",
            " |-- cidade: string (nullable = true)\n",
            " |-- cpf: string (nullable = true)\n",
            " |-- data_nasc: string (nullable = true)\n",
            " |-- endereco: string (nullable = true)\n",
            " |-- estado: string (nullable = true)\n",
            " |-- mae: string (nullable = true)\n",
            " |-- nome: string (nullable = true)\n",
            " |-- tipo_sanguineo: string (nullable = true)\n",
            "\n"
          ],
          "name": "stdout"
        }
      ]
    },
    {
      "cell_type": "markdown",
      "metadata": {
        "id": "XnNyV4gTK4ZW",
        "colab_type": "text"
      },
      "source": [
        "## Tratamento de Todos os Atributos Missing\n"
      ]
    },
    {
      "cell_type": "code",
      "metadata": {
        "id": "-9PunWs5I8qS",
        "colab_type": "code",
        "colab": {}
      },
      "source": [
        "# Guardando data frames originais sem pré=processamento\n",
        "dfa_o = dfa\n",
        "dfb_o = dfb"
      ],
      "execution_count": 0,
      "outputs": []
    },
    {
      "cell_type": "code",
      "metadata": {
        "id": "yzbll1W7Kxyz",
        "colab_type": "code",
        "outputId": "0fecbd99-ba2d-49c8-f43f-134a0a4e0081",
        "colab": {
          "base_uri": "https://localhost:8080/",
          "height": 34
        }
      },
      "source": [
        "# Contando ocorrências de campos nulos no arquivo A\n",
        "conta_null_a = dfa.filter(F.col('id').isNull()).count(), dfa.filter(F.col('bairro').isNull()).count(), dfa.filter(F.col('cep').isNull()).count()\n",
        "conta_null_a += dfa.filter(F.col('cidade').isNull()).count(), dfa.filter(F.col('cpf').isNull()).count(), dfa.filter(F.col('data_nasc').isNull()).count()\n",
        "conta_null_a += dfa.filter(F.col('email').isNull()).count(), dfa.filter(F.col('endereco').isNull()).count(), dfa.filter(F.col('estado').isNull()).count()\n",
        "conta_null_a += dfa.filter(F.col('idade').isNull()).count(), dfa.filter(F.col('mae').isNull()).count(), dfa.filter(F.col('nome').isNull()).count()\n",
        "conta_null_a += dfa.filter(F.col('numero').isNull()).count(), dfa.filter(F.col('signo').isNull()).count(), dfa.filter(F.col('tipo_sanguineo').isNull()).count()\n",
        "conta_null_a"
      ],
      "execution_count": 15,
      "outputs": [
        {
          "output_type": "execute_result",
          "data": {
            "text/plain": [
              "(0, 0, 0, 0, 0, 0, 0, 0, 0, 0, 0, 0, 0, 0, 0)"
            ]
          },
          "metadata": {
            "tags": []
          },
          "execution_count": 15
        }
      ]
    },
    {
      "cell_type": "code",
      "metadata": {
        "colab_type": "code",
        "outputId": "b4f86dee-c5ad-4c1a-819e-fc668859e07d",
        "id": "iKxUE7nAH_uP",
        "colab": {
          "base_uri": "https://localhost:8080/",
          "height": 34
        }
      },
      "source": [
        "# Contando ocorrências de campos nulos no arquivo B\n",
        "conta_null_b = dfb.filter(F.col('id').isNull()).count(), dfb.filter(F.col('cep').isNull()).count()\n",
        "conta_null_b += dfb.filter(F.col('cidade').isNull()).count(), dfb.filter(F.col('cpf').isNull()).count(), dfb.filter(F.col('data_nasc').isNull()).count()\n",
        "conta_null_b += dfb.filter(F.col('endereco').isNull()).count(), dfb.filter(F.col('estado').isNull()).count()\n",
        "conta_null_b += dfb.filter(F.col('mae').isNull()).count(), dfb.filter(F.col('nome').isNull()).count(), dfb.filter(F.col('tipo_sanguineo').isNull()).count()\n",
        "conta_null_b"
      ],
      "execution_count": 16,
      "outputs": [
        {
          "output_type": "execute_result",
          "data": {
            "text/plain": [
              "(0, 9, 8, 0, 6, 2, 5, 0, 2, 8)"
            ]
          },
          "metadata": {
            "tags": []
          },
          "execution_count": 16
        }
      ]
    },
    {
      "cell_type": "code",
      "metadata": {
        "id": "kjGMs6ELLbj4",
        "colab_type": "code",
        "colab": {}
      },
      "source": [
        "# Trocando campos nulos por vaores validos (os valores anteriores são sobrescritos ao utilizar o mesmo nome de coluna)\n",
        "dfb = dfb.withColumn('cep', F.when(F.col('cep').isNull(),\"00000-000\").otherwise(F.col('cep')))\n",
        "dfb = dfb.withColumn('cidade', F.when(F.col('cidade').isNull(),\"cidade\").otherwise(F.col('cidade')))\n",
        "dfb = dfb.withColumn('data_nasc', F.when(F.col('data_nasc').isNull(),\"01/01/1980\").otherwise(F.col('data_nasc')))\n",
        "dfb = dfb.withColumn('endereco', F.when(F.col('endereco').isNull(),\"Rua\").otherwise(F.col('endereco')))\n",
        "dfb = dfb.withColumn('estado', F.when(F.col('estado').isNull(),\"NA\").otherwise(F.col('estado')))\n",
        "dfb = dfb.withColumn('nome', F.when(F.col('nome').isNull(),\" \").otherwise(F.col('nome')))\n",
        "dfb = dfb.withColumn('tipo_sanguineo', F.when(F.col('tipo_sanguineo').isNull(),\" \").otherwise(F.col('tipo_sanguineo')))"
      ],
      "execution_count": 0,
      "outputs": []
    },
    {
      "cell_type": "code",
      "metadata": {
        "colab_type": "code",
        "outputId": "4dc5fc5c-65e0-485a-f086-e5bea6156596",
        "id": "Ab5xtS3jJpwi",
        "colab": {
          "base_uri": "https://localhost:8080/",
          "height": 34
        }
      },
      "source": [
        "# Trocando campos nulos por vaores validos (os valores anteriores são sobrescritos ao utilizar o mesmo nome de coluna)\n",
        "conta_null_b = dfb.filter(F.col('id').isNull()).count(), dfb.filter(F.col('cep').isNull()).count()\n",
        "conta_null_b += dfb.filter(F.col('cidade').isNull()).count(), dfb.filter(F.col('cpf').isNull()).count(), dfb.filter(F.col('data_nasc').isNull()).count()\n",
        "conta_null_b += dfb.filter(F.col('endereco').isNull()).count(), dfb.filter(F.col('estado').isNull()).count()\n",
        "conta_null_b += dfb.filter(F.col('mae').isNull()).count(), dfb.filter(F.col('nome').isNull()).count(), dfb.filter(F.col('tipo_sanguineo').isNull()).count()\n",
        "conta_null_b"
      ],
      "execution_count": 18,
      "outputs": [
        {
          "output_type": "execute_result",
          "data": {
            "text/plain": [
              "(0, 0, 0, 0, 0, 0, 0, 0, 0, 0)"
            ]
          },
          "metadata": {
            "tags": []
          },
          "execution_count": 18
        }
      ]
    },
    {
      "cell_type": "code",
      "metadata": {
        "id": "Z84a4XB4xV_e",
        "colab_type": "code",
        "colab": {}
      },
      "source": [
        "# Eliminação de possíveis espaços duplos nos nomes\n",
        "dfa = dfa.withColumn(\"nome\", F.regexp_replace(F.col(\"nome\"), '\\s+', ' '))\n",
        "dfb = dfb.withColumn(\"nome\", F.regexp_replace(F.col(\"nome\"), '\\s+', ' '))\n",
        "dfa = dfa.withColumn(\"mae\", F.regexp_replace(F.col(\"mae\"), '\\s+', ' '))\n",
        "dfb = dfb.withColumn(\"mae\", F.regexp_replace(F.col(\"mae\"), '\\s+', ' '))\n",
        "dfa = dfa.withColumn(\"cidade\", F.regexp_replace(F.col(\"cidade\"), '\\s+', ' '))\n",
        "dfb = dfb.withColumn(\"cidade\", F.regexp_replace(F.col(\"cidade\"), '\\s+', ' '))\n",
        "dfa = dfa.withColumn(\"endereco\", F.regexp_replace(F.col(\"endereco\"), '\\s+', ' '))\n",
        "dfb = dfb.withColumn(\"endereco\", F.regexp_replace(F.col(\"endereco\"), '\\s+', ' '))\n",
        "\n",
        "# Substituição de possiveis caracteres especiais por espaço em branco\n",
        "dfa = dfa.withColumn(\"nome\", F.regexp_replace(F.col(\"nome\"), r'[^a-zA-Z ]+', ' '))\n",
        "dfb = dfb.withColumn(\"nome\", F.regexp_replace(F.col(\"nome\"), r'[^a-zA-Z ]+', ' '))\n",
        "dfa = dfa.withColumn(\"mae\", F.regexp_replace(F.col(\"mae\"), r'[^a-zA-Z ]+', ' '))\n",
        "dfb = dfb.withColumn(\"mae\", F.regexp_replace(F.col(\"mae\"), r'[^a-zA-Z ]+', ' '))\n",
        "dfa = dfa.withColumn(\"cidade\", F.regexp_replace(F.col(\"cidade\"), r'[^a-zA-Z ]+', ' '))\n",
        "dfb = dfb.withColumn(\"cidade\", F.regexp_replace(F.col(\"cidade\"), r'[^a-zA-Z ]+', ' '))\n",
        "dfa = dfa.withColumn(\"endereco\", F.regexp_replace(F.col(\"endereco\"), r'[^a-zA-Z ]+', ' '))\n"
      ],
      "execution_count": 0,
      "outputs": []
    },
    {
      "cell_type": "code",
      "metadata": {
        "colab_type": "code",
        "outputId": "90d4a361-24b8-4f07-e68b-0fe57e5f8814",
        "id": "bli65F0nK1Yx",
        "colab": {
          "base_uri": "https://localhost:8080/",
          "height": 204
        }
      },
      "source": [
        "dfb.limit(5).toPandas()"
      ],
      "execution_count": 20,
      "outputs": [
        {
          "output_type": "execute_result",
          "data": {
            "text/html": [
              "<div>\n",
              "<style scoped>\n",
              "    .dataframe tbody tr th:only-of-type {\n",
              "        vertical-align: middle;\n",
              "    }\n",
              "\n",
              "    .dataframe tbody tr th {\n",
              "        vertical-align: top;\n",
              "    }\n",
              "\n",
              "    .dataframe thead th {\n",
              "        text-align: right;\n",
              "    }\n",
              "</style>\n",
              "<table border=\"1\" class=\"dataframe\">\n",
              "  <thead>\n",
              "    <tr style=\"text-align: right;\">\n",
              "      <th></th>\n",
              "      <th>id</th>\n",
              "      <th>cep</th>\n",
              "      <th>cidade</th>\n",
              "      <th>cpf</th>\n",
              "      <th>data_nasc</th>\n",
              "      <th>endereco</th>\n",
              "      <th>estado</th>\n",
              "      <th>mae</th>\n",
              "      <th>nome</th>\n",
              "      <th>tipo_sanguineo</th>\n",
              "    </tr>\n",
              "  </thead>\n",
              "  <tbody>\n",
              "    <tr>\n",
              "      <th>0</th>\n",
              "      <td>01</td>\n",
              "      <td>69304-350</td>\n",
              "      <td>Boa Vista</td>\n",
              "      <td>506.865.202-46</td>\n",
              "      <td>22/11/1965</td>\n",
              "      <td>Avenida Mario Homem de Melo</td>\n",
              "      <td>RR</td>\n",
              "      <td>Isabelle Marcia Antonella</td>\n",
              "      <td>Felipe Bruno dos Santos</td>\n",
              "      <td>AB-</td>\n",
              "    </tr>\n",
              "    <tr>\n",
              "      <th>1</th>\n",
              "      <td>02</td>\n",
              "      <td>78132-360</td>\n",
              "      <td>Varzea Grande</td>\n",
              "      <td>325.828.867-42</td>\n",
              "      <td>01/01/1980</td>\n",
              "      <td>Rua Rio Cuiaba</td>\n",
              "      <td>MT</td>\n",
              "      <td>Alana Isadora</td>\n",
              "      <td>Marcio Heitor Silveira</td>\n",
              "      <td>AB-</td>\n",
              "    </tr>\n",
              "    <tr>\n",
              "      <th>2</th>\n",
              "      <td>03</td>\n",
              "      <td>88810-336</td>\n",
              "      <td>Criciuma</td>\n",
              "      <td>284.536.218-88</td>\n",
              "      <td>23/09/1961</td>\n",
              "      <td>Rua Romeu Lopes de Carvalho</td>\n",
              "      <td>SC</td>\n",
              "      <td>Caroline Gabriela</td>\n",
              "      <td>Theo Mario Victor Barbosa</td>\n",
              "      <td>A-</td>\n",
              "    </tr>\n",
              "    <tr>\n",
              "      <th>3</th>\n",
              "      <td>04</td>\n",
              "      <td>60874-405</td>\n",
              "      <td>Fortaleza</td>\n",
              "      <td>390.375.925-20</td>\n",
              "      <td>11/05/1981</td>\n",
              "      <td>Rua</td>\n",
              "      <td>CE</td>\n",
              "      <td>Tereza Bruna</td>\n",
              "      <td>Pietro Henrique de Paula</td>\n",
              "      <td>AB-</td>\n",
              "    </tr>\n",
              "    <tr>\n",
              "      <th>4</th>\n",
              "      <td>05</td>\n",
              "      <td>79106-140</td>\n",
              "      <td>Campo Grande</td>\n",
              "      <td>756.005.387-40</td>\n",
              "      <td>14/12/1941</td>\n",
              "      <td>Rua Pato Branco</td>\n",
              "      <td>MS</td>\n",
              "      <td>Alice Leticia</td>\n",
              "      <td>Kaique Thiago de Paula</td>\n",
              "      <td>A-</td>\n",
              "    </tr>\n",
              "  </tbody>\n",
              "</table>\n",
              "</div>"
            ],
            "text/plain": [
              "   id        cep  ...                       nome tipo_sanguineo\n",
              "0  01  69304-350  ...    Felipe Bruno dos Santos            AB-\n",
              "1  02  78132-360  ...     Marcio Heitor Silveira            AB-\n",
              "2  03  88810-336  ...  Theo Mario Victor Barbosa             A-\n",
              "3  04  60874-405  ...   Pietro Henrique de Paula            AB-\n",
              "4  05  79106-140  ...     Kaique Thiago de Paula             A-\n",
              "\n",
              "[5 rows x 10 columns]"
            ]
          },
          "metadata": {
            "tags": []
          },
          "execution_count": 20
        }
      ]
    },
    {
      "cell_type": "markdown",
      "metadata": {
        "id": "DXFbhfDs3KXG",
        "colab_type": "text"
      },
      "source": [
        "## Renomeando colunas para o linkage (necessita nomes diferentes)"
      ]
    },
    {
      "cell_type": "code",
      "metadata": {
        "id": "Pofvt2WKzEkJ",
        "colab_type": "code",
        "colab": {}
      },
      "source": [
        "dfb = dfb.withColumnRenamed('id','id_b')\n",
        "dfb = dfb.withColumnRenamed('cep','cep_b')\n",
        "dfb = dfb.withColumnRenamed('cidade','cidade_b')\n",
        "dfb = dfb.withColumnRenamed('cpf','cpf_b')\n",
        "dfb = dfb.withColumnRenamed('data_nasc','data_nasc_b')\n",
        "dfb = dfb.withColumnRenamed('endereco','endereco_b')\n",
        "dfb = dfb.withColumnRenamed('estado','estado_b')\n",
        "dfb = dfb.withColumnRenamed('mae','mae_b')\n",
        "dfb = dfb.withColumnRenamed('nome','nome_b')\n",
        "dfb = dfb.withColumnRenamed('tipo_sanguineo','tipo_sanguineo_b')"
      ],
      "execution_count": 0,
      "outputs": []
    },
    {
      "cell_type": "code",
      "metadata": {
        "id": "EteQQ3F90uua",
        "colab_type": "code",
        "outputId": "100a371a-d4f5-4f7a-ca21-921c07135a7f",
        "colab": {
          "base_uri": "https://localhost:8080/",
          "height": 527
        }
      },
      "source": [
        "dfa.printSchema()\n",
        "dfb.printSchema()"
      ],
      "execution_count": 22,
      "outputs": [
        {
          "output_type": "stream",
          "text": [
            "root\n",
            " |-- id: string (nullable = true)\n",
            " |-- bairro: string (nullable = true)\n",
            " |-- cep: string (nullable = true)\n",
            " |-- cidade: string (nullable = true)\n",
            " |-- cpf: string (nullable = true)\n",
            " |-- data_nasc: string (nullable = true)\n",
            " |-- email: string (nullable = true)\n",
            " |-- endereco: string (nullable = true)\n",
            " |-- estado: string (nullable = true)\n",
            " |-- idade: string (nullable = true)\n",
            " |-- mae: string (nullable = true)\n",
            " |-- nome: string (nullable = true)\n",
            " |-- numero: string (nullable = true)\n",
            " |-- signo: string (nullable = true)\n",
            " |-- tipo_sanguineo: string (nullable = true)\n",
            " |-- _c15: string (nullable = true)\n",
            "\n",
            "root\n",
            " |-- id_b: string (nullable = true)\n",
            " |-- cep_b: string (nullable = true)\n",
            " |-- cidade_b: string (nullable = true)\n",
            " |-- cpf_b: string (nullable = true)\n",
            " |-- data_nasc_b: string (nullable = true)\n",
            " |-- endereco_b: string (nullable = true)\n",
            " |-- estado_b: string (nullable = true)\n",
            " |-- mae_b: string (nullable = true)\n",
            " |-- nome_b: string (nullable = true)\n",
            " |-- tipo_sanguineo_b: string (nullable = true)\n",
            "\n"
          ],
          "name": "stdout"
        }
      ]
    },
    {
      "cell_type": "markdown",
      "metadata": {
        "id": "TV9OfmjJ3aib",
        "colab_type": "text"
      },
      "source": [
        "## Fazendo Linkage"
      ]
    },
    {
      "cell_type": "code",
      "metadata": {
        "id": "OOUX6idU0Qdj",
        "colab_type": "code",
        "colab": {}
      },
      "source": [
        "# CrossJoin somente com colunas que serão utilizadas na análise\n",
        "\n",
        "dfl = dfa.select('id','cep','cidade','data_nasc','endereco','estado','idade','mae','nome','tipo_sanguineo','cpf').crossJoin( \\\n",
        "      dfb.select('id_b','cep_b','cidade_b','data_nasc_b','endereco_b','estado_b','mae_b','nome_b','tipo_sanguineo_b','cpf_b'))"
      ],
      "execution_count": 0,
      "outputs": []
    },
    {
      "cell_type": "code",
      "metadata": {
        "id": "HaXGRL_z0g12",
        "colab_type": "code",
        "outputId": "66c19cdf-2a8d-4b79-dbd2-9feaaf2dacc8",
        "colab": {
          "base_uri": "https://localhost:8080/",
          "height": 207
        }
      },
      "source": [
        "dfl.limit(5).show()"
      ],
      "execution_count": 24,
      "outputs": [
        {
          "output_type": "stream",
          "text": [
            "+---+---------+--------+----------+--------------------+------+-----+---------------+--------------------+--------------+--------------+----+---------+-------------+-----------+--------------------+--------+--------------------+--------------------+----------------+--------------+\n",
            "| id|      cep|  cidade| data_nasc|            endereco|estado|idade|            mae|                nome|tipo_sanguineo|           cpf|id_b|    cep_b|     cidade_b|data_nasc_b|          endereco_b|estado_b|               mae_b|              nome_b|tipo_sanguineo_b|         cpf_b|\n",
            "+---+---------+--------+----------+--------------------+------+-----+---------------+--------------------+--------------+--------------+----+---------+-------------+-----------+--------------------+--------+--------------------+--------------------+----------------+--------------+\n",
            "|  0|65090-677|Sao Luis|10/09/1948| a Travessa do Ri...|    MA|   71|Louise Beatriz |Vicente Oliver Mo...|           AB-|097.627.958-49|  01|69304-350|    Boa Vista| 22/11/1965|Avenida Mario Hom...|      RR|Isabelle Marcia A...|Felipe Bruno dos ...|             AB-|506.865.202-46|\n",
            "|  0|65090-677|Sao Luis|10/09/1948| a Travessa do Ri...|    MA|   71|Louise Beatriz |Vicente Oliver Mo...|           AB-|097.627.958-49|  02|78132-360|Varzea Grande| 01/01/1980|      Rua Rio Cuiaba|      MT|       Alana Isadora|Marcio Heitor Sil...|             AB-|325.828.867-42|\n",
            "|  0|65090-677|Sao Luis|10/09/1948| a Travessa do Ri...|    MA|   71|Louise Beatriz |Vicente Oliver Mo...|           AB-|097.627.958-49|  03|88810-336|     Criciuma| 23/09/1961|Rua Romeu Lopes d...|      SC|  Caroline Gabriela |Theo Mario Victor...|              A-|284.536.218-88|\n",
            "|  0|65090-677|Sao Luis|10/09/1948| a Travessa do Ri...|    MA|   71|Louise Beatriz |Vicente Oliver Mo...|           AB-|097.627.958-49|  04|60874-405|    Fortaleza| 11/05/1981|                 Rua|      CE|       Tereza Bruna |Pietro Henrique d...|             AB-|390.375.925-20|\n",
            "|  0|65090-677|Sao Luis|10/09/1948| a Travessa do Ri...|    MA|   71|Louise Beatriz |Vicente Oliver Mo...|           AB-|097.627.958-49|  05|79106-140| Campo Grande| 14/12/1941|     Rua Pato Branco|      MS|      Alice Leticia |Kaique Thiago de ...|              A-|756.005.387-40|\n",
            "+---+---------+--------+----------+--------------------+------+-----+---------------+--------------------+--------------+--------------+----+---------+-------------+-----------+--------------------+--------+--------------------+--------------------+----------------+--------------+\n",
            "\n"
          ],
          "name": "stdout"
        }
      ]
    },
    {
      "cell_type": "markdown",
      "metadata": {
        "id": "gkwPAIS_7khv",
        "colab_type": "text"
      },
      "source": [
        "## Criação de Funções para extração do primeiro e último nome"
      ]
    },
    {
      "cell_type": "code",
      "metadata": {
        "id": "tzjgEpWA7jJf",
        "colab_type": "code",
        "colab": {}
      },
      "source": [
        "def criaPrimeiroNome(col):\n",
        "  return col.split(' ') [0]\n",
        "udf_criaPrimeiroNome = F.udf(criaPrimeiroNome, StringType())"
      ],
      "execution_count": 0,
      "outputs": []
    },
    {
      "cell_type": "code",
      "metadata": {
        "id": "fwYh_y3E8MoX",
        "colab_type": "code",
        "colab": {}
      },
      "source": [
        "def criaUltimoNome(col):\n",
        "  return col.split(' ') [-1]\n",
        "udf_criaUltimoNome = F.udf(criaUltimoNome, StringType())"
      ],
      "execution_count": 0,
      "outputs": []
    },
    {
      "cell_type": "markdown",
      "metadata": {
        "id": "khpTjMea8cXK",
        "colab_type": "text"
      },
      "source": [
        "## Criação das Colunas dos Primeiros e Ultimos Nomes"
      ]
    },
    {
      "cell_type": "code",
      "metadata": {
        "id": "gFBP3VG58blf",
        "colab_type": "code",
        "colab": {}
      },
      "source": [
        "dfl = dfl.withColumn('primeiro_nome_a', udf_criaPrimeiroNome(F.col('nome')))\n",
        "dfl = dfl.withColumn('primeiro_nome_b', udf_criaPrimeiroNome(F.col('nome_b')))\n",
        "dfl = dfl.withColumn('ultimo_nome_a', udf_criaUltimoNome(F.col('nome')))\n",
        "dfl = dfl.withColumn('ultimo_nome_b', udf_criaUltimoNome(F.col('nome_b')))"
      ],
      "execution_count": 0,
      "outputs": []
    },
    {
      "cell_type": "code",
      "metadata": {
        "id": "f73I6ruGJGhn",
        "colab_type": "code",
        "outputId": "462e57fe-98cf-44f9-e3f5-0bfe2b14f277",
        "colab": {
          "base_uri": "https://localhost:8080/",
          "height": 476
        }
      },
      "source": [
        "dfl.printSchema()"
      ],
      "execution_count": 28,
      "outputs": [
        {
          "output_type": "stream",
          "text": [
            "root\n",
            " |-- id: string (nullable = true)\n",
            " |-- cep: string (nullable = true)\n",
            " |-- cidade: string (nullable = true)\n",
            " |-- data_nasc: string (nullable = true)\n",
            " |-- endereco: string (nullable = true)\n",
            " |-- estado: string (nullable = true)\n",
            " |-- idade: string (nullable = true)\n",
            " |-- mae: string (nullable = true)\n",
            " |-- nome: string (nullable = true)\n",
            " |-- tipo_sanguineo: string (nullable = true)\n",
            " |-- cpf: string (nullable = true)\n",
            " |-- id_b: string (nullable = true)\n",
            " |-- cep_b: string (nullable = true)\n",
            " |-- cidade_b: string (nullable = true)\n",
            " |-- data_nasc_b: string (nullable = true)\n",
            " |-- endereco_b: string (nullable = true)\n",
            " |-- estado_b: string (nullable = true)\n",
            " |-- mae_b: string (nullable = true)\n",
            " |-- nome_b: string (nullable = true)\n",
            " |-- tipo_sanguineo_b: string (nullable = true)\n",
            " |-- cpf_b: string (nullable = true)\n",
            " |-- primeiro_nome_a: string (nullable = true)\n",
            " |-- primeiro_nome_b: string (nullable = true)\n",
            " |-- ultimo_nome_a: string (nullable = true)\n",
            " |-- ultimo_nome_b: string (nullable = true)\n",
            "\n"
          ],
          "name": "stdout"
        }
      ]
    },
    {
      "cell_type": "code",
      "metadata": {
        "id": "-x6UnsiyGlrm",
        "colab_type": "code",
        "outputId": "fb9128e8-9641-494d-e22f-722d3e57636b",
        "colab": {
          "base_uri": "https://localhost:8080/",
          "height": 224
        }
      },
      "source": [
        "dfl.show(5)"
      ],
      "execution_count": 29,
      "outputs": [
        {
          "output_type": "stream",
          "text": [
            "+---+---------+--------+----------+--------------------+------+-----+---------------+--------------------+--------------+--------------+----+---------+-------------+-----------+--------------------+--------+--------------------+--------------------+----------------+--------------+---------------+---------------+-------------+-------------+\n",
            "| id|      cep|  cidade| data_nasc|            endereco|estado|idade|            mae|                nome|tipo_sanguineo|           cpf|id_b|    cep_b|     cidade_b|data_nasc_b|          endereco_b|estado_b|               mae_b|              nome_b|tipo_sanguineo_b|         cpf_b|primeiro_nome_a|primeiro_nome_b|ultimo_nome_a|ultimo_nome_b|\n",
            "+---+---------+--------+----------+--------------------+------+-----+---------------+--------------------+--------------+--------------+----+---------+-------------+-----------+--------------------+--------+--------------------+--------------------+----------------+--------------+---------------+---------------+-------------+-------------+\n",
            "|  0|65090-677|Sao Luis|10/09/1948| a Travessa do Ri...|    MA|   71|Louise Beatriz |Vicente Oliver Mo...|           AB-|097.627.958-49|  01|69304-350|    Boa Vista| 22/11/1965|Avenida Mario Hom...|      RR|Isabelle Marcia A...|Felipe Bruno dos ...|             AB-|506.865.202-46|        Vicente|         Felipe|     Monteiro|       Santos|\n",
            "|  0|65090-677|Sao Luis|10/09/1948| a Travessa do Ri...|    MA|   71|Louise Beatriz |Vicente Oliver Mo...|           AB-|097.627.958-49|  02|78132-360|Varzea Grande| 01/01/1980|      Rua Rio Cuiaba|      MT|       Alana Isadora|Marcio Heitor Sil...|             AB-|325.828.867-42|        Vicente|         Marcio|     Monteiro|     Silveira|\n",
            "|  0|65090-677|Sao Luis|10/09/1948| a Travessa do Ri...|    MA|   71|Louise Beatriz |Vicente Oliver Mo...|           AB-|097.627.958-49|  03|88810-336|     Criciuma| 23/09/1961|Rua Romeu Lopes d...|      SC|  Caroline Gabriela |Theo Mario Victor...|              A-|284.536.218-88|        Vicente|           Theo|     Monteiro|      Barbosa|\n",
            "|  0|65090-677|Sao Luis|10/09/1948| a Travessa do Ri...|    MA|   71|Louise Beatriz |Vicente Oliver Mo...|           AB-|097.627.958-49|  04|60874-405|    Fortaleza| 11/05/1981|                 Rua|      CE|       Tereza Bruna |Pietro Henrique d...|             AB-|390.375.925-20|        Vicente|         Pietro|     Monteiro|        Paula|\n",
            "|  0|65090-677|Sao Luis|10/09/1948| a Travessa do Ri...|    MA|   71|Louise Beatriz |Vicente Oliver Mo...|           AB-|097.627.958-49|  05|79106-140| Campo Grande| 14/12/1941|     Rua Pato Branco|      MS|      Alice Leticia |Kaique Thiago de ...|              A-|756.005.387-40|        Vicente|         Kaique|     Monteiro|        Paula|\n",
            "+---+---------+--------+----------+--------------------+------+-----+---------------+--------------------+--------------+--------------+----+---------+-------------+-----------+--------------------+--------+--------------------+--------------------+----------------+--------------+---------------+---------------+-------------+-------------+\n",
            "only showing top 5 rows\n",
            "\n"
          ],
          "name": "stdout"
        }
      ]
    },
    {
      "cell_type": "markdown",
      "metadata": {
        "id": "TVh8I5YH3ip6",
        "colab_type": "text"
      },
      "source": [
        "## Criação das colunas com nomes fonéticos"
      ]
    },
    {
      "cell_type": "code",
      "metadata": {
        "id": "pKtpWfd_1YtA",
        "colab_type": "code",
        "colab": {}
      },
      "source": [
        "def criaMetaphone(col):\n",
        "  return jellyfish.metaphone(col)\n",
        "udf_criaMetaphone = F.udf(criaMetaphone, StringType())"
      ],
      "execution_count": 0,
      "outputs": []
    },
    {
      "cell_type": "code",
      "metadata": {
        "id": "fGqFTZym-OZC",
        "colab_type": "code",
        "colab": {}
      },
      "source": [
        "dfl = dfl.withColumn('primeiro_nome_fonetico_a', udf_criaMetaphone(F.col('primeiro_nome_a')))\n",
        "dfl = dfl.withColumn('primeiro_nome_fonetico_b', udf_criaMetaphone(F.col('primeiro_nome_b')))\n",
        "dfl = dfl.withColumn('ultimo_nome_fonetico_a', udf_criaMetaphone(F.col('ultimo_nome_a')))\n",
        "dfl = dfl.withColumn('ultimo_nome_fonetico_b', udf_criaMetaphone(F.col('ultimo_nome_b')))"
      ],
      "execution_count": 0,
      "outputs": []
    },
    {
      "cell_type": "code",
      "metadata": {
        "id": "AI9n2znr2BQT",
        "colab_type": "code",
        "colab": {}
      },
      "source": [
        "dfl = dfl.withColumn('nome_fonetico_a', udf_criaMetaphone(F.col('nome')))\n",
        "dfl = dfl.withColumn('nome_fonetico_b', udf_criaMetaphone(F.col('nome_b')))\n",
        "dfl = dfl.withColumn('nome_fonetico_mae_a', udf_criaMetaphone(F.col('mae')))\n",
        "dfl = dfl.withColumn('nome_fonetico_mae_b', udf_criaMetaphone(F.col('mae_b')))"
      ],
      "execution_count": 0,
      "outputs": []
    },
    {
      "cell_type": "code",
      "metadata": {
        "id": "yYDMSeFo2urt",
        "colab_type": "code",
        "outputId": "cdca2d3a-46c7-4c21-9178-ed7627b97025",
        "colab": {
          "base_uri": "https://localhost:8080/",
          "height": 224
        }
      },
      "source": [
        "dfl.show(5)"
      ],
      "execution_count": 33,
      "outputs": [
        {
          "output_type": "stream",
          "text": [
            "+---+---------+--------+----------+--------------------+------+-----+---------------+--------------------+--------------+--------------+----+---------+-------------+-----------+--------------------+--------+--------------------+--------------------+----------------+--------------+---------------+---------------+-------------+-------------+------------------------+------------------------+----------------------+----------------------+---------------+---------------+-------------------+-------------------+\n",
            "| id|      cep|  cidade| data_nasc|            endereco|estado|idade|            mae|                nome|tipo_sanguineo|           cpf|id_b|    cep_b|     cidade_b|data_nasc_b|          endereco_b|estado_b|               mae_b|              nome_b|tipo_sanguineo_b|         cpf_b|primeiro_nome_a|primeiro_nome_b|ultimo_nome_a|ultimo_nome_b|primeiro_nome_fonetico_a|primeiro_nome_fonetico_b|ultimo_nome_fonetico_a|ultimo_nome_fonetico_b|nome_fonetico_a|nome_fonetico_b|nome_fonetico_mae_a|nome_fonetico_mae_b|\n",
            "+---+---------+--------+----------+--------------------+------+-----+---------------+--------------------+--------------+--------------+----+---------+-------------+-----------+--------------------+--------+--------------------+--------------------+----------------+--------------+---------------+---------------+-------------+-------------+------------------------+------------------------+----------------------+----------------------+---------------+---------------+-------------------+-------------------+\n",
            "|  0|65090-677|Sao Luis|10/09/1948| a Travessa do Ri...|    MA|   71|Louise Beatriz |Vicente Oliver Mo...|           AB-|097.627.958-49|  01|69304-350|    Boa Vista| 22/11/1965|Avenida Mario Hom...|      RR|Isabelle Marcia A...|Felipe Bruno dos ...|             AB-|506.865.202-46|        Vicente|         Felipe|     Monteiro|       Santos|                    FSNT|                     FLP|                  MNTR|                  SNTS| FSNT OLFR MNTR|FLP BRN TS SNTS|           LS BTRS |    ISBL MRX ANTNL |\n",
            "|  0|65090-677|Sao Luis|10/09/1948| a Travessa do Ri...|    MA|   71|Louise Beatriz |Vicente Oliver Mo...|           AB-|097.627.958-49|  02|78132-360|Varzea Grande| 01/01/1980|      Rua Rio Cuiaba|      MT|       Alana Isadora|Marcio Heitor Sil...|             AB-|325.828.867-42|        Vicente|         Marcio|     Monteiro|     Silveira|                    FSNT|                     MRS|                  MNTR|                  SLFR| FSNT OLFR MNTR|   MRS HTR SLFR|           LS BTRS |           ALN ISTR|\n",
            "|  0|65090-677|Sao Luis|10/09/1948| a Travessa do Ri...|    MA|   71|Louise Beatriz |Vicente Oliver Mo...|           AB-|097.627.958-49|  03|88810-336|     Criciuma| 23/09/1961|Rua Romeu Lopes d...|      SC|  Caroline Gabriela |Theo Mario Victor...|              A-|284.536.218-88|        Vicente|           Theo|     Monteiro|      Barbosa|                    FSNT|                       0|                  MNTR|                  BRBS| FSNT OLFR MNTR| 0 MR FKTR BRBS|           LS BTRS |         KRLN KBRL |\n",
            "|  0|65090-677|Sao Luis|10/09/1948| a Travessa do Ri...|    MA|   71|Louise Beatriz |Vicente Oliver Mo...|           AB-|097.627.958-49|  04|60874-405|    Fortaleza| 11/05/1981|                 Rua|      CE|       Tereza Bruna |Pietro Henrique d...|             AB-|390.375.925-20|        Vicente|         Pietro|     Monteiro|        Paula|                    FSNT|                     PTR|                  MNTR|                    PL| FSNT OLFR MNTR|  PTR HNRK T PL|           LS BTRS |           TRS BRN |\n",
            "|  0|65090-677|Sao Luis|10/09/1948| a Travessa do Ri...|    MA|   71|Louise Beatriz |Vicente Oliver Mo...|           AB-|097.627.958-49|  05|79106-140| Campo Grande| 14/12/1941|     Rua Pato Branco|      MS|      Alice Leticia |Kaique Thiago de ...|              A-|756.005.387-40|        Vicente|         Kaique|     Monteiro|        Paula|                    FSNT|                      KK|                  MNTR|                    PL| FSNT OLFR MNTR|     KK 0K T PL|           LS BTRS |           ALS LTX |\n",
            "+---+---------+--------+----------+--------------------+------+-----+---------------+--------------------+--------------+--------------+----+---------+-------------+-----------+--------------------+--------+--------------------+--------------------+----------------+--------------+---------------+---------------+-------------+-------------+------------------------+------------------------+----------------------+----------------------+---------------+---------------+-------------------+-------------------+\n",
            "only showing top 5 rows\n",
            "\n"
          ],
          "name": "stdout"
        }
      ]
    },
    {
      "cell_type": "code",
      "metadata": {
        "id": "lYiuN4Vy23C5",
        "colab_type": "code",
        "outputId": "d63da6e3-8710-4d57-da5d-08d4e1875206",
        "colab": {
          "base_uri": "https://localhost:8080/",
          "height": 612
        }
      },
      "source": [
        "dfl.printSchema()"
      ],
      "execution_count": 34,
      "outputs": [
        {
          "output_type": "stream",
          "text": [
            "root\n",
            " |-- id: string (nullable = true)\n",
            " |-- cep: string (nullable = true)\n",
            " |-- cidade: string (nullable = true)\n",
            " |-- data_nasc: string (nullable = true)\n",
            " |-- endereco: string (nullable = true)\n",
            " |-- estado: string (nullable = true)\n",
            " |-- idade: string (nullable = true)\n",
            " |-- mae: string (nullable = true)\n",
            " |-- nome: string (nullable = true)\n",
            " |-- tipo_sanguineo: string (nullable = true)\n",
            " |-- cpf: string (nullable = true)\n",
            " |-- id_b: string (nullable = true)\n",
            " |-- cep_b: string (nullable = true)\n",
            " |-- cidade_b: string (nullable = true)\n",
            " |-- data_nasc_b: string (nullable = true)\n",
            " |-- endereco_b: string (nullable = true)\n",
            " |-- estado_b: string (nullable = true)\n",
            " |-- mae_b: string (nullable = true)\n",
            " |-- nome_b: string (nullable = true)\n",
            " |-- tipo_sanguineo_b: string (nullable = true)\n",
            " |-- cpf_b: string (nullable = true)\n",
            " |-- primeiro_nome_a: string (nullable = true)\n",
            " |-- primeiro_nome_b: string (nullable = true)\n",
            " |-- ultimo_nome_a: string (nullable = true)\n",
            " |-- ultimo_nome_b: string (nullable = true)\n",
            " |-- primeiro_nome_fonetico_a: string (nullable = true)\n",
            " |-- primeiro_nome_fonetico_b: string (nullable = true)\n",
            " |-- ultimo_nome_fonetico_a: string (nullable = true)\n",
            " |-- ultimo_nome_fonetico_b: string (nullable = true)\n",
            " |-- nome_fonetico_a: string (nullable = true)\n",
            " |-- nome_fonetico_b: string (nullable = true)\n",
            " |-- nome_fonetico_mae_a: string (nullable = true)\n",
            " |-- nome_fonetico_mae_b: string (nullable = true)\n",
            "\n"
          ],
          "name": "stdout"
        }
      ]
    },
    {
      "cell_type": "markdown",
      "metadata": {
        "id": "NTNYJz_sCUQj",
        "colab_type": "text"
      },
      "source": [
        "## 1 - Comparação Fonética pelo Nome e Nome da Mãe com Jaro Winkler\n"
      ]
    },
    {
      "cell_type": "code",
      "metadata": {
        "id": "1cBLCw4roUcF",
        "colab_type": "code",
        "colab": {}
      },
      "source": [
        "# Criação da Função de Similaridade Fonética pelo Nome e Nome da Mãe com Jaro Winkler\n",
        "def compare(primeiro_nome_fonetico_a, ultimo_nome_fonetico_a, nome_fonetico_mae_a, primeiro_nome_fonetico_b, ultimo_nome_fonetico_b, nome_fonetico_mae_b):\n",
        "  sim = 0\n",
        "  \n",
        "  #comparando atributos nominais\n",
        "  sim = jellyfish.jaro_winkler(primeiro_nome_fonetico_a, primeiro_nome_fonetico_b)\n",
        "  sim += jellyfish.jaro_winkler(ultimo_nome_fonetico_a, ultimo_nome_fonetico_b)\n",
        "  sim += jellyfish.jaro_winkler(nome_fonetico_mae_a, nome_fonetico_mae_b)\n",
        "  \n",
        "  #Media aritmética simples\n",
        "  sim = abs(float(sim/3))\n",
        "  \n",
        "  return sim\n",
        "\n",
        "udf_compare = F.udf(compare, StringType())  "
      ],
      "execution_count": 0,
      "outputs": []
    },
    {
      "cell_type": "code",
      "metadata": {
        "id": "e5QV9YRCmQrP",
        "colab_type": "code",
        "colab": {}
      },
      "source": [
        "dfr = dfl.withColumn('similaridade', \n",
        "                     udf_compare(F.col('primeiro_nome_fonetico_a'),\n",
        "                                 F.col('ultimo_nome_fonetico_a'),\n",
        "                                 F.col('nome_fonetico_mae_a'),\n",
        "                                 F.col('primeiro_nome_fonetico_b'),\n",
        "                                 F.col('ultimo_nome_fonetico_b'),\n",
        "                                 F.col('nome_fonetico_mae_b')))"
      ],
      "execution_count": 0,
      "outputs": []
    },
    {
      "cell_type": "code",
      "metadata": {
        "id": "5IaX_QsOCmQ0",
        "colab_type": "code",
        "outputId": "d83699af-cde2-4277-a851-d72800a014e2",
        "colab": {
          "base_uri": "https://localhost:8080/",
          "height": 629
        }
      },
      "source": [
        "dfr.printSchema()"
      ],
      "execution_count": 37,
      "outputs": [
        {
          "output_type": "stream",
          "text": [
            "root\n",
            " |-- id: string (nullable = true)\n",
            " |-- cep: string (nullable = true)\n",
            " |-- cidade: string (nullable = true)\n",
            " |-- data_nasc: string (nullable = true)\n",
            " |-- endereco: string (nullable = true)\n",
            " |-- estado: string (nullable = true)\n",
            " |-- idade: string (nullable = true)\n",
            " |-- mae: string (nullable = true)\n",
            " |-- nome: string (nullable = true)\n",
            " |-- tipo_sanguineo: string (nullable = true)\n",
            " |-- cpf: string (nullable = true)\n",
            " |-- id_b: string (nullable = true)\n",
            " |-- cep_b: string (nullable = true)\n",
            " |-- cidade_b: string (nullable = true)\n",
            " |-- data_nasc_b: string (nullable = true)\n",
            " |-- endereco_b: string (nullable = true)\n",
            " |-- estado_b: string (nullable = true)\n",
            " |-- mae_b: string (nullable = true)\n",
            " |-- nome_b: string (nullable = true)\n",
            " |-- tipo_sanguineo_b: string (nullable = true)\n",
            " |-- cpf_b: string (nullable = true)\n",
            " |-- primeiro_nome_a: string (nullable = true)\n",
            " |-- primeiro_nome_b: string (nullable = true)\n",
            " |-- ultimo_nome_a: string (nullable = true)\n",
            " |-- ultimo_nome_b: string (nullable = true)\n",
            " |-- primeiro_nome_fonetico_a: string (nullable = true)\n",
            " |-- primeiro_nome_fonetico_b: string (nullable = true)\n",
            " |-- ultimo_nome_fonetico_a: string (nullable = true)\n",
            " |-- ultimo_nome_fonetico_b: string (nullable = true)\n",
            " |-- nome_fonetico_a: string (nullable = true)\n",
            " |-- nome_fonetico_b: string (nullable = true)\n",
            " |-- nome_fonetico_mae_a: string (nullable = true)\n",
            " |-- nome_fonetico_mae_b: string (nullable = true)\n",
            " |-- similaridade: string (nullable = true)\n",
            "\n"
          ],
          "name": "stdout"
        }
      ]
    },
    {
      "cell_type": "code",
      "metadata": {
        "id": "UVCMI0KhEglU",
        "colab_type": "code",
        "outputId": "092a2a15-c762-4a46-b0a8-cd79e7b41c2d",
        "colab": {
          "base_uri": "https://localhost:8080/",
          "height": 289
        }
      },
      "source": [
        "# Exibindo base de resultado\n",
        "dfr.select(['id', 'id_b', 'nome', 'nome_b', 'cpf', 'cpf_b', 'similaridade']).show(10)"
      ],
      "execution_count": 38,
      "outputs": [
        {
          "output_type": "stream",
          "text": [
            "+---+----+--------------------+--------------------+--------------+--------------+-------------------+\n",
            "| id|id_b|                nome|              nome_b|           cpf|         cpf_b|       similaridade|\n",
            "+---+----+--------------------+--------------------+--------------+--------------+-------------------+\n",
            "|  0|  01|Vicente Oliver Mo...|Felipe Bruno dos ...|097.627.958-49|506.865.202-46|                0.6|\n",
            "|  0|  02|Vicente Oliver Mo...|Marcio Heitor Sil...|097.627.958-49|325.828.867-42| 0.5703703703703703|\n",
            "|  0|  03|Vicente Oliver Mo...|Theo Mario Victor...|097.627.958-49|284.536.218-88|0.19166666666666668|\n",
            "|  0|  04|Vicente Oliver Mo...|Pietro Henrique d...|097.627.958-49|390.375.925-20|               0.25|\n",
            "|  0|  05|Vicente Oliver Mo...|Kaique Thiago de ...|097.627.958-49|756.005.387-40|               0.25|\n",
            "|  0|  06|Vicente Oliver Mo...|Gabriel Erick Oli...|097.627.958-49|551.341.139-39|0.20502645502645503|\n",
            "|  0|  07|Vicente Oliver Mo...|Luan Caue Anthony...|097.627.958-49|756.048.583-90| 0.6527777777777778|\n",
            "|  0|  08|Vicente Oliver Mo...|        Enzo D Rocha|097.627.958-49|386.351.591-95|0.44654882154882153|\n",
            "|  0|  09|Vicente Oliver Mo...|Cesar Matheus Cau...|097.627.958-49|885.264.747-31| 0.6171957671957671|\n",
            "|  0|  10|Vicente Oliver Mo...|   Caua Isaac Castro|097.627.958-49|489.611.821-96|0.42023809523809524|\n",
            "+---+----+--------------------+--------------------+--------------+--------------+-------------------+\n",
            "only showing top 10 rows\n",
            "\n"
          ],
          "name": "stdout"
        }
      ]
    },
    {
      "cell_type": "code",
      "metadata": {
        "id": "SCESQ31i5hKb",
        "colab_type": "code",
        "colab": {}
      },
      "source": [
        "# Deduplicando a base (eliminando linhas duplicadas, ficando somente com a de maior similaridade)\n",
        "dfc = dfr.orderBy(['similaridade'], ascending=False).dropDuplicates(['id_b']).orderBy(['id_b']).select(['id', 'id_b', 'nome','mae', 'nome_b', 'mae_b', 'cpf','cpf_b', 'similaridade'])\n"
      ],
      "execution_count": 0,
      "outputs": []
    },
    {
      "cell_type": "code",
      "metadata": {
        "id": "9vaO4rUCF6gJ",
        "colab_type": "code",
        "colab": {}
      },
      "source": [
        "# Criação de coluna de comparação de CPFs\n",
        "dfc = dfc.withColumn('CPFs_Iguais',F.col('cpf') == F.col('cpf_b'))"
      ],
      "execution_count": 0,
      "outputs": []
    },
    {
      "cell_type": "code",
      "metadata": {
        "colab_type": "code",
        "outputId": "40080e4b-fcd7-4d5e-b98b-4a269e86f9a0",
        "id": "H5ucTbc33V6o",
        "colab": {
          "base_uri": "https://localhost:8080/",
          "height": 187
        }
      },
      "source": [
        "dfc.describe('similaridade').show()"
      ],
      "execution_count": 41,
      "outputs": [
        {
          "output_type": "stream",
          "text": [
            "+-------+-------------------+\n",
            "|summary|       similaridade|\n",
            "+-------+-------------------+\n",
            "|  count|                143|\n",
            "|   mean| 0.9736581263853991|\n",
            "| stddev|0.08772987251916958|\n",
            "|    min| 0.3333333333333333|\n",
            "|    max|                1.0|\n",
            "+-------+-------------------+\n",
            "\n"
          ],
          "name": "stdout"
        }
      ]
    },
    {
      "cell_type": "code",
      "metadata": {
        "id": "zwNei_tzDm7L",
        "colab_type": "code",
        "outputId": "36c1c3bd-391a-4fa4-f866-815e80dd8b41",
        "colab": {
          "base_uri": "https://localhost:8080/",
          "height": 34
        }
      },
      "source": [
        "dfc.count()"
      ],
      "execution_count": 102,
      "outputs": [
        {
          "output_type": "execute_result",
          "data": {
            "text/plain": [
              "143"
            ]
          },
          "metadata": {
            "tags": []
          },
          "execution_count": 102
        }
      ]
    },
    {
      "cell_type": "code",
      "metadata": {
        "colab_type": "code",
        "outputId": "c276225d-ed81-49b1-d5f2-23c5dc28b019",
        "id": "fc38l_zH3V6s",
        "colab": {
          "base_uri": "https://localhost:8080/",
          "height": 34
        }
      },
      "source": [
        "dfc.filter(dfc['similaridade'] >= '0.9').count()"
      ],
      "execution_count": 43,
      "outputs": [
        {
          "output_type": "execute_result",
          "data": {
            "text/plain": [
              "127"
            ]
          },
          "metadata": {
            "tags": []
          },
          "execution_count": 43
        }
      ]
    },
    {
      "cell_type": "code",
      "metadata": {
        "colab_type": "code",
        "outputId": "ee7058c5-4026-44be-82c2-c271bd48220f",
        "id": "SM6IPiMQ3V6t",
        "colab": {
          "base_uri": "https://localhost:8080/",
          "height": 2261
        }
      },
      "source": [
        "# Exibindo os resultados com similariade maior do que 0,9\n",
        "dfc.filter(dfc['similaridade'] >= '0.9').orderBy(['similaridade'], ascending=False).show(150)"
      ],
      "execution_count": 44,
      "outputs": [
        {
          "output_type": "stream",
          "text": [
            "+---+----+--------------------+--------------------+--------------------+--------------------+--------------+--------------+------------------+-----------+\n",
            "| id|id_b|                nome|                 mae|              nome_b|               mae_b|           cpf|         cpf_b|      similaridade|CPFs_Iguais|\n",
            "+---+----+--------------------+--------------------+--------------------+--------------------+--------------+--------------+------------------+-----------+\n",
            "| 66|  54| Ricardo Igor Barros|Gabrielly Melissa...| Ricardo Igor Barros|Gabrielly Melissa...|631.466.800-09|631.466.800-09|               1.0|       true|\n",
            "| 20|  07|Luan Caue Anthony...|Vanessa Camila Ni...|Luan Caue Anthony...|Vanessa Camila Ni...|756.048.583-90|756.048.583-90|               1.0|       true|\n",
            "| 63|  51|Alexandre Bruno M...|   Isabelly Kamilly |Alexandre Bruno M...|   Isabelly Kamilly |869.696.945-69|869.696.945-69|               1.0|       true|\n",
            "| 28|  15|Leandro Cesar Jor...|Jessica Jaqueline...|Leandro Cesar Jor...|Jessica Jaqueline...|181.410.022-95|181.410.022-95|               1.0|       true|\n",
            "|513|  30|Miguel Francisco ...|    Fernanda Mariah |Miguel Francisco ...|    Fernanda Mariah |618.880.659-31|618.880.659-31|               1.0|       true|\n",
            "| 24|  11|Gabriel Caua Marc...|Mariana Mirella N...|Gabriel Caua Marc...|Mariana Mirella N...|281.229.310-14|281.229.310-14|               1.0|       true|\n",
            "|512|  29|Calebe Osvaldo Ba...|Stella Raimunda S...|Calebe Osvaldo Ba...|Stella Raimunda S...|797.175.014-59|797.175.014-59|               1.0|       true|\n",
            "| 14|  01|Felipe Bruno dos ...|Isabelle Marcia A...|Felipe Bruno dos ...|Isabelle Marcia A...|506.865.202-46|506.865.202-46|               1.0|       true|\n",
            "|458|  69|Anderson Gustavo ...|Vitoria Catarina ...|Anderson Gustavo ...|Vitoria Catarina ...|081.783.955-09|081.783.955-09|               1.0|       true|\n",
            "|474|  85|Renan Bernardo da...|Mariana Laura Isa...|Renan Bernardo da...|Mariana Laura Isa...|725.521.191-74|725.521.191-74|               1.0|       true|\n",
            "|100| 112|Marcos Yago Lucca...|      Clarice Bruna |Marcos Yago Lucca...|      Clarice Bruna |055.033.142-55|233.893.997-20|               1.0|      false|\n",
            "| 41|  28|   Breno Bruno Pinto|     Jessica Tereza |   Breno Bruno Pinto|     Jessica Tereza |735.197.681-35|735.197.681-35|               1.0|       true|\n",
            "|126| 138|Heitor Leonardo C...|Regina Gabriela A...|Heitor Leonardo C...|Regina Gabriela A...|870.599.445-40|046.391.337-07|               1.0|      false|\n",
            "|518|  35|  Noah Marcelo Rocha|Daniela Isabella ...|  Noah Marcelo Rocha|Daniela Isabella ...|455.643.269-38|455.643.269-38|               1.0|       true|\n",
            "|462|  73|Elias Pedro Geral...| Isis Isabel Elaine |Elias Pedro Geral...| Isis Isabel Elaine |095.450.063-66|095.450.063-66|               1.0|       true|\n",
            "|460|  71|Augusto Bruno da ...|        Aurora Luna |Augusto Bruno da ...|        Aurora Luna |302.706.239-57|302.706.239-57|               1.0|       true|\n",
            "|488|  99|Sergio Sebastiao ...|    Fernanda Eliane |Sergio Sebastiao ...|    Fernanda Eliane |546.506.467-66|546.506.467-66|               1.0|       true|\n",
            "| 89| 101| Isaac Luiz Aparicio|     Stefany Eliane | Isaac Luiz Aparicio|     Stefany Eliane |919.624.227-20|823.068.573-85|               1.0|      false|\n",
            "| 95| 107|Matheus Joao Iago...|       Sueli Tereza |Matheus Joao Iago...|       Sueli Tereza |658.224.088-93|535.871.894-04|               1.0|      false|\n",
            "|485|  96|Roberto Giovanni ...|    Adriana Kamilly |Roberto Giovanni ...|    Adriana Kamilly |830.124.590-57|830.124.590-57|               1.0|       true|\n",
            "| 76|  64|Marcelo Benedito ...|Pietra Sebastiana...|Marcelo Benedito ...|Pietra Sebastiana...|571.307.021-25|571.307.021-25|               1.0|       true|\n",
            "|526|  43|Sebastiao Anderso...|    Andreia Mariane |Sebastiao Anderso...|    Andreia Mariane |939.097.065-25|939.097.065-25|               1.0|       true|\n",
            "|517|  34|    Enzo Diogo Pinto|  Malu Sophia Marli |    Enzo Diogo Pinto|  Malu Sophia Marli |735.339.007-70|735.339.007-70|               1.0|       true|\n",
            "|459|  70|Davi Nelson Caldeira|      Marina Fatima |Davi Nelson Caldeira|      Marina Fatima |227.774.367-46|227.774.367-46|               1.0|       true|\n",
            "| 31|  18|Nicolas Edson Araujo|     Gabriela Sueli |Nicolas Edson Araujo|     Gabriela Sueli |557.744.519-17|557.744.519-17|               1.0|       true|\n",
            "| 40|  27|Theo Sebastiao da...|Isadora Lucia Joana |Theo Sebastiao da...|Isadora Lucia Joana |536.503.166-09|536.503.166-09|               1.0|       true|\n",
            "| 73|  61|Erick Bryan Julio...|   Regina Alice Ana |Erick Bryan Julio...|   Regina Alice Ana |248.115.138-00|248.115.138-00|               1.0|       true|\n",
            "|127| 139|Gael Tomas Thiago...|Rayssa Benedita M...|Gael Tomas Thiago...|Rayssa Benedita M...|831.082.317-74|869.696.945-69|               1.0|      false|\n",
            "|128| 140|  Tomas Caua Martins|      Yasmin Renata |  Tomas Caua Martins|      Yasmin Renata |126.180.305-16|872.870.813-00|               1.0|      false|\n",
            "| 30|  17|Guilherme Rafael ...|Leticia Isabelly ...|Guilherme Rafael ...|Leticia Isabelly ...|134.836.403-39|134.836.403-39|               1.0|       true|\n",
            "| 35|  22|Mario Kevin Baptista| Luzia Sara Rafaela |Mario Kevin Baptista| Luzia Sara Rafaela |097.294.987-92|097.294.987-92|               1.0|       true|\n",
            "| 39|  26|Jose Caua Vicente...|      Luzia Luciana |Jose Caua Vicente...|      Luzia Luciana |295.718.231-98|295.718.231-98|               1.0|       true|\n",
            "| 22|  09|Cesar Matheus Cau...|      Sophie Bianca |Cesar Matheus Cau...|      Sophie Bianca |885.264.747-31|885.264.747-31|               1.0|       true|\n",
            "|529|  46|  Martin Caio Galvao|Isis Raimunda And...|  Martin Caio Galvao|Isis Raimunda And...|066.796.721-47|066.796.721-47|               1.0|       true|\n",
            "|525|  42|   Kaue Cesar Moraes|Tatiane Daiane Sara |   Kaue Cesar Moraes|Tatiane Daiane Sara |318.470.004-60|318.470.004-60|               1.0|       true|\n",
            "|478|  89|Rafael Noah Diego...|  Emanuelly Hadassa |Rafael Noah Diego...|  Emanuelly Hadassa |823.589.295-22|823.589.295-22|               1.0|       true|\n",
            "|124| 136|Hugo Marcio Igor ...|  Vitoria Antonella |Hugo Marcio Igor ...|  Vitoria Antonella |617.788.187-49|758.219.979-09|               1.0|      false|\n",
            "| 18|  05|Kaique Thiago de ...|      Alice Leticia |Kaique Thiago de ...|      Alice Leticia |756.005.387-40|756.005.387-40|               1.0|       true|\n",
            "| 32|  19|Cesar Nelson Dani...|  Rita Rafaela Lara |Cesar Nelson Dani...|  Rita Rafaela Lara |254.321.926-91|254.321.926-91|               1.0|       true|\n",
            "| 29|  16|Caio Julio Kaue Lima|Lara Sabrina Giov...|Caio Julio Kaue Lima|Lara Sabrina Giov...|843.458.724-64|843.458.724-64|               1.0|       true|\n",
            "|487|  98|  Hugo Thales Aragao| Alicia Livia Sonia |  Hugo Thales Aragao| Alicia Livia Sonia |143.975.020-30|143.975.020-30|               1.0|       true|\n",
            "|457|  68|Severino Ruan Cal...|   Juliana Jennifer |Severino Ruan Cal...|   Juliana Jennifer |390.371.546-89|390.371.546-89|               1.0|       true|\n",
            "|479|  90|Lorenzo Otavio Gomes|       Agatha Marli |Lorenzo Otavio Gomes|       Agatha Marli |558.220.658-21|558.220.658-21|               1.0|       true|\n",
            "| 90| 102|  Breno Danilo Silva|  Eloa Fatima Tania |  Breno Danilo Silva|  Eloa Fatima Tania |197.863.690-33|040.568.439-88|               1.0|      false|\n",
            "|530|  47|Marcos Nicolas Ba...|     Flavia Leticia |Marcos Nicolas Ba...|     Flavia Leticia |213.005.833-71|213.005.833-71|               1.0|       true|\n",
            "|476|  87|Benedito Kaique S...|Nicole Marcia Cla...|Benedito Kaique S...|Nicoli Marcia Cla...|625.938.432-76|625.938.432-76|               1.0|       true|\n",
            "| 99| 111|Kaue Francisco Be...|    Alice Nair Rita |Kaue Francisco Be...|    Alice Nair Rita |537.674.050-16|341.311.535-99|               1.0|      false|\n",
            "| 67|  55|Lucca Francisco G...|Melissa Louise An...|Lucca Francisco G...|Melissa Louise An...|159.568.299-66|159.568.299-66|               1.0|       true|\n",
            "|101| 113|Claudio Murilo Au...|  Patricia Jennifer |        Claudio Rosa|  Patricia Jennifer |311.265.388-25|748.193.267-08|               1.0|      false|\n",
            "|482|  93|Henrique Miguel R...|  Alana Lais Josefa |Henrique Miguel R...|  Alana Lais Josefa |661.445.243-63|661.445.243-63|               1.0|       true|\n",
            "| 21|  08|    Enzo Diego Rocha|Isabelle Maite Rosa |        Enzo D Rocha|Isabelle Maite Rosa |386.351.591-95|386.351.591-95|               1.0|       true|\n",
            "| 16|  03|Theo Mario Victor...|  Caroline Gabriela |Theo Mario Victor...|  Caroline Gabriela |284.536.218-88|284.536.218-88|               1.0|       true|\n",
            "| 91| 103|Fernando Mario Sales| Silvana Analu Lara |Fernando Mario Sales| Silvana Analu Lara |853.220.078-81|461.427.999-69|               1.0|      false|\n",
            "|521|  38|Paulo Joaquim Araujo|       Agatha Maite |Paulo Joaquim Araujo|       Agatha Maite |985.904.206-39|985.904.206-39|               1.0|       true|\n",
            "|523|  40|  Cesar Noah Martins|Sebastiana Lucia ...|  Cesar Noah Martins|Sebastiana Lucia ...|488.380.897-10|488.380.897-10|               1.0|       true|\n",
            "|514|  31|Iago Sergio da Co...|      Sara Benedita |Iago Sergio da Co...|      Sara Benedita |792.235.438-00|792.235.438-00|               1.0|       true|\n",
            "| 38|  25|Fernando Cesar Fi...|Bruna Esther Evelyn |Fernando Cesar Fi...|Bruna Esther Evelyn |249.678.124-57|249.678.124-57|               1.0|       true|\n",
            "|123| 135|Marcos Raimundo R...|   Rosa Ayla Alicia |Marcos Raimundo R...|   Rosa Ayla Alicia |598.428.502-93|213.005.833-71|               1.0|      false|\n",
            "|527|  44|Ryan Benicio Cort...|Alice Marcia Flavia |Ryan Benicio Cort...|Alice Marcia Flavia |998.958.182-70|998.958.182-70|               1.0|       true|\n",
            "| 88| 100|Pedro Henrique Ca...|   Daniela Fernanda |Pedro Henrique Ca...|   Daniela Fernanda |455.314.739-40|711.467.358-20|               1.0|      false|\n",
            "|103| 115|Gustavo Iago Levi...|     Barbara Yasmin |Gustavo Iago Levi...|     Barbara Yasmin |710.692.544-60|563.337.623-42|               1.0|      false|\n",
            "|471|  82|Fabio Elias Teixeira|   Alicia Gabrielly |Fabio Elias Teixeira|   Alicia Gabrielly |697.171.589-67|697.171.589-67|               1.0|       true|\n",
            "|481|  92|  Oliver Caue da Paz|      Betina Agatha |  Oliver Caue da Paz|      Betina Agatha |802.801.516-67|802.801.516-67|               1.0|       true|\n",
            "|475|  86| Benicio Julio Alves|      Debora Josefa | Benicio Julio Alves|      Debora Josefa |378.472.304-70|378.472.304-70|               1.0|       true|\n",
            "| 96| 108|Noah Caleb Pietro...|Larissa Milena Ca...|Noah Caleb Pietro...|Larissa Milena Ca...|236.305.262-50|874.269.918-57|               1.0|      false|\n",
            "|105| 117|Pietro Guilherme ...|Teresinha Vera El...|Pietro Guilherme ...|Teresinha Vera El...|965.187.557-76|893.426.079-34|               1.0|      false|\n",
            "|470|  81|Manoel Julio Edua...|Francisca Aurora ...|Manoel Julio Edua...|Francisca Aurora ...|420.868.827-00|420.868.827-00|               1.0|       true|\n",
            "|102| 114|Bento Luan Guilhe...|      Sophia Louise |Bento Luan Guilhe...|      Sophia Louise |617.496.046-39|442.694.244-60|               1.0|      false|\n",
            "|516|  33|Bruno Ruan Luan C...|Andrea Giovanna E...|Bruno Ruan Luan C...|Andrea Giovanna E...|155.699.916-03|155.699.916-03|               1.0|       true|\n",
            "|464|  75|Marcio Otavio Kev...|      Regina Marcia |Marcio Otavio Kev...|      Regina Marcia |724.394.945-26|724.394.945-26|               1.0|       true|\n",
            "|531|  48|Gustavo Levi Mano...|Joana Cristiane S...|Gustavo Levi Mano...|Joana Cristiane S...|758.219.979-09|758.219.979-09|               1.0|       true|\n",
            "|129| 141|Leonardo Fabio de...|  Hadassa Maya Elza |Leonardo Fabio de...|  Hadassa Maya Elza |548.978.343-50|145.891.596-43|               1.0|      false|\n",
            "|486|  97|Filipe Matheus da...|Patricia Stefany ...|Filipe Matheus da...|Patricia Stefany ...|249.429.666-80|249.429.666-80|               1.0|       true|\n",
            "|473|  84|Kevin Mario Gabri...|       Luciana Vera |Kevin Mario Gabri...|       Luciana Vera |778.488.037-59|778.488.037-59|               1.0|       true|\n",
            "| 94| 106|Cesar Filipe Peixoto|       Camila Sarah |Cesar Filipe Peixoto|       Camila Sarah |805.964.609-53|629.574.715-90|               1.0|      false|\n",
            "| 79|  67|Edson Sebastiao N...|Raquel Luiza Aurora |Edson Sebastiao N...|Raquel Luiza Aurora |846.921.875-14|846.921.875-14|               1.0|       true|\n",
            "|131| 143|Francisco Jorge R...| Livia Sandra Sueli |Francisco Jorge R...| Livia Sandra Sueli |299.310.419-51|159.568.299-66|               1.0|      false|\n",
            "| 37|  24|Jose Ian da Conce...|Isabelly Maria La...|Jose Ian da Conce...|Isabelly Maria La...|657.324.647-00|657.324.647-00|               1.0|       true|\n",
            "|468|  79|  Iago Davi da Cunha|Natalia Andreia E...| Iago David da Cunha|Natalia Andreia E...|606.841.002-15|606.841.002-15|               1.0|       true|\n",
            "|122| 134|Martin Benjamin J...|      Emily Jessica |Martin Benjamin J...|      Emily Jessica |911.508.160-58|066.796.721-47|               1.0|      false|\n",
            "|477|  88|Filipe Otavio Noa...|Natalia Sophia Ka...|Filipe Otavio Noa...|Natalia Sophia Ka...|475.612.908-02|475.612.908-02|               1.0|       true|\n",
            "|104| 116| Eduardo Nelson Melo|     Cecilia Sophie | Eduardo Nelson Melo|     Cecilia Sophie |895.258.369-83|466.803.635-86|               1.0|      false|\n",
            "|515|  32|Calebe Augusto Ia...|       Debora Sarah |Calebe Augusto Ia...|       Debora Sarah |288.360.031-76|288.360.031-76|               1.0|       true|\n",
            "| 93| 105|Oliver Benicio Se...|Alana Valentina A...|Oliver Benicio Se...|Alana Valentina A...|621.824.822-45|974.659.231-90|               1.0|      false|\n",
            "| 33|  20|Rodrigo Erick Rob...|   Nicole Aparecida |Rodrigo Erick Rob...|   Nicole Aparecida |806.443.633-80|806.443.633-80|               1.0|       true|\n",
            "|130| 142|Roberto Heitor Fa...|  Cristiane Manuela |Roberto Heitor Fa...|  Cristiane Manuela |728.111.694-23|631.466.800-09|               1.0|      false|\n",
            "| 68|  56|Guilherme Severin...|Valentina Tereza ...|Guilherme Severin...|Valentina Tereza ...|875.553.057-55|875.553.057-55|               1.0|       true|\n",
            "| 23|  10|   Caua Isaac Castro|Giovana Antonella...|   Caua Isaac Castro|Giovana Antonella...|489.611.821-96|489.611.821-96|               1.0|       true|\n",
            "|519|  36|Bernardo Antonio ...|      Alice Stefany |Bernardo Antonio ...|      Alice Stefany |180.830.510-80|180.830.510-80|               1.0|       true|\n",
            "|520|  37|Theo Mario Raul S...|    Luzia Ana Maite |Theo Mario Raul S...|    Luzia Ana Maite |473.096.540-05|473.096.540-05|               1.0|       true|\n",
            "|532|  49|Gabriel Geraldo L...|Sonia Stefany Pat...|Gabriel Geraldo L...|Sonia Stefany Pat...|858.666.733-12|858.666.733-12|               1.0|       true|\n",
            "| 75|  63|Roberto Daniel Ga...|   Juliana Isabelly |Roberto Daniel Ga...|   Juliana Isabelly |885.720.350-60|885.720.350-60|               1.0|       true|\n",
            "| 77|  65|Pietro Diego Carl...|     Elza Gabrielly |Pietro Diego Carl...|     Elza Gabrielly |506.359.495-63|506.359.495-63|               1.0|       true|\n",
            "| 92| 104|Pedro Henrique Di...|   Carolina Vitoria |Pedro Henrique Di...|   Carolina Vitoria |510.498.890-29|423.398.060-54|               1.0|      false|\n",
            "| 72|  60|Otavio Bernardo d...| Catarina Cristiane |Otavio Bernardo d...| Catarina Cristiane |895.160.103-00|895.160.103-00|               1.0|       true|\n",
            "| 74|  62|Bento Kaue Gael d...|Rosa Rafaela Fabi...|Bento Kaue Gael d...|Rosa Rafaela Fabi...|514.481.204-03|514.481.204-03|               1.0|       true|\n",
            "|472|  83|Fernando Leandro ...|Allana Beatriz Ja...|Fernando Leandro ...|Allana Beatriz Ja...|429.056.400-30|429.056.400-30|               1.0|       true|\n",
            "| 25|  12|Danilo Severino d...|     Rita Ayla Sara |Danilo Severino d...|     Rita Ayla Sara |492.264.809-74|492.264.809-74|               1.0|       true|\n",
            "| 17|  04|Pietro Henry de P...|       Tereza Bruna |Pietro Henrique d...|       Tereza Bruna |390.375.925-20|390.375.925-20|               1.0|       true|\n",
            "| 97| 109|Nicolas Henry da ...|Sophie Isabelly M...|Nicolas Henry da ...|Sophie Isabelly M...|640.234.882-16|840.760.458-58|               1.0|      false|\n",
            "| 26|  13|   Samuel Noah Lopes|       Louise Joana |   Samuel Noah Lopes|       Louise Joana |816.876.443-90|816.876.443-90|               1.0|       true|\n",
            "| 78|  66|Erick Elias Ryan ...|Raimunda Vitoria ...|Erick Elias Ryan ...|Raimunda Vitoria ...|821.284.216-91|821.284.216-91|               1.0|       true|\n",
            "| 27|  14|Juan Raimundo Osv...|      Heloisa Luzia |Juan Raimundo Osv...|      Heloisa Luzia |327.630.596-86|327.630.596-86|               1.0|       true|\n",
            "| 34|  21|Enrico Arthur Kau...|   Antonella Yasmin |Enrico Arthur Kau...|   Antonella Yasmin |984.830.666-88|984.830.666-88|               1.0|       true|\n",
            "| 36|  23|Caleb Augusto Igo...|Benedita Nair Tat...|Caleb Augusto Igo...|Benedita Nair Tat...|949.278.899-39|949.278.899-39|               1.0|       true|\n",
            "|480|  91|Sebastiao Kaue da...| Aurora Vera Sophia |Sebastiao Kaue da...| Aurora Vera Sophia |408.365.694-82|408.365.694-82|               1.0|       true|\n",
            "|125| 137|Vinicius Kaue Nas...|        Rita Louise |Vinicius Kaue Nas...|        Rita Louise |816.924.878-76|858.666.733-12|               1.0|      false|\n",
            "|461|  72|Samuel Roberto Ti...|Tatiane Maria Luc...|Samuel Roberto Ti...|Tatiane Maria Luc...|715.718.151-71|715.718.151-71|               1.0|       true|\n",
            "|463|  74|Henrique Elias Viana|Beatriz Antonella...|Henrique Elias Viana|Beatriz Antonella...|048.799.101-04|048.799.101-04|               1.0|       true|\n",
            "|465|  76|Kaue Renato Ricar...|Pietra Manuela Ma...|Kaue Renato Ricar...|Pietra Manuela Ma...|584.433.850-22|584.433.850-22|               1.0|       true|\n",
            "|469|  80|   Tiago Luan Farias|Isabelle Renata L...|   Tiago Luan Farias|Isabelle Renata L...|877.344.909-13|877.344.909-13|               1.0|       true|\n",
            "|528|  45|Eduardo Pietro Jo...|      Agatha Esther |Eduardo Pietro Jo...|      Agatha Esther |348.748.050-60|348.748.050-60|               1.0|       true|\n",
            "| 69|  57|Levi Heitor da Costa|Luna Sonia Sebast...|Levi Heitor da Costa|Lunna Sonia Sebas...|055.302.287-39|055.302.287-39|               1.0|       true|\n",
            "|533|  50|Manoel Luis Felip...|       Silvana Maya |Manoel Luis Felip...|       Silvana Maya |046.391.337-07|046.391.337-07|               1.0|       true|\n",
            "| 65|  53|Raimundo Tomas da...|       Ayla Claudia |Raimundo Tomas da...|        Ayla Claudia|145.891.596-43|145.891.596-43|0.9904761904761905|       true|\n",
            "|466|  77| Kaique Pietro Rocha|          Sara Rosa | Kaique Pietro Rocha|           Sara Roza|948.013.865-47|948.013.865-47|0.9888888888888889|       true|\n",
            "|522|  39|Pietro Rafael Nas...|Gabrielly Malu Va...|Pietro Rafael Nas...|Gabrielly Malu Va...|517.088.375-74|517.088.375-74|0.9851851851851853|       true|\n",
            "| 19|  06|Gabriel Erick Oli...|Helena Agatha Ter...|Gabriel Erick Oli...|Elena Agatha Tere...|551.341.139-39|551.341.139-39|0.9841269841269842|       true|\n",
            "|484|  95|Lucca Miguel Diog...|Rafaela Analu Lav...|Lucca Miguel Diog...|  Rafaela A Lavinia |779.234.407-00|779.234.407-00|0.9822222222222222|       true|\n",
            "| 64|  52|Heitor Enzo Arthu...|          Rita Maya |Heitor Enzo Arthu...|            Rita Maa|872.870.813-00|872.870.813-00|0.9777777777777779|       true|\n",
            "|483|  94|Heitor Eduardo Go...|      Simone Amanda |Heitor Eduardo Go...|       Simone Ananda|759.345.598-00|759.345.598-00|0.9768518518518517|       true|\n",
            "| 15|  02|Marcio Heitor Sil...|Alana Isadora Jul...|Marcio Heitor Sil...|       Alana Isadora|325.828.867-42|325.828.867-42|0.9743589743589745|       true|\n",
            "|111| 120|Enzo Nelson Yuri ...|        Sophie Elza |    Enzo Diego Rocha|Sophia Rafaela Si...|605.621.365-09|872.870.813-00| 0.937037037037037|      false|\n",
            "| 22| 121|Cesar Matheus Cau...|      Sophie Bianca |Cesar Matheus Cau...|         Liz Nicole |885.264.747-31|155.699.916-03|0.9365079365079366|      false|\n",
            "|524|  41|  Tomas Arthur Rocha|    Eloa Maria Rita | Thomas Arthur Rocha|    Eloa Maria Rita |169.848.860-23|169.848.860-23|0.9259259259259259|       true|\n",
            "|245| 125|Samuel Osvaldo Lopes|Carolina Manuela ...|   Samuel Noah Lopes|       Luana Louise |613.127.584-06|473.096.540-05|0.9100529100529101|      false|\n",
            "| 98| 110|Kaique Heitor Nas...|Silvana Cristiane...|     Kaique Heitor N|Silvana Cristiane...|896.785.694-69|885.968.346-72|0.9074074074074074|      false|\n",
            "+---+----+--------------------+--------------------+--------------------+--------------------+--------------+--------------+------------------+-----------+\n",
            "\n"
          ],
          "name": "stdout"
        }
      ]
    },
    {
      "cell_type": "markdown",
      "metadata": {
        "colab_type": "text",
        "id": "xCNqQ0o-Ak-M"
      },
      "source": [
        "## 2 - Comparação Não Fonética pelo Nome e Nome da Mãe com Jaro Winkler\n"
      ]
    },
    {
      "cell_type": "code",
      "metadata": {
        "colab_type": "code",
        "id": "Hrk-Ar1Z_f2e",
        "colab": {}
      },
      "source": [
        "# Criação da Função de Similaridade\n",
        "def compare_2(primeiro_nome_a, ultimo_nome_a, mae, primeiro_nome_b, ultimo_nome_b, mae_b):\n",
        "  sim = 0\n",
        "  \n",
        "  #comparando atributos nominais\n",
        "  sim = jellyfish.jaro_winkler(primeiro_nome_a, primeiro_nome_b)\n",
        "  sim += jellyfish.jaro_winkler(ultimo_nome_a, ultimo_nome_b)\n",
        "  sim += jellyfish.jaro_winkler(mae, mae_b)\n",
        "  \n",
        "  #Media aritmética simples\n",
        "  sim = abs(float(sim/3))\n",
        "  \n",
        "  return sim\n",
        "\n",
        "udf_compare_2 = F.udf(compare_2, StringType())  "
      ],
      "execution_count": 0,
      "outputs": []
    },
    {
      "cell_type": "code",
      "metadata": {
        "colab_type": "code",
        "id": "ZCn67srTAggO",
        "colab": {}
      },
      "source": [
        "dfr_2 = dfl.withColumn('similaridade', \n",
        "                     udf_compare_2 (F.col('primeiro_nome_a'),\n",
        "                                    F.col('ultimo_nome_a'),\n",
        "                                    F.col('mae'),\n",
        "                                    F.col('primeiro_nome_b'),\n",
        "                                    F.col('ultimo_nome_b'),\n",
        "                                    F.col('mae_b')))"
      ],
      "execution_count": 0,
      "outputs": []
    },
    {
      "cell_type": "code",
      "metadata": {
        "colab_type": "code",
        "outputId": "3989f477-b926-462d-8b2a-61777f671075",
        "id": "ocA8MSTMAsAc",
        "colab": {
          "base_uri": "https://localhost:8080/",
          "height": 0
        }
      },
      "source": [
        "# Exibindo base de resultado\n",
        "dfr_2.select(['id', 'id_b', 'nome', 'nome_b', 'cpf', 'cpf_b', 'similaridade']).show(10)"
      ],
      "execution_count": 47,
      "outputs": [
        {
          "output_type": "stream",
          "text": [
            "+---+----+--------------------+--------------------+--------------+--------------+-------------------+\n",
            "| id|id_b|                nome|              nome_b|           cpf|         cpf_b|       similaridade|\n",
            "+---+----+--------------------+--------------------+--------------+--------------+-------------------+\n",
            "|  0|  01|Vicente Oliver Mo...|Felipe Bruno dos ...|097.627.958-49|506.865.202-46|  0.515401573734907|\n",
            "|  0|  02|Vicente Oliver Mo...|Marcio Heitor Sil...|097.627.958-49|325.828.867-42|0.48709808709808705|\n",
            "|  0|  03|Vicente Oliver Mo...|Theo Mario Victor...|097.627.958-49|284.536.218-88| 0.4795855379188712|\n",
            "|  0|  04|Vicente Oliver Mo...|Pietro Henrique d...|097.627.958-49|390.375.925-20|0.40533170533170537|\n",
            "|  0|  05|Vicente Oliver Mo...|Kaique Thiago de ...|097.627.958-49|756.005.387-40|  0.392063492063492|\n",
            "|  0|  06|Vicente Oliver Mo...|Gabriel Erick Oli...|097.627.958-49|551.341.139-39|0.31020818955601565|\n",
            "|  0|  07|Vicente Oliver Mo...|Luan Caue Anthony...|097.627.958-49|756.048.583-90| 0.5610149110149111|\n",
            "|  0|  08|Vicente Oliver Mo...|        Enzo D Rocha|097.627.958-49|386.351.591-95|0.33425925925925926|\n",
            "|  0|  09|Vicente Oliver Mo...|Cesar Matheus Cau...|097.627.958-49|885.264.747-31| 0.5574514991181658|\n",
            "|  0|  10|Vicente Oliver Mo...|   Caua Isaac Castro|097.627.958-49|489.611.821-96| 0.3751899335232669|\n",
            "+---+----+--------------------+--------------------+--------------+--------------+-------------------+\n",
            "only showing top 10 rows\n",
            "\n"
          ],
          "name": "stdout"
        }
      ]
    },
    {
      "cell_type": "code",
      "metadata": {
        "colab_type": "code",
        "id": "W-zxjzWsBB3_",
        "colab": {}
      },
      "source": [
        "# Deduplicando a base (eliminando linhas duplicadas, ficando somente com a de maior similaridade)\n",
        "dfc_2 = dfr_2.orderBy(['similaridade'], ascending=False).dropDuplicates(['id_b']).orderBy(['id_b']).select(['id', 'id_b', 'nome','nome_b','cpf','cpf_b', 'similaridade'])\n"
      ],
      "execution_count": 0,
      "outputs": []
    },
    {
      "cell_type": "code",
      "metadata": {
        "colab_type": "code",
        "id": "ThEbGeG6BJin",
        "colab": {}
      },
      "source": [
        "# Criação de coluna de comparação de CPFs\n",
        "dfc_2 = dfc_2.withColumn('CPFs_Iguais',F.col('cpf') == F.col('cpf_b'))"
      ],
      "execution_count": 0,
      "outputs": []
    },
    {
      "cell_type": "code",
      "metadata": {
        "colab_type": "code",
        "outputId": "eaeb3c6f-ce6e-43ca-940f-b8b7770e1521",
        "id": "WA6wT1yq13Y9",
        "colab": {
          "base_uri": "https://localhost:8080/",
          "height": 0
        }
      },
      "source": [
        "dfc_2.describe('similaridade').show()"
      ],
      "execution_count": 50,
      "outputs": [
        {
          "output_type": "stream",
          "text": [
            "+-------+-------------------+\n",
            "|summary|       similaridade|\n",
            "+-------+-------------------+\n",
            "|  count|                143|\n",
            "|   mean| 0.9704922334042875|\n",
            "| stddev|0.09090226746595302|\n",
            "|    min| 0.3333333333333333|\n",
            "|    max|                1.0|\n",
            "+-------+-------------------+\n",
            "\n"
          ],
          "name": "stdout"
        }
      ]
    },
    {
      "cell_type": "code",
      "metadata": {
        "id": "UDWkNlV04Y3K",
        "colab_type": "code",
        "outputId": "99839059-f2f6-4324-84f1-84782798e350",
        "colab": {
          "base_uri": "https://localhost:8080/",
          "height": 0
        }
      },
      "source": [
        "dfc_2.count()"
      ],
      "execution_count": 51,
      "outputs": [
        {
          "output_type": "execute_result",
          "data": {
            "text/plain": [
              "143"
            ]
          },
          "metadata": {
            "tags": []
          },
          "execution_count": 51
        }
      ]
    },
    {
      "cell_type": "code",
      "metadata": {
        "colab_type": "code",
        "outputId": "7f70d42e-5225-4526-b25f-0fe50c949d98",
        "id": "66sA6Dui13ZA",
        "colab": {
          "base_uri": "https://localhost:8080/",
          "height": 0
        }
      },
      "source": [
        "dfc_2.filter(dfc_2['similaridade'] >= '0.9').count()"
      ],
      "execution_count": 52,
      "outputs": [
        {
          "output_type": "execute_result",
          "data": {
            "text/plain": [
              "125"
            ]
          },
          "metadata": {
            "tags": []
          },
          "execution_count": 52
        }
      ]
    },
    {
      "cell_type": "code",
      "metadata": {
        "colab_type": "code",
        "outputId": "4c80224a-1b7c-417a-e864-a85a6b11a90f",
        "id": "sOEe3JJh2EHD",
        "colab": {
          "base_uri": "https://localhost:8080/",
          "height": 0
        }
      },
      "source": [
        "# Exibindo os resultados com similariade maior do que 0.9\n",
        "dfc_2.filter(dfc_2['similaridade'] >= '0.9').orderBy(['similaridade'], ascending=False).show(150)"
      ],
      "execution_count": 53,
      "outputs": [
        {
          "output_type": "stream",
          "text": [
            "+---+----+--------------------+--------------------+--------------+--------------+------------------+-----------+\n",
            "| id|id_b|                nome|              nome_b|           cpf|         cpf_b|      similaridade|CPFs_Iguais|\n",
            "+---+----+--------------------+--------------------+--------------+--------------+------------------+-----------+\n",
            "| 63|  51|Alexandre Bruno M...|Alexandre Bruno M...|869.696.945-69|869.696.945-69|               1.0|       true|\n",
            "| 66|  54| Ricardo Igor Barros| Ricardo Igor Barros|631.466.800-09|631.466.800-09|               1.0|       true|\n",
            "| 76|  64|Marcelo Benedito ...|Marcelo Benedito ...|571.307.021-25|571.307.021-25|               1.0|       true|\n",
            "|100| 112|Marcos Yago Lucca...|Marcos Yago Lucca...|055.033.142-55|233.893.997-20|               1.0|      false|\n",
            "|525|  42|   Kaue Cesar Moraes|   Kaue Cesar Moraes|318.470.004-60|318.470.004-60|               1.0|       true|\n",
            "|127| 139|Gael Tomas Thiago...|Gael Tomas Thiago...|831.082.317-74|869.696.945-69|               1.0|      false|\n",
            "|512|  29|Calebe Osvaldo Ba...|Calebe Osvaldo Ba...|797.175.014-59|797.175.014-59|               1.0|       true|\n",
            "| 35|  22|Mario Kevin Baptista|Mario Kevin Baptista|097.294.987-92|097.294.987-92|               1.0|       true|\n",
            "|126| 138|Heitor Leonardo C...|Heitor Leonardo C...|870.599.445-40|046.391.337-07|               1.0|      false|\n",
            "| 28|  15|Leandro Cesar Jor...|Leandro Cesar Jor...|181.410.022-95|181.410.022-95|               1.0|       true|\n",
            "| 89| 101| Isaac Luiz Aparicio| Isaac Luiz Aparicio|919.624.227-20|823.068.573-85|               1.0|      false|\n",
            "| 29|  16|Caio Julio Kaue Lima|Caio Julio Kaue Lima|843.458.724-64|843.458.724-64|               1.0|       true|\n",
            "|462|  73|Elias Pedro Geral...|Elias Pedro Geral...|095.450.063-66|095.450.063-66|               1.0|       true|\n",
            "|101| 113|Claudio Murilo Au...|        Claudio Rosa|311.265.388-25|748.193.267-08|               1.0|      false|\n",
            "| 20|  07|Luan Caue Anthony...|Luan Caue Anthony...|756.048.583-90|756.048.583-90|               1.0|       true|\n",
            "| 24|  11|Gabriel Caua Marc...|Gabriel Caua Marc...|281.229.310-14|281.229.310-14|               1.0|       true|\n",
            "| 95| 107|Matheus Joao Iago...|Matheus Joao Iago...|658.224.088-93|535.871.894-04|               1.0|      false|\n",
            "|526|  43|Sebastiao Anderso...|Sebastiao Anderso...|939.097.065-25|939.097.065-25|               1.0|       true|\n",
            "|517|  34|    Enzo Diogo Pinto|    Enzo Diogo Pinto|735.339.007-70|735.339.007-70|               1.0|       true|\n",
            "| 88| 100|Pedro Henrique Ca...|Pedro Henrique Ca...|455.314.739-40|711.467.358-20|               1.0|      false|\n",
            "| 31|  18|Nicolas Edson Araujo|Nicolas Edson Araujo|557.744.519-17|557.744.519-17|               1.0|       true|\n",
            "| 14|  01|Felipe Bruno dos ...|Felipe Bruno dos ...|506.865.202-46|506.865.202-46|               1.0|       true|\n",
            "| 73|  61|Erick Bryan Julio...|Erick Bryan Julio...|248.115.138-00|248.115.138-00|               1.0|       true|\n",
            "|459|  70|Davi Nelson Caldeira|Davi Nelson Caldeira|227.774.367-46|227.774.367-46|               1.0|       true|\n",
            "|474|  85|Renan Bernardo da...|Renan Bernardo da...|725.521.191-74|725.521.191-74|               1.0|       true|\n",
            "| 39|  26|Jose Caua Vicente...|Jose Caua Vicente...|295.718.231-98|295.718.231-98|               1.0|       true|\n",
            "|128| 140|  Tomas Caua Martins|  Tomas Caua Martins|126.180.305-16|872.870.813-00|               1.0|      false|\n",
            "| 30|  17|Guilherme Rafael ...|Guilherme Rafael ...|134.836.403-39|134.836.403-39|               1.0|       true|\n",
            "| 41|  28|   Breno Bruno Pinto|   Breno Bruno Pinto|735.197.681-35|735.197.681-35|               1.0|       true|\n",
            "| 22|  09|Cesar Matheus Cau...|Cesar Matheus Cau...|885.264.747-31|885.264.747-31|               1.0|       true|\n",
            "|529|  46|  Martin Caio Galvao|  Martin Caio Galvao|066.796.721-47|066.796.721-47|               1.0|       true|\n",
            "|458|  69|Anderson Gustavo ...|Anderson Gustavo ...|081.783.955-09|081.783.955-09|               1.0|       true|\n",
            "|518|  35|  Noah Marcelo Rocha|  Noah Marcelo Rocha|455.643.269-38|455.643.269-38|               1.0|       true|\n",
            "|478|  89|Rafael Noah Diego...|Rafael Noah Diego...|823.589.295-22|823.589.295-22|               1.0|       true|\n",
            "| 18|  05|Kaique Thiago de ...|Kaique Thiago de ...|756.005.387-40|756.005.387-40|               1.0|       true|\n",
            "| 92| 104|Pedro Henrique Di...|Pedro Henrique Di...|510.498.890-29|423.398.060-54|               1.0|      false|\n",
            "| 72|  60|Otavio Bernardo d...|Otavio Bernardo d...|895.160.103-00|895.160.103-00|               1.0|       true|\n",
            "|487|  98|  Hugo Thales Aragao|  Hugo Thales Aragao|143.975.020-30|143.975.020-30|               1.0|       true|\n",
            "|479|  90|Lorenzo Otavio Gomes|Lorenzo Otavio Gomes|558.220.658-21|558.220.658-21|               1.0|       true|\n",
            "|460|  71|Augusto Bruno da ...|Augusto Bruno da ...|302.706.239-57|302.706.239-57|               1.0|       true|\n",
            "|530|  47|Marcos Nicolas Ba...|Marcos Nicolas Ba...|213.005.833-71|213.005.833-71|               1.0|       true|\n",
            "| 36|  23|Caleb Augusto Igo...|Caleb Augusto Igo...|949.278.899-39|949.278.899-39|               1.0|       true|\n",
            "|488|  99|Sergio Sebastiao ...|Sergio Sebastiao ...|546.506.467-66|546.506.467-66|               1.0|       true|\n",
            "| 67|  55|Lucca Francisco G...|Lucca Francisco G...|159.568.299-66|159.568.299-66|               1.0|       true|\n",
            "| 99| 111|Kaue Francisco Be...|Kaue Francisco Be...|537.674.050-16|341.311.535-99|               1.0|      false|\n",
            "|485|  96|Roberto Giovanni ...|Roberto Giovanni ...|830.124.590-57|830.124.590-57|               1.0|       true|\n",
            "|513|  30|Miguel Francisco ...|Miguel Francisco ...|618.880.659-31|618.880.659-31|               1.0|       true|\n",
            "| 21|  08|    Enzo Diego Rocha|        Enzo D Rocha|386.351.591-95|386.351.591-95|               1.0|       true|\n",
            "| 38|  25|Fernando Cesar Fi...|Fernando Cesar Fi...|249.678.124-57|249.678.124-57|               1.0|       true|\n",
            "| 16|  03|Theo Mario Victor...|Theo Mario Victor...|284.536.218-88|284.536.218-88|               1.0|       true|\n",
            "| 91| 103|Fernando Mario Sales|Fernando Mario Sales|853.220.078-81|461.427.999-69|               1.0|      false|\n",
            "|521|  38|Paulo Joaquim Araujo|Paulo Joaquim Araujo|985.904.206-39|985.904.206-39|               1.0|       true|\n",
            "|523|  40|  Cesar Noah Martins|  Cesar Noah Martins|488.380.897-10|488.380.897-10|               1.0|       true|\n",
            "|514|  31|Iago Sergio da Co...|Iago Sergio da Co...|792.235.438-00|792.235.438-00|               1.0|       true|\n",
            "|103| 115|Gustavo Iago Levi...|Gustavo Iago Levi...|710.692.544-60|563.337.623-42|               1.0|      false|\n",
            "|471|  82|Fabio Elias Teixeira|Fabio Elias Teixeira|697.171.589-67|697.171.589-67|               1.0|       true|\n",
            "|123| 135|Marcos Raimundo R...|Marcos Raimundo R...|598.428.502-93|213.005.833-71|               1.0|      false|\n",
            "|527|  44|Ryan Benicio Cort...|Ryan Benicio Cort...|998.958.182-70|998.958.182-70|               1.0|       true|\n",
            "| 40|  27|Theo Sebastiao da...|Theo Sebastiao da...|536.503.166-09|536.503.166-09|               1.0|       true|\n",
            "|481|  92|  Oliver Caue da Paz|  Oliver Caue da Paz|802.801.516-67|802.801.516-67|               1.0|       true|\n",
            "| 96| 108|Noah Caleb Pietro...|Noah Caleb Pietro...|236.305.262-50|874.269.918-57|               1.0|      false|\n",
            "|105| 117|Pietro Guilherme ...|Pietro Guilherme ...|965.187.557-76|893.426.079-34|               1.0|      false|\n",
            "|475|  86| Benicio Julio Alves| Benicio Julio Alves|378.472.304-70|378.472.304-70|               1.0|       true|\n",
            "|470|  81|Manoel Julio Edua...|Manoel Julio Edua...|420.868.827-00|420.868.827-00|               1.0|       true|\n",
            "|464|  75|Marcio Otavio Kev...|Marcio Otavio Kev...|724.394.945-26|724.394.945-26|               1.0|       true|\n",
            "|102| 114|Bento Luan Guilhe...|Bento Luan Guilhe...|617.496.046-39|442.694.244-60|               1.0|      false|\n",
            "|516|  33|Bruno Ruan Luan C...|Bruno Ruan Luan C...|155.699.916-03|155.699.916-03|               1.0|       true|\n",
            "|129| 141|Leonardo Fabio de...|Leonardo Fabio de...|548.978.343-50|145.891.596-43|               1.0|      false|\n",
            "|531|  48|Gustavo Levi Mano...|Gustavo Levi Mano...|758.219.979-09|758.219.979-09|               1.0|       true|\n",
            "|486|  97|Filipe Matheus da...|Filipe Matheus da...|249.429.666-80|249.429.666-80|               1.0|       true|\n",
            "| 94| 106|Cesar Filipe Peixoto|Cesar Filipe Peixoto|805.964.609-53|629.574.715-90|               1.0|      false|\n",
            "| 79|  67|Edson Sebastiao N...|Edson Sebastiao N...|846.921.875-14|846.921.875-14|               1.0|       true|\n",
            "|131| 143|Francisco Jorge R...|Francisco Jorge R...|299.310.419-51|159.568.299-66|               1.0|      false|\n",
            "|473|  84|Kevin Mario Gabri...|Kevin Mario Gabri...|778.488.037-59|778.488.037-59|               1.0|       true|\n",
            "|468|  79|  Iago Davi da Cunha| Iago David da Cunha|606.841.002-15|606.841.002-15|               1.0|       true|\n",
            "| 37|  24|Jose Ian da Conce...|Jose Ian da Conce...|657.324.647-00|657.324.647-00|               1.0|       true|\n",
            "|104| 116| Eduardo Nelson Melo| Eduardo Nelson Melo|895.258.369-83|466.803.635-86|               1.0|      false|\n",
            "|515|  32|Calebe Augusto Ia...|Calebe Augusto Ia...|288.360.031-76|288.360.031-76|               1.0|       true|\n",
            "|124| 136|Hugo Marcio Igor ...|Hugo Marcio Igor ...|617.788.187-49|758.219.979-09|               1.0|      false|\n",
            "|122| 134|Martin Benjamin J...|Martin Benjamin J...|911.508.160-58|066.796.721-47|               1.0|      false|\n",
            "| 93| 105|Oliver Benicio Se...|Oliver Benicio Se...|621.824.822-45|974.659.231-90|               1.0|      false|\n",
            "| 33|  20|Rodrigo Erick Rob...|Rodrigo Erick Rob...|806.443.633-80|806.443.633-80|               1.0|       true|\n",
            "| 68|  56|Guilherme Severin...|Guilherme Severin...|875.553.057-55|875.553.057-55|               1.0|       true|\n",
            "|130| 142|Roberto Heitor Fa...|Roberto Heitor Fa...|728.111.694-23|631.466.800-09|               1.0|      false|\n",
            "|519|  36|Bernardo Antonio ...|Bernardo Antonio ...|180.830.510-80|180.830.510-80|               1.0|       true|\n",
            "|520|  37|Theo Mario Raul S...|Theo Mario Raul S...|473.096.540-05|473.096.540-05|               1.0|       true|\n",
            "| 23|  10|   Caua Isaac Castro|   Caua Isaac Castro|489.611.821-96|489.611.821-96|               1.0|       true|\n",
            "| 75|  63|Roberto Daniel Ga...|Roberto Daniel Ga...|885.720.350-60|885.720.350-60|               1.0|       true|\n",
            "|532|  49|Gabriel Geraldo L...|Gabriel Geraldo L...|858.666.733-12|858.666.733-12|               1.0|       true|\n",
            "| 77|  65|Pietro Diego Carl...|Pietro Diego Carl...|506.359.495-63|506.359.495-63|               1.0|       true|\n",
            "| 74|  62|Bento Kaue Gael d...|Bento Kaue Gael d...|514.481.204-03|514.481.204-03|               1.0|       true|\n",
            "|457|  68|Severino Ruan Cal...|Severino Ruan Cal...|390.371.546-89|390.371.546-89|               1.0|       true|\n",
            "| 25|  12|Danilo Severino d...|Danilo Severino d...|492.264.809-74|492.264.809-74|               1.0|       true|\n",
            "|472|  83|Fernando Leandro ...|Fernando Leandro ...|429.056.400-30|429.056.400-30|               1.0|       true|\n",
            "| 17|  04|Pietro Henry de P...|Pietro Henrique d...|390.375.925-20|390.375.925-20|               1.0|       true|\n",
            "| 26|  13|   Samuel Noah Lopes|   Samuel Noah Lopes|816.876.443-90|816.876.443-90|               1.0|       true|\n",
            "| 97| 109|Nicolas Henry da ...|Nicolas Henry da ...|640.234.882-16|840.760.458-58|               1.0|      false|\n",
            "| 27|  14|Juan Raimundo Osv...|Juan Raimundo Osv...|327.630.596-86|327.630.596-86|               1.0|       true|\n",
            "| 34|  21|Enrico Arthur Kau...|Enrico Arthur Kau...|984.830.666-88|984.830.666-88|               1.0|       true|\n",
            "| 78|  66|Erick Elias Ryan ...|Erick Elias Ryan ...|821.284.216-91|821.284.216-91|               1.0|       true|\n",
            "| 90| 102|  Breno Danilo Silva|  Breno Danilo Silva|197.863.690-33|040.568.439-88|               1.0|      false|\n",
            "|480|  91|Sebastiao Kaue da...|Sebastiao Kaue da...|408.365.694-82|408.365.694-82|               1.0|       true|\n",
            "|125| 137|Vinicius Kaue Nas...|Vinicius Kaue Nas...|816.924.878-76|858.666.733-12|               1.0|      false|\n",
            "|461|  72|Samuel Roberto Ti...|Samuel Roberto Ti...|715.718.151-71|715.718.151-71|               1.0|       true|\n",
            "|463|  74|Henrique Elias Viana|Henrique Elias Viana|048.799.101-04|048.799.101-04|               1.0|       true|\n",
            "|465|  76|Kaue Renato Ricar...|Kaue Renato Ricar...|584.433.850-22|584.433.850-22|               1.0|       true|\n",
            "|533|  50|Manoel Luis Felip...|Manoel Luis Felip...|046.391.337-07|046.391.337-07|               1.0|       true|\n",
            "|469|  80|   Tiago Luan Farias|   Tiago Luan Farias|877.344.909-13|877.344.909-13|               1.0|       true|\n",
            "|482|  93|Henrique Miguel R...|Henrique Miguel R...|661.445.243-63|661.445.243-63|               1.0|       true|\n",
            "|528|  45|Eduardo Pietro Jo...|Eduardo Pietro Jo...|348.748.050-60|348.748.050-60|               1.0|       true|\n",
            "| 65|  53|Raimundo Tomas da...|Raimundo Tomas da...|145.891.596-43|145.891.596-43|0.9948717948717949|       true|\n",
            "| 69|  57|Levi Heitor da Costa|Levi Heitor da Costa|055.302.287-39|055.302.287-39|0.9895476504172156|       true|\n",
            "| 32|  19|Cesar Nelson Dani...|Cesar Nelson Dani...|254.321.926-91|254.321.926-91|0.9888888888888889|       true|\n",
            "| 64|  52|Heitor Enzo Arthu...|Heitor Enzo Arthu...|872.870.813-00|872.870.813-00|0.9866666666666667|       true|\n",
            "|477|  88|Filipe Otavio Noa...|Filipe Otavio Noa...|475.612.908-02|475.612.908-02|0.9844444444444443|       true|\n",
            "|522|  39|Pietro Rafael Nas...|Pietro Rafael Nas...|517.088.375-74|517.088.375-74|0.9844444444444443|       true|\n",
            "|524|  41|  Tomas Arthur Rocha| Thomas Arthur Rocha|169.848.860-23|169.848.860-23|0.9833333333333334|       true|\n",
            "|483|  94|Heitor Eduardo Go...|Heitor Eduardo Go...|759.345.598-00|759.345.598-00|0.9797924297924299|       true|\n",
            "|466|  77| Kaique Pietro Rocha| Kaique Pietro Rocha|948.013.865-47|948.013.865-47|0.9792592592592593|       true|\n",
            "|484|  95|Lucca Miguel Diog...|Lucca Miguel Diog...|779.234.407-00|779.234.407-00|0.9767676767676768|       true|\n",
            "|476|  87|Benedito Kaique S...|Benedito Kaique S...|625.938.432-76|625.938.432-76|0.9748917748917748|       true|\n",
            "| 15|  02|Marcio Heitor Sil...|Marcio Heitor Sil...|325.828.867-42|325.828.867-42|0.9727272727272727|       true|\n",
            "| 19|  06|Gabriel Erick Oli...|Gabriel Erick Oli...|551.341.139-39|551.341.139-39|0.9455057824623042|       true|\n",
            "|111| 120|Enzo Nelson Yuri ...|    Enzo Diego Rocha|605.621.365-09|872.870.813-00|0.9445410628019323|      false|\n",
            "| 98| 110|Kaique Heitor Nas...|     Kaique Heitor N|896.785.694-69|885.968.346-72|               0.9|      false|\n",
            "+---+----+--------------------+--------------------+--------------+--------------+------------------+-----------+\n",
            "\n"
          ],
          "name": "stdout"
        }
      ]
    },
    {
      "cell_type": "markdown",
      "metadata": {
        "colab_type": "text",
        "id": "krGoCs9kVImg"
      },
      "source": [
        "## 3 - Comparação Não Fonética por Outros Campos com Jaro Winkler"
      ]
    },
    {
      "cell_type": "code",
      "metadata": {
        "colab_type": "code",
        "outputId": "04582988-16fa-45e0-9a63-79c68ea04f0f",
        "id": "UT4Y6pFjVImh",
        "colab": {
          "base_uri": "https://localhost:8080/",
          "height": 612
        }
      },
      "source": [
        "dfl.printSchema()"
      ],
      "execution_count": 54,
      "outputs": [
        {
          "output_type": "stream",
          "text": [
            "root\n",
            " |-- id: string (nullable = true)\n",
            " |-- cep: string (nullable = true)\n",
            " |-- cidade: string (nullable = true)\n",
            " |-- data_nasc: string (nullable = true)\n",
            " |-- endereco: string (nullable = true)\n",
            " |-- estado: string (nullable = true)\n",
            " |-- idade: string (nullable = true)\n",
            " |-- mae: string (nullable = true)\n",
            " |-- nome: string (nullable = true)\n",
            " |-- tipo_sanguineo: string (nullable = true)\n",
            " |-- cpf: string (nullable = true)\n",
            " |-- id_b: string (nullable = true)\n",
            " |-- cep_b: string (nullable = true)\n",
            " |-- cidade_b: string (nullable = true)\n",
            " |-- data_nasc_b: string (nullable = true)\n",
            " |-- endereco_b: string (nullable = true)\n",
            " |-- estado_b: string (nullable = true)\n",
            " |-- mae_b: string (nullable = true)\n",
            " |-- nome_b: string (nullable = true)\n",
            " |-- tipo_sanguineo_b: string (nullable = true)\n",
            " |-- cpf_b: string (nullable = true)\n",
            " |-- primeiro_nome_a: string (nullable = true)\n",
            " |-- primeiro_nome_b: string (nullable = true)\n",
            " |-- ultimo_nome_a: string (nullable = true)\n",
            " |-- ultimo_nome_b: string (nullable = true)\n",
            " |-- primeiro_nome_fonetico_a: string (nullable = true)\n",
            " |-- primeiro_nome_fonetico_b: string (nullable = true)\n",
            " |-- ultimo_nome_fonetico_a: string (nullable = true)\n",
            " |-- ultimo_nome_fonetico_b: string (nullable = true)\n",
            " |-- nome_fonetico_a: string (nullable = true)\n",
            " |-- nome_fonetico_b: string (nullable = true)\n",
            " |-- nome_fonetico_mae_a: string (nullable = true)\n",
            " |-- nome_fonetico_mae_b: string (nullable = true)\n",
            "\n"
          ],
          "name": "stdout"
        }
      ]
    },
    {
      "cell_type": "code",
      "metadata": {
        "colab_type": "code",
        "id": "m7hZBGsZVImj",
        "colab": {}
      },
      "source": [
        "# Criação da Função de Similaridade\n",
        "def compare_3(nome, mae, data_nasc, tipo_sanguineo, nome_b, mae_b, data_nasc_b, tipo_sanguineo_b):\n",
        "  sim = 0\n",
        "  \n",
        "  #comparando atributos nominais\n",
        "  sim = jellyfish.jaro_winkler(nome, nome_b)\n",
        "  sim += jellyfish.jaro_winkler(mae, mae_b)\n",
        "  sim += jellyfish.jaro_winkler(data_nasc, data_nasc_b)\n",
        "  sim += jellyfish.jaro_winkler(tipo_sanguineo, tipo_sanguineo_b)\n",
        "  \n",
        "  #Media aritmética simples\n",
        "  sim = abs(float(sim/4))\n",
        "  \n",
        "  return sim\n",
        "\n",
        "udf_compare_3 = F.udf(compare_3, StringType())   "
      ],
      "execution_count": 0,
      "outputs": []
    },
    {
      "cell_type": "code",
      "metadata": {
        "colab_type": "code",
        "id": "QD7vGU34VImk",
        "colab": {}
      },
      "source": [
        "dfr_3 = dfl.withColumn('similaridade', \n",
        "                     udf_compare_3 (F.col('nome'),\n",
        "                                    F.col('mae'),\n",
        "                                    F.col('data_nasc'),\n",
        "                                    F.col('tipo_sanguineo'),\n",
        "                                    F.col('nome_b'),\n",
        "                                    F.col('mae_b'),\n",
        "                                    F.col('data_nasc_b'),\n",
        "                                    F.col('tipo_sanguineo_b')))"
      ],
      "execution_count": 0,
      "outputs": []
    },
    {
      "cell_type": "code",
      "metadata": {
        "colab_type": "code",
        "id": "IkWV3DzkVImm",
        "outputId": "28e75eb8-c068-487a-a9cc-c0d245792a89",
        "colab": {
          "base_uri": "https://localhost:8080/",
          "height": 289
        }
      },
      "source": [
        "# Exibindo base de resultado\n",
        "dfr_3.select(['nome', 'nome_b', 'mae', 'mae_b', 'data_nasc', 'data_nasc_b', 'tipo_sanguineo', 'tipo_sanguineo_b', 'cpf', 'cpf_b', 'similaridade']).show(10)"
      ],
      "execution_count": 57,
      "outputs": [
        {
          "output_type": "stream",
          "text": [
            "+--------------------+--------------------+---------------+--------------------+----------+-----------+--------------+----------------+--------------+--------------+-------------------+\n",
            "|                nome|              nome_b|            mae|               mae_b| data_nasc|data_nasc_b|tipo_sanguineo|tipo_sanguineo_b|           cpf|         cpf_b|       similaridade|\n",
            "+--------------------+--------------------+---------------+--------------------+----------+-----------+--------------+----------------+--------------+--------------+-------------------+\n",
            "|Vicente Oliver Mo...|Felipe Bruno dos ...|Louise Beatriz |Isabelle Marcia A...|10/09/1948| 22/11/1965|           AB-|             AB-|097.627.958-49|506.865.202-46|  0.644043416326025|\n",
            "|Vicente Oliver Mo...|Marcio Heitor Sil...|Louise Beatriz |       Alana Isadora|10/09/1948| 01/01/1980|           AB-|             AB-|097.627.958-49|325.828.867-42| 0.7075705695270912|\n",
            "|Vicente Oliver Mo...|Theo Mario Victor...|Louise Beatriz |  Caroline Gabriela |10/09/1948| 23/09/1961|           AB-|              A-|097.627.958-49|284.536.218-88| 0.5954917626656757|\n",
            "|Vicente Oliver Mo...|Pietro Henrique d...|Louise Beatriz |       Tereza Bruna |10/09/1948| 11/05/1981|           AB-|             AB-|097.627.958-49|390.375.925-20| 0.7194076153315284|\n",
            "|Vicente Oliver Mo...|Kaique Thiago de ...|Louise Beatriz |      Alice Leticia |10/09/1948| 14/12/1941|           AB-|              A-|097.627.958-49|756.005.387-40|  0.592750486228747|\n",
            "|Vicente Oliver Mo...|Gabriel Erick Oli...|Louise Beatriz |Elena Agatha Tere...|10/09/1948| 16/02/1999|           AB-|              O+|097.627.958-49|551.341.139-39|0.44021071856216787|\n",
            "|Vicente Oliver Mo...|Luan Caue Anthony...|Louise Beatriz |Vanessa Camila Ni...|10/09/1948| 11/03/1982|           AB-|                |097.627.958-49|756.048.583-90| 0.4087787816048686|\n",
            "|Vicente Oliver Mo...|        Enzo D Rocha|Louise Beatriz |Isabelle Maite Rosa |10/09/1948| 13/01/1978|           AB-|                |097.627.958-49|386.351.591-95| 0.4193064182194617|\n",
            "|Vicente Oliver Mo...|Cesar Matheus Cau...|Louise Beatriz |      Sophie Bianca |10/09/1948| 27/01/2001|           AB-|                |097.627.958-49|885.264.747-31| 0.4483393719806763|\n",
            "|Vicente Oliver Mo...|   Caua Isaac Castro|Louise Beatriz |Giovana Antonella...|10/09/1948| 01/01/1980|           AB-|                |097.627.958-49|489.611.821-96|  0.427682234172004|\n",
            "+--------------------+--------------------+---------------+--------------------+----------+-----------+--------------+----------------+--------------+--------------+-------------------+\n",
            "only showing top 10 rows\n",
            "\n"
          ],
          "name": "stdout"
        }
      ]
    },
    {
      "cell_type": "code",
      "metadata": {
        "colab_type": "code",
        "id": "wRd_hzFAVImn",
        "colab": {}
      },
      "source": [
        "# Deduplicando a base (eliminando linhas duplicadas, ficando somente com a de maior similaridade)\n",
        "dfc_3 = dfr_3.orderBy(['similaridade'], ascending=False).dropDuplicates(['id_b']).orderBy(['id_b']).select(['id', 'id_b', 'nome','nome_b', 'mae', 'mae_b', 'cpf','cpf_b', 'similaridade'])\n"
      ],
      "execution_count": 0,
      "outputs": []
    },
    {
      "cell_type": "code",
      "metadata": {
        "colab_type": "code",
        "id": "35wGfpDkVImp",
        "colab": {}
      },
      "source": [
        "# Criação de coluna de comparação de CPFs\n",
        "dfc_3 = dfc_3.withColumn('CPFs_Iguais',F.col('cpf') == F.col('cpf_b'))"
      ],
      "execution_count": 0,
      "outputs": []
    },
    {
      "cell_type": "code",
      "metadata": {
        "colab_type": "code",
        "outputId": "2221c06e-26d8-49d3-910a-85f8a4cef7ec",
        "id": "Xtip4-_x1hFl",
        "colab": {
          "base_uri": "https://localhost:8080/",
          "height": 187
        }
      },
      "source": [
        "dfc_3.describe('similaridade').show()"
      ],
      "execution_count": 60,
      "outputs": [
        {
          "output_type": "stream",
          "text": [
            "+-------+-------------------+\n",
            "|summary|       similaridade|\n",
            "+-------+-------------------+\n",
            "|  count|                143|\n",
            "|   mean| 0.9118457754736309|\n",
            "| stddev|0.10153252972550626|\n",
            "|    min| 0.7166666666666667|\n",
            "|    max|                1.0|\n",
            "+-------+-------------------+\n",
            "\n"
          ],
          "name": "stdout"
        }
      ]
    },
    {
      "cell_type": "code",
      "metadata": {
        "colab_type": "code",
        "id": "1PN9uGzeVImr",
        "outputId": "99a96aa4-123f-45d0-9b07-bb6d76dcee58",
        "colab": {
          "base_uri": "https://localhost:8080/",
          "height": 34
        }
      },
      "source": [
        "dfc_3.count()"
      ],
      "execution_count": 61,
      "outputs": [
        {
          "output_type": "execute_result",
          "data": {
            "text/plain": [
              "143"
            ]
          },
          "metadata": {
            "tags": []
          },
          "execution_count": 61
        }
      ]
    },
    {
      "cell_type": "code",
      "metadata": {
        "colab_type": "code",
        "outputId": "8277e962-e8fa-4d2a-ca5e-3a2de2c5af47",
        "id": "UqWbdhe-1hFp",
        "colab": {
          "base_uri": "https://localhost:8080/",
          "height": 34
        }
      },
      "source": [
        "dfc_3.filter(dfc_3['similaridade'] >= '0.9').count()"
      ],
      "execution_count": 62,
      "outputs": [
        {
          "output_type": "execute_result",
          "data": {
            "text/plain": [
              "88"
            ]
          },
          "metadata": {
            "tags": []
          },
          "execution_count": 62
        }
      ]
    },
    {
      "cell_type": "code",
      "metadata": {
        "colab_type": "code",
        "id": "SJQ04F5sVIms",
        "outputId": "770ea48b-e944-494d-f90e-4920e93538c9",
        "colab": {
          "base_uri": "https://localhost:8080/",
          "height": 1598
        }
      },
      "source": [
        "# Exibindo os resultados com similariade maior do que 0.9\n",
        "dfc_3.filter(dfc_3['similaridade'] >= '0.9').orderBy(['similaridade'], ascending=False).show(150)"
      ],
      "execution_count": 63,
      "outputs": [
        {
          "output_type": "stream",
          "text": [
            "+---+----+--------------------+--------------------+--------------------+--------------------+--------------+--------------+------------------+-----------+\n",
            "| id|id_b|                nome|              nome_b|                 mae|               mae_b|           cpf|         cpf_b|      similaridade|CPFs_Iguais|\n",
            "+---+----+--------------------+--------------------+--------------------+--------------------+--------------+--------------+------------------+-----------+\n",
            "|512|  29|Calebe Osvaldo Ba...|Calebe Osvaldo Ba...|Stella Raimunda S...|Stella Raimunda S...|797.175.014-59|797.175.014-59|               1.0|       true|\n",
            "| 63|  51|Alexandre Bruno M...|Alexandre Bruno M...|   Isabelly Kamilly |   Isabelly Kamilly |869.696.945-69|869.696.945-69|               1.0|       true|\n",
            "|460|  71|Augusto Bruno da ...|Augusto Bruno da ...|        Aurora Luna |        Aurora Luna |302.706.239-57|302.706.239-57|               1.0|       true|\n",
            "| 28|  15|Leandro Cesar Jor...|Leandro Cesar Jor...|Jessica Jaqueline...|Jessica Jaqueline...|181.410.022-95|181.410.022-95|               1.0|       true|\n",
            "|526|  43|Sebastiao Anderso...|Sebastiao Anderso...|    Andreia Mariane |    Andreia Mariane |939.097.065-25|939.097.065-25|               1.0|       true|\n",
            "| 31|  18|Nicolas Edson Araujo|Nicolas Edson Araujo|     Gabriela Sueli |     Gabriela Sueli |557.744.519-17|557.744.519-17|               1.0|       true|\n",
            "| 14|  01|Felipe Bruno dos ...|Felipe Bruno dos ...|Isabelle Marcia A...|Isabelle Marcia A...|506.865.202-46|506.865.202-46|               1.0|       true|\n",
            "| 41|  28|   Breno Bruno Pinto|   Breno Bruno Pinto|     Jessica Tereza |     Jessica Tereza |735.197.681-35|735.197.681-35|               1.0|       true|\n",
            "| 40|  27|Theo Sebastiao da...|Theo Sebastiao da...|Isadora Lucia Joana |Isadora Lucia Joana |536.503.166-09|536.503.166-09|               1.0|       true|\n",
            "| 73|  61|Erick Bryan Julio...|Erick Bryan Julio...|   Regina Alice Ana |   Regina Alice Ana |248.115.138-00|248.115.138-00|               1.0|       true|\n",
            "|462|  73|Elias Pedro Geral...|Elias Pedro Geral...| Isis Isabel Elaine | Isis Isabel Elaine |095.450.063-66|095.450.063-66|               1.0|       true|\n",
            "| 39|  26|Jose Caua Vicente...|Jose Caua Vicente...|      Luzia Luciana |      Luzia Luciana |295.718.231-98|295.718.231-98|               1.0|       true|\n",
            "|478|  89|Rafael Noah Diego...|Rafael Noah Diego...|  Emanuelly Hadassa |  Emanuelly Hadassa |823.589.295-22|823.589.295-22|               1.0|       true|\n",
            "| 18|  05|Kaique Thiago de ...|Kaique Thiago de ...|      Alice Leticia |      Alice Leticia |756.005.387-40|756.005.387-40|               1.0|       true|\n",
            "|487|  98|  Hugo Thales Aragao|  Hugo Thales Aragao| Alicia Livia Sonia | Alicia Livia Sonia |143.975.020-30|143.975.020-30|               1.0|       true|\n",
            "|513|  30|Miguel Francisco ...|Miguel Francisco ...|    Fernanda Mariah |    Fernanda Mariah |618.880.659-31|618.880.659-31|               1.0|       true|\n",
            "|530|  47|Marcos Nicolas Ba...|Marcos Nicolas Ba...|     Flavia Leticia |     Flavia Leticia |213.005.833-71|213.005.833-71|               1.0|       true|\n",
            "|457|  68|Severino Ruan Cal...|Severino Ruan Cal...|   Juliana Jennifer |   Juliana Jennifer |390.371.546-89|390.371.546-89|               1.0|       true|\n",
            "|488|  99|Sergio Sebastiao ...|Sergio Sebastiao ...|    Fernanda Eliane |    Fernanda Eliane |546.506.467-66|546.506.467-66|               1.0|       true|\n",
            "|525|  42|   Kaue Cesar Moraes|   Kaue Cesar Moraes|Tatiane Daiane Sara |Tatiane Daiane Sara |318.470.004-60|318.470.004-60|               1.0|       true|\n",
            "|514|  31|Iago Sergio da Co...|Iago Sergio da Co...|      Sara Benedita |      Sara Benedita |792.235.438-00|792.235.438-00|               1.0|       true|\n",
            "| 16|  03|Theo Mario Victor...|Theo Mario Victor...|  Caroline Gabriela |  Caroline Gabriela |284.536.218-88|284.536.218-88|               1.0|       true|\n",
            "|521|  38|Paulo Joaquim Araujo|Paulo Joaquim Araujo|       Agatha Maite |       Agatha Maite |985.904.206-39|985.904.206-39|               1.0|       true|\n",
            "|523|  40|  Cesar Noah Martins|  Cesar Noah Martins|Sebastiana Lucia ...|Sebastiana Lucia ...|488.380.897-10|488.380.897-10|               1.0|       true|\n",
            "| 38|  25|Fernando Cesar Fi...|Fernando Cesar Fi...|Bruna Esther Evelyn |Bruna Esther Evelyn |249.678.124-57|249.678.124-57|               1.0|       true|\n",
            "|527|  44|Ryan Benicio Cort...|Ryan Benicio Cort...|Alice Marcia Flavia |Alice Marcia Flavia |998.958.182-70|998.958.182-70|               1.0|       true|\n",
            "|471|  82|Fabio Elias Teixeira|Fabio Elias Teixeira|   Alicia Gabrielly |   Alicia Gabrielly |697.171.589-67|697.171.589-67|               1.0|       true|\n",
            "|459|  70|Davi Nelson Caldeira|Davi Nelson Caldeira|      Marina Fatima |      Marina Fatima |227.774.367-46|227.774.367-46|               1.0|       true|\n",
            "|481|  92|  Oliver Caue da Paz|  Oliver Caue da Paz|      Betina Agatha |      Betina Agatha |802.801.516-67|802.801.516-67|               1.0|       true|\n",
            "|464|  75|Marcio Otavio Kev...|Marcio Otavio Kev...|      Regina Marcia |      Regina Marcia |724.394.945-26|724.394.945-26|               1.0|       true|\n",
            "|475|  86| Benicio Julio Alves| Benicio Julio Alves|      Debora Josefa |      Debora Josefa |378.472.304-70|378.472.304-70|               1.0|       true|\n",
            "|470|  81|Manoel Julio Edua...|Manoel Julio Edua...|Francisca Aurora ...|Francisca Aurora ...|420.868.827-00|420.868.827-00|               1.0|       true|\n",
            "|516|  33|Bruno Ruan Luan C...|Bruno Ruan Luan C...|Andrea Giovanna E...|Andrea Giovanna E...|155.699.916-03|155.699.916-03|               1.0|       true|\n",
            "|531|  48|Gustavo Levi Mano...|Gustavo Levi Mano...|Joana Cristiane S...|Joana Cristiane S...|758.219.979-09|758.219.979-09|               1.0|       true|\n",
            "| 30|  17|Guilherme Rafael ...|Guilherme Rafael ...|Leticia Isabelly ...|Leticia Isabelly ...|134.836.403-39|134.836.403-39|               1.0|       true|\n",
            "|486|  97|Filipe Matheus da...|Filipe Matheus da...|Patricia Stefany ...|Patricia Stefany ...|249.429.666-80|249.429.666-80|               1.0|       true|\n",
            "| 79|  67|Edson Sebastiao N...|Edson Sebastiao N...|Raquel Luiza Aurora |Raquel Luiza Aurora |846.921.875-14|846.921.875-14|               1.0|       true|\n",
            "|473|  84|Kevin Mario Gabri...|Kevin Mario Gabri...|       Luciana Vera |       Luciana Vera |778.488.037-59|778.488.037-59|               1.0|       true|\n",
            "|529|  46|  Martin Caio Galvao|  Martin Caio Galvao|Isis Raimunda And...|Isis Raimunda And...|066.796.721-47|066.796.721-47|               1.0|       true|\n",
            "| 29|  16|Caio Julio Kaue Lima|Caio Julio Kaue Lima|Lara Sabrina Giov...|Lara Sabrina Giov...|843.458.724-64|843.458.724-64|               1.0|       true|\n",
            "|474|  85|Renan Bernardo da...|Renan Bernardo da...|Mariana Laura Isa...|Mariana Laura Isa...|725.521.191-74|725.521.191-74|               1.0|       true|\n",
            "|458|  69|Anderson Gustavo ...|Anderson Gustavo ...|Vitoria Catarina ...|Vitoria Catarina ...|081.783.955-09|081.783.955-09|               1.0|       true|\n",
            "| 76|  64|Marcelo Benedito ...|Marcelo Benedito ...|Pietra Sebastiana...|Pietra Sebastiana...|571.307.021-25|571.307.021-25|               1.0|       true|\n",
            "| 33|  20|Rodrigo Erick Rob...|Rodrigo Erick Rob...|   Nicole Aparecida |   Nicole Aparecida |806.443.633-80|806.443.633-80|               1.0|       true|\n",
            "|519|  36|Bernardo Antonio ...|Bernardo Antonio ...|      Alice Stefany |      Alice Stefany |180.830.510-80|180.830.510-80|               1.0|       true|\n",
            "|520|  37|Theo Mario Raul S...|Theo Mario Raul S...|    Luzia Ana Maite |    Luzia Ana Maite |473.096.540-05|473.096.540-05|               1.0|       true|\n",
            "|532|  49|Gabriel Geraldo L...|Gabriel Geraldo L...|Sonia Stefany Pat...|Sonia Stefany Pat...|858.666.733-12|858.666.733-12|               1.0|       true|\n",
            "| 77|  65|Pietro Diego Carl...|Pietro Diego Carl...|     Elza Gabrielly |     Elza Gabrielly |506.359.495-63|506.359.495-63|               1.0|       true|\n",
            "| 75|  63|Roberto Daniel Ga...|Roberto Daniel Ga...|   Juliana Isabelly |   Juliana Isabelly |885.720.350-60|885.720.350-60|               1.0|       true|\n",
            "| 74|  62|Bento Kaue Gael d...|Bento Kaue Gael d...|Rosa Rafaela Fabi...|Rosa Rafaela Fabi...|514.481.204-03|514.481.204-03|               1.0|       true|\n",
            "| 72|  60|Otavio Bernardo d...|Otavio Bernardo d...| Catarina Cristiane | Catarina Cristiane |895.160.103-00|895.160.103-00|               1.0|       true|\n",
            "| 25|  12|Danilo Severino d...|Danilo Severino d...|     Rita Ayla Sara |     Rita Ayla Sara |492.264.809-74|492.264.809-74|               1.0|       true|\n",
            "|472|  83|Fernando Leandro ...|Fernando Leandro ...|Allana Beatriz Ja...|Allana Beatriz Ja...|429.056.400-30|429.056.400-30|               1.0|       true|\n",
            "|479|  90|Lorenzo Otavio Gomes|Lorenzo Otavio Gomes|       Agatha Marli |       Agatha Marli |558.220.658-21|558.220.658-21|               1.0|       true|\n",
            "| 26|  13|   Samuel Noah Lopes|   Samuel Noah Lopes|       Louise Joana |       Louise Joana |816.876.443-90|816.876.443-90|               1.0|       true|\n",
            "| 27|  14|Juan Raimundo Osv...|Juan Raimundo Osv...|      Heloisa Luzia |      Heloisa Luzia |327.630.596-86|327.630.596-86|               1.0|       true|\n",
            "| 78|  66|Erick Elias Ryan ...|Erick Elias Ryan ...|Raimunda Vitoria ...|Raimunda Vitoria ...|821.284.216-91|821.284.216-91|               1.0|       true|\n",
            "|480|  91|Sebastiao Kaue da...|Sebastiao Kaue da...| Aurora Vera Sophia | Aurora Vera Sophia |408.365.694-82|408.365.694-82|               1.0|       true|\n",
            "|461|  72|Samuel Roberto Ti...|Samuel Roberto Ti...|Tatiane Maria Luc...|Tatiane Maria Luc...|715.718.151-71|715.718.151-71|               1.0|       true|\n",
            "|463|  74|Henrique Elias Viana|Henrique Elias Viana|Beatriz Antonella...|Beatriz Antonella...|048.799.101-04|048.799.101-04|               1.0|       true|\n",
            "|465|  76|Kaue Renato Ricar...|Kaue Renato Ricar...|Pietra Manuela Ma...|Pietra Manuela Ma...|584.433.850-22|584.433.850-22|               1.0|       true|\n",
            "|533|  50|Manoel Luis Felip...|Manoel Luis Felip...|       Silvana Maya |       Silvana Maya |046.391.337-07|046.391.337-07|               1.0|       true|\n",
            "|469|  80|   Tiago Luan Farias|   Tiago Luan Farias|Isabelle Renata L...|Isabelle Renata L...|877.344.909-13|877.344.909-13|               1.0|       true|\n",
            "|528|  45|Eduardo Pietro Jo...|Eduardo Pietro Jo...|      Agatha Esther |      Agatha Esther |348.748.050-60|348.748.050-60|               1.0|       true|\n",
            "| 32|  19|Cesar Nelson Dani...|Cesar Nelson Dani...|  Rita Rafaela Lara |  Rita Rafaela Lara |254.321.926-91|254.321.926-91|0.9980769230769231|       true|\n",
            "| 65|  53|Raimundo Tomas da...|Raimundo Tomas da...|       Ayla Claudia |        Ayla Claudia|145.891.596-43|145.891.596-43|0.9961538461538462|       true|\n",
            "|477|  88|Filipe Otavio Noa...|Filipe Otavio Noa...|Natalia Sophia Ka...|Natalia Sophia Ka...|475.612.908-02|475.612.908-02|0.9961538461538462|       true|\n",
            "|522|  39|Pietro Rafael Nas...|Pietro Rafael Nas...|Gabrielly Malu Va...|Gabrielly Malu Va...|517.088.375-74|517.088.375-74|0.9958333333333333|       true|\n",
            "|468|  79|  Iago Davi da Cunha| Iago David da Cunha|Natalia Andreia E...|Natalia Andreia E...|606.841.002-15|606.841.002-15|0.9945906432748538|       true|\n",
            "| 69|  57|Levi Heitor da Costa|Levi Heitor da Costa|Luna Sonia Sebast...|Lunna Sonia Sebas...|055.302.287-39|055.302.287-39|0.9921607378129117|       true|\n",
            "| 64|  52|Heitor Enzo Arthu...|Heitor Enzo Arthu...|          Rita Maya |            Rita Maa|872.870.813-00|872.870.813-00|              0.99|       true|\n",
            "|466|  77| Kaique Pietro Rocha| Kaique Pietro Rocha|          Sara Rosa |           Sara Roza|948.013.865-47|948.013.865-47|0.9844444444444445|       true|\n",
            "| 17|  04|Pietro Henry de P...|Pietro Henrique d...|       Tereza Bruna |       Tereza Bruna |390.375.925-20|390.375.925-20|0.9817857142857143|       true|\n",
            "|476|  87|Benedito Kaique S...|Benedito Kaique S...|Nicole Marcia Cla...|Nicoli Marcia Cla...|625.938.432-76|625.938.432-76|0.9811688311688311|       true|\n",
            "|467|  78|Gael Joaquim Fern...|        Gael Joaquim|Carla Emily Catar...|Carla Emily Catar...|588.760.331-30|588.760.331-30|0.9772727272727273|       true|\n",
            "|524|  41|  Tomas Arthur Rocha| Thomas Arthur Rocha|    Eloa Maria Rita |    Eloa Maria Rita |169.848.860-23|169.848.860-23|0.9627192982456141|       true|\n",
            "| 19|  06|Gabriel Erick Oli...|Gabriel Erick Oli...|Helena Agatha Ter...|Elena Agatha Tere...|551.341.139-39|551.341.139-39|0.9591293368467282|       true|\n",
            "|515|  32|Calebe Augusto Ia...|Calebe Augusto Ia...|       Debora Sarah |       Debora Sarah |288.360.031-76|288.360.031-76|0.9444444444444444|       true|\n",
            "| 92| 104|Pedro Henrique Di...|Pedro Henrique Di...|   Carolina Vitoria |   Carolina Vitoria |510.498.890-29|423.398.060-54|0.9380952380952381|      false|\n",
            "|104| 116| Eduardo Nelson Melo| Eduardo Nelson Melo|     Cecilia Sophie |     Cecilia Sophie |895.258.369-83|466.803.635-86|0.9261904761904762|      false|\n",
            "|485|  96|Roberto Giovanni ...|Roberto Giovanni ...|    Adriana Kamilly |    Adriana Kamilly |830.124.590-57|830.124.590-57|0.9261904761904762|       true|\n",
            "| 70|  58|Lorenzo Lucca Cau...|                    |Sophia Bruna Manu...|Sophia Bruna Manu...|880.960.378-89|880.960.378-89|0.9197530864197531|       true|\n",
            "| 71|  59|Yuri Gael Osvaldo...|                    |Pietra Tatiane Ra...|Pietra Tatiane Ra...|071.707.642-37|071.707.642-37|0.9197530864197531|       true|\n",
            "| 37|  24|Jose Ian da Conce...|Jose Ian da Conce...|Isabelly Maria La...|Isabelly Maria La...|657.324.647-00|657.324.647-00|0.9166666666666666|       true|\n",
            "|482|  93|Henrique Miguel R...|Henrique Miguel R...|  Alana Lais Josefa |  Alana Lais Josefa |661.445.243-63|661.445.243-63|0.9055555555555556|       true|\n",
            "|517|  34|    Enzo Diogo Pinto|    Enzo Diogo Pinto|  Malu Sophia Marli |  Malu Sophia Marli |735.339.007-70|735.339.007-70|0.9027777777777778|       true|\n",
            "| 36|  23|Caleb Augusto Igo...|Caleb Augusto Igo...|Benedita Nair Tat...|Benedita Nair Tat...|949.278.899-39|949.278.899-39|0.9027777777777778|       true|\n",
            "|484|  95|Lucca Miguel Diog...|Lucca Miguel Diog...|Rafaela Analu Lav...|  Rafaela A Lavinia |779.234.407-00|779.234.407-00| 0.902020202020202|       true|\n",
            "+---+----+--------------------+--------------------+--------------------+--------------------+--------------+--------------+------------------+-----------+\n",
            "\n"
          ],
          "name": "stdout"
        }
      ]
    },
    {
      "cell_type": "markdown",
      "metadata": {
        "colab_type": "text",
        "id": "Gg-hVnPua9K-"
      },
      "source": [
        "## 4 - Comparação Fonética por Outros Campos com Jaro Winkler"
      ]
    },
    {
      "cell_type": "code",
      "metadata": {
        "colab_type": "code",
        "outputId": "fc098f6a-c2f9-4df5-d280-2295df7278e7",
        "id": "X4ZUlZbNa9LA",
        "colab": {
          "base_uri": "https://localhost:8080/",
          "height": 612
        }
      },
      "source": [
        "dfl.printSchema()"
      ],
      "execution_count": 64,
      "outputs": [
        {
          "output_type": "stream",
          "text": [
            "root\n",
            " |-- id: string (nullable = true)\n",
            " |-- cep: string (nullable = true)\n",
            " |-- cidade: string (nullable = true)\n",
            " |-- data_nasc: string (nullable = true)\n",
            " |-- endereco: string (nullable = true)\n",
            " |-- estado: string (nullable = true)\n",
            " |-- idade: string (nullable = true)\n",
            " |-- mae: string (nullable = true)\n",
            " |-- nome: string (nullable = true)\n",
            " |-- tipo_sanguineo: string (nullable = true)\n",
            " |-- cpf: string (nullable = true)\n",
            " |-- id_b: string (nullable = true)\n",
            " |-- cep_b: string (nullable = true)\n",
            " |-- cidade_b: string (nullable = true)\n",
            " |-- data_nasc_b: string (nullable = true)\n",
            " |-- endereco_b: string (nullable = true)\n",
            " |-- estado_b: string (nullable = true)\n",
            " |-- mae_b: string (nullable = true)\n",
            " |-- nome_b: string (nullable = true)\n",
            " |-- tipo_sanguineo_b: string (nullable = true)\n",
            " |-- cpf_b: string (nullable = true)\n",
            " |-- primeiro_nome_a: string (nullable = true)\n",
            " |-- primeiro_nome_b: string (nullable = true)\n",
            " |-- ultimo_nome_a: string (nullable = true)\n",
            " |-- ultimo_nome_b: string (nullable = true)\n",
            " |-- primeiro_nome_fonetico_a: string (nullable = true)\n",
            " |-- primeiro_nome_fonetico_b: string (nullable = true)\n",
            " |-- ultimo_nome_fonetico_a: string (nullable = true)\n",
            " |-- ultimo_nome_fonetico_b: string (nullable = true)\n",
            " |-- nome_fonetico_a: string (nullable = true)\n",
            " |-- nome_fonetico_b: string (nullable = true)\n",
            " |-- nome_fonetico_mae_a: string (nullable = true)\n",
            " |-- nome_fonetico_mae_b: string (nullable = true)\n",
            "\n"
          ],
          "name": "stdout"
        }
      ]
    },
    {
      "cell_type": "code",
      "metadata": {
        "colab_type": "code",
        "id": "9MXWe8-5a9LE",
        "colab": {}
      },
      "source": [
        "# Criação da Função de Similaridade\n",
        "def compare_4(nome_fonetico_a, nome_fonetico_mae_a, data_nasc, tipo_sanguineo, nome_fonetico_b, nome_fonetico_mae_b, data_nasc_b, tipo_sanguineo_b):\n",
        "  sim = 0\n",
        "  \n",
        "  #comparando atributos nominais\n",
        "  sim = jellyfish.jaro_winkler(nome_fonetico_a, nome_fonetico_b)\n",
        "  sim += jellyfish.jaro_winkler(nome_fonetico_mae_a, nome_fonetico_mae_b)\n",
        "  sim += jellyfish.jaro_winkler(data_nasc, data_nasc_b)\n",
        "  sim += jellyfish.jaro_winkler(tipo_sanguineo, tipo_sanguineo_b)\n",
        "  \n",
        "  #Media aritmética simples\n",
        "  sim = abs(float(sim/4))\n",
        "  \n",
        "  return sim\n",
        "\n",
        "udf_compare_4 = F.udf(compare_4, StringType())   "
      ],
      "execution_count": 0,
      "outputs": []
    },
    {
      "cell_type": "code",
      "metadata": {
        "colab_type": "code",
        "id": "rEJaIe3ta9LG",
        "colab": {}
      },
      "source": [
        "dfr_4 = dfl.withColumn('similaridade', \n",
        "                     udf_compare_4 (F.col('nome_fonetico_a'),\n",
        "                                    F.col('nome_fonetico_mae_a'),\n",
        "                                    F.col('data_nasc'),\n",
        "                                    F.col('tipo_sanguineo'),\n",
        "                                    F.col('nome_fonetico_b'),\n",
        "                                    F.col('nome_fonetico_mae_b'),\n",
        "                                    F.col('data_nasc_b'),\n",
        "                                    F.col('tipo_sanguineo_b')))"
      ],
      "execution_count": 0,
      "outputs": []
    },
    {
      "cell_type": "code",
      "metadata": {
        "colab_type": "code",
        "outputId": "d13f1b95-b783-48b0-9ac6-d2730be0bb5c",
        "id": "bKP7z5Raa9LI",
        "colab": {
          "base_uri": "https://localhost:8080/",
          "height": 289
        }
      },
      "source": [
        "# Exibindo base de resultado\n",
        "dfr_4.select(['nome', 'nome_b', 'mae', 'mae_b', 'data_nasc', 'data_nasc_b', 'tipo_sanguineo', 'tipo_sanguineo_b', 'cpf', 'cpf_b', 'similaridade']).show(10)"
      ],
      "execution_count": 67,
      "outputs": [
        {
          "output_type": "stream",
          "text": [
            "+--------------------+--------------------+---------------+--------------------+----------+-----------+--------------+----------------+--------------+--------------+-------------------+\n",
            "|                nome|              nome_b|            mae|               mae_b| data_nasc|data_nasc_b|tipo_sanguineo|tipo_sanguineo_b|           cpf|         cpf_b|       similaridade|\n",
            "+--------------------+--------------------+---------------+--------------------+----------+-----------+--------------+----------------+--------------+--------------+-------------------+\n",
            "|Vicente Oliver Mo...|Felipe Bruno dos ...|Louise Beatriz |Isabelle Marcia A...|10/09/1948| 22/11/1965|           AB-|             AB-|097.627.958-49|506.865.202-46| 0.6938492063492063|\n",
            "|Vicente Oliver Mo...|Marcio Heitor Sil...|Louise Beatriz |       Alana Isadora|10/09/1948| 01/01/1980|           AB-|             AB-|097.627.958-49|325.828.867-42| 0.7719246031746031|\n",
            "|Vicente Oliver Mo...|Theo Mario Victor...|Louise Beatriz |  Caroline Gabriela |10/09/1948| 23/09/1961|           AB-|              A-|097.627.958-49|284.536.218-88| 0.5929563492063492|\n",
            "|Vicente Oliver Mo...|Pietro Henrique d...|Louise Beatriz |       Tereza Bruna |10/09/1948| 11/05/1981|           AB-|             AB-|097.627.958-49|390.375.925-20| 0.7478479853479854|\n",
            "|Vicente Oliver Mo...|Kaique Thiago de ...|Louise Beatriz |      Alice Leticia |10/09/1948| 14/12/1941|           AB-|              A-|097.627.958-49|756.005.387-40| 0.6293650793650793|\n",
            "|Vicente Oliver Mo...|Gabriel Erick Oli...|Louise Beatriz |Elena Agatha Tere...|10/09/1948| 16/02/1999|           AB-|              O+|097.627.958-49|551.341.139-39| 0.4562830687830688|\n",
            "|Vicente Oliver Mo...|Luan Caue Anthony...|Louise Beatriz |Vanessa Camila Ni...|10/09/1948| 11/03/1982|           AB-|                |097.627.958-49|756.048.583-90| 0.4425595238095238|\n",
            "|Vicente Oliver Mo...|        Enzo D Rocha|Louise Beatriz |Isabelle Maite Rosa |10/09/1948| 13/01/1978|           AB-|                |097.627.958-49|386.351.591-95| 0.5120941558441559|\n",
            "|Vicente Oliver Mo...|Cesar Matheus Cau...|Louise Beatriz |      Sophie Bianca |10/09/1948| 27/01/2001|           AB-|                |097.627.958-49|885.264.747-31| 0.4563492063492063|\n",
            "|Vicente Oliver Mo...|   Caua Isaac Castro|Louise Beatriz |Giovana Antonella...|10/09/1948| 01/01/1980|           AB-|                |097.627.958-49|489.611.821-96|0.46577380952380953|\n",
            "+--------------------+--------------------+---------------+--------------------+----------+-----------+--------------+----------------+--------------+--------------+-------------------+\n",
            "only showing top 10 rows\n",
            "\n"
          ],
          "name": "stdout"
        }
      ]
    },
    {
      "cell_type": "code",
      "metadata": {
        "colab_type": "code",
        "id": "PLE82Moja9LL",
        "colab": {}
      },
      "source": [
        "# Deduplicando a base (eliminando linhas duplicadas, ficando somente com a de maior similaridade)\n",
        "dfc_4 = dfr_4.orderBy(['similaridade'], ascending=False).dropDuplicates(['id_b']).orderBy(['id_b']).select(['id', 'id_b', 'nome', 'nome_b', 'mae', 'mae_b', 'cpf','cpf_b', 'similaridade'])\n"
      ],
      "execution_count": 0,
      "outputs": []
    },
    {
      "cell_type": "code",
      "metadata": {
        "colab_type": "code",
        "id": "PLkXSXAOa9LO",
        "colab": {}
      },
      "source": [
        "# Criação de coluna de comparação de CPFs\n",
        "dfc_4 = dfc_4.withColumn('CPFs_Iguais',F.col('cpf') == F.col('cpf_b'))"
      ],
      "execution_count": 0,
      "outputs": []
    },
    {
      "cell_type": "code",
      "metadata": {
        "id": "H50iJ4BQgcbK",
        "colab_type": "code",
        "outputId": "571c6c56-0cfb-4c3c-f4e7-05cf3467d12d",
        "colab": {
          "base_uri": "https://localhost:8080/",
          "height": 221
        }
      },
      "source": [
        "dfc_4.printSchema()"
      ],
      "execution_count": 70,
      "outputs": [
        {
          "output_type": "stream",
          "text": [
            "root\n",
            " |-- id: string (nullable = true)\n",
            " |-- id_b: string (nullable = true)\n",
            " |-- nome: string (nullable = true)\n",
            " |-- nome_b: string (nullable = true)\n",
            " |-- mae: string (nullable = true)\n",
            " |-- mae_b: string (nullable = true)\n",
            " |-- cpf: string (nullable = true)\n",
            " |-- cpf_b: string (nullable = true)\n",
            " |-- similaridade: string (nullable = true)\n",
            " |-- CPFs_Iguais: boolean (nullable = true)\n",
            "\n"
          ],
          "name": "stdout"
        }
      ]
    },
    {
      "cell_type": "code",
      "metadata": {
        "id": "9zNxo9JLiGAF",
        "colab_type": "code",
        "colab": {}
      },
      "source": [
        "#dfc_4 = dfc_4.withColumn(\"similaridade\", dfc_4[\"similaridade\"].cast(DoubleType()).alias(\"similaridade\"))"
      ],
      "execution_count": 0,
      "outputs": []
    },
    {
      "cell_type": "code",
      "metadata": {
        "id": "KTOkknQOvJP3",
        "colab_type": "code",
        "outputId": "68c9b9f9-4346-4a3c-c00f-0f0bbd4e07e6",
        "colab": {
          "base_uri": "https://localhost:8080/",
          "height": 187
        }
      },
      "source": [
        "dfc_4.describe('similaridade').show()"
      ],
      "execution_count": 72,
      "outputs": [
        {
          "output_type": "stream",
          "text": [
            "+-------+-------------------+\n",
            "|summary|       similaridade|\n",
            "+-------+-------------------+\n",
            "|  count|                143|\n",
            "|   mean| 0.9160287712357603|\n",
            "| stddev|0.09672434172823503|\n",
            "|    min| 0.7166666666666667|\n",
            "|    max|                1.0|\n",
            "+-------+-------------------+\n",
            "\n"
          ],
          "name": "stdout"
        }
      ]
    },
    {
      "cell_type": "code",
      "metadata": {
        "colab_type": "code",
        "outputId": "9de9d919-879b-407c-8637-29bafc20e4e6",
        "id": "yRoo5Gt-a9LR",
        "colab": {
          "base_uri": "https://localhost:8080/",
          "height": 34
        }
      },
      "source": [
        "dfc_4.count()"
      ],
      "execution_count": 73,
      "outputs": [
        {
          "output_type": "execute_result",
          "data": {
            "text/plain": [
              "143"
            ]
          },
          "metadata": {
            "tags": []
          },
          "execution_count": 73
        }
      ]
    },
    {
      "cell_type": "code",
      "metadata": {
        "colab_type": "code",
        "outputId": "a207ba47-3ebd-4240-82b9-358a9f556a09",
        "id": "yEJhzNyHa9LW",
        "colab": {
          "base_uri": "https://localhost:8080/",
          "height": 34
        }
      },
      "source": [
        "dfc_4.filter(dfc_4['similaridade'] >= '0.9').count()"
      ],
      "execution_count": 74,
      "outputs": [
        {
          "output_type": "execute_result",
          "data": {
            "text/plain": [
              "87"
            ]
          },
          "metadata": {
            "tags": []
          },
          "execution_count": 74
        }
      ]
    },
    {
      "cell_type": "code",
      "metadata": {
        "id": "xReZDth_0EPW",
        "colab_type": "code",
        "outputId": "e646b094-ba69-4ce1-91e2-42a8f5082174",
        "colab": {
          "base_uri": "https://localhost:8080/",
          "height": 1581
        }
      },
      "source": [
        "dfc_4.filter(dfc_4['similaridade'] >= '0.9').orderBy(['similaridade'], ascending=False).show(150)"
      ],
      "execution_count": 75,
      "outputs": [
        {
          "output_type": "stream",
          "text": [
            "+---+----+--------------------+--------------------+--------------------+--------------------+--------------+--------------+------------------+-----------+\n",
            "| id|id_b|                nome|              nome_b|                 mae|               mae_b|           cpf|         cpf_b|      similaridade|CPFs_Iguais|\n",
            "+---+----+--------------------+--------------------+--------------------+--------------------+--------------+--------------+------------------+-----------+\n",
            "| 14|  01|Felipe Bruno dos ...|Felipe Bruno dos ...|Isabelle Marcia A...|Isabelle Marcia A...|506.865.202-46|506.865.202-46|               1.0|       true|\n",
            "|474|  85|Renan Bernardo da...|Renan Bernardo da...|Mariana Laura Isa...|Mariana Laura Isa...|725.521.191-74|725.521.191-74|               1.0|       true|\n",
            "|512|  29|Calebe Osvaldo Ba...|Calebe Osvaldo Ba...|Stella Raimunda S...|Stella Raimunda S...|797.175.014-59|797.175.014-59|               1.0|       true|\n",
            "|513|  30|Miguel Francisco ...|Miguel Francisco ...|    Fernanda Mariah |    Fernanda Mariah |618.880.659-31|618.880.659-31|               1.0|       true|\n",
            "| 28|  15|Leandro Cesar Jor...|Leandro Cesar Jor...|Jessica Jaqueline...|Jessica Jaqueline...|181.410.022-95|181.410.022-95|               1.0|       true|\n",
            "|514|  31|Iago Sergio da Co...|Iago Sergio da Co...|      Sara Benedita |      Sara Benedita |792.235.438-00|792.235.438-00|               1.0|       true|\n",
            "| 31|  18|Nicolas Edson Araujo|Nicolas Edson Araujo|     Gabriela Sueli |     Gabriela Sueli |557.744.519-17|557.744.519-17|               1.0|       true|\n",
            "| 41|  28|   Breno Bruno Pinto|   Breno Bruno Pinto|     Jessica Tereza |     Jessica Tereza |735.197.681-35|735.197.681-35|               1.0|       true|\n",
            "|462|  73|Elias Pedro Geral...|Elias Pedro Geral...| Isis Isabel Elaine | Isis Isabel Elaine |095.450.063-66|095.450.063-66|               1.0|       true|\n",
            "| 73|  61|Erick Bryan Julio...|Erick Bryan Julio...|   Regina Alice Ana |   Regina Alice Ana |248.115.138-00|248.115.138-00|               1.0|       true|\n",
            "|464|  75|Marcio Otavio Kev...|Marcio Otavio Kev...|      Regina Marcia |      Regina Marcia |724.394.945-26|724.394.945-26|               1.0|       true|\n",
            "|476|  87|Benedito Kaique S...|Benedito Kaique S...|Nicole Marcia Cla...|Nicoli Marcia Cla...|625.938.432-76|625.938.432-76|               1.0|       true|\n",
            "| 39|  26|Jose Caua Vicente...|Jose Caua Vicente...|      Luzia Luciana |      Luzia Luciana |295.718.231-98|295.718.231-98|               1.0|       true|\n",
            "|525|  42|   Kaue Cesar Moraes|   Kaue Cesar Moraes|Tatiane Daiane Sara |Tatiane Daiane Sara |318.470.004-60|318.470.004-60|               1.0|       true|\n",
            "| 76|  64|Marcelo Benedito ...|Marcelo Benedito ...|Pietra Sebastiana...|Pietra Sebastiana...|571.307.021-25|571.307.021-25|               1.0|       true|\n",
            "|478|  89|Rafael Noah Diego...|Rafael Noah Diego...|  Emanuelly Hadassa |  Emanuelly Hadassa |823.589.295-22|823.589.295-22|               1.0|       true|\n",
            "| 18|  05|Kaique Thiago de ...|Kaique Thiago de ...|      Alice Leticia |      Alice Leticia |756.005.387-40|756.005.387-40|               1.0|       true|\n",
            "|487|  98|  Hugo Thales Aragao|  Hugo Thales Aragao| Alicia Livia Sonia | Alicia Livia Sonia |143.975.020-30|143.975.020-30|               1.0|       true|\n",
            "|530|  47|Marcos Nicolas Ba...|Marcos Nicolas Ba...|     Flavia Leticia |     Flavia Leticia |213.005.833-71|213.005.833-71|               1.0|       true|\n",
            "|479|  90|Lorenzo Otavio Gomes|Lorenzo Otavio Gomes|       Agatha Marli |       Agatha Marli |558.220.658-21|558.220.658-21|               1.0|       true|\n",
            "|488|  99|Sergio Sebastiao ...|Sergio Sebastiao ...|    Fernanda Eliane |    Fernanda Eliane |546.506.467-66|546.506.467-66|               1.0|       true|\n",
            "| 32|  19|Cesar Nelson Dani...|Cesar Nelson Dani...|  Rita Rafaela Lara |  Rita Rafaela Lara |254.321.926-91|254.321.926-91|               1.0|       true|\n",
            "|458|  69|Anderson Gustavo ...|Anderson Gustavo ...|Vitoria Catarina ...|Vitoria Catarina ...|081.783.955-09|081.783.955-09|               1.0|       true|\n",
            "| 63|  51|Alexandre Bruno M...|Alexandre Bruno M...|   Isabelly Kamilly |   Isabelly Kamilly |869.696.945-69|869.696.945-69|               1.0|       true|\n",
            "|526|  43|Sebastiao Anderso...|Sebastiao Anderso...|    Andreia Mariane |    Andreia Mariane |939.097.065-25|939.097.065-25|               1.0|       true|\n",
            "| 16|  03|Theo Mario Victor...|Theo Mario Victor...|  Caroline Gabriela |  Caroline Gabriela |284.536.218-88|284.536.218-88|               1.0|       true|\n",
            "|521|  38|Paulo Joaquim Araujo|Paulo Joaquim Araujo|       Agatha Maite |       Agatha Maite |985.904.206-39|985.904.206-39|               1.0|       true|\n",
            "|523|  40|  Cesar Noah Martins|  Cesar Noah Martins|Sebastiana Lucia ...|Sebastiana Lucia ...|488.380.897-10|488.380.897-10|               1.0|       true|\n",
            "| 38|  25|Fernando Cesar Fi...|Fernando Cesar Fi...|Bruna Esther Evelyn |Bruna Esther Evelyn |249.678.124-57|249.678.124-57|               1.0|       true|\n",
            "|459|  70|Davi Nelson Caldeira|Davi Nelson Caldeira|      Marina Fatima |      Marina Fatima |227.774.367-46|227.774.367-46|               1.0|       true|\n",
            "|471|  82|Fabio Elias Teixeira|Fabio Elias Teixeira|   Alicia Gabrielly |   Alicia Gabrielly |697.171.589-67|697.171.589-67|               1.0|       true|\n",
            "|527|  44|Ryan Benicio Cort...|Ryan Benicio Cort...|Alice Marcia Flavia |Alice Marcia Flavia |998.958.182-70|998.958.182-70|               1.0|       true|\n",
            "| 40|  27|Theo Sebastiao da...|Theo Sebastiao da...|Isadora Lucia Joana |Isadora Lucia Joana |536.503.166-09|536.503.166-09|               1.0|       true|\n",
            "|481|  92|  Oliver Caue da Paz|  Oliver Caue da Paz|      Betina Agatha |      Betina Agatha |802.801.516-67|802.801.516-67|               1.0|       true|\n",
            "|475|  86| Benicio Julio Alves| Benicio Julio Alves|      Debora Josefa |      Debora Josefa |378.472.304-70|378.472.304-70|               1.0|       true|\n",
            "|470|  81|Manoel Julio Edua...|Manoel Julio Edua...|Francisca Aurora ...|Francisca Aurora ...|420.868.827-00|420.868.827-00|               1.0|       true|\n",
            "|516|  33|Bruno Ruan Luan C...|Bruno Ruan Luan C...|Andrea Giovanna E...|Andrea Giovanna E...|155.699.916-03|155.699.916-03|               1.0|       true|\n",
            "| 30|  17|Guilherme Rafael ...|Guilherme Rafael ...|Leticia Isabelly ...|Leticia Isabelly ...|134.836.403-39|134.836.403-39|               1.0|       true|\n",
            "|531|  48|Gustavo Levi Mano...|Gustavo Levi Mano...|Joana Cristiane S...|Joana Cristiane S...|758.219.979-09|758.219.979-09|               1.0|       true|\n",
            "| 79|  67|Edson Sebastiao N...|Edson Sebastiao N...|Raquel Luiza Aurora |Raquel Luiza Aurora |846.921.875-14|846.921.875-14|               1.0|       true|\n",
            "|486|  97|Filipe Matheus da...|Filipe Matheus da...|Patricia Stefany ...|Patricia Stefany ...|249.429.666-80|249.429.666-80|               1.0|       true|\n",
            "|473|  84|Kevin Mario Gabri...|Kevin Mario Gabri...|       Luciana Vera |       Luciana Vera |778.488.037-59|778.488.037-59|               1.0|       true|\n",
            "|529|  46|  Martin Caio Galvao|  Martin Caio Galvao|Isis Raimunda And...|Isis Raimunda And...|066.796.721-47|066.796.721-47|               1.0|       true|\n",
            "| 29|  16|Caio Julio Kaue Lima|Caio Julio Kaue Lima|Lara Sabrina Giov...|Lara Sabrina Giov...|843.458.724-64|843.458.724-64|               1.0|       true|\n",
            "|460|  71|Augusto Bruno da ...|Augusto Bruno da ...|        Aurora Luna |        Aurora Luna |302.706.239-57|302.706.239-57|               1.0|       true|\n",
            "|477|  88|Filipe Otavio Noa...|Filipe Otavio Noa...|Natalia Sophia Ka...|Natalia Sophia Ka...|475.612.908-02|475.612.908-02|               1.0|       true|\n",
            "| 33|  20|Rodrigo Erick Rob...|Rodrigo Erick Rob...|   Nicole Aparecida |   Nicole Aparecida |806.443.633-80|806.443.633-80|               1.0|       true|\n",
            "|519|  36|Bernardo Antonio ...|Bernardo Antonio ...|      Alice Stefany |      Alice Stefany |180.830.510-80|180.830.510-80|               1.0|       true|\n",
            "|520|  37|Theo Mario Raul S...|Theo Mario Raul S...|    Luzia Ana Maite |    Luzia Ana Maite |473.096.540-05|473.096.540-05|               1.0|       true|\n",
            "| 75|  63|Roberto Daniel Ga...|Roberto Daniel Ga...|   Juliana Isabelly |   Juliana Isabelly |885.720.350-60|885.720.350-60|               1.0|       true|\n",
            "|532|  49|Gabriel Geraldo L...|Gabriel Geraldo L...|Sonia Stefany Pat...|Sonia Stefany Pat...|858.666.733-12|858.666.733-12|               1.0|       true|\n",
            "| 77|  65|Pietro Diego Carl...|Pietro Diego Carl...|     Elza Gabrielly |     Elza Gabrielly |506.359.495-63|506.359.495-63|               1.0|       true|\n",
            "| 72|  60|Otavio Bernardo d...|Otavio Bernardo d...| Catarina Cristiane | Catarina Cristiane |895.160.103-00|895.160.103-00|               1.0|       true|\n",
            "| 74|  62|Bento Kaue Gael d...|Bento Kaue Gael d...|Rosa Rafaela Fabi...|Rosa Rafaela Fabi...|514.481.204-03|514.481.204-03|               1.0|       true|\n",
            "| 25|  12|Danilo Severino d...|Danilo Severino d...|     Rita Ayla Sara |     Rita Ayla Sara |492.264.809-74|492.264.809-74|               1.0|       true|\n",
            "|472|  83|Fernando Leandro ...|Fernando Leandro ...|Allana Beatriz Ja...|Allana Beatriz Ja...|429.056.400-30|429.056.400-30|               1.0|       true|\n",
            "|457|  68|Severino Ruan Cal...|Severino Ruan Cal...|   Juliana Jennifer |   Juliana Jennifer |390.371.546-89|390.371.546-89|               1.0|       true|\n",
            "| 26|  13|   Samuel Noah Lopes|   Samuel Noah Lopes|       Louise Joana |       Louise Joana |816.876.443-90|816.876.443-90|               1.0|       true|\n",
            "| 78|  66|Erick Elias Ryan ...|Erick Elias Ryan ...|Raimunda Vitoria ...|Raimunda Vitoria ...|821.284.216-91|821.284.216-91|               1.0|       true|\n",
            "| 27|  14|Juan Raimundo Osv...|Juan Raimundo Osv...|      Heloisa Luzia |      Heloisa Luzia |327.630.596-86|327.630.596-86|               1.0|       true|\n",
            "|480|  91|Sebastiao Kaue da...|Sebastiao Kaue da...| Aurora Vera Sophia | Aurora Vera Sophia |408.365.694-82|408.365.694-82|               1.0|       true|\n",
            "|461|  72|Samuel Roberto Ti...|Samuel Roberto Ti...|Tatiane Maria Luc...|Tatiane Maria Luc...|715.718.151-71|715.718.151-71|               1.0|       true|\n",
            "|463|  74|Henrique Elias Viana|Henrique Elias Viana|Beatriz Antonella...|Beatriz Antonella...|048.799.101-04|048.799.101-04|               1.0|       true|\n",
            "|465|  76|Kaue Renato Ricar...|Kaue Renato Ricar...|Pietra Manuela Ma...|Pietra Manuela Ma...|584.433.850-22|584.433.850-22|               1.0|       true|\n",
            "|469|  80|   Tiago Luan Farias|   Tiago Luan Farias|Isabelle Renata L...|Isabelle Renata L...|877.344.909-13|877.344.909-13|               1.0|       true|\n",
            "|533|  50|Manoel Luis Felip...|Manoel Luis Felip...|       Silvana Maya |       Silvana Maya |046.391.337-07|046.391.337-07|               1.0|       true|\n",
            "|528|  45|Eduardo Pietro Jo...|Eduardo Pietro Jo...|      Agatha Esther |      Agatha Esther |348.748.050-60|348.748.050-60|               1.0|       true|\n",
            "| 69|  57|Levi Heitor da Costa|Levi Heitor da Costa|Luna Sonia Sebast...|Lunna Sonia Sebas...|055.302.287-39|055.302.287-39|               1.0|       true|\n",
            "|522|  39|Pietro Rafael Nas...|Pietro Rafael Nas...|Gabrielly Malu Va...|Gabrielly Malu Va...|517.088.375-74|517.088.375-74|0.9964285714285714|       true|\n",
            "| 17|  04|Pietro Henry de P...|Pietro Henrique d...|       Tereza Bruna |       Tereza Bruna |390.375.925-20|390.375.925-20|0.9961538461538462|       true|\n",
            "| 65|  53|Raimundo Tomas da...|Raimundo Tomas da...|       Ayla Claudia |        Ayla Claudia|145.891.596-43|145.891.596-43|0.9928571428571429|       true|\n",
            "|466|  77| Kaique Pietro Rocha| Kaique Pietro Rocha|          Sara Rosa |           Sara Roza|948.013.865-47|948.013.865-47|0.9916666666666667|       true|\n",
            "|468|  79|  Iago Davi da Cunha| Iago David da Cunha|Natalia Andreia E...|Natalia Andreia E...|606.841.002-15|606.841.002-15|0.9912878787878788|       true|\n",
            "| 19|  06|Gabriel Erick Oli...|Gabriel Erick Oli...|Helena Agatha Ter...|Elena Agatha Tere...|551.341.139-39|551.341.139-39|0.9880952380952381|       true|\n",
            "|524|  41|  Tomas Arthur Rocha| Thomas Arthur Rocha|    Eloa Maria Rita |    Eloa Maria Rita |169.848.860-23|169.848.860-23|0.9848484848484849|       true|\n",
            "| 64|  52|Heitor Enzo Arthu...|Heitor Enzo Arthu...|          Rita Maya |            Rita Maa|872.870.813-00|872.870.813-00|0.9833333333333334|       true|\n",
            "|467|  78|Gael Joaquim Fern...|        Gael Joaquim|Carla Emily Catar...|Carla Emily Catar...|588.760.331-30|588.760.331-30|0.9730769230769231|       true|\n",
            "|515|  32|Calebe Augusto Ia...|Calebe Augusto Ia...|       Debora Sarah |       Debora Sarah |288.360.031-76|288.360.031-76|0.9444444444444444|       true|\n",
            "| 92| 104|Pedro Henrique Di...|Pedro Henrique Di...|   Carolina Vitoria |   Carolina Vitoria |510.498.890-29|423.398.060-54|0.9380952380952381|      false|\n",
            "|104| 116| Eduardo Nelson Melo| Eduardo Nelson Melo|     Cecilia Sophie |     Cecilia Sophie |895.258.369-83|466.803.635-86|0.9261904761904762|      false|\n",
            "|485|  96|Roberto Giovanni ...|Roberto Giovanni ...|    Adriana Kamilly |    Adriana Kamilly |830.124.590-57|830.124.590-57|0.9261904761904762|       true|\n",
            "| 37|  24|Jose Ian da Conce...|Jose Ian da Conce...|Isabelly Maria La...|Isabelly Maria La...|657.324.647-00|657.324.647-00|0.9166666666666666|       true|\n",
            "|484|  95|Lucca Miguel Diog...|Lucca Miguel Diog...|Rafaela Analu Lav...|  Rafaela A Lavinia |779.234.407-00|779.234.407-00|0.9061111111111111|       true|\n",
            "|482|  93|Henrique Miguel R...|Henrique Miguel R...|  Alana Lais Josefa |  Alana Lais Josefa |661.445.243-63|661.445.243-63|0.9055555555555556|       true|\n",
            "| 36|  23|Caleb Augusto Igo...|Caleb Augusto Igo...|Benedita Nair Tat...|Benedita Nair Tat...|949.278.899-39|949.278.899-39|0.9027777777777778|       true|\n",
            "|517|  34|    Enzo Diogo Pinto|    Enzo Diogo Pinto|  Malu Sophia Marli |  Malu Sophia Marli |735.339.007-70|735.339.007-70|0.9027777777777778|       true|\n",
            "| 15|  02|Marcio Heitor Sil...|Marcio Heitor Sil...|Alana Isadora Jul...|       Alana Isadora|325.828.867-42|325.828.867-42|0.9002136752136752|       true|\n",
            "+---+----+--------------------+--------------------+--------------------+--------------------+--------------+--------------+------------------+-----------+\n",
            "\n"
          ],
          "name": "stdout"
        }
      ]
    },
    {
      "cell_type": "markdown",
      "metadata": {
        "colab_type": "text",
        "id": "ychuA3CtHCes"
      },
      "source": [
        "## 5  - Comparação por Outros Campos com Hamming Distance"
      ]
    },
    {
      "cell_type": "code",
      "metadata": {
        "id": "wjLsmD3LQ6oV",
        "colab_type": "code",
        "outputId": "972bbf4c-a665-4ce8-ae6d-ee2371c19920",
        "colab": {
          "base_uri": "https://localhost:8080/",
          "height": 612
        }
      },
      "source": [
        "dfl.printSchema()"
      ],
      "execution_count": 76,
      "outputs": [
        {
          "output_type": "stream",
          "text": [
            "root\n",
            " |-- id: string (nullable = true)\n",
            " |-- cep: string (nullable = true)\n",
            " |-- cidade: string (nullable = true)\n",
            " |-- data_nasc: string (nullable = true)\n",
            " |-- endereco: string (nullable = true)\n",
            " |-- estado: string (nullable = true)\n",
            " |-- idade: string (nullable = true)\n",
            " |-- mae: string (nullable = true)\n",
            " |-- nome: string (nullable = true)\n",
            " |-- tipo_sanguineo: string (nullable = true)\n",
            " |-- cpf: string (nullable = true)\n",
            " |-- id_b: string (nullable = true)\n",
            " |-- cep_b: string (nullable = true)\n",
            " |-- cidade_b: string (nullable = true)\n",
            " |-- data_nasc_b: string (nullable = true)\n",
            " |-- endereco_b: string (nullable = true)\n",
            " |-- estado_b: string (nullable = true)\n",
            " |-- mae_b: string (nullable = true)\n",
            " |-- nome_b: string (nullable = true)\n",
            " |-- tipo_sanguineo_b: string (nullable = true)\n",
            " |-- cpf_b: string (nullable = true)\n",
            " |-- primeiro_nome_a: string (nullable = true)\n",
            " |-- primeiro_nome_b: string (nullable = true)\n",
            " |-- ultimo_nome_a: string (nullable = true)\n",
            " |-- ultimo_nome_b: string (nullable = true)\n",
            " |-- primeiro_nome_fonetico_a: string (nullable = true)\n",
            " |-- primeiro_nome_fonetico_b: string (nullable = true)\n",
            " |-- ultimo_nome_fonetico_a: string (nullable = true)\n",
            " |-- ultimo_nome_fonetico_b: string (nullable = true)\n",
            " |-- nome_fonetico_a: string (nullable = true)\n",
            " |-- nome_fonetico_b: string (nullable = true)\n",
            " |-- nome_fonetico_mae_a: string (nullable = true)\n",
            " |-- nome_fonetico_mae_b: string (nullable = true)\n",
            "\n"
          ],
          "name": "stdout"
        }
      ]
    },
    {
      "cell_type": "code",
      "metadata": {
        "id": "K135v_SBvvaD",
        "colab_type": "code",
        "outputId": "0b5d1447-c4dd-423b-a9c0-aa53fb3f2433",
        "colab": {
          "base_uri": "https://localhost:8080/",
          "height": 545
        }
      },
      "source": [
        "# Demonstrando o comportamento dafunção hamming_distance a qual retorna o número de posições onde duas strings são diferentes\n",
        "def compare_hdn(nome, nome_b):\n",
        "  sim = 0\n",
        "  \n",
        "  #comparando atributos nominais\n",
        "  sim = jellyfish.hamming_distance(nome, nome_b)\n",
        "\n",
        "  sim = float(sim)\n",
        "  \n",
        "  return sim\n",
        "\n",
        "compare_hdn = F.udf(compare_hdn, StringType())   \n",
        "\n",
        "dfl.withColumn('distancia',compare_hdn(F.col('nome'),F.col('nome_b'))).select('nome','nome_b','distancia').filter(F.col('distancia').between(1,9)).orderBy('distancia').toPandas()"
      ],
      "execution_count": 78,
      "outputs": [
        {
          "output_type": "execute_result",
          "data": {
            "text/html": [
              "<div>\n",
              "<style scoped>\n",
              "    .dataframe tbody tr th:only-of-type {\n",
              "        vertical-align: middle;\n",
              "    }\n",
              "\n",
              "    .dataframe tbody tr th {\n",
              "        vertical-align: top;\n",
              "    }\n",
              "\n",
              "    .dataframe thead th {\n",
              "        text-align: right;\n",
              "    }\n",
              "</style>\n",
              "<table border=\"1\" class=\"dataframe\">\n",
              "  <thead>\n",
              "    <tr style=\"text-align: right;\">\n",
              "      <th></th>\n",
              "      <th>nome</th>\n",
              "      <th>nome_b</th>\n",
              "      <th>distancia</th>\n",
              "    </tr>\n",
              "  </thead>\n",
              "  <tbody>\n",
              "    <tr>\n",
              "      <th>0</th>\n",
              "      <td>Pietro Rafael Nascimento</td>\n",
              "      <td>Pietro Rafael Nassimento</td>\n",
              "      <td>1.0</td>\n",
              "    </tr>\n",
              "    <tr>\n",
              "      <th>1</th>\n",
              "      <td>Cesar Nelson Daniel Brito</td>\n",
              "      <td>Cesar Nelson Daniel Britto</td>\n",
              "      <td>2.0</td>\n",
              "    </tr>\n",
              "    <tr>\n",
              "      <th>2</th>\n",
              "      <td>Roberto Nelson Melo</td>\n",
              "      <td>Eduardo Nelson Melo</td>\n",
              "      <td>5.0</td>\n",
              "    </tr>\n",
              "    <tr>\n",
              "      <th>3</th>\n",
              "      <td>Enzo Diego Rocha</td>\n",
              "      <td>Enzo Diogo Pinto</td>\n",
              "      <td>6.0</td>\n",
              "    </tr>\n",
              "    <tr>\n",
              "      <th>4</th>\n",
              "      <td>Enzo Diogo Pinto</td>\n",
              "      <td>Enzo Diego Rocha</td>\n",
              "      <td>6.0</td>\n",
              "    </tr>\n",
              "    <tr>\n",
              "      <th>5</th>\n",
              "      <td>Sebastiao Gael Baptista</td>\n",
              "      <td>Sebastiao Kaue da Costa</td>\n",
              "      <td>7.0</td>\n",
              "    </tr>\n",
              "    <tr>\n",
              "      <th>6</th>\n",
              "      <td>Filipe Otavio Noah da Mata</td>\n",
              "      <td>Filipe Otavio Noa da Matta</td>\n",
              "      <td>7.0</td>\n",
              "    </tr>\n",
              "    <tr>\n",
              "      <th>7</th>\n",
              "      <td>Breno Paulo Alves</td>\n",
              "      <td>Breno Bruno Pinto</td>\n",
              "      <td>8.0</td>\n",
              "    </tr>\n",
              "    <tr>\n",
              "      <th>8</th>\n",
              "      <td>Tomas Caua Martins</td>\n",
              "      <td>Cesar Noah Martins</td>\n",
              "      <td>8.0</td>\n",
              "    </tr>\n",
              "    <tr>\n",
              "      <th>9</th>\n",
              "      <td>Hugo Bryan Castro</td>\n",
              "      <td>Caua Isaac Castro</td>\n",
              "      <td>8.0</td>\n",
              "    </tr>\n",
              "    <tr>\n",
              "      <th>10</th>\n",
              "      <td>Hugo Bryan Castro</td>\n",
              "      <td>Caua Isaac Castro</td>\n",
              "      <td>8.0</td>\n",
              "    </tr>\n",
              "    <tr>\n",
              "      <th>11</th>\n",
              "      <td>Cesar Noah Martins</td>\n",
              "      <td>Tomas Caua Martins</td>\n",
              "      <td>8.0</td>\n",
              "    </tr>\n",
              "    <tr>\n",
              "      <th>12</th>\n",
              "      <td>Kaique Heitor Nascimento</td>\n",
              "      <td>Kaique Heitor N</td>\n",
              "      <td>9.0</td>\n",
              "    </tr>\n",
              "    <tr>\n",
              "      <th>13</th>\n",
              "      <td>Calebe Heitor Lopes</td>\n",
              "      <td>Kaique Heitor N</td>\n",
              "      <td>9.0</td>\n",
              "    </tr>\n",
              "    <tr>\n",
              "      <th>14</th>\n",
              "      <td>Caue Lorenzo Rocha</td>\n",
              "      <td>Noah Marcelo Rocha</td>\n",
              "      <td>9.0</td>\n",
              "    </tr>\n",
              "    <tr>\n",
              "      <th>15</th>\n",
              "      <td>Enrico Luan Caldeira</td>\n",
              "      <td>Davi Nelson Caldeira</td>\n",
              "      <td>9.0</td>\n",
              "    </tr>\n",
              "  </tbody>\n",
              "</table>\n",
              "</div>"
            ],
            "text/plain": [
              "                          nome                      nome_b distancia\n",
              "0     Pietro Rafael Nascimento    Pietro Rafael Nassimento       1.0\n",
              "1    Cesar Nelson Daniel Brito  Cesar Nelson Daniel Britto       2.0\n",
              "2          Roberto Nelson Melo         Eduardo Nelson Melo       5.0\n",
              "3             Enzo Diego Rocha            Enzo Diogo Pinto       6.0\n",
              "4             Enzo Diogo Pinto            Enzo Diego Rocha       6.0\n",
              "5      Sebastiao Gael Baptista     Sebastiao Kaue da Costa       7.0\n",
              "6   Filipe Otavio Noah da Mata  Filipe Otavio Noa da Matta       7.0\n",
              "7            Breno Paulo Alves           Breno Bruno Pinto       8.0\n",
              "8           Tomas Caua Martins          Cesar Noah Martins       8.0\n",
              "9            Hugo Bryan Castro           Caua Isaac Castro       8.0\n",
              "10           Hugo Bryan Castro           Caua Isaac Castro       8.0\n",
              "11          Cesar Noah Martins          Tomas Caua Martins       8.0\n",
              "12    Kaique Heitor Nascimento             Kaique Heitor N       9.0\n",
              "13         Calebe Heitor Lopes             Kaique Heitor N       9.0\n",
              "14          Caue Lorenzo Rocha          Noah Marcelo Rocha       9.0\n",
              "15        Enrico Luan Caldeira        Davi Nelson Caldeira       9.0"
            ]
          },
          "metadata": {
            "tags": []
          },
          "execution_count": 78
        }
      ]
    },
    {
      "cell_type": "code",
      "metadata": {
        "colab_type": "code",
        "id": "c3SUHxmQX0gP",
        "colab": {}
      },
      "source": [
        "# Criação da Função de Similaridade\n",
        "def compare_5(nome, tm_nome, mae, tm_mae, data_nasc, tm_data_nasc, tipo_sanguineo, tm_tipo_sanguineo, nome_b, tm_nome_b, mae_b, tm_mae_b, data_nasc_b, tm_data_nasc_b, tipo_sanguineo_b, tm_tipo_sanguineo_b):\n",
        "  sim = 0\n",
        "  \n",
        "  #comparando atributos nominais; para que o retorno da função fique no intervalo entre zero e um dividimos pelao tamanho da string\n",
        "  sim = 1 - float(jellyfish.hamming_distance(nome, nome_b)) /  float(max(tm_nome,tm_nome_b))\n",
        "  sim += 1 - float(jellyfish.hamming_distance(mae, mae_b)) /  float(max(tm_mae,tm_mae_b))\n",
        "  sim += 1 - float(jellyfish.hamming_distance(data_nasc, data_nasc_b)) /  float(max(tm_data_nasc,tm_data_nasc_b))\n",
        "  sim += 1 - float(jellyfish.hamming_distance(tipo_sanguineo, tipo_sanguineo_b)) /  float(max(tm_tipo_sanguineo,tm_tipo_sanguineo_b))\n",
        "  \n",
        "  #Media aritmética simples\n",
        "  sim = (float(sim/4))\n",
        "  \n",
        "  return sim\n",
        "\n",
        "udf_compare_5 = F.udf(compare_5, StringType())   \n"
      ],
      "execution_count": 0,
      "outputs": []
    },
    {
      "cell_type": "code",
      "metadata": {
        "colab_type": "code",
        "id": "rQF1XYOXX0gQ",
        "colab": {}
      },
      "source": [
        "dfr_5 = dfl.withColumn('distancia', \n",
        "                     udf_compare_5 (F.col('nome'),\n",
        "                                    F.length('nome'),\n",
        "                                    F.col('mae'),\n",
        "                                    F.length('mae'),\n",
        "                                    F.col('data_nasc'),\n",
        "                                    F.length('data_nasc'),\n",
        "                                    F.col('tipo_sanguineo'),\n",
        "                                    F.length('tipo_sanguineo'),\n",
        "                                    F.col('nome_b'),\n",
        "                                    F.length('nome_b'),\n",
        "                                    F.col('mae_b'),\n",
        "                                    F.length('mae_b'),\n",
        "                                    F.col('data_nasc_b'),\n",
        "                                    F.length('data_nasc_b'),\n",
        "                                    F.col('tipo_sanguineo_b'),\n",
        "                                    F.length('tipo_sanguineo_b')))\n",
        "\n"
      ],
      "execution_count": 0,
      "outputs": []
    },
    {
      "cell_type": "code",
      "metadata": {
        "colab_type": "code",
        "outputId": "9a5c48b0-b887-4c77-ee1d-4cd0f0d5591e",
        "id": "6ZT2HNI2X0gR",
        "colab": {
          "base_uri": "https://localhost:8080/",
          "height": 289
        }
      },
      "source": [
        "# Exibindo base de resultado\n",
        "dfr_5.select(['nome', 'nome_b', 'mae', 'mae_b', 'data_nasc', 'data_nasc_b', 'tipo_sanguineo', 'tipo_sanguineo_b', 'cpf', 'cpf_b', 'distancia']).show(10)\n"
      ],
      "execution_count": 81,
      "outputs": [
        {
          "output_type": "stream",
          "text": [
            "+--------------------+--------------------+---------------+--------------------+----------+-----------+--------------+----------------+--------------+--------------+-------------------+\n",
            "|                nome|              nome_b|            mae|               mae_b| data_nasc|data_nasc_b|tipo_sanguineo|tipo_sanguineo_b|           cpf|         cpf_b|          distancia|\n",
            "+--------------------+--------------------+---------------+--------------------+----------+-----------+--------------+----------------+--------------+--------------+-------------------+\n",
            "|Vicente Oliver Mo...|Felipe Bruno dos ...|Louise Beatriz |Isabelle Marcia A...|10/09/1948| 22/11/1965|           AB-|             AB-|097.627.958-49|506.865.202-46| 0.3596153846153846|\n",
            "|Vicente Oliver Mo...|Marcio Heitor Sil...|Louise Beatriz |       Alana Isadora|10/09/1948| 01/01/1980|           AB-|             AB-|097.627.958-49|325.828.867-42|0.39166666666666666|\n",
            "|Vicente Oliver Mo...|Theo Mario Victor...|Louise Beatriz |  Caroline Gabriela |10/09/1948| 23/09/1961|           AB-|              A-|097.627.958-49|284.536.218-88|0.24333333333333335|\n",
            "|Vicente Oliver Mo...|Pietro Henrique d...|Louise Beatriz |       Tereza Bruna |10/09/1948| 11/05/1981|           AB-|             AB-|097.627.958-49|390.375.925-20|            0.44375|\n",
            "|Vicente Oliver Mo...|Kaique Thiago de ...|Louise Beatriz |      Alice Leticia |10/09/1948| 14/12/1941|           AB-|              A-|097.627.958-49|756.005.387-40|0.23333333333333334|\n",
            "|Vicente Oliver Mo...|Gabriel Erick Oli...|Louise Beatriz |Elena Agatha Tere...|10/09/1948| 16/02/1999|           AB-|              O+|097.627.958-49|551.341.139-39| 0.1685185185185185|\n",
            "|Vicente Oliver Mo...|Luan Caue Anthony...|Louise Beatriz |Vanessa Camila Ni...|10/09/1948| 11/03/1982|           AB-|                |097.627.958-49|756.048.583-90| 0.1940909090909091|\n",
            "|Vicente Oliver Mo...|        Enzo D Rocha|Louise Beatriz |Isabelle Maite Rosa |10/09/1948| 13/01/1978|           AB-|                |097.627.958-49|386.351.591-95|             0.1875|\n",
            "|Vicente Oliver Mo...|Cesar Matheus Cau...|Louise Beatriz |      Sophie Bianca |10/09/1948| 27/01/2001|           AB-|                |097.627.958-49|885.264.747-31|0.15833333333333335|\n",
            "|Vicente Oliver Mo...|   Caua Isaac Castro|Louise Beatriz |Giovana Antonella...|10/09/1948| 01/01/1980|           AB-|                |097.627.958-49|489.611.821-96| 0.1454849498327759|\n",
            "+--------------------+--------------------+---------------+--------------------+----------+-----------+--------------+----------------+--------------+--------------+-------------------+\n",
            "only showing top 10 rows\n",
            "\n"
          ],
          "name": "stdout"
        }
      ]
    },
    {
      "cell_type": "code",
      "metadata": {
        "colab_type": "code",
        "id": "ARYyeSUlX0gV",
        "colab": {}
      },
      "source": [
        "# Deduplicando a base (eliminando linhas duplicadas, ficando somente com a de maior similaridade)\n",
        "dfc_5 = dfr_5.orderBy(['distancia'], ascending=False).dropDuplicates(['id_b']).orderBy(['id_b']).select(['id', 'id_b', 'nome','nome_b', 'mae', 'mae_b', 'cpf','cpf_b', 'distancia'])\n"
      ],
      "execution_count": 0,
      "outputs": []
    },
    {
      "cell_type": "code",
      "metadata": {
        "colab_type": "code",
        "id": "CenogEHjX0gY",
        "colab": {}
      },
      "source": [
        "# Criação de coluna de comparação de CPFs\n",
        "dfc_5 = dfc_5.withColumn('CPFs_Iguais',F.col('cpf') == F.col('cpf_b'))\n"
      ],
      "execution_count": 0,
      "outputs": []
    },
    {
      "cell_type": "code",
      "metadata": {
        "colab_type": "code",
        "outputId": "038813d4-35b7-46aa-f0e3-35a36caeaf2c",
        "id": "GC_iEcc06cFJ",
        "colab": {
          "base_uri": "https://localhost:8080/",
          "height": 187
        }
      },
      "source": [
        "dfc_5.describe('distancia').show()"
      ],
      "execution_count": 84,
      "outputs": [
        {
          "output_type": "stream",
          "text": [
            "+-------+------------------+\n",
            "|summary|         distancia|\n",
            "+-------+------------------+\n",
            "|  count|               143|\n",
            "|   mean|0.8472264958357979|\n",
            "| stddev|0.1711125921530357|\n",
            "|    min|0.4921717171717172|\n",
            "|    max|               1.0|\n",
            "+-------+------------------+\n",
            "\n"
          ],
          "name": "stdout"
        }
      ]
    },
    {
      "cell_type": "code",
      "metadata": {
        "colab_type": "code",
        "outputId": "0f08bbde-5658-4f59-d4d4-f0ea544bf3fe",
        "id": "TL7t2dmb6cFM",
        "colab": {
          "base_uri": "https://localhost:8080/",
          "height": 34
        }
      },
      "source": [
        "dfc_5.count()"
      ],
      "execution_count": 85,
      "outputs": [
        {
          "output_type": "execute_result",
          "data": {
            "text/plain": [
              "143"
            ]
          },
          "metadata": {
            "tags": []
          },
          "execution_count": 85
        }
      ]
    },
    {
      "cell_type": "code",
      "metadata": {
        "colab_type": "code",
        "outputId": "bd6829b9-0a3e-472c-b638-a54bff4d7c6f",
        "id": "yiWLSU0p6cFO",
        "colab": {
          "base_uri": "https://localhost:8080/",
          "height": 34
        }
      },
      "source": [
        "dfc_5.filter(dfc_5['distancia'] >= '0.9').count()"
      ],
      "execution_count": 86,
      "outputs": [
        {
          "output_type": "execute_result",
          "data": {
            "text/plain": [
              "74"
            ]
          },
          "metadata": {
            "tags": []
          },
          "execution_count": 86
        }
      ]
    },
    {
      "cell_type": "code",
      "metadata": {
        "colab_type": "code",
        "outputId": "c8677f4f-1f03-49b5-ec82-1d4723e99d66",
        "id": "L3XFgAds6cFQ",
        "colab": {
          "base_uri": "https://localhost:8080/",
          "height": 1969
        }
      },
      "source": [
        "dfc_5.filter(dfc_5['distancia'] >= '0.9').orderBy(['distancia'], ascending=False).limit(150).toPandas()"
      ],
      "execution_count": 87,
      "outputs": [
        {
          "output_type": "execute_result",
          "data": {
            "text/html": [
              "<div>\n",
              "<style scoped>\n",
              "    .dataframe tbody tr th:only-of-type {\n",
              "        vertical-align: middle;\n",
              "    }\n",
              "\n",
              "    .dataframe tbody tr th {\n",
              "        vertical-align: top;\n",
              "    }\n",
              "\n",
              "    .dataframe thead th {\n",
              "        text-align: right;\n",
              "    }\n",
              "</style>\n",
              "<table border=\"1\" class=\"dataframe\">\n",
              "  <thead>\n",
              "    <tr style=\"text-align: right;\">\n",
              "      <th></th>\n",
              "      <th>id</th>\n",
              "      <th>id_b</th>\n",
              "      <th>nome</th>\n",
              "      <th>nome_b</th>\n",
              "      <th>mae</th>\n",
              "      <th>mae_b</th>\n",
              "      <th>cpf</th>\n",
              "      <th>cpf_b</th>\n",
              "      <th>distancia</th>\n",
              "      <th>CPFs_Iguais</th>\n",
              "    </tr>\n",
              "  </thead>\n",
              "  <tbody>\n",
              "    <tr>\n",
              "      <th>0</th>\n",
              "      <td>458</td>\n",
              "      <td>69</td>\n",
              "      <td>Anderson Gustavo Drumond</td>\n",
              "      <td>Anderson Gustavo Drumond</td>\n",
              "      <td>Vitoria Catarina Raimunda</td>\n",
              "      <td>Vitoria Catarina Raimunda</td>\n",
              "      <td>081.783.955-09</td>\n",
              "      <td>081.783.955-09</td>\n",
              "      <td>1.0</td>\n",
              "      <td>True</td>\n",
              "    </tr>\n",
              "    <tr>\n",
              "      <th>1</th>\n",
              "      <td>28</td>\n",
              "      <td>15</td>\n",
              "      <td>Leandro Cesar Jorge Drumond</td>\n",
              "      <td>Leandro Cesar Jorge Drumond</td>\n",
              "      <td>Jessica Jaqueline Flavia</td>\n",
              "      <td>Jessica Jaqueline Flavia</td>\n",
              "      <td>181.410.022-95</td>\n",
              "      <td>181.410.022-95</td>\n",
              "      <td>1.0</td>\n",
              "      <td>True</td>\n",
              "    </tr>\n",
              "    <tr>\n",
              "      <th>2</th>\n",
              "      <td>525</td>\n",
              "      <td>42</td>\n",
              "      <td>Kaue Cesar Moraes</td>\n",
              "      <td>Kaue Cesar Moraes</td>\n",
              "      <td>Tatiane Daiane Sara</td>\n",
              "      <td>Tatiane Daiane Sara</td>\n",
              "      <td>318.470.004-60</td>\n",
              "      <td>318.470.004-60</td>\n",
              "      <td>1.0</td>\n",
              "      <td>True</td>\n",
              "    </tr>\n",
              "    <tr>\n",
              "      <th>3</th>\n",
              "      <td>41</td>\n",
              "      <td>28</td>\n",
              "      <td>Breno Bruno Pinto</td>\n",
              "      <td>Breno Bruno Pinto</td>\n",
              "      <td>Jessica Tereza</td>\n",
              "      <td>Jessica Tereza</td>\n",
              "      <td>735.197.681-35</td>\n",
              "      <td>735.197.681-35</td>\n",
              "      <td>1.0</td>\n",
              "      <td>True</td>\n",
              "    </tr>\n",
              "    <tr>\n",
              "      <th>4</th>\n",
              "      <td>474</td>\n",
              "      <td>85</td>\n",
              "      <td>Renan Bernardo da Costa</td>\n",
              "      <td>Renan Bernardo da Costa</td>\n",
              "      <td>Mariana Laura Isabella</td>\n",
              "      <td>Mariana Laura Isabella</td>\n",
              "      <td>725.521.191-74</td>\n",
              "      <td>725.521.191-74</td>\n",
              "      <td>1.0</td>\n",
              "      <td>True</td>\n",
              "    </tr>\n",
              "    <tr>\n",
              "      <th>5</th>\n",
              "      <td>462</td>\n",
              "      <td>73</td>\n",
              "      <td>Elias Pedro Geraldo Rezende</td>\n",
              "      <td>Elias Pedro Geraldo Rezende</td>\n",
              "      <td>Isis Isabel Elaine</td>\n",
              "      <td>Isis Isabel Elaine</td>\n",
              "      <td>095.450.063-66</td>\n",
              "      <td>095.450.063-66</td>\n",
              "      <td>1.0</td>\n",
              "      <td>True</td>\n",
              "    </tr>\n",
              "    <tr>\n",
              "      <th>6</th>\n",
              "      <td>76</td>\n",
              "      <td>64</td>\n",
              "      <td>Marcelo Benedito Porto</td>\n",
              "      <td>Marcelo Benedito Porto</td>\n",
              "      <td>Pietra Sebastiana Luana</td>\n",
              "      <td>Pietra Sebastiana Luana</td>\n",
              "      <td>571.307.021-25</td>\n",
              "      <td>571.307.021-25</td>\n",
              "      <td>1.0</td>\n",
              "      <td>True</td>\n",
              "    </tr>\n",
              "    <tr>\n",
              "      <th>7</th>\n",
              "      <td>530</td>\n",
              "      <td>47</td>\n",
              "      <td>Marcos Nicolas Baptista</td>\n",
              "      <td>Marcos Nicolas Baptista</td>\n",
              "      <td>Flavia Leticia</td>\n",
              "      <td>Flavia Leticia</td>\n",
              "      <td>213.005.833-71</td>\n",
              "      <td>213.005.833-71</td>\n",
              "      <td>1.0</td>\n",
              "      <td>True</td>\n",
              "    </tr>\n",
              "    <tr>\n",
              "      <th>8</th>\n",
              "      <td>513</td>\n",
              "      <td>30</td>\n",
              "      <td>Miguel Francisco Matheus Galvao</td>\n",
              "      <td>Miguel Francisco Matheus Galvao</td>\n",
              "      <td>Fernanda Mariah</td>\n",
              "      <td>Fernanda Mariah</td>\n",
              "      <td>618.880.659-31</td>\n",
              "      <td>618.880.659-31</td>\n",
              "      <td>1.0</td>\n",
              "      <td>True</td>\n",
              "    </tr>\n",
              "    <tr>\n",
              "      <th>9</th>\n",
              "      <td>514</td>\n",
              "      <td>31</td>\n",
              "      <td>Iago Sergio da Conceicao</td>\n",
              "      <td>Iago Sergio da Conceicao</td>\n",
              "      <td>Sara Benedita</td>\n",
              "      <td>Sara Benedita</td>\n",
              "      <td>792.235.438-00</td>\n",
              "      <td>792.235.438-00</td>\n",
              "      <td>1.0</td>\n",
              "      <td>True</td>\n",
              "    </tr>\n",
              "    <tr>\n",
              "      <th>10</th>\n",
              "      <td>526</td>\n",
              "      <td>43</td>\n",
              "      <td>Sebastiao Anderson Claudio Sales</td>\n",
              "      <td>Sebastiao Anderson Claudio Sales</td>\n",
              "      <td>Andreia Mariane</td>\n",
              "      <td>Andreia Mariane</td>\n",
              "      <td>939.097.065-25</td>\n",
              "      <td>939.097.065-25</td>\n",
              "      <td>1.0</td>\n",
              "      <td>True</td>\n",
              "    </tr>\n",
              "    <tr>\n",
              "      <th>11</th>\n",
              "      <td>14</td>\n",
              "      <td>01</td>\n",
              "      <td>Felipe Bruno dos Santos</td>\n",
              "      <td>Felipe Bruno dos Santos</td>\n",
              "      <td>Isabelle Marcia Antonella</td>\n",
              "      <td>Isabelle Marcia Antonella</td>\n",
              "      <td>506.865.202-46</td>\n",
              "      <td>506.865.202-46</td>\n",
              "      <td>1.0</td>\n",
              "      <td>True</td>\n",
              "    </tr>\n",
              "    <tr>\n",
              "      <th>12</th>\n",
              "      <td>459</td>\n",
              "      <td>70</td>\n",
              "      <td>Davi Nelson Caldeira</td>\n",
              "      <td>Davi Nelson Caldeira</td>\n",
              "      <td>Marina Fatima</td>\n",
              "      <td>Marina Fatima</td>\n",
              "      <td>227.774.367-46</td>\n",
              "      <td>227.774.367-46</td>\n",
              "      <td>1.0</td>\n",
              "      <td>True</td>\n",
              "    </tr>\n",
              "    <tr>\n",
              "      <th>13</th>\n",
              "      <td>40</td>\n",
              "      <td>27</td>\n",
              "      <td>Theo Sebastiao da Rosa</td>\n",
              "      <td>Theo Sebastiao da Rosa</td>\n",
              "      <td>Isadora Lucia Joana</td>\n",
              "      <td>Isadora Lucia Joana</td>\n",
              "      <td>536.503.166-09</td>\n",
              "      <td>536.503.166-09</td>\n",
              "      <td>1.0</td>\n",
              "      <td>True</td>\n",
              "    </tr>\n",
              "    <tr>\n",
              "      <th>14</th>\n",
              "      <td>73</td>\n",
              "      <td>61</td>\n",
              "      <td>Erick Bryan Julio Aragao</td>\n",
              "      <td>Erick Bryan Julio Aragao</td>\n",
              "      <td>Regina Alice Ana</td>\n",
              "      <td>Regina Alice Ana</td>\n",
              "      <td>248.115.138-00</td>\n",
              "      <td>248.115.138-00</td>\n",
              "      <td>1.0</td>\n",
              "      <td>True</td>\n",
              "    </tr>\n",
              "    <tr>\n",
              "      <th>15</th>\n",
              "      <td>464</td>\n",
              "      <td>75</td>\n",
              "      <td>Marcio Otavio Kevin da Rosa</td>\n",
              "      <td>Marcio Otavio Kevin da Rosa</td>\n",
              "      <td>Regina Marcia</td>\n",
              "      <td>Regina Marcia</td>\n",
              "      <td>724.394.945-26</td>\n",
              "      <td>724.394.945-26</td>\n",
              "      <td>1.0</td>\n",
              "      <td>True</td>\n",
              "    </tr>\n",
              "    <tr>\n",
              "      <th>16</th>\n",
              "      <td>63</td>\n",
              "      <td>51</td>\n",
              "      <td>Alexandre Bruno Marcio Araujo</td>\n",
              "      <td>Alexandre Bruno Marcio Araujo</td>\n",
              "      <td>Isabelly Kamilly</td>\n",
              "      <td>Isabelly Kamilly</td>\n",
              "      <td>869.696.945-69</td>\n",
              "      <td>869.696.945-69</td>\n",
              "      <td>1.0</td>\n",
              "      <td>True</td>\n",
              "    </tr>\n",
              "    <tr>\n",
              "      <th>17</th>\n",
              "      <td>529</td>\n",
              "      <td>46</td>\n",
              "      <td>Martin Caio Galvao</td>\n",
              "      <td>Martin Caio Galvao</td>\n",
              "      <td>Isis Raimunda Andreia</td>\n",
              "      <td>Isis Raimunda Andreia</td>\n",
              "      <td>066.796.721-47</td>\n",
              "      <td>066.796.721-47</td>\n",
              "      <td>1.0</td>\n",
              "      <td>True</td>\n",
              "    </tr>\n",
              "    <tr>\n",
              "      <th>18</th>\n",
              "      <td>29</td>\n",
              "      <td>16</td>\n",
              "      <td>Caio Julio Kaue Lima</td>\n",
              "      <td>Caio Julio Kaue Lima</td>\n",
              "      <td>Lara Sabrina Giovanna</td>\n",
              "      <td>Lara Sabrina Giovanna</td>\n",
              "      <td>843.458.724-64</td>\n",
              "      <td>843.458.724-64</td>\n",
              "      <td>1.0</td>\n",
              "      <td>True</td>\n",
              "    </tr>\n",
              "    <tr>\n",
              "      <th>19</th>\n",
              "      <td>460</td>\n",
              "      <td>71</td>\n",
              "      <td>Augusto Bruno da Rosa</td>\n",
              "      <td>Augusto Bruno da Rosa</td>\n",
              "      <td>Aurora Luna</td>\n",
              "      <td>Aurora Luna</td>\n",
              "      <td>302.706.239-57</td>\n",
              "      <td>302.706.239-57</td>\n",
              "      <td>1.0</td>\n",
              "      <td>True</td>\n",
              "    </tr>\n",
              "    <tr>\n",
              "      <th>20</th>\n",
              "      <td>18</td>\n",
              "      <td>05</td>\n",
              "      <td>Kaique Thiago de Paula</td>\n",
              "      <td>Kaique Thiago de Paula</td>\n",
              "      <td>Alice Leticia</td>\n",
              "      <td>Alice Leticia</td>\n",
              "      <td>756.005.387-40</td>\n",
              "      <td>756.005.387-40</td>\n",
              "      <td>1.0</td>\n",
              "      <td>True</td>\n",
              "    </tr>\n",
              "    <tr>\n",
              "      <th>21</th>\n",
              "      <td>487</td>\n",
              "      <td>98</td>\n",
              "      <td>Hugo Thales Aragao</td>\n",
              "      <td>Hugo Thales Aragao</td>\n",
              "      <td>Alicia Livia Sonia</td>\n",
              "      <td>Alicia Livia Sonia</td>\n",
              "      <td>143.975.020-30</td>\n",
              "      <td>143.975.020-30</td>\n",
              "      <td>1.0</td>\n",
              "      <td>True</td>\n",
              "    </tr>\n",
              "    <tr>\n",
              "      <th>22</th>\n",
              "      <td>72</td>\n",
              "      <td>60</td>\n",
              "      <td>Otavio Bernardo da Mata</td>\n",
              "      <td>Otavio Bernardo da Mata</td>\n",
              "      <td>Catarina Cristiane</td>\n",
              "      <td>Catarina Cristiane</td>\n",
              "      <td>895.160.103-00</td>\n",
              "      <td>895.160.103-00</td>\n",
              "      <td>1.0</td>\n",
              "      <td>True</td>\n",
              "    </tr>\n",
              "    <tr>\n",
              "      <th>23</th>\n",
              "      <td>479</td>\n",
              "      <td>90</td>\n",
              "      <td>Lorenzo Otavio Gomes</td>\n",
              "      <td>Lorenzo Otavio Gomes</td>\n",
              "      <td>Agatha Marli</td>\n",
              "      <td>Agatha Marli</td>\n",
              "      <td>558.220.658-21</td>\n",
              "      <td>558.220.658-21</td>\n",
              "      <td>1.0</td>\n",
              "      <td>True</td>\n",
              "    </tr>\n",
              "    <tr>\n",
              "      <th>24</th>\n",
              "      <td>457</td>\n",
              "      <td>68</td>\n",
              "      <td>Severino Ruan Caleb Silva</td>\n",
              "      <td>Severino Ruan Caleb Silva</td>\n",
              "      <td>Juliana Jennifer</td>\n",
              "      <td>Juliana Jennifer</td>\n",
              "      <td>390.371.546-89</td>\n",
              "      <td>390.371.546-89</td>\n",
              "      <td>1.0</td>\n",
              "      <td>True</td>\n",
              "    </tr>\n",
              "    <tr>\n",
              "      <th>25</th>\n",
              "      <td>488</td>\n",
              "      <td>99</td>\n",
              "      <td>Sergio Sebastiao Osvaldo Ribeiro</td>\n",
              "      <td>Sergio Sebastiao Osvaldo Ribeiro</td>\n",
              "      <td>Fernanda Eliane</td>\n",
              "      <td>Fernanda Eliane</td>\n",
              "      <td>546.506.467-66</td>\n",
              "      <td>546.506.467-66</td>\n",
              "      <td>1.0</td>\n",
              "      <td>True</td>\n",
              "    </tr>\n",
              "    <tr>\n",
              "      <th>26</th>\n",
              "      <td>16</td>\n",
              "      <td>03</td>\n",
              "      <td>Theo Mario Victor Barbosa</td>\n",
              "      <td>Theo Mario Victor Barbosa</td>\n",
              "      <td>Caroline Gabriela</td>\n",
              "      <td>Caroline Gabriela</td>\n",
              "      <td>284.536.218-88</td>\n",
              "      <td>284.536.218-88</td>\n",
              "      <td>1.0</td>\n",
              "      <td>True</td>\n",
              "    </tr>\n",
              "    <tr>\n",
              "      <th>27</th>\n",
              "      <td>521</td>\n",
              "      <td>38</td>\n",
              "      <td>Paulo Joaquim Araujo</td>\n",
              "      <td>Paulo Joaquim Araujo</td>\n",
              "      <td>Agatha Maite</td>\n",
              "      <td>Agatha Maite</td>\n",
              "      <td>985.904.206-39</td>\n",
              "      <td>985.904.206-39</td>\n",
              "      <td>1.0</td>\n",
              "      <td>True</td>\n",
              "    </tr>\n",
              "    <tr>\n",
              "      <th>28</th>\n",
              "      <td>523</td>\n",
              "      <td>40</td>\n",
              "      <td>Cesar Noah Martins</td>\n",
              "      <td>Cesar Noah Martins</td>\n",
              "      <td>Sebastiana Lucia Luna</td>\n",
              "      <td>Sebastiana Lucia Luna</td>\n",
              "      <td>488.380.897-10</td>\n",
              "      <td>488.380.897-10</td>\n",
              "      <td>1.0</td>\n",
              "      <td>True</td>\n",
              "    </tr>\n",
              "    <tr>\n",
              "      <th>29</th>\n",
              "      <td>38</td>\n",
              "      <td>25</td>\n",
              "      <td>Fernando Cesar Figueiredo</td>\n",
              "      <td>Fernando Cesar Figueiredo</td>\n",
              "      <td>Bruna Esther Evelyn</td>\n",
              "      <td>Bruna Esther Evelyn</td>\n",
              "      <td>249.678.124-57</td>\n",
              "      <td>249.678.124-57</td>\n",
              "      <td>1.0</td>\n",
              "      <td>True</td>\n",
              "    </tr>\n",
              "    <tr>\n",
              "      <th>...</th>\n",
              "      <td>...</td>\n",
              "      <td>...</td>\n",
              "      <td>...</td>\n",
              "      <td>...</td>\n",
              "      <td>...</td>\n",
              "      <td>...</td>\n",
              "      <td>...</td>\n",
              "      <td>...</td>\n",
              "      <td>...</td>\n",
              "      <td>...</td>\n",
              "    </tr>\n",
              "    <tr>\n",
              "      <th>44</th>\n",
              "      <td>33</td>\n",
              "      <td>20</td>\n",
              "      <td>Rodrigo Erick Roberto Freitas</td>\n",
              "      <td>Rodrigo Erick Roberto Freitas</td>\n",
              "      <td>Nicole Aparecida</td>\n",
              "      <td>Nicole Aparecida</td>\n",
              "      <td>806.443.633-80</td>\n",
              "      <td>806.443.633-80</td>\n",
              "      <td>1.0</td>\n",
              "      <td>True</td>\n",
              "    </tr>\n",
              "    <tr>\n",
              "      <th>45</th>\n",
              "      <td>519</td>\n",
              "      <td>36</td>\n",
              "      <td>Bernardo Antonio Almada</td>\n",
              "      <td>Bernardo Antonio Almada</td>\n",
              "      <td>Alice Stefany</td>\n",
              "      <td>Alice Stefany</td>\n",
              "      <td>180.830.510-80</td>\n",
              "      <td>180.830.510-80</td>\n",
              "      <td>1.0</td>\n",
              "      <td>True</td>\n",
              "    </tr>\n",
              "    <tr>\n",
              "      <th>46</th>\n",
              "      <td>520</td>\n",
              "      <td>37</td>\n",
              "      <td>Theo Mario Raul Souza</td>\n",
              "      <td>Theo Mario Raul Souza</td>\n",
              "      <td>Luzia Ana Maite</td>\n",
              "      <td>Luzia Ana Maite</td>\n",
              "      <td>473.096.540-05</td>\n",
              "      <td>473.096.540-05</td>\n",
              "      <td>1.0</td>\n",
              "      <td>True</td>\n",
              "    </tr>\n",
              "    <tr>\n",
              "      <th>47</th>\n",
              "      <td>532</td>\n",
              "      <td>49</td>\n",
              "      <td>Gabriel Geraldo Levi Sales</td>\n",
              "      <td>Gabriel Geraldo Levi Sales</td>\n",
              "      <td>Sonia Stefany Patricia</td>\n",
              "      <td>Sonia Stefany Patricia</td>\n",
              "      <td>858.666.733-12</td>\n",
              "      <td>858.666.733-12</td>\n",
              "      <td>1.0</td>\n",
              "      <td>True</td>\n",
              "    </tr>\n",
              "    <tr>\n",
              "      <th>48</th>\n",
              "      <td>77</td>\n",
              "      <td>65</td>\n",
              "      <td>Pietro Diego Carlos Fernandes</td>\n",
              "      <td>Pietro Diego Carlos Fernandes</td>\n",
              "      <td>Elza Gabrielly</td>\n",
              "      <td>Elza Gabrielly</td>\n",
              "      <td>506.359.495-63</td>\n",
              "      <td>506.359.495-63</td>\n",
              "      <td>1.0</td>\n",
              "      <td>True</td>\n",
              "    </tr>\n",
              "    <tr>\n",
              "      <th>49</th>\n",
              "      <td>75</td>\n",
              "      <td>63</td>\n",
              "      <td>Roberto Daniel Galvao</td>\n",
              "      <td>Roberto Daniel Galvao</td>\n",
              "      <td>Juliana Isabelly</td>\n",
              "      <td>Juliana Isabelly</td>\n",
              "      <td>885.720.350-60</td>\n",
              "      <td>885.720.350-60</td>\n",
              "      <td>1.0</td>\n",
              "      <td>True</td>\n",
              "    </tr>\n",
              "    <tr>\n",
              "      <th>50</th>\n",
              "      <td>478</td>\n",
              "      <td>89</td>\n",
              "      <td>Rafael Noah Diego Baptista</td>\n",
              "      <td>Rafael Noah Diego Baptista</td>\n",
              "      <td>Emanuelly Hadassa</td>\n",
              "      <td>Emanuelly Hadassa</td>\n",
              "      <td>823.589.295-22</td>\n",
              "      <td>823.589.295-22</td>\n",
              "      <td>1.0</td>\n",
              "      <td>True</td>\n",
              "    </tr>\n",
              "    <tr>\n",
              "      <th>51</th>\n",
              "      <td>74</td>\n",
              "      <td>62</td>\n",
              "      <td>Bento Kaue Gael da Mota</td>\n",
              "      <td>Bento Kaue Gael da Mota</td>\n",
              "      <td>Rosa Rafaela Fabiana</td>\n",
              "      <td>Rosa Rafaela Fabiana</td>\n",
              "      <td>514.481.204-03</td>\n",
              "      <td>514.481.204-03</td>\n",
              "      <td>1.0</td>\n",
              "      <td>True</td>\n",
              "    </tr>\n",
              "    <tr>\n",
              "      <th>52</th>\n",
              "      <td>25</td>\n",
              "      <td>12</td>\n",
              "      <td>Danilo Severino da Cruz</td>\n",
              "      <td>Danilo Severino da Cruz</td>\n",
              "      <td>Rita Ayla Sara</td>\n",
              "      <td>Rita Ayla Sara</td>\n",
              "      <td>492.264.809-74</td>\n",
              "      <td>492.264.809-74</td>\n",
              "      <td>1.0</td>\n",
              "      <td>True</td>\n",
              "    </tr>\n",
              "    <tr>\n",
              "      <th>53</th>\n",
              "      <td>472</td>\n",
              "      <td>83</td>\n",
              "      <td>Fernando Leandro Vinicius Viana</td>\n",
              "      <td>Fernando Leandro Vinicius Viana</td>\n",
              "      <td>Allana Beatriz Jaqueline</td>\n",
              "      <td>Allana Beatriz Jaqueline</td>\n",
              "      <td>429.056.400-30</td>\n",
              "      <td>429.056.400-30</td>\n",
              "      <td>1.0</td>\n",
              "      <td>True</td>\n",
              "    </tr>\n",
              "    <tr>\n",
              "      <th>54</th>\n",
              "      <td>26</td>\n",
              "      <td>13</td>\n",
              "      <td>Samuel Noah Lopes</td>\n",
              "      <td>Samuel Noah Lopes</td>\n",
              "      <td>Louise Joana</td>\n",
              "      <td>Louise Joana</td>\n",
              "      <td>816.876.443-90</td>\n",
              "      <td>816.876.443-90</td>\n",
              "      <td>1.0</td>\n",
              "      <td>True</td>\n",
              "    </tr>\n",
              "    <tr>\n",
              "      <th>55</th>\n",
              "      <td>27</td>\n",
              "      <td>14</td>\n",
              "      <td>Juan Raimundo Osvaldo Cardoso</td>\n",
              "      <td>Juan Raimundo Osvaldo Cardoso</td>\n",
              "      <td>Heloisa Luzia</td>\n",
              "      <td>Heloisa Luzia</td>\n",
              "      <td>327.630.596-86</td>\n",
              "      <td>327.630.596-86</td>\n",
              "      <td>1.0</td>\n",
              "      <td>True</td>\n",
              "    </tr>\n",
              "    <tr>\n",
              "      <th>56</th>\n",
              "      <td>78</td>\n",
              "      <td>66</td>\n",
              "      <td>Erick Elias Ryan Fernandes</td>\n",
              "      <td>Erick Elias Ryan Fernandes</td>\n",
              "      <td>Raimunda Vitoria Lucia</td>\n",
              "      <td>Raimunda Vitoria Lucia</td>\n",
              "      <td>821.284.216-91</td>\n",
              "      <td>821.284.216-91</td>\n",
              "      <td>1.0</td>\n",
              "      <td>True</td>\n",
              "    </tr>\n",
              "    <tr>\n",
              "      <th>57</th>\n",
              "      <td>480</td>\n",
              "      <td>91</td>\n",
              "      <td>Sebastiao Kaue da Costa</td>\n",
              "      <td>Sebastiao Kaue da Costa</td>\n",
              "      <td>Aurora Vera Sophia</td>\n",
              "      <td>Aurora Vera Sophia</td>\n",
              "      <td>408.365.694-82</td>\n",
              "      <td>408.365.694-82</td>\n",
              "      <td>1.0</td>\n",
              "      <td>True</td>\n",
              "    </tr>\n",
              "    <tr>\n",
              "      <th>58</th>\n",
              "      <td>461</td>\n",
              "      <td>72</td>\n",
              "      <td>Samuel Roberto Tiago Alves</td>\n",
              "      <td>Samuel Roberto Tiago Alves</td>\n",
              "      <td>Tatiane Maria Luciana</td>\n",
              "      <td>Tatiane Maria Luciana</td>\n",
              "      <td>715.718.151-71</td>\n",
              "      <td>715.718.151-71</td>\n",
              "      <td>1.0</td>\n",
              "      <td>True</td>\n",
              "    </tr>\n",
              "    <tr>\n",
              "      <th>59</th>\n",
              "      <td>463</td>\n",
              "      <td>74</td>\n",
              "      <td>Henrique Elias Viana</td>\n",
              "      <td>Henrique Elias Viana</td>\n",
              "      <td>Beatriz Antonella Giovana</td>\n",
              "      <td>Beatriz Antonella Giovana</td>\n",
              "      <td>048.799.101-04</td>\n",
              "      <td>048.799.101-04</td>\n",
              "      <td>1.0</td>\n",
              "      <td>True</td>\n",
              "    </tr>\n",
              "    <tr>\n",
              "      <th>60</th>\n",
              "      <td>465</td>\n",
              "      <td>76</td>\n",
              "      <td>Kaue Renato Ricardo Pinto</td>\n",
              "      <td>Kaue Renato Ricardo Pinto</td>\n",
              "      <td>Pietra Manuela Marcela</td>\n",
              "      <td>Pietra Manuela Marcela</td>\n",
              "      <td>584.433.850-22</td>\n",
              "      <td>584.433.850-22</td>\n",
              "      <td>1.0</td>\n",
              "      <td>True</td>\n",
              "    </tr>\n",
              "    <tr>\n",
              "      <th>61</th>\n",
              "      <td>469</td>\n",
              "      <td>80</td>\n",
              "      <td>Tiago Luan Farias</td>\n",
              "      <td>Tiago Luan Farias</td>\n",
              "      <td>Isabelle Renata Luiza</td>\n",
              "      <td>Isabelle Renata Luiza</td>\n",
              "      <td>877.344.909-13</td>\n",
              "      <td>877.344.909-13</td>\n",
              "      <td>1.0</td>\n",
              "      <td>True</td>\n",
              "    </tr>\n",
              "    <tr>\n",
              "      <th>62</th>\n",
              "      <td>533</td>\n",
              "      <td>50</td>\n",
              "      <td>Manoel Luis Felipe Peixoto</td>\n",
              "      <td>Manoel Luis Felipe Peixoto</td>\n",
              "      <td>Silvana Maya</td>\n",
              "      <td>Silvana Maya</td>\n",
              "      <td>046.391.337-07</td>\n",
              "      <td>046.391.337-07</td>\n",
              "      <td>1.0</td>\n",
              "      <td>True</td>\n",
              "    </tr>\n",
              "    <tr>\n",
              "      <th>63</th>\n",
              "      <td>528</td>\n",
              "      <td>45</td>\n",
              "      <td>Eduardo Pietro Jose Teixeira</td>\n",
              "      <td>Eduardo Pietro Jose Teixeira</td>\n",
              "      <td>Agatha Esther</td>\n",
              "      <td>Agatha Esther</td>\n",
              "      <td>348.748.050-60</td>\n",
              "      <td>348.748.050-60</td>\n",
              "      <td>1.0</td>\n",
              "      <td>True</td>\n",
              "    </tr>\n",
              "    <tr>\n",
              "      <th>64</th>\n",
              "      <td>522</td>\n",
              "      <td>39</td>\n",
              "      <td>Pietro Rafael Nascimento</td>\n",
              "      <td>Pietro Rafael Nassimento</td>\n",
              "      <td>Gabrielly Malu Vanessa</td>\n",
              "      <td>Gabrielly Malu Vanessa</td>\n",
              "      <td>517.088.375-74</td>\n",
              "      <td>517.088.375-74</td>\n",
              "      <td>0.9895833333333334</td>\n",
              "      <td>True</td>\n",
              "    </tr>\n",
              "    <tr>\n",
              "      <th>65</th>\n",
              "      <td>476</td>\n",
              "      <td>87</td>\n",
              "      <td>Benedito Kaique Sales</td>\n",
              "      <td>Benedito Kaique Sales</td>\n",
              "      <td>Nicole Marcia Clarice</td>\n",
              "      <td>Nicoli Marcia Clarice</td>\n",
              "      <td>625.938.432-76</td>\n",
              "      <td>625.938.432-76</td>\n",
              "      <td>0.9886363636363636</td>\n",
              "      <td>True</td>\n",
              "    </tr>\n",
              "    <tr>\n",
              "      <th>66</th>\n",
              "      <td>32</td>\n",
              "      <td>19</td>\n",
              "      <td>Cesar Nelson Daniel Brito</td>\n",
              "      <td>Cesar Nelson Daniel Britto</td>\n",
              "      <td>Rita Rafaela Lara</td>\n",
              "      <td>Rita Rafaela Lara</td>\n",
              "      <td>254.321.926-91</td>\n",
              "      <td>254.321.926-91</td>\n",
              "      <td>0.9807692307692308</td>\n",
              "      <td>True</td>\n",
              "    </tr>\n",
              "    <tr>\n",
              "      <th>67</th>\n",
              "      <td>65</td>\n",
              "      <td>53</td>\n",
              "      <td>Raimundo Tomas da Conceicao</td>\n",
              "      <td>Raimundo Tomas da Conceicao</td>\n",
              "      <td>Ayla Claudia</td>\n",
              "      <td>Ayla Claudia</td>\n",
              "      <td>145.891.596-43</td>\n",
              "      <td>145.891.596-43</td>\n",
              "      <td>0.9807692307692308</td>\n",
              "      <td>True</td>\n",
              "    </tr>\n",
              "    <tr>\n",
              "      <th>68</th>\n",
              "      <td>466</td>\n",
              "      <td>77</td>\n",
              "      <td>Kaique Pietro Rocha</td>\n",
              "      <td>Kaique Pietro Rocha</td>\n",
              "      <td>Sara Rosa</td>\n",
              "      <td>Sara Roza</td>\n",
              "      <td>948.013.865-47</td>\n",
              "      <td>948.013.865-47</td>\n",
              "      <td>0.95</td>\n",
              "      <td>True</td>\n",
              "    </tr>\n",
              "    <tr>\n",
              "      <th>69</th>\n",
              "      <td>477</td>\n",
              "      <td>88</td>\n",
              "      <td>Filipe Otavio Noah da Mata</td>\n",
              "      <td>Filipe Otavio Noa da Matta</td>\n",
              "      <td>Natalia Sophia Kamilly</td>\n",
              "      <td>Natalia Sophia Kamilly</td>\n",
              "      <td>475.612.908-02</td>\n",
              "      <td>475.612.908-02</td>\n",
              "      <td>0.9326923076923077</td>\n",
              "      <td>True</td>\n",
              "    </tr>\n",
              "    <tr>\n",
              "      <th>70</th>\n",
              "      <td>64</td>\n",
              "      <td>52</td>\n",
              "      <td>Heitor Enzo Arthur Pinto</td>\n",
              "      <td>Heitor Enzo Arthur Pinto</td>\n",
              "      <td>Rita Maya</td>\n",
              "      <td>Rita Maa</td>\n",
              "      <td>872.870.813-00</td>\n",
              "      <td>872.870.813-00</td>\n",
              "      <td>0.925</td>\n",
              "      <td>True</td>\n",
              "    </tr>\n",
              "    <tr>\n",
              "      <th>71</th>\n",
              "      <td>515</td>\n",
              "      <td>32</td>\n",
              "      <td>Calebe Augusto Iago da Costa</td>\n",
              "      <td>Calebe Augusto Iago da Costa</td>\n",
              "      <td>Debora Sarah</td>\n",
              "      <td>Debora Sarah</td>\n",
              "      <td>288.360.031-76</td>\n",
              "      <td>288.360.031-76</td>\n",
              "      <td>0.9166666666666667</td>\n",
              "      <td>True</td>\n",
              "    </tr>\n",
              "    <tr>\n",
              "      <th>72</th>\n",
              "      <td>92</td>\n",
              "      <td>104</td>\n",
              "      <td>Pedro Henrique Diego Fernandes</td>\n",
              "      <td>Pedro Henrique Diego Fernandes</td>\n",
              "      <td>Carolina Vitoria</td>\n",
              "      <td>Carolina Vitoria</td>\n",
              "      <td>510.498.890-29</td>\n",
              "      <td>423.398.060-54</td>\n",
              "      <td>0.9</td>\n",
              "      <td>False</td>\n",
              "    </tr>\n",
              "    <tr>\n",
              "      <th>73</th>\n",
              "      <td>104</td>\n",
              "      <td>116</td>\n",
              "      <td>Eduardo Nelson Melo</td>\n",
              "      <td>Eduardo Nelson Melo</td>\n",
              "      <td>Cecilia Sophie</td>\n",
              "      <td>Cecilia Sophie</td>\n",
              "      <td>895.258.369-83</td>\n",
              "      <td>466.803.635-86</td>\n",
              "      <td>0.9</td>\n",
              "      <td>False</td>\n",
              "    </tr>\n",
              "  </tbody>\n",
              "</table>\n",
              "<p>74 rows × 10 columns</p>\n",
              "</div>"
            ],
            "text/plain": [
              "     id id_b  ...           distancia CPFs_Iguais\n",
              "0   458   69  ...                 1.0        True\n",
              "1    28   15  ...                 1.0        True\n",
              "2   525   42  ...                 1.0        True\n",
              "3    41   28  ...                 1.0        True\n",
              "4   474   85  ...                 1.0        True\n",
              "5   462   73  ...                 1.0        True\n",
              "6    76   64  ...                 1.0        True\n",
              "7   530   47  ...                 1.0        True\n",
              "8   513   30  ...                 1.0        True\n",
              "9   514   31  ...                 1.0        True\n",
              "10  526   43  ...                 1.0        True\n",
              "11   14   01  ...                 1.0        True\n",
              "12  459   70  ...                 1.0        True\n",
              "13   40   27  ...                 1.0        True\n",
              "14   73   61  ...                 1.0        True\n",
              "15  464   75  ...                 1.0        True\n",
              "16   63   51  ...                 1.0        True\n",
              "17  529   46  ...                 1.0        True\n",
              "18   29   16  ...                 1.0        True\n",
              "19  460   71  ...                 1.0        True\n",
              "20   18   05  ...                 1.0        True\n",
              "21  487   98  ...                 1.0        True\n",
              "22   72   60  ...                 1.0        True\n",
              "23  479   90  ...                 1.0        True\n",
              "24  457   68  ...                 1.0        True\n",
              "25  488   99  ...                 1.0        True\n",
              "26   16   03  ...                 1.0        True\n",
              "27  521   38  ...                 1.0        True\n",
              "28  523   40  ...                 1.0        True\n",
              "29   38   25  ...                 1.0        True\n",
              "..  ...  ...  ...                 ...         ...\n",
              "44   33   20  ...                 1.0        True\n",
              "45  519   36  ...                 1.0        True\n",
              "46  520   37  ...                 1.0        True\n",
              "47  532   49  ...                 1.0        True\n",
              "48   77   65  ...                 1.0        True\n",
              "49   75   63  ...                 1.0        True\n",
              "50  478   89  ...                 1.0        True\n",
              "51   74   62  ...                 1.0        True\n",
              "52   25   12  ...                 1.0        True\n",
              "53  472   83  ...                 1.0        True\n",
              "54   26   13  ...                 1.0        True\n",
              "55   27   14  ...                 1.0        True\n",
              "56   78   66  ...                 1.0        True\n",
              "57  480   91  ...                 1.0        True\n",
              "58  461   72  ...                 1.0        True\n",
              "59  463   74  ...                 1.0        True\n",
              "60  465   76  ...                 1.0        True\n",
              "61  469   80  ...                 1.0        True\n",
              "62  533   50  ...                 1.0        True\n",
              "63  528   45  ...                 1.0        True\n",
              "64  522   39  ...  0.9895833333333334        True\n",
              "65  476   87  ...  0.9886363636363636        True\n",
              "66   32   19  ...  0.9807692307692308        True\n",
              "67   65   53  ...  0.9807692307692308        True\n",
              "68  466   77  ...                0.95        True\n",
              "69  477   88  ...  0.9326923076923077        True\n",
              "70   64   52  ...               0.925        True\n",
              "71  515   32  ...  0.9166666666666667        True\n",
              "72   92  104  ...                 0.9       False\n",
              "73  104  116  ...                 0.9       False\n",
              "\n",
              "[74 rows x 10 columns]"
            ]
          },
          "metadata": {
            "tags": []
          },
          "execution_count": 87
        }
      ]
    },
    {
      "cell_type": "markdown",
      "metadata": {
        "id": "o6zpz_LDGNC3",
        "colab_type": "text"
      },
      "source": [
        "##Exportando Resultados para Verificação de Acurácia"
      ]
    },
    {
      "cell_type": "code",
      "metadata": {
        "id": "g7JvU3U9F90r",
        "colab_type": "code",
        "outputId": "93e71c6f-cc4b-4ef4-a7cb-ec08f23a24f8",
        "colab": {
          "base_uri": "https://localhost:8080/",
          "height": 459
        }
      },
      "source": [
        "dfc_4.select(F.col(\"cpf\").alias(\"cpf_a\"),'cpf_b', F.col(\"similaridade\").alias(\"similarity\")).show()"
      ],
      "execution_count": 88,
      "outputs": [
        {
          "output_type": "stream",
          "text": [
            "+--------------+--------------+------------------+\n",
            "|         cpf_a|         cpf_b|        similarity|\n",
            "+--------------+--------------+------------------+\n",
            "|506.865.202-46|506.865.202-46|               1.0|\n",
            "|325.828.867-42|325.828.867-42|0.9002136752136752|\n",
            "|284.536.218-88|284.536.218-88|               1.0|\n",
            "|390.375.925-20|390.375.925-20|0.9961538461538462|\n",
            "|756.005.387-40|756.005.387-40|               1.0|\n",
            "|551.341.139-39|551.341.139-39|0.9880952380952381|\n",
            "|756.048.583-90|756.048.583-90|              0.75|\n",
            "|386.351.591-95|386.351.591-95|0.7444444444444445|\n",
            "|885.264.747-31|885.264.747-31|              0.75|\n",
            "|489.611.821-96|489.611.821-96|0.7166666666666667|\n",
            "|390.375.925-20|711.467.358-20|0.8101785714285714|\n",
            "|919.624.227-20|823.068.573-85|0.8361111111111111|\n",
            "|197.863.690-33|040.568.439-88|0.8547619047619047|\n",
            "|853.220.078-81|461.427.999-69|0.8408730158730159|\n",
            "|510.498.890-29|423.398.060-54|0.9380952380952381|\n",
            "|621.824.822-45|974.659.231-90|              0.85|\n",
            "|016.408.168-28|629.574.715-90|0.8226190476190476|\n",
            "|681.663.899-91|535.871.894-04| 0.822964997964998|\n",
            "|236.305.262-50|874.269.918-57|0.8083333333333333|\n",
            "|640.234.882-16|840.760.458-58|0.8547619047619047|\n",
            "+--------------+--------------+------------------+\n",
            "only showing top 20 rows\n",
            "\n"
          ],
          "name": "stdout"
        }
      ]
    },
    {
      "cell_type": "code",
      "metadata": {
        "id": "PRexO55wC-Tf",
        "colab_type": "code",
        "colab": {}
      },
      "source": [
        "dfc_4.select(F.col(\"cpf\").alias(\"cpf_a\"),'cpf_b', F.col(\"similaridade\").alias(\"similarity\")).toPandas().to_csv('gdrive/My Drive/Colab Notebooks/results_for_accuracy_calc.csv')"
      ],
      "execution_count": 0,
      "outputs": []
    },
    {
      "cell_type": "markdown",
      "metadata": {
        "id": "ygPimoPzHLvz",
        "colab_type": "text"
      },
      "source": [
        "##Verificação de Acurácia"
      ]
    },
    {
      "cell_type": "code",
      "metadata": {
        "id": "AUJ2wSjmGsE7",
        "colab_type": "code",
        "colab": {}
      },
      "source": [
        "import pyspark.sql.functions as F\n",
        "from pyspark.sql.types import *\n",
        "import pandas as pd"
      ],
      "execution_count": 0,
      "outputs": []
    },
    {
      "cell_type": "code",
      "metadata": {
        "id": "WX6gJkt0GsE9",
        "colab_type": "code",
        "colab": {}
      },
      "source": [
        "data = spark.read.csv('gdrive/My Drive/Colab Notebooks/results_for_accuracy_calc.csv', header=True)"
      ],
      "execution_count": 0,
      "outputs": []
    },
    {
      "cell_type": "code",
      "metadata": {
        "id": "XSQWmlc2GsE_",
        "colab_type": "code",
        "outputId": "5e9676f7-fb84-41dd-b4e6-d14c145316cc",
        "colab": {
          "base_uri": "https://localhost:8080/",
          "height": 359
        }
      },
      "source": [
        "data.limit(10).toPandas()"
      ],
      "execution_count": 114,
      "outputs": [
        {
          "output_type": "execute_result",
          "data": {
            "text/html": [
              "<div>\n",
              "<style scoped>\n",
              "    .dataframe tbody tr th:only-of-type {\n",
              "        vertical-align: middle;\n",
              "    }\n",
              "\n",
              "    .dataframe tbody tr th {\n",
              "        vertical-align: top;\n",
              "    }\n",
              "\n",
              "    .dataframe thead th {\n",
              "        text-align: right;\n",
              "    }\n",
              "</style>\n",
              "<table border=\"1\" class=\"dataframe\">\n",
              "  <thead>\n",
              "    <tr style=\"text-align: right;\">\n",
              "      <th></th>\n",
              "      <th>_c0</th>\n",
              "      <th>cpf_a</th>\n",
              "      <th>cpf_b</th>\n",
              "      <th>similarity</th>\n",
              "    </tr>\n",
              "  </thead>\n",
              "  <tbody>\n",
              "    <tr>\n",
              "      <th>0</th>\n",
              "      <td>0</td>\n",
              "      <td>506.865.202-46</td>\n",
              "      <td>506.865.202-46</td>\n",
              "      <td>1.0</td>\n",
              "    </tr>\n",
              "    <tr>\n",
              "      <th>1</th>\n",
              "      <td>1</td>\n",
              "      <td>325.828.867-42</td>\n",
              "      <td>325.828.867-42</td>\n",
              "      <td>0.9002136752136752</td>\n",
              "    </tr>\n",
              "    <tr>\n",
              "      <th>2</th>\n",
              "      <td>2</td>\n",
              "      <td>284.536.218-88</td>\n",
              "      <td>284.536.218-88</td>\n",
              "      <td>1.0</td>\n",
              "    </tr>\n",
              "    <tr>\n",
              "      <th>3</th>\n",
              "      <td>3</td>\n",
              "      <td>390.375.925-20</td>\n",
              "      <td>390.375.925-20</td>\n",
              "      <td>0.9961538461538462</td>\n",
              "    </tr>\n",
              "    <tr>\n",
              "      <th>4</th>\n",
              "      <td>4</td>\n",
              "      <td>756.005.387-40</td>\n",
              "      <td>756.005.387-40</td>\n",
              "      <td>1.0</td>\n",
              "    </tr>\n",
              "    <tr>\n",
              "      <th>5</th>\n",
              "      <td>5</td>\n",
              "      <td>551.341.139-39</td>\n",
              "      <td>551.341.139-39</td>\n",
              "      <td>0.9880952380952381</td>\n",
              "    </tr>\n",
              "    <tr>\n",
              "      <th>6</th>\n",
              "      <td>6</td>\n",
              "      <td>756.048.583-90</td>\n",
              "      <td>756.048.583-90</td>\n",
              "      <td>0.75</td>\n",
              "    </tr>\n",
              "    <tr>\n",
              "      <th>7</th>\n",
              "      <td>7</td>\n",
              "      <td>386.351.591-95</td>\n",
              "      <td>386.351.591-95</td>\n",
              "      <td>0.7444444444444445</td>\n",
              "    </tr>\n",
              "    <tr>\n",
              "      <th>8</th>\n",
              "      <td>8</td>\n",
              "      <td>885.264.747-31</td>\n",
              "      <td>885.264.747-31</td>\n",
              "      <td>0.75</td>\n",
              "    </tr>\n",
              "    <tr>\n",
              "      <th>9</th>\n",
              "      <td>9</td>\n",
              "      <td>489.611.821-96</td>\n",
              "      <td>489.611.821-96</td>\n",
              "      <td>0.7166666666666667</td>\n",
              "    </tr>\n",
              "  </tbody>\n",
              "</table>\n",
              "</div>"
            ],
            "text/plain": [
              "  _c0           cpf_a           cpf_b          similarity\n",
              "0   0  506.865.202-46  506.865.202-46                 1.0\n",
              "1   1  325.828.867-42  325.828.867-42  0.9002136752136752\n",
              "2   2  284.536.218-88  284.536.218-88                 1.0\n",
              "3   3  390.375.925-20  390.375.925-20  0.9961538461538462\n",
              "4   4  756.005.387-40  756.005.387-40                 1.0\n",
              "5   5  551.341.139-39  551.341.139-39  0.9880952380952381\n",
              "6   6  756.048.583-90  756.048.583-90                0.75\n",
              "7   7  386.351.591-95  386.351.591-95  0.7444444444444445\n",
              "8   8  885.264.747-31  885.264.747-31                0.75\n",
              "9   9  489.611.821-96  489.611.821-96  0.7166666666666667"
            ]
          },
          "metadata": {
            "tags": []
          },
          "execution_count": 114
        }
      ]
    },
    {
      "cell_type": "code",
      "metadata": {
        "id": "z_yCYz9HGsFC",
        "colab_type": "code",
        "colab": {}
      },
      "source": [
        "# Let us consider a cuttoff point set as 0.9\n",
        "cutoff = 0.9\n",
        "\n",
        "# sorting and deduplicating the resulting dataset\n",
        "data = data.withColumn('similarity', F.col('similarity').cast(DoubleType()))\n",
        "data = data.orderBy('similarity').dropDuplicates(['cpf_b'])\n",
        "data = data.withColumn('match', F.when(F.col('similarity') >= cutoff, '1').otherwise('0'))"
      ],
      "execution_count": 0,
      "outputs": []
    },
    {
      "cell_type": "code",
      "metadata": {
        "id": "Ww_IwhvNGsFE",
        "colab_type": "code",
        "colab": {}
      },
      "source": [
        "def inspect_pairs(cpf_a, cpf_b, match):\n",
        "    if match == '1':\n",
        "        if cpf_a == cpf_b:\n",
        "            return \"TP\"\n",
        "        else:\n",
        "            return \"FP\"\n",
        "    else:\n",
        "        if cpf_a != cpf_b:\n",
        "            return \"TN\"\n",
        "        else: \n",
        "            return \"FN\"\n",
        "udf_inspect_pairs = F.udf(inspect_pairs, StringType())"
      ],
      "execution_count": 0,
      "outputs": []
    },
    {
      "cell_type": "code",
      "metadata": {
        "id": "jB5AN17gGsFG",
        "colab_type": "code",
        "colab": {}
      },
      "source": [
        "data = data.withColumn('perf', udf_inspect_pairs(F.col('cpf_a'), F.col('cpf_b'), F.col('match')))"
      ],
      "execution_count": 0,
      "outputs": []
    },
    {
      "cell_type": "markdown",
      "metadata": {
        "id": "u_bbdNP7GsFH",
        "colab_type": "text"
      },
      "source": [
        "### Measures\n",
        "Accuracy = (TP + TN) / (FP + TP + FN + TN)\n",
        "\n",
        "Positive predictive value (PPV) = TP / (TP + FP)\n",
        "\n",
        "Negative predictive value (NPV) = TN / (TN + FN)\n",
        "\n",
        "Sensitivity (True positive rate) = TP / (TP + FN)\n",
        "\n",
        "Specificity (True negative rate) = TN / (TN + FP)"
      ]
    },
    {
      "cell_type": "code",
      "metadata": {
        "id": "bdahvhjiGsFI",
        "colab_type": "code",
        "colab": {}
      },
      "source": [
        "dic_results = {}\n",
        "TP = data.filter(F.col('perf') == \"TP\").count()\n",
        "TN = data.filter(F.col('perf') == \"TN\").count()\n",
        "FP = data.filter(F.col('perf') == \"FP\").count()\n",
        "FN = data.filter(F.col('perf') == \"FN\").count()\n",
        "\n",
        "\n",
        "dic_results['accuracy'] =  float(TP + TN) / (FP + TP + FN + TN)\n",
        "dic_results['ppv'] = float(TP) / (TP + FP)\n",
        "dic_results['npv'] = float(TN) / (TN + FN)\n",
        "dic_results['sens'] = float(TP) / (TP + FN)\n",
        "dic_results['spec'] = float(TN) / (TN + FP)"
      ],
      "execution_count": 0,
      "outputs": []
    },
    {
      "cell_type": "code",
      "metadata": {
        "id": "BvyW00TAGsFK",
        "colab_type": "code",
        "colab": {}
      },
      "source": [
        "final_results = pd.DataFrame(dic_results, index=[0])"
      ],
      "execution_count": 0,
      "outputs": []
    },
    {
      "cell_type": "code",
      "metadata": {
        "id": "b6DeN0IvGsFM",
        "colab_type": "code",
        "outputId": "4fdd349c-36a4-4e5d-ea59-10172641e1ad",
        "colab": {
          "base_uri": "https://localhost:8080/",
          "height": 80
        }
      },
      "source": [
        "final_results"
      ],
      "execution_count": 120,
      "outputs": [
        {
          "output_type": "execute_result",
          "data": {
            "text/html": [
              "<div>\n",
              "<style scoped>\n",
              "    .dataframe tbody tr th:only-of-type {\n",
              "        vertical-align: middle;\n",
              "    }\n",
              "\n",
              "    .dataframe tbody tr th {\n",
              "        vertical-align: top;\n",
              "    }\n",
              "\n",
              "    .dataframe thead th {\n",
              "        text-align: right;\n",
              "    }\n",
              "</style>\n",
              "<table border=\"1\" class=\"dataframe\">\n",
              "  <thead>\n",
              "    <tr style=\"text-align: right;\">\n",
              "      <th></th>\n",
              "      <th>accuracy</th>\n",
              "      <th>npv</th>\n",
              "      <th>ppv</th>\n",
              "      <th>sens</th>\n",
              "      <th>spec</th>\n",
              "    </tr>\n",
              "  </thead>\n",
              "  <tbody>\n",
              "    <tr>\n",
              "      <th>0</th>\n",
              "      <td>0.889831</td>\n",
              "      <td>0.784314</td>\n",
              "      <td>0.970149</td>\n",
              "      <td>0.855263</td>\n",
              "      <td>0.952381</td>\n",
              "    </tr>\n",
              "  </tbody>\n",
              "</table>\n",
              "</div>"
            ],
            "text/plain": [
              "   accuracy       npv       ppv      sens      spec\n",
              "0  0.889831  0.784314  0.970149  0.855263  0.952381"
            ]
          },
          "metadata": {
            "tags": []
          },
          "execution_count": 120
        }
      ]
    }
  ]
}