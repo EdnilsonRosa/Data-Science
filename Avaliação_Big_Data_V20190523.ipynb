{
  "nbformat": 4,
  "nbformat_minor": 0,
  "metadata": {
    "colab": {
      "name": "Avaliação Big Data V20190523.ipynb",
      "version": "0.3.2",
      "provenance": [],
      "collapsed_sections": [],
      "include_colab_link": true
    },
    "kernelspec": {
      "name": "python2",
      "display_name": "Python 2"
    }
  },
  "cells": [
    {
      "cell_type": "markdown",
      "metadata": {
        "id": "view-in-github",
        "colab_type": "text"
      },
      "source": [
        "<a href=\"https://colab.research.google.com/github/EdnilsonRosa/Data-Science/blob/master/Avalia%C3%A7%C3%A3o_Big_Data_V20190523.ipynb\" target=\"_parent\"><img src=\"https://colab.research.google.com/assets/colab-badge.svg\" alt=\"Open In Colab\"/></a>"
      ]
    },
    {
      "cell_type": "markdown",
      "metadata": {
        "id": "EzATYNEw4yxP",
        "colab_type": "text"
      },
      "source": [
        "# Avaliação Big Data - Phyton 2"
      ]
    },
    {
      "cell_type": "markdown",
      "metadata": {
        "id": "HeAFpH1H4Mj7",
        "colab_type": "text"
      },
      "source": [
        "## Inicializando o ambiente e carregando as bibliotecas"
      ]
    },
    {
      "cell_type": "code",
      "metadata": {
        "id": "fxBhk2b5l2vE",
        "colab_type": "code",
        "outputId": "f0387fa6-46ac-4e3b-cc50-ed2148d97384",
        "colab": {
          "base_uri": "https://localhost:8080/",
          "height": 68
        }
      },
      "source": [
        "#!apt-get install openjdk-8-jdk-headless -qq > /dev/null\n",
        "!wget -q http://archive.apache.org/dist/spark/spark-2.4.2/spark-2.4.2-bin-hadoop2.7.tgz\n",
        "!tar xf spark-2.4.2-bin-hadoop2.7.tgz\n",
        "!pip install -q findspark\n",
        "\n",
        "!java -version\n",
        "\n",
        "import os\n",
        "os.environ[\"JAVA_HOME\"] = \"/usr/lib/jvm/java-1.11.0-openjdk-amd64/\"\n",
        "os.environ[\"SPARK_HOME\"] = \"/content/spark-2.4.2-bin-hadoop2.7\"\n",
        "\n",
        "import findspark\n",
        "findspark.init()\n",
        "from pyspark.sql import SparkSession\n",
        "spark = SparkSession.builder.master(\"local[*]\").getOrCreate()\n",
        "\n",
        "### Chamada da biblioteca\n",
        "\n",
        "from pyspark.sql import SparkSession\n",
        "import pyspark.sql.functions as F\n",
        "from pyspark.sql.types import StringType\n",
        "from pyspark.sql.types import IntegerType\n",
        "\n",
        "### Inicializaçaõ da Sessão do Spark - \n",
        "\n",
        "spark = SparkSession.builder \\\n",
        "                    .appName(\"Tutorial PySpark SQL\") \\\n",
        "                    .config(\"spark.some.config.option\", \"some-value\") \\\n",
        "                    .getOrCreate()"
      ],
      "execution_count": 71,
      "outputs": [
        {
          "output_type": "stream",
          "text": [
            "openjdk version \"11.0.3\" 2019-04-16\n",
            "OpenJDK Runtime Environment (build 11.0.3+7-Ubuntu-1ubuntu218.04.1)\n",
            "OpenJDK 64-Bit Server VM (build 11.0.3+7-Ubuntu-1ubuntu218.04.1, mixed mode, sharing)\n"
          ],
          "name": "stdout"
        }
      ]
    },
    {
      "cell_type": "code",
      "metadata": {
        "id": "SN14McSe09um",
        "colab_type": "code",
        "outputId": "bb33a708-29e4-427d-cbdd-53095edb7225",
        "colab": {
          "base_uri": "https://localhost:8080/",
          "height": 34
        }
      },
      "source": [
        "!pip install jellyfish\n",
        "import jellyfish"
      ],
      "execution_count": 72,
      "outputs": [
        {
          "output_type": "stream",
          "text": [
            "Requirement already satisfied: jellyfish in /usr/local/lib/python2.7/dist-packages (0.6.1)\n"
          ],
          "name": "stdout"
        }
      ]
    },
    {
      "cell_type": "code",
      "metadata": {
        "id": "_WD9ie0Tw01B",
        "colab_type": "code",
        "colab": {}
      },
      "source": [
        "import pandas as pd"
      ],
      "execution_count": 0,
      "outputs": []
    },
    {
      "cell_type": "markdown",
      "metadata": {
        "id": "lndoP-vn4YJW",
        "colab_type": "text"
      },
      "source": [
        "## Montando o Drive e carregando o arquivo"
      ]
    },
    {
      "cell_type": "code",
      "metadata": {
        "id": "6apsGNwnvZEV",
        "colab_type": "code",
        "outputId": "07e6b2d2-e753-4dd1-b337-a657a8f06e7a",
        "colab": {
          "base_uri": "https://localhost:8080/",
          "height": 34
        }
      },
      "source": [
        "### Montagem de drive do Google\n",
        "### Será solicitada autorização\n",
        "### O Colab tem como raiz uma pasta 'content'\n",
        "\n",
        "from google.colab import drive\n",
        "drive.mount('/content/gdrive')"
      ],
      "execution_count": 74,
      "outputs": [
        {
          "output_type": "stream",
          "text": [
            "Drive already mounted at /content/gdrive; to attempt to forcibly remount, call drive.mount(\"/content/gdrive\", force_remount=True).\n"
          ],
          "name": "stdout"
        }
      ]
    },
    {
      "cell_type": "code",
      "metadata": {
        "id": "Mzr1wPwOvv68",
        "colab_type": "code",
        "colab": {}
      },
      "source": [
        "dfa = spark.read.csv('gdrive/My Drive/Colab Notebooks/base_sintetica_ascii_a.csv', header=True, sep=',')"
      ],
      "execution_count": 0,
      "outputs": []
    },
    {
      "cell_type": "code",
      "metadata": {
        "id": "akzNC8RCwUmN",
        "colab_type": "code",
        "colab": {}
      },
      "source": [
        "dfb = spark.read.csv('gdrive/My Drive/Colab Notebooks/base_sintetica_ascii_b.csv', header=True, sep=',')"
      ],
      "execution_count": 0,
      "outputs": []
    },
    {
      "cell_type": "code",
      "metadata": {
        "id": "VxWZz1lOwjrd",
        "colab_type": "code",
        "outputId": "697a3ce1-e557-4dff-dae9-853fcac06402",
        "colab": {
          "base_uri": "https://localhost:8080/",
          "height": 34
        }
      },
      "source": [
        "dfa.count()"
      ],
      "execution_count": 143,
      "outputs": [
        {
          "output_type": "execute_result",
          "data": {
            "text/plain": [
              "540"
            ]
          },
          "metadata": {
            "tags": []
          },
          "execution_count": 143
        }
      ]
    },
    {
      "cell_type": "code",
      "metadata": {
        "id": "J-2Oknqiwb33",
        "colab_type": "code",
        "outputId": "a823988c-2bde-4c43-8812-73f03c8e4b8f",
        "colab": {
          "base_uri": "https://localhost:8080/",
          "height": 34
        }
      },
      "source": [
        "dfb.count()"
      ],
      "execution_count": 144,
      "outputs": [
        {
          "output_type": "execute_result",
          "data": {
            "text/plain": [
              "143"
            ]
          },
          "metadata": {
            "tags": []
          },
          "execution_count": 144
        }
      ]
    },
    {
      "cell_type": "code",
      "metadata": {
        "id": "8PEhGkpPww9P",
        "colab_type": "code",
        "outputId": "707382e4-538b-4e04-e569-c75b023bd322",
        "colab": {
          "base_uri": "https://localhost:8080/",
          "height": 224
        }
      },
      "source": [
        "dfa.show(5)"
      ],
      "execution_count": 145,
      "outputs": [
        {
          "output_type": "stream",
          "text": [
            "+---+--------------+---------+---------+--------------+----------+--------------------+--------------------+------+-----+--------------------+--------------------+------+---------+--------------+----+\n",
            "| id|        bairro|      cep|   cidade|           cpf| data_nasc|               email|            endereco|estado|idade|                 mae|                nome|numero|    signo|tipo_sanguineo|_c15|\n",
            "+---+--------------+---------+---------+--------------+----------+--------------------+--------------------+------+-----+--------------------+--------------------+------+---------+--------------+----+\n",
            "|  0|   Vila Sarney|65090-677| Sao Luis|097.627.958-49|10/09/1948|vicenteolivermont...|2a Travessa do Ri...|    MA|   71|     Louise Beatriz |Vicente Oliver Mo...|   738|   Virgem|           AB-|null|\n",
            "|  1|Vila Sao Jorge|75044-220| Anapolis|685.096.335-09|24/04/1995|miguelbernardogon...|  Praca Joao Salomao|    GO|   24|     Raquel Barbara |Miguel Bernardo G...|   805|    Touro|            A-|null|\n",
            "|  2|   Cabralzinho|68906-846|   Macapa|956.997.968-27|13/03/1984|ericktheomarcosvi...|    Alameda Calcoene|    AP|   35|Maite Valentina R...|Erick Theo Marcos...|   669|   Peixes|            B+|null|\n",
            "|  3|     Mae Luiza|59014-227|    Natal|631.875.885-22|27/09/1965|mariorobertoisaac...|1a Rua Sao Francisco|    RN|   54|Alicia Cristiane ...|Mario Roberto Isa...|   978|    Libra|           AB+|null|\n",
            "|  4| Jardim Monaco|86702-790|Arapongas|397.480.478-14|24/11/1965|eeliasandersonmat...|Rua Mariquita-dos...|    PR|   54|     Tatiane Josefa |Elias Anderson Ma...|   558|Sagitario|            A+|null|\n",
            "+---+--------------+---------+---------+--------------+----------+--------------------+--------------------+------+-----+--------------------+--------------------+------+---------+--------------+----+\n",
            "only showing top 5 rows\n",
            "\n"
          ],
          "name": "stdout"
        }
      ]
    },
    {
      "cell_type": "code",
      "metadata": {
        "id": "5p5jXN36wpqU",
        "colab_type": "code",
        "outputId": "80661430-7515-4cb6-81a9-292d3d55a975",
        "colab": {
          "base_uri": "https://localhost:8080/",
          "height": 204
        }
      },
      "source": [
        "dfb.limit(5).toPandas()"
      ],
      "execution_count": 146,
      "outputs": [
        {
          "output_type": "execute_result",
          "data": {
            "text/html": [
              "<div>\n",
              "<style scoped>\n",
              "    .dataframe tbody tr th:only-of-type {\n",
              "        vertical-align: middle;\n",
              "    }\n",
              "\n",
              "    .dataframe tbody tr th {\n",
              "        vertical-align: top;\n",
              "    }\n",
              "\n",
              "    .dataframe thead th {\n",
              "        text-align: right;\n",
              "    }\n",
              "</style>\n",
              "<table border=\"1\" class=\"dataframe\">\n",
              "  <thead>\n",
              "    <tr style=\"text-align: right;\">\n",
              "      <th></th>\n",
              "      <th>id</th>\n",
              "      <th>cep</th>\n",
              "      <th>cidade</th>\n",
              "      <th>cpf</th>\n",
              "      <th>data_nasc</th>\n",
              "      <th>endereco</th>\n",
              "      <th>estado</th>\n",
              "      <th>mae</th>\n",
              "      <th>nome</th>\n",
              "      <th>tipo_sanguineo</th>\n",
              "    </tr>\n",
              "  </thead>\n",
              "  <tbody>\n",
              "    <tr>\n",
              "      <th>0</th>\n",
              "      <td>01</td>\n",
              "      <td>69304-350</td>\n",
              "      <td>Boa Vista</td>\n",
              "      <td>506.865.202-46</td>\n",
              "      <td>22/11/1965</td>\n",
              "      <td>Avenida Mario Homem de Melo</td>\n",
              "      <td>RR</td>\n",
              "      <td>Isabelle Marcia Antonella</td>\n",
              "      <td>Felipe Bruno dos Santos</td>\n",
              "      <td>AB-</td>\n",
              "    </tr>\n",
              "    <tr>\n",
              "      <th>1</th>\n",
              "      <td>02</td>\n",
              "      <td>78132-360</td>\n",
              "      <td>Varzea Grande</td>\n",
              "      <td>325.828.867-42</td>\n",
              "      <td>None</td>\n",
              "      <td>Rua Rio Cuiaba</td>\n",
              "      <td>MT</td>\n",
              "      <td>Alana Isadora</td>\n",
              "      <td>Marcio Heitor Silveira</td>\n",
              "      <td>AB-</td>\n",
              "    </tr>\n",
              "    <tr>\n",
              "      <th>2</th>\n",
              "      <td>03</td>\n",
              "      <td>88810-336</td>\n",
              "      <td>Criciuma</td>\n",
              "      <td>284.536.218-88</td>\n",
              "      <td>23/09/1961</td>\n",
              "      <td>Rua Romeu Lopes de Carvalho</td>\n",
              "      <td>SC</td>\n",
              "      <td>Caroline Gabriela</td>\n",
              "      <td>Theo Mario Victor Barbosa</td>\n",
              "      <td>A-</td>\n",
              "    </tr>\n",
              "    <tr>\n",
              "      <th>3</th>\n",
              "      <td>04</td>\n",
              "      <td>60874-405</td>\n",
              "      <td>Fortaleza</td>\n",
              "      <td>390.375.925-20</td>\n",
              "      <td>11/05/1981</td>\n",
              "      <td>None</td>\n",
              "      <td>CE</td>\n",
              "      <td>Tereza Bruna</td>\n",
              "      <td>Pietro Henrique de Paula</td>\n",
              "      <td>AB-</td>\n",
              "    </tr>\n",
              "    <tr>\n",
              "      <th>4</th>\n",
              "      <td>05</td>\n",
              "      <td>79106-140</td>\n",
              "      <td>Campo Grande</td>\n",
              "      <td>756.005.387-40</td>\n",
              "      <td>14/12/1941</td>\n",
              "      <td>Rua Pato Branco</td>\n",
              "      <td>MS</td>\n",
              "      <td>Alice Leticia</td>\n",
              "      <td>Kaique Thiago de Paula</td>\n",
              "      <td>A-</td>\n",
              "    </tr>\n",
              "  </tbody>\n",
              "</table>\n",
              "</div>"
            ],
            "text/plain": [
              "   id        cep  ...                       nome tipo_sanguineo\n",
              "0  01  69304-350  ...    Felipe Bruno dos Santos            AB-\n",
              "1  02  78132-360  ...     Marcio Heitor Silveira            AB-\n",
              "2  03  88810-336  ...  Theo Mario Victor Barbosa             A-\n",
              "3  04  60874-405  ...   Pietro Henrique de Paula            AB-\n",
              "4  05  79106-140  ...     Kaique Thiago de Paula             A-\n",
              "\n",
              "[5 rows x 10 columns]"
            ]
          },
          "metadata": {
            "tags": []
          },
          "execution_count": 146
        }
      ]
    },
    {
      "cell_type": "code",
      "metadata": {
        "id": "NWN7XbL-x_Sa",
        "colab_type": "code",
        "outputId": "f03e4792-c130-4d0c-ae02-de4d2c3cff0c",
        "colab": {
          "base_uri": "https://localhost:8080/",
          "height": 527
        }
      },
      "source": [
        "dfa.printSchema()\n",
        "dfb.printSchema()"
      ],
      "execution_count": 147,
      "outputs": [
        {
          "output_type": "stream",
          "text": [
            "root\n",
            " |-- id: string (nullable = true)\n",
            " |-- bairro: string (nullable = true)\n",
            " |-- cep: string (nullable = true)\n",
            " |-- cidade: string (nullable = true)\n",
            " |-- cpf: string (nullable = true)\n",
            " |-- data_nasc: string (nullable = true)\n",
            " |-- email: string (nullable = true)\n",
            " |-- endereco: string (nullable = true)\n",
            " |-- estado: string (nullable = true)\n",
            " |-- idade: string (nullable = true)\n",
            " |-- mae: string (nullable = true)\n",
            " |-- nome: string (nullable = true)\n",
            " |-- numero: string (nullable = true)\n",
            " |-- signo: string (nullable = true)\n",
            " |-- tipo_sanguineo: string (nullable = true)\n",
            " |-- _c15: string (nullable = true)\n",
            "\n",
            "root\n",
            " |-- id: string (nullable = true)\n",
            " |-- cep: string (nullable = true)\n",
            " |-- cidade: string (nullable = true)\n",
            " |-- cpf: string (nullable = true)\n",
            " |-- data_nasc: string (nullable = true)\n",
            " |-- endereco: string (nullable = true)\n",
            " |-- estado: string (nullable = true)\n",
            " |-- mae: string (nullable = true)\n",
            " |-- nome: string (nullable = true)\n",
            " |-- tipo_sanguineo: string (nullable = true)\n",
            "\n"
          ],
          "name": "stdout"
        }
      ]
    },
    {
      "cell_type": "markdown",
      "metadata": {
        "id": "XnNyV4gTK4ZW",
        "colab_type": "text"
      },
      "source": [
        "## Tratamento de Atributo Missing\n"
      ]
    },
    {
      "cell_type": "code",
      "metadata": {
        "id": "8rcWDerlKhav",
        "colab_type": "code",
        "outputId": "066392df-bd16-4b8c-bf91-aca9bd584306",
        "colab": {
          "base_uri": "https://localhost:8080/",
          "height": 34
        }
      },
      "source": [
        "dfa.filter(F.col('nome').isNull()).count()"
      ],
      "execution_count": 148,
      "outputs": [
        {
          "output_type": "execute_result",
          "data": {
            "text/plain": [
              "0"
            ]
          },
          "metadata": {
            "tags": []
          },
          "execution_count": 148
        }
      ]
    },
    {
      "cell_type": "code",
      "metadata": {
        "id": "yzbll1W7Kxyz",
        "colab_type": "code",
        "outputId": "b8c9f641-0f20-4861-ed2e-47e37f1dc6ed",
        "colab": {
          "base_uri": "https://localhost:8080/",
          "height": 34
        }
      },
      "source": [
        "dfb.filter(F.col('nome').isNull()).count()"
      ],
      "execution_count": 149,
      "outputs": [
        {
          "output_type": "execute_result",
          "data": {
            "text/plain": [
              "2"
            ]
          },
          "metadata": {
            "tags": []
          },
          "execution_count": 149
        }
      ]
    },
    {
      "cell_type": "code",
      "metadata": {
        "id": "kjGMs6ELLbj4",
        "colab_type": "code",
        "colab": {}
      },
      "source": [
        "# Trocando nomes nulos por espaço em branco (os valores anteriores são sobrescritos ao utilizar o mesmo nome de coluna)\n",
        "dfb = dfb.withColumn('nome', F.when(F.col('nome').isNull(),\" \").otherwise(F.col('nome')))"
      ],
      "execution_count": 0,
      "outputs": []
    },
    {
      "cell_type": "code",
      "metadata": {
        "id": "bkje_fqgLbFX",
        "colab_type": "code",
        "outputId": "13993f3b-8fa3-45ec-e132-3e64db0b8879",
        "colab": {
          "base_uri": "https://localhost:8080/",
          "height": 34
        }
      },
      "source": [
        "dfb.filter(F.col('nome').isNull()).count()"
      ],
      "execution_count": 151,
      "outputs": [
        {
          "output_type": "execute_result",
          "data": {
            "text/plain": [
              "0"
            ]
          },
          "metadata": {
            "tags": []
          },
          "execution_count": 151
        }
      ]
    },
    {
      "cell_type": "markdown",
      "metadata": {
        "id": "qakrYIenwyd1",
        "colab_type": "text"
      },
      "source": [
        "## **Outros Tratamentos**"
      ]
    },
    {
      "cell_type": "code",
      "metadata": {
        "id": "Z84a4XB4xV_e",
        "colab_type": "code",
        "colab": {}
      },
      "source": [
        "# Eliminação de possíveis espaços duplos nos nomes\n",
        "dfa = dfa.withColumn(\"nome\", F.regexp_replace(F.col(\"nome\"), '\\s+', ' '))\n",
        "dfb = dfb.withColumn(\"nome\", F.regexp_replace(F.col(\"nome\"), '\\s+', ' '))\n",
        "dfa = dfa.withColumn(\"mae\", F.regexp_replace(F.col(\"mae\"), '\\s+', ' '))\n",
        "dfb = dfb.withColumn(\"mae\", F.regexp_replace(F.col(\"mae\"), '\\s+', ' '))\n",
        "dfa = dfa.withColumn(\"cidade\", F.regexp_replace(F.col(\"cidade\"), '\\s+', ' '))\n",
        "dfb = dfb.withColumn(\"cidade\", F.regexp_replace(F.col(\"cidade\"), '\\s+', ' '))\n",
        "dfa = dfa.withColumn(\"endereco\", F.regexp_replace(F.col(\"endereco\"), '\\s+', ' '))\n",
        "dfb = dfb.withColumn(\"endereco\", F.regexp_replace(F.col(\"endereco\"), '\\s+', ' '))\n",
        "# Substituição de possiveis caracteres especiais por espaço em branco\n",
        "dfa = dfa.withColumn(\"nome\", F.regexp_replace(F.col(\"nome\"), r'[^a-zA-Z ]+', ' '))\n",
        "dfb = dfb.withColumn(\"nome\", F.regexp_replace(F.col(\"nome\"), r'[^a-zA-Z ]+', ' '))\n",
        "dfa = dfa.withColumn(\"mae\", F.regexp_replace(F.col(\"mae\"), r'[^a-zA-Z ]+', ' '))\n",
        "dfb = dfb.withColumn(\"mae\", F.regexp_replace(F.col(\"mae\"), r'[^a-zA-Z ]+', ' '))\n",
        "dfa = dfa.withColumn(\"cidade\", F.regexp_replace(F.col(\"cidade\"), r'[^a-zA-Z ]+', ' '))\n",
        "dfb = dfb.withColumn(\"cidade\", F.regexp_replace(F.col(\"cidade\"), r'[^a-zA-Z ]+', ' '))\n",
        "dfa = dfa.withColumn(\"endereco\", F.regexp_replace(F.col(\"endereco\"), r'[^a-zA-Z ]+', ' '))\n"
      ],
      "execution_count": 0,
      "outputs": []
    },
    {
      "cell_type": "markdown",
      "metadata": {
        "id": "DXFbhfDs3KXG",
        "colab_type": "text"
      },
      "source": [
        "## Renomeando colunas para o linkage (necessita nomes diferentes)"
      ]
    },
    {
      "cell_type": "code",
      "metadata": {
        "id": "Pofvt2WKzEkJ",
        "colab_type": "code",
        "colab": {}
      },
      "source": [
        "dfb = dfb.withColumnRenamed('id','id_b')\n",
        "dfb = dfb.withColumnRenamed('cep','cep_b')\n",
        "dfb = dfb.withColumnRenamed('cidade','cidade_b')\n",
        "dfb = dfb.withColumnRenamed('cpf','cpf_b')\n",
        "dfb = dfb.withColumnRenamed('data_nasc','data_nasc_b')\n",
        "dfb = dfb.withColumnRenamed('endereco','endereco_b')\n",
        "dfb = dfb.withColumnRenamed('estado','estado_b')\n",
        "dfb = dfb.withColumnRenamed('mae','mae_b')\n",
        "dfb = dfb.withColumnRenamed('nome','nome_b')\n",
        "dfb = dfb.withColumnRenamed('tipo_sanguineo','tipo_sanguineo_b')"
      ],
      "execution_count": 0,
      "outputs": []
    },
    {
      "cell_type": "code",
      "metadata": {
        "id": "EteQQ3F90uua",
        "colab_type": "code",
        "outputId": "7df24275-7f58-4104-fe29-b559419eec36",
        "colab": {
          "base_uri": "https://localhost:8080/",
          "height": 527
        }
      },
      "source": [
        "dfa.printSchema()\n",
        "dfb.printSchema()"
      ],
      "execution_count": 154,
      "outputs": [
        {
          "output_type": "stream",
          "text": [
            "root\n",
            " |-- id: string (nullable = true)\n",
            " |-- bairro: string (nullable = true)\n",
            " |-- cep: string (nullable = true)\n",
            " |-- cidade: string (nullable = true)\n",
            " |-- cpf: string (nullable = true)\n",
            " |-- data_nasc: string (nullable = true)\n",
            " |-- email: string (nullable = true)\n",
            " |-- endereco: string (nullable = true)\n",
            " |-- estado: string (nullable = true)\n",
            " |-- idade: string (nullable = true)\n",
            " |-- mae: string (nullable = true)\n",
            " |-- nome: string (nullable = true)\n",
            " |-- numero: string (nullable = true)\n",
            " |-- signo: string (nullable = true)\n",
            " |-- tipo_sanguineo: string (nullable = true)\n",
            " |-- _c15: string (nullable = true)\n",
            "\n",
            "root\n",
            " |-- id_b: string (nullable = true)\n",
            " |-- cep_b: string (nullable = true)\n",
            " |-- cidade_b: string (nullable = true)\n",
            " |-- cpf_b: string (nullable = true)\n",
            " |-- data_nasc_b: string (nullable = true)\n",
            " |-- endereco_b: string (nullable = true)\n",
            " |-- estado_b: string (nullable = true)\n",
            " |-- mae_b: string (nullable = true)\n",
            " |-- nome_b: string (nullable = true)\n",
            " |-- tipo_sanguineo_b: string (nullable = true)\n",
            "\n"
          ],
          "name": "stdout"
        }
      ]
    },
    {
      "cell_type": "markdown",
      "metadata": {
        "id": "TV9OfmjJ3aib",
        "colab_type": "text"
      },
      "source": [
        "## Fazendo Linkage"
      ]
    },
    {
      "cell_type": "code",
      "metadata": {
        "id": "OOUX6idU0Qdj",
        "colab_type": "code",
        "colab": {}
      },
      "source": [
        "# CrossJoin somente com colunas que serão utilizadas na análise\n",
        "\n",
        "dfl = dfa.select('id','cep','cidade','data_nasc','endereco','estado','idade','mae','nome','tipo_sanguineo','cpf').crossJoin( \\\n",
        "      dfb.select('id_b','cep_b','cidade_b','data_nasc_b','endereco_b','estado_b','mae_b','nome_b','tipo_sanguineo_b','cpf_b'))"
      ],
      "execution_count": 0,
      "outputs": []
    },
    {
      "cell_type": "code",
      "metadata": {
        "id": "HaXGRL_z0g12",
        "colab_type": "code",
        "outputId": "166b11d3-8a18-4363-f186-3a2d1f347f6d",
        "colab": {
          "base_uri": "https://localhost:8080/",
          "height": 207
        }
      },
      "source": [
        "dfl.limit(5).show()"
      ],
      "execution_count": 156,
      "outputs": [
        {
          "output_type": "stream",
          "text": [
            "+---+---------+--------+----------+--------------------+------+-----+---------------+--------------------+--------------+--------------+----+---------+-------------+-----------+--------------------+--------+--------------------+--------------------+----------------+--------------+\n",
            "| id|      cep|  cidade| data_nasc|            endereco|estado|idade|            mae|                nome|tipo_sanguineo|           cpf|id_b|    cep_b|     cidade_b|data_nasc_b|          endereco_b|estado_b|               mae_b|              nome_b|tipo_sanguineo_b|         cpf_b|\n",
            "+---+---------+--------+----------+--------------------+------+-----+---------------+--------------------+--------------+--------------+----+---------+-------------+-----------+--------------------+--------+--------------------+--------------------+----------------+--------------+\n",
            "|  0|65090-677|Sao Luis|10/09/1948| a Travessa do Ri...|    MA|   71|Louise Beatriz |Vicente Oliver Mo...|           AB-|097.627.958-49|  01|69304-350|    Boa Vista| 22/11/1965|Avenida Mario Hom...|      RR|Isabelle Marcia A...|Felipe Bruno dos ...|             AB-|506.865.202-46|\n",
            "|  0|65090-677|Sao Luis|10/09/1948| a Travessa do Ri...|    MA|   71|Louise Beatriz |Vicente Oliver Mo...|           AB-|097.627.958-49|  02|78132-360|Varzea Grande|       null|      Rua Rio Cuiaba|      MT|       Alana Isadora|Marcio Heitor Sil...|             AB-|325.828.867-42|\n",
            "|  0|65090-677|Sao Luis|10/09/1948| a Travessa do Ri...|    MA|   71|Louise Beatriz |Vicente Oliver Mo...|           AB-|097.627.958-49|  03|88810-336|     Criciuma| 23/09/1961|Rua Romeu Lopes d...|      SC|  Caroline Gabriela |Theo Mario Victor...|              A-|284.536.218-88|\n",
            "|  0|65090-677|Sao Luis|10/09/1948| a Travessa do Ri...|    MA|   71|Louise Beatriz |Vicente Oliver Mo...|           AB-|097.627.958-49|  04|60874-405|    Fortaleza| 11/05/1981|                null|      CE|       Tereza Bruna |Pietro Henrique d...|             AB-|390.375.925-20|\n",
            "|  0|65090-677|Sao Luis|10/09/1948| a Travessa do Ri...|    MA|   71|Louise Beatriz |Vicente Oliver Mo...|           AB-|097.627.958-49|  05|79106-140| Campo Grande| 14/12/1941|     Rua Pato Branco|      MS|      Alice Leticia |Kaique Thiago de ...|              A-|756.005.387-40|\n",
            "+---+---------+--------+----------+--------------------+------+-----+---------------+--------------------+--------------+--------------+----+---------+-------------+-----------+--------------------+--------+--------------------+--------------------+----------------+--------------+\n",
            "\n"
          ],
          "name": "stdout"
        }
      ]
    },
    {
      "cell_type": "markdown",
      "metadata": {
        "id": "gkwPAIS_7khv",
        "colab_type": "text"
      },
      "source": [
        "## Criação de Funções para extração do primeiro e último nome"
      ]
    },
    {
      "cell_type": "code",
      "metadata": {
        "id": "tzjgEpWA7jJf",
        "colab_type": "code",
        "colab": {}
      },
      "source": [
        "def criaPrimeiroNome(col):\n",
        "  return col.split(' ') [0]\n",
        "udf_criaPrimeiroNome = F.udf(criaPrimeiroNome, StringType())"
      ],
      "execution_count": 0,
      "outputs": []
    },
    {
      "cell_type": "code",
      "metadata": {
        "id": "fwYh_y3E8MoX",
        "colab_type": "code",
        "colab": {}
      },
      "source": [
        "def criaUltimoNome(col):\n",
        "  return col.split(' ') [-1]\n",
        "udf_criaUltimoNome = F.udf(criaUltimoNome, StringType())"
      ],
      "execution_count": 0,
      "outputs": []
    },
    {
      "cell_type": "markdown",
      "metadata": {
        "id": "khpTjMea8cXK",
        "colab_type": "text"
      },
      "source": [
        "## Criação das Colunas dos Primeiros e Ultimos Nomes"
      ]
    },
    {
      "cell_type": "code",
      "metadata": {
        "id": "gFBP3VG58blf",
        "colab_type": "code",
        "colab": {}
      },
      "source": [
        "dfl = dfl.withColumn('primeiro_nome_a', udf_criaPrimeiroNome(F.col('nome')))\n",
        "dfl = dfl.withColumn('primeiro_nome_b', udf_criaPrimeiroNome(F.col('nome_b')))\n",
        "dfl = dfl.withColumn('ultimo_nome_a', udf_criaUltimoNome(F.col('nome')))\n",
        "dfl = dfl.withColumn('ultimo_nome_b', udf_criaUltimoNome(F.col('nome_b')))"
      ],
      "execution_count": 0,
      "outputs": []
    },
    {
      "cell_type": "code",
      "metadata": {
        "id": "f73I6ruGJGhn",
        "colab_type": "code",
        "outputId": "b9af78e6-199a-4b92-b14e-0794109e6c3d",
        "colab": {
          "base_uri": "https://localhost:8080/",
          "height": 476
        }
      },
      "source": [
        "dfl.printSchema()"
      ],
      "execution_count": 160,
      "outputs": [
        {
          "output_type": "stream",
          "text": [
            "root\n",
            " |-- id: string (nullable = true)\n",
            " |-- cep: string (nullable = true)\n",
            " |-- cidade: string (nullable = true)\n",
            " |-- data_nasc: string (nullable = true)\n",
            " |-- endereco: string (nullable = true)\n",
            " |-- estado: string (nullable = true)\n",
            " |-- idade: string (nullable = true)\n",
            " |-- mae: string (nullable = true)\n",
            " |-- nome: string (nullable = true)\n",
            " |-- tipo_sanguineo: string (nullable = true)\n",
            " |-- cpf: string (nullable = true)\n",
            " |-- id_b: string (nullable = true)\n",
            " |-- cep_b: string (nullable = true)\n",
            " |-- cidade_b: string (nullable = true)\n",
            " |-- data_nasc_b: string (nullable = true)\n",
            " |-- endereco_b: string (nullable = true)\n",
            " |-- estado_b: string (nullable = true)\n",
            " |-- mae_b: string (nullable = true)\n",
            " |-- nome_b: string (nullable = true)\n",
            " |-- tipo_sanguineo_b: string (nullable = true)\n",
            " |-- cpf_b: string (nullable = true)\n",
            " |-- primeiro_nome_a: string (nullable = true)\n",
            " |-- primeiro_nome_b: string (nullable = true)\n",
            " |-- ultimo_nome_a: string (nullable = true)\n",
            " |-- ultimo_nome_b: string (nullable = true)\n",
            "\n"
          ],
          "name": "stdout"
        }
      ]
    },
    {
      "cell_type": "code",
      "metadata": {
        "id": "-x6UnsiyGlrm",
        "colab_type": "code",
        "outputId": "cf8d413d-f080-4cdc-9f6c-c876485a9ea3",
        "colab": {
          "base_uri": "https://localhost:8080/",
          "height": 224
        }
      },
      "source": [
        "dfl.show(5)"
      ],
      "execution_count": 161,
      "outputs": [
        {
          "output_type": "stream",
          "text": [
            "+---+---------+--------+----------+--------------------+------+-----+---------------+--------------------+--------------+--------------+----+---------+-------------+-----------+--------------------+--------+--------------------+--------------------+----------------+--------------+---------------+---------------+-------------+-------------+\n",
            "| id|      cep|  cidade| data_nasc|            endereco|estado|idade|            mae|                nome|tipo_sanguineo|           cpf|id_b|    cep_b|     cidade_b|data_nasc_b|          endereco_b|estado_b|               mae_b|              nome_b|tipo_sanguineo_b|         cpf_b|primeiro_nome_a|primeiro_nome_b|ultimo_nome_a|ultimo_nome_b|\n",
            "+---+---------+--------+----------+--------------------+------+-----+---------------+--------------------+--------------+--------------+----+---------+-------------+-----------+--------------------+--------+--------------------+--------------------+----------------+--------------+---------------+---------------+-------------+-------------+\n",
            "|  0|65090-677|Sao Luis|10/09/1948| a Travessa do Ri...|    MA|   71|Louise Beatriz |Vicente Oliver Mo...|           AB-|097.627.958-49|  01|69304-350|    Boa Vista| 22/11/1965|Avenida Mario Hom...|      RR|Isabelle Marcia A...|Felipe Bruno dos ...|             AB-|506.865.202-46|        Vicente|         Felipe|     Monteiro|       Santos|\n",
            "|  0|65090-677|Sao Luis|10/09/1948| a Travessa do Ri...|    MA|   71|Louise Beatriz |Vicente Oliver Mo...|           AB-|097.627.958-49|  02|78132-360|Varzea Grande|       null|      Rua Rio Cuiaba|      MT|       Alana Isadora|Marcio Heitor Sil...|             AB-|325.828.867-42|        Vicente|         Marcio|     Monteiro|     Silveira|\n",
            "|  0|65090-677|Sao Luis|10/09/1948| a Travessa do Ri...|    MA|   71|Louise Beatriz |Vicente Oliver Mo...|           AB-|097.627.958-49|  03|88810-336|     Criciuma| 23/09/1961|Rua Romeu Lopes d...|      SC|  Caroline Gabriela |Theo Mario Victor...|              A-|284.536.218-88|        Vicente|           Theo|     Monteiro|      Barbosa|\n",
            "|  0|65090-677|Sao Luis|10/09/1948| a Travessa do Ri...|    MA|   71|Louise Beatriz |Vicente Oliver Mo...|           AB-|097.627.958-49|  04|60874-405|    Fortaleza| 11/05/1981|                null|      CE|       Tereza Bruna |Pietro Henrique d...|             AB-|390.375.925-20|        Vicente|         Pietro|     Monteiro|        Paula|\n",
            "|  0|65090-677|Sao Luis|10/09/1948| a Travessa do Ri...|    MA|   71|Louise Beatriz |Vicente Oliver Mo...|           AB-|097.627.958-49|  05|79106-140| Campo Grande| 14/12/1941|     Rua Pato Branco|      MS|      Alice Leticia |Kaique Thiago de ...|              A-|756.005.387-40|        Vicente|         Kaique|     Monteiro|        Paula|\n",
            "+---+---------+--------+----------+--------------------+------+-----+---------------+--------------------+--------------+--------------+----+---------+-------------+-----------+--------------------+--------+--------------------+--------------------+----------------+--------------+---------------+---------------+-------------+-------------+\n",
            "only showing top 5 rows\n",
            "\n"
          ],
          "name": "stdout"
        }
      ]
    },
    {
      "cell_type": "markdown",
      "metadata": {
        "id": "TVh8I5YH3ip6",
        "colab_type": "text"
      },
      "source": [
        "## Criação das colunas com nomes fonéticos"
      ]
    },
    {
      "cell_type": "code",
      "metadata": {
        "id": "pKtpWfd_1YtA",
        "colab_type": "code",
        "colab": {}
      },
      "source": [
        "def criaMetaphone(col):\n",
        "  return jellyfish.metaphone(col)\n",
        "udf_criaMetaphone = F.udf(criaMetaphone, StringType())"
      ],
      "execution_count": 0,
      "outputs": []
    },
    {
      "cell_type": "code",
      "metadata": {
        "id": "fGqFTZym-OZC",
        "colab_type": "code",
        "colab": {}
      },
      "source": [
        "dfl = dfl.withColumn('primeiro_nome_fonetico_a', udf_criaMetaphone(F.col('primeiro_nome_a')))\n",
        "dfl = dfl.withColumn('primeiro_nome_fonetico_b', udf_criaMetaphone(F.col('primeiro_nome_b')))\n",
        "dfl = dfl.withColumn('ultimo_nome_fonetico_a', udf_criaMetaphone(F.col('ultimo_nome_a')))\n",
        "dfl = dfl.withColumn('ultimo_nome_fonetico_b', udf_criaMetaphone(F.col('ultimo_nome_b')))"
      ],
      "execution_count": 0,
      "outputs": []
    },
    {
      "cell_type": "code",
      "metadata": {
        "id": "AI9n2znr2BQT",
        "colab_type": "code",
        "colab": {}
      },
      "source": [
        "dfl = dfl.withColumn('nome_fonetico_a', udf_criaMetaphone(F.col('nome')))\n",
        "dfl = dfl.withColumn('nome_fonetico_b', udf_criaMetaphone(F.col('nome_b')))\n",
        "dfl = dfl.withColumn('nome_fonetico_mae_a', udf_criaMetaphone(F.col('mae')))\n",
        "dfl = dfl.withColumn('nome_fonetico_mae_b', udf_criaMetaphone(F.col('mae_b')))"
      ],
      "execution_count": 0,
      "outputs": []
    },
    {
      "cell_type": "code",
      "metadata": {
        "id": "yYDMSeFo2urt",
        "colab_type": "code",
        "outputId": "85111d16-c0c0-4284-b839-e230228d0605",
        "colab": {
          "base_uri": "https://localhost:8080/",
          "height": 224
        }
      },
      "source": [
        "dfl.show(5)"
      ],
      "execution_count": 166,
      "outputs": [
        {
          "output_type": "stream",
          "text": [
            "+---+---------+--------+----------+--------------------+------+-----+---------------+--------------------+--------------+--------------+----+---------+-------------+-----------+--------------------+--------+--------------------+--------------------+----------------+--------------+---------------+---------------+-------------+-------------+------------------------+------------------------+----------------------+----------------------+---------------+---------------+-------------------+-------------------+\n",
            "| id|      cep|  cidade| data_nasc|            endereco|estado|idade|            mae|                nome|tipo_sanguineo|           cpf|id_b|    cep_b|     cidade_b|data_nasc_b|          endereco_b|estado_b|               mae_b|              nome_b|tipo_sanguineo_b|         cpf_b|primeiro_nome_a|primeiro_nome_b|ultimo_nome_a|ultimo_nome_b|primeiro_nome_fonetico_a|primeiro_nome_fonetico_b|ultimo_nome_fonetico_a|ultimo_nome_fonetico_b|nome_fonetico_a|nome_fonetico_b|nome_fonetico_mae_a|nome_fonetico_mae_b|\n",
            "+---+---------+--------+----------+--------------------+------+-----+---------------+--------------------+--------------+--------------+----+---------+-------------+-----------+--------------------+--------+--------------------+--------------------+----------------+--------------+---------------+---------------+-------------+-------------+------------------------+------------------------+----------------------+----------------------+---------------+---------------+-------------------+-------------------+\n",
            "|  0|65090-677|Sao Luis|10/09/1948| a Travessa do Ri...|    MA|   71|Louise Beatriz |Vicente Oliver Mo...|           AB-|097.627.958-49|  01|69304-350|    Boa Vista| 22/11/1965|Avenida Mario Hom...|      RR|Isabelle Marcia A...|Felipe Bruno dos ...|             AB-|506.865.202-46|        Vicente|         Felipe|     Monteiro|       Santos|                    FSNT|                     FLP|                  MNTR|                  SNTS| FSNT OLFR MNTR|FLP BRN TS SNTS|           LS BTRS |    ISBL MRX ANTNL |\n",
            "|  0|65090-677|Sao Luis|10/09/1948| a Travessa do Ri...|    MA|   71|Louise Beatriz |Vicente Oliver Mo...|           AB-|097.627.958-49|  02|78132-360|Varzea Grande|       null|      Rua Rio Cuiaba|      MT|       Alana Isadora|Marcio Heitor Sil...|             AB-|325.828.867-42|        Vicente|         Marcio|     Monteiro|     Silveira|                    FSNT|                     MRS|                  MNTR|                  SLFR| FSNT OLFR MNTR|   MRS HTR SLFR|           LS BTRS |           ALN ISTR|\n",
            "|  0|65090-677|Sao Luis|10/09/1948| a Travessa do Ri...|    MA|   71|Louise Beatriz |Vicente Oliver Mo...|           AB-|097.627.958-49|  03|88810-336|     Criciuma| 23/09/1961|Rua Romeu Lopes d...|      SC|  Caroline Gabriela |Theo Mario Victor...|              A-|284.536.218-88|        Vicente|           Theo|     Monteiro|      Barbosa|                    FSNT|                       0|                  MNTR|                  BRBS| FSNT OLFR MNTR| 0 MR FKTR BRBS|           LS BTRS |         KRLN KBRL |\n",
            "|  0|65090-677|Sao Luis|10/09/1948| a Travessa do Ri...|    MA|   71|Louise Beatriz |Vicente Oliver Mo...|           AB-|097.627.958-49|  04|60874-405|    Fortaleza| 11/05/1981|                null|      CE|       Tereza Bruna |Pietro Henrique d...|             AB-|390.375.925-20|        Vicente|         Pietro|     Monteiro|        Paula|                    FSNT|                     PTR|                  MNTR|                    PL| FSNT OLFR MNTR|  PTR HNRK T PL|           LS BTRS |           TRS BRN |\n",
            "|  0|65090-677|Sao Luis|10/09/1948| a Travessa do Ri...|    MA|   71|Louise Beatriz |Vicente Oliver Mo...|           AB-|097.627.958-49|  05|79106-140| Campo Grande| 14/12/1941|     Rua Pato Branco|      MS|      Alice Leticia |Kaique Thiago de ...|              A-|756.005.387-40|        Vicente|         Kaique|     Monteiro|        Paula|                    FSNT|                      KK|                  MNTR|                    PL| FSNT OLFR MNTR|     KK 0K T PL|           LS BTRS |           ALS LTX |\n",
            "+---+---------+--------+----------+--------------------+------+-----+---------------+--------------------+--------------+--------------+----+---------+-------------+-----------+--------------------+--------+--------------------+--------------------+----------------+--------------+---------------+---------------+-------------+-------------+------------------------+------------------------+----------------------+----------------------+---------------+---------------+-------------------+-------------------+\n",
            "only showing top 5 rows\n",
            "\n"
          ],
          "name": "stdout"
        }
      ]
    },
    {
      "cell_type": "code",
      "metadata": {
        "id": "lYiuN4Vy23C5",
        "colab_type": "code",
        "outputId": "b0f916ad-5ab1-4186-e865-69b9e7759082",
        "colab": {
          "base_uri": "https://localhost:8080/",
          "height": 612
        }
      },
      "source": [
        "dfl.printSchema()"
      ],
      "execution_count": 167,
      "outputs": [
        {
          "output_type": "stream",
          "text": [
            "root\n",
            " |-- id: string (nullable = true)\n",
            " |-- cep: string (nullable = true)\n",
            " |-- cidade: string (nullable = true)\n",
            " |-- data_nasc: string (nullable = true)\n",
            " |-- endereco: string (nullable = true)\n",
            " |-- estado: string (nullable = true)\n",
            " |-- idade: string (nullable = true)\n",
            " |-- mae: string (nullable = true)\n",
            " |-- nome: string (nullable = true)\n",
            " |-- tipo_sanguineo: string (nullable = true)\n",
            " |-- cpf: string (nullable = true)\n",
            " |-- id_b: string (nullable = true)\n",
            " |-- cep_b: string (nullable = true)\n",
            " |-- cidade_b: string (nullable = true)\n",
            " |-- data_nasc_b: string (nullable = true)\n",
            " |-- endereco_b: string (nullable = true)\n",
            " |-- estado_b: string (nullable = true)\n",
            " |-- mae_b: string (nullable = true)\n",
            " |-- nome_b: string (nullable = true)\n",
            " |-- tipo_sanguineo_b: string (nullable = true)\n",
            " |-- cpf_b: string (nullable = true)\n",
            " |-- primeiro_nome_a: string (nullable = true)\n",
            " |-- primeiro_nome_b: string (nullable = true)\n",
            " |-- ultimo_nome_a: string (nullable = true)\n",
            " |-- ultimo_nome_b: string (nullable = true)\n",
            " |-- primeiro_nome_fonetico_a: string (nullable = true)\n",
            " |-- primeiro_nome_fonetico_b: string (nullable = true)\n",
            " |-- ultimo_nome_fonetico_a: string (nullable = true)\n",
            " |-- ultimo_nome_fonetico_b: string (nullable = true)\n",
            " |-- nome_fonetico_a: string (nullable = true)\n",
            " |-- nome_fonetico_b: string (nullable = true)\n",
            " |-- nome_fonetico_mae_a: string (nullable = true)\n",
            " |-- nome_fonetico_mae_b: string (nullable = true)\n",
            "\n"
          ],
          "name": "stdout"
        }
      ]
    },
    {
      "cell_type": "markdown",
      "metadata": {
        "id": "xI9idf0j3rvs",
        "colab_type": "text"
      },
      "source": [
        "## Criação da Função de Similaridade"
      ]
    },
    {
      "cell_type": "code",
      "metadata": {
        "id": "1cBLCw4roUcF",
        "colab_type": "code",
        "colab": {}
      },
      "source": [
        "def compare(primeiro_nome_fonetico_a, ultimo_nome_fonetico_a, nome_fonetico_mae_a, primeiro_nome_fonetico_b, ultimo_nome_fonetico_b, nome_fonetico_mae_b):\n",
        "  sim = 0\n",
        "  \n",
        "  #comparando atributos nominais\n",
        "  sim = jellyfish.jaro_winkler(primeiro_nome_fonetico_a, primeiro_nome_fonetico_b)\n",
        "  sim += jellyfish.jaro_winkler(ultimo_nome_fonetico_a, ultimo_nome_fonetico_b)\n",
        "  sim += jellyfish.jaro_winkler(nome_fonetico_mae_a, nome_fonetico_mae_b)\n",
        "  \n",
        "  #Media aritmética simples\n",
        "  sim = abs(float(sim/3))\n",
        "  \n",
        "  return sim\n",
        "\n",
        "udf_compare = F.udf(compare, StringType())  "
      ],
      "execution_count": 0,
      "outputs": []
    },
    {
      "cell_type": "markdown",
      "metadata": {
        "id": "NTNYJz_sCUQj",
        "colab_type": "text"
      },
      "source": [
        "## Rodando Comparação\n"
      ]
    },
    {
      "cell_type": "code",
      "metadata": {
        "id": "e5QV9YRCmQrP",
        "colab_type": "code",
        "colab": {}
      },
      "source": [
        "dfr = dfl.withColumn('similaridade', \n",
        "                     udf_compare(F.col('primeiro_nome_fonetico_a'),\n",
        "                                 F.col('ultimo_nome_fonetico_a'),\n",
        "                                 F.col('nome_fonetico_mae_a'),\n",
        "                                 F.col('primeiro_nome_fonetico_b'),\n",
        "                                 F.col('ultimo_nome_fonetico_b'),\n",
        "                                 F.col('nome_fonetico_mae_b')))"
      ],
      "execution_count": 0,
      "outputs": []
    },
    {
      "cell_type": "code",
      "metadata": {
        "id": "UVCMI0KhEglU",
        "colab_type": "code",
        "outputId": "e3a33360-300c-4388-e33e-14d730781944",
        "colab": {
          "base_uri": "https://localhost:8080/",
          "height": 289
        }
      },
      "source": [
        "# Exibindo base de resultado\n",
        "dfr.select(['id', 'id_b', 'nome', 'nome_b', 'cpf', 'cpf_b', 'similaridade']).show(10)"
      ],
      "execution_count": 208,
      "outputs": [
        {
          "output_type": "stream",
          "text": [
            "+---+----+--------------------+--------------------+--------------+--------------+-------------------+\n",
            "| id|id_b|                nome|              nome_b|           cpf|         cpf_b|       similaridade|\n",
            "+---+----+--------------------+--------------------+--------------+--------------+-------------------+\n",
            "|  0|  01|Vicente Oliver Mo...|Felipe Bruno dos ...|097.627.958-49|506.865.202-46|                0.6|\n",
            "|  0|  02|Vicente Oliver Mo...|Marcio Heitor Sil...|097.627.958-49|325.828.867-42| 0.5703703703703703|\n",
            "|  0|  03|Vicente Oliver Mo...|Theo Mario Victor...|097.627.958-49|284.536.218-88|0.19166666666666668|\n",
            "|  0|  04|Vicente Oliver Mo...|Pietro Henrique d...|097.627.958-49|390.375.925-20|               0.25|\n",
            "|  0|  05|Vicente Oliver Mo...|Kaique Thiago de ...|097.627.958-49|756.005.387-40|               0.25|\n",
            "|  0|  06|Vicente Oliver Mo...|Gabriel Erick Oli...|097.627.958-49|551.341.139-39|0.20502645502645503|\n",
            "|  0|  07|Vicente Oliver Mo...|Luan Caue Anthony...|097.627.958-49|756.048.583-90| 0.6527777777777778|\n",
            "|  0|  08|Vicente Oliver Mo...|        Enzo D Rocha|097.627.958-49|386.351.591-95|0.44654882154882153|\n",
            "|  0|  09|Vicente Oliver Mo...|Cesar Matheus Cau...|097.627.958-49|885.264.747-31| 0.6171957671957671|\n",
            "|  0|  10|Vicente Oliver Mo...|   Caua Isaac Castro|097.627.958-49|489.611.821-96|0.42023809523809524|\n",
            "+---+----+--------------------+--------------------+--------------+--------------+-------------------+\n",
            "only showing top 10 rows\n",
            "\n"
          ],
          "name": "stdout"
        }
      ]
    },
    {
      "cell_type": "code",
      "metadata": {
        "id": "SCESQ31i5hKb",
        "colab_type": "code",
        "colab": {}
      },
      "source": [
        "# Deduplicando a base (eliminando linhas duplicadas, ficando somente com a de maior similaridade)\n",
        "dfc = dfr.orderBy(['similaridade'], ascending=False).dropDuplicates(['id_b']).orderBy(['id_b']).select(['id', 'id_b', 'nome','nome_b','cpf','cpf_b', 'similaridade'])\n"
      ],
      "execution_count": 0,
      "outputs": []
    },
    {
      "cell_type": "code",
      "metadata": {
        "id": "9vaO4rUCF6gJ",
        "colab_type": "code",
        "colab": {}
      },
      "source": [
        "# Criação de coluna de comparação de CPFs\n",
        "dfc = dfc.withColumn('CPFs_Iguais',F.col('cpf') == F.col('cpf_b'))"
      ],
      "execution_count": 0,
      "outputs": []
    },
    {
      "cell_type": "code",
      "metadata": {
        "id": "nj_pQUaBE4Ch",
        "colab_type": "code",
        "outputId": "2851b8d7-1592-4994-d70f-500b9d763019",
        "colab": {
          "base_uri": "https://localhost:8080/",
          "height": 629
        }
      },
      "source": [
        "dfc.show(30)"
      ],
      "execution_count": 231,
      "outputs": [
        {
          "output_type": "stream",
          "text": [
            "+---+----+--------------------+--------------------+--------------+--------------+------------------+-----------+\n",
            "| id|id_b|                nome|              nome_b|           cpf|         cpf_b|      similaridade|CPFs_Iguais|\n",
            "+---+----+--------------------+--------------------+--------------+--------------+------------------+-----------+\n",
            "| 14|  01|Felipe Bruno dos ...|Felipe Bruno dos ...|506.865.202-46|506.865.202-46|               1.0|       true|\n",
            "| 15|  02|Marcio Heitor Sil...|Marcio Heitor Sil...|325.828.867-42|325.828.867-42|0.9743589743589745|       true|\n",
            "| 16|  03|Theo Mario Victor...|Theo Mario Victor...|284.536.218-88|284.536.218-88|               1.0|       true|\n",
            "| 17|  04|Pietro Henry de P...|Pietro Henrique d...|390.375.925-20|390.375.925-20|               1.0|       true|\n",
            "| 18|  05|Kaique Thiago de ...|Kaique Thiago de ...|756.005.387-40|756.005.387-40|               1.0|       true|\n",
            "| 19|  06|Gabriel Erick Oli...|Gabriel Erick Oli...|551.341.139-39|551.341.139-39|0.9841269841269842|       true|\n",
            "| 20|  07|Luan Caue Anthony...|Luan Caue Anthony...|756.048.583-90|756.048.583-90|               1.0|       true|\n",
            "| 21|  08|    Enzo Diego Rocha|        Enzo D Rocha|386.351.591-95|386.351.591-95|               1.0|       true|\n",
            "| 22|  09|Cesar Matheus Cau...|Cesar Matheus Cau...|885.264.747-31|885.264.747-31|               1.0|       true|\n",
            "| 23|  10|   Caua Isaac Castro|   Caua Isaac Castro|489.611.821-96|489.611.821-96|               1.0|       true|\n",
            "| 88| 100|Pedro Henrique Ca...|Pedro Henrique Ca...|455.314.739-40|711.467.358-20|               1.0|      false|\n",
            "| 89| 101| Isaac Luiz Aparicio| Isaac Luiz Aparicio|919.624.227-20|823.068.573-85|               1.0|      false|\n",
            "| 90| 102|  Breno Danilo Silva|  Breno Danilo Silva|197.863.690-33|040.568.439-88|               1.0|      false|\n",
            "| 91| 103|Fernando Mario Sales|Fernando Mario Sales|853.220.078-81|461.427.999-69|               1.0|      false|\n",
            "| 92| 104|Pedro Henrique Di...|Pedro Henrique Di...|510.498.890-29|423.398.060-54|               1.0|      false|\n",
            "| 93| 105|Oliver Benicio Se...|Oliver Benicio Se...|621.824.822-45|974.659.231-90|               1.0|      false|\n",
            "| 94| 106|Cesar Filipe Peixoto|Cesar Filipe Peixoto|805.964.609-53|629.574.715-90|               1.0|      false|\n",
            "| 95| 107|Matheus Joao Iago...|Matheus Joao Iago...|658.224.088-93|535.871.894-04|               1.0|      false|\n",
            "| 96| 108|Noah Caleb Pietro...|Noah Caleb Pietro...|236.305.262-50|874.269.918-57|               1.0|      false|\n",
            "| 97| 109|Nicolas Henry da ...|Nicolas Henry da ...|640.234.882-16|840.760.458-58|               1.0|      false|\n",
            "| 24|  11|Gabriel Caua Marc...|Gabriel Caua Marc...|281.229.310-14|281.229.310-14|               1.0|       true|\n",
            "| 98| 110|Kaique Heitor Nas...|     Kaique Heitor N|896.785.694-69|885.968.346-72|0.9074074074074074|      false|\n",
            "| 99| 111|Kaue Francisco Be...|Kaue Francisco Be...|537.674.050-16|341.311.535-99|               1.0|      false|\n",
            "|100| 112|Marcos Yago Lucca...|Marcos Yago Lucca...|055.033.142-55|233.893.997-20|               1.0|      false|\n",
            "|101| 113|Claudio Murilo Au...|        Claudio Rosa|311.265.388-25|748.193.267-08|               1.0|      false|\n",
            "|102| 114|Bento Luan Guilhe...|Bento Luan Guilhe...|617.496.046-39|442.694.244-60|               1.0|      false|\n",
            "|103| 115|Gustavo Iago Levi...|Gustavo Iago Levi...|710.692.544-60|563.337.623-42|               1.0|      false|\n",
            "|104| 116| Eduardo Nelson Melo| Eduardo Nelson Melo|895.258.369-83|466.803.635-86|               1.0|      false|\n",
            "|105| 117|Pietro Guilherme ...|Pietro Guilherme ...|965.187.557-76|893.426.079-34|               1.0|      false|\n",
            "| 19| 118|Gabriel Erick Oli...|Gabriel Erick Oli...|551.341.139-39|728.882.048-35|0.8881673881673882|      false|\n",
            "+---+----+--------------------+--------------------+--------------+--------------+------------------+-----------+\n",
            "only showing top 30 rows\n",
            "\n"
          ],
          "name": "stdout"
        }
      ]
    }
  ]
}