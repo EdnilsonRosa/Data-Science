{
  "nbformat": 4,
  "nbformat_minor": 0,
  "metadata": {
    "colab": {
      "name": "Avaliação Big Data V20190524.ipynb",
      "version": "0.3.2",
      "provenance": [],
      "collapsed_sections": [],
      "include_colab_link": true
    },
    "kernelspec": {
      "name": "python2",
      "display_name": "Python 2"
    }
  },
  "cells": [
    {
      "cell_type": "markdown",
      "metadata": {
        "id": "view-in-github",
        "colab_type": "text"
      },
      "source": [
        "<a href=\"https://colab.research.google.com/github/EdnilsonRosa/Data-Science/blob/master/Avalia%C3%A7%C3%A3o%20Big%20Data%202019%2005%2024%2016%3A00.ipynb\" target=\"_parent\"><img src=\"https://colab.research.google.com/assets/colab-badge.svg\" alt=\"Open In Colab\"/></a>"
      ]
    },
    {
      "cell_type": "markdown",
      "metadata": {
        "id": "EzATYNEw4yxP",
        "colab_type": "text"
      },
      "source": [
        "# Avaliação Big Data - Phyton 2"
      ]
    },
    {
      "cell_type": "markdown",
      "metadata": {
        "id": "HeAFpH1H4Mj7",
        "colab_type": "text"
      },
      "source": [
        "## Inicializando o ambiente e carregando as bibliotecas"
      ]
    },
    {
      "cell_type": "code",
      "metadata": {
        "id": "fxBhk2b5l2vE",
        "colab_type": "code",
        "outputId": "c0c8e64b-51b9-46e5-acd9-ee4df5b44311",
        "colab": {
          "base_uri": "https://localhost:8080/",
          "height": 68
        }
      },
      "source": [
        "#!apt-get install openjdk-8-jdk-headless -qq > /dev/null\n",
        "!wget -q http://archive.apache.org/dist/spark/spark-2.4.2/spark-2.4.2-bin-hadoop2.7.tgz\n",
        "!tar xf spark-2.4.2-bin-hadoop2.7.tgz\n",
        "!pip install -q findspark\n",
        "\n",
        "!java -version\n",
        "\n",
        "import os\n",
        "os.environ[\"JAVA_HOME\"] = \"/usr/lib/jvm/java-1.11.0-openjdk-amd64/\"\n",
        "os.environ[\"SPARK_HOME\"] = \"/content/spark-2.4.2-bin-hadoop2.7\"\n",
        "\n",
        "import findspark\n",
        "findspark.init()\n",
        "from pyspark.sql import SparkSession\n",
        "spark = SparkSession.builder.master(\"local[*]\").getOrCreate()\n",
        "\n",
        "### Chamada da biblioteca\n",
        "\n",
        "from pyspark.sql import SparkSession\n",
        "import pyspark.sql.functions as F\n",
        "from pyspark.sql.types import StringType\n",
        "from pyspark.sql.types import IntegerType\n",
        "\n",
        "### Inicializaçaõ da Sessão do Spark - \n",
        "\n",
        "spark = SparkSession.builder \\\n",
        "                    .appName(\"Tutorial PySpark SQL\") \\\n",
        "                    .config(\"spark.some.config.option\", \"some-value\") \\\n",
        "                    .getOrCreate()"
      ],
      "execution_count": 1,
      "outputs": [
        {
          "output_type": "stream",
          "text": [
            "openjdk version \"11.0.3\" 2019-04-16\n",
            "OpenJDK Runtime Environment (build 11.0.3+7-Ubuntu-1ubuntu218.04.1)\n",
            "OpenJDK 64-Bit Server VM (build 11.0.3+7-Ubuntu-1ubuntu218.04.1, mixed mode, sharing)\n"
          ],
          "name": "stdout"
        }
      ]
    },
    {
      "cell_type": "code",
      "metadata": {
        "id": "SN14McSe09um",
        "colab_type": "code",
        "outputId": "04878efa-dc1e-4c68-ec95-bca31ee38e45",
        "colab": {
          "base_uri": "https://localhost:8080/",
          "height": 170
        }
      },
      "source": [
        "!pip install jellyfish\n",
        "import jellyfish"
      ],
      "execution_count": 2,
      "outputs": [
        {
          "output_type": "stream",
          "text": [
            "Collecting jellyfish\n",
            "\u001b[?25l  Downloading https://files.pythonhosted.org/packages/61/3f/60ac86fb43dfbf976768e80674b5538e535f6eca5aa7806cf2fdfd63550f/jellyfish-0.6.1.tar.gz (132kB)\n",
            "\u001b[K     |████████████████████████████████| 133kB 2.8MB/s \n",
            "\u001b[?25hBuilding wheels for collected packages: jellyfish\n",
            "  Building wheel for jellyfish (setup.py) ... \u001b[?25l\u001b[?25hdone\n",
            "  Stored in directory: /root/.cache/pip/wheels/9c/6f/33/92bb9a4b4562a60ba6a80cedbab8907e48bc7a8b1f369ea0ae\n",
            "Successfully built jellyfish\n",
            "Installing collected packages: jellyfish\n",
            "Successfully installed jellyfish-0.6.1\n"
          ],
          "name": "stdout"
        }
      ]
    },
    {
      "cell_type": "code",
      "metadata": {
        "id": "_WD9ie0Tw01B",
        "colab_type": "code",
        "colab": {}
      },
      "source": [
        "import pandas as pd"
      ],
      "execution_count": 0,
      "outputs": []
    },
    {
      "cell_type": "markdown",
      "metadata": {
        "id": "lndoP-vn4YJW",
        "colab_type": "text"
      },
      "source": [
        "## Montando o Drive e carregando o arquivo"
      ]
    },
    {
      "cell_type": "code",
      "metadata": {
        "id": "6apsGNwnvZEV",
        "colab_type": "code",
        "outputId": "ab5dd1c7-f1f0-441c-a185-4c6f885fd68e",
        "colab": {
          "base_uri": "https://localhost:8080/",
          "height": 122
        }
      },
      "source": [
        "### Montagem de drive do Google\n",
        "### Será solicitada autorização\n",
        "### O Colab tem como raiz uma pasta 'content'\n",
        "\n",
        "from google.colab import drive\n",
        "drive.mount('/content/gdrive')"
      ],
      "execution_count": 4,
      "outputs": [
        {
          "output_type": "stream",
          "text": [
            "Go to this URL in a browser: https://accounts.google.com/o/oauth2/auth?client_id=947318989803-6bn6qk8qdgf4n4g3pfee6491hc0brc4i.apps.googleusercontent.com&redirect_uri=urn%3Aietf%3Awg%3Aoauth%3A2.0%3Aoob&scope=email%20https%3A%2F%2Fwww.googleapis.com%2Fauth%2Fdocs.test%20https%3A%2F%2Fwww.googleapis.com%2Fauth%2Fdrive%20https%3A%2F%2Fwww.googleapis.com%2Fauth%2Fdrive.photos.readonly%20https%3A%2F%2Fwww.googleapis.com%2Fauth%2Fpeopleapi.readonly&response_type=code\n",
            "\n",
            "Enter your authorization code:\n",
            "··········\n",
            "Mounted at /content/gdrive\n"
          ],
          "name": "stdout"
        }
      ]
    },
    {
      "cell_type": "code",
      "metadata": {
        "id": "Mzr1wPwOvv68",
        "colab_type": "code",
        "colab": {}
      },
      "source": [
        "dfa = spark.read.csv('gdrive/My Drive/Colab Notebooks/base_sintetica_ascii_a.csv', header=True, sep=',')"
      ],
      "execution_count": 0,
      "outputs": []
    },
    {
      "cell_type": "code",
      "metadata": {
        "id": "akzNC8RCwUmN",
        "colab_type": "code",
        "colab": {}
      },
      "source": [
        "dfb = spark.read.csv('gdrive/My Drive/Colab Notebooks/base_sintetica_ascii_b.csv', header=True, sep=',')"
      ],
      "execution_count": 0,
      "outputs": []
    },
    {
      "cell_type": "code",
      "metadata": {
        "id": "VxWZz1lOwjrd",
        "colab_type": "code",
        "outputId": "40e4c30a-3372-4c9e-ef85-9d270527c251",
        "colab": {
          "base_uri": "https://localhost:8080/",
          "height": 34
        }
      },
      "source": [
        "dfa.count()"
      ],
      "execution_count": 7,
      "outputs": [
        {
          "output_type": "execute_result",
          "data": {
            "text/plain": [
              "540"
            ]
          },
          "metadata": {
            "tags": []
          },
          "execution_count": 7
        }
      ]
    },
    {
      "cell_type": "code",
      "metadata": {
        "id": "J-2Oknqiwb33",
        "colab_type": "code",
        "outputId": "0aefdda9-c5be-469f-c5cf-0d17a8243ca0",
        "colab": {
          "base_uri": "https://localhost:8080/",
          "height": 34
        }
      },
      "source": [
        "dfb.count()"
      ],
      "execution_count": 8,
      "outputs": [
        {
          "output_type": "execute_result",
          "data": {
            "text/plain": [
              "143"
            ]
          },
          "metadata": {
            "tags": []
          },
          "execution_count": 8
        }
      ]
    },
    {
      "cell_type": "code",
      "metadata": {
        "id": "8PEhGkpPww9P",
        "colab_type": "code",
        "outputId": "54fbfcd7-6764-4f9f-d8ee-a989db0dac77",
        "colab": {
          "base_uri": "https://localhost:8080/",
          "height": 204
        }
      },
      "source": [
        "dfa.show(5)"
      ],
      "execution_count": 9,
      "outputs": [
        {
          "output_type": "stream",
          "text": [
            "+---+--------------+---------+---------+--------------+----------+--------------------+--------------------+------+-----+--------------------+--------------------+------+---------+--------------+----+\n",
            "| id|        bairro|      cep|   cidade|           cpf| data_nasc|               email|            endereco|estado|idade|                 mae|                nome|numero|    signo|tipo_sanguineo|_c15|\n",
            "+---+--------------+---------+---------+--------------+----------+--------------------+--------------------+------+-----+--------------------+--------------------+------+---------+--------------+----+\n",
            "|  0|   Vila Sarney|65090-677| Sao Luis|097.627.958-49|10/09/1948|vicenteolivermont...|2a Travessa do Ri...|    MA|   71|     Louise Beatriz |Vicente Oliver Mo...|   738|   Virgem|           AB-|null|\n",
            "|  1|Vila Sao Jorge|75044-220| Anapolis|685.096.335-09|24/04/1995|miguelbernardogon...|  Praca Joao Salomao|    GO|   24|     Raquel Barbara |Miguel Bernardo G...|   805|    Touro|            A-|null|\n",
            "|  2|   Cabralzinho|68906-846|   Macapa|956.997.968-27|13/03/1984|ericktheomarcosvi...|    Alameda Calcoene|    AP|   35|Maite Valentina R...|Erick Theo Marcos...|   669|   Peixes|            B+|null|\n",
            "|  3|     Mae Luiza|59014-227|    Natal|631.875.885-22|27/09/1965|mariorobertoisaac...|1a Rua Sao Francisco|    RN|   54|Alicia Cristiane ...|Mario Roberto Isa...|   978|    Libra|           AB+|null|\n",
            "|  4| Jardim Monaco|86702-790|Arapongas|397.480.478-14|24/11/1965|eeliasandersonmat...|Rua Mariquita-dos...|    PR|   54|     Tatiane Josefa |Elias Anderson Ma...|   558|Sagitario|            A+|null|\n",
            "+---+--------------+---------+---------+--------------+----------+--------------------+--------------------+------+-----+--------------------+--------------------+------+---------+--------------+----+\n",
            "only showing top 5 rows\n",
            "\n"
          ],
          "name": "stdout"
        }
      ]
    },
    {
      "cell_type": "code",
      "metadata": {
        "id": "5p5jXN36wpqU",
        "colab_type": "code",
        "outputId": "019181ad-2dbe-49d8-d521-b9add5b282b6",
        "colab": {
          "base_uri": "https://localhost:8080/",
          "height": 204
        }
      },
      "source": [
        "dfb.limit(5).toPandas()"
      ],
      "execution_count": 10,
      "outputs": [
        {
          "output_type": "execute_result",
          "data": {
            "text/html": [
              "<div>\n",
              "<style scoped>\n",
              "    .dataframe tbody tr th:only-of-type {\n",
              "        vertical-align: middle;\n",
              "    }\n",
              "\n",
              "    .dataframe tbody tr th {\n",
              "        vertical-align: top;\n",
              "    }\n",
              "\n",
              "    .dataframe thead th {\n",
              "        text-align: right;\n",
              "    }\n",
              "</style>\n",
              "<table border=\"1\" class=\"dataframe\">\n",
              "  <thead>\n",
              "    <tr style=\"text-align: right;\">\n",
              "      <th></th>\n",
              "      <th>id</th>\n",
              "      <th>cep</th>\n",
              "      <th>cidade</th>\n",
              "      <th>cpf</th>\n",
              "      <th>data_nasc</th>\n",
              "      <th>endereco</th>\n",
              "      <th>estado</th>\n",
              "      <th>mae</th>\n",
              "      <th>nome</th>\n",
              "      <th>tipo_sanguineo</th>\n",
              "    </tr>\n",
              "  </thead>\n",
              "  <tbody>\n",
              "    <tr>\n",
              "      <th>0</th>\n",
              "      <td>01</td>\n",
              "      <td>69304-350</td>\n",
              "      <td>Boa Vista</td>\n",
              "      <td>506.865.202-46</td>\n",
              "      <td>22/11/1965</td>\n",
              "      <td>Avenida Mario Homem de Melo</td>\n",
              "      <td>RR</td>\n",
              "      <td>Isabelle Marcia Antonella</td>\n",
              "      <td>Felipe Bruno dos Santos</td>\n",
              "      <td>AB-</td>\n",
              "    </tr>\n",
              "    <tr>\n",
              "      <th>1</th>\n",
              "      <td>02</td>\n",
              "      <td>78132-360</td>\n",
              "      <td>Varzea Grande</td>\n",
              "      <td>325.828.867-42</td>\n",
              "      <td>None</td>\n",
              "      <td>Rua Rio Cuiaba</td>\n",
              "      <td>MT</td>\n",
              "      <td>Alana Isadora</td>\n",
              "      <td>Marcio Heitor Silveira</td>\n",
              "      <td>AB-</td>\n",
              "    </tr>\n",
              "    <tr>\n",
              "      <th>2</th>\n",
              "      <td>03</td>\n",
              "      <td>88810-336</td>\n",
              "      <td>Criciuma</td>\n",
              "      <td>284.536.218-88</td>\n",
              "      <td>23/09/1961</td>\n",
              "      <td>Rua Romeu Lopes de Carvalho</td>\n",
              "      <td>SC</td>\n",
              "      <td>Caroline Gabriela</td>\n",
              "      <td>Theo Mario Victor Barbosa</td>\n",
              "      <td>A-</td>\n",
              "    </tr>\n",
              "    <tr>\n",
              "      <th>3</th>\n",
              "      <td>04</td>\n",
              "      <td>60874-405</td>\n",
              "      <td>Fortaleza</td>\n",
              "      <td>390.375.925-20</td>\n",
              "      <td>11/05/1981</td>\n",
              "      <td>None</td>\n",
              "      <td>CE</td>\n",
              "      <td>Tereza Bruna</td>\n",
              "      <td>Pietro Henrique de Paula</td>\n",
              "      <td>AB-</td>\n",
              "    </tr>\n",
              "    <tr>\n",
              "      <th>4</th>\n",
              "      <td>05</td>\n",
              "      <td>79106-140</td>\n",
              "      <td>Campo Grande</td>\n",
              "      <td>756.005.387-40</td>\n",
              "      <td>14/12/1941</td>\n",
              "      <td>Rua Pato Branco</td>\n",
              "      <td>MS</td>\n",
              "      <td>Alice Leticia</td>\n",
              "      <td>Kaique Thiago de Paula</td>\n",
              "      <td>A-</td>\n",
              "    </tr>\n",
              "  </tbody>\n",
              "</table>\n",
              "</div>"
            ],
            "text/plain": [
              "   id        cep  ...                       nome tipo_sanguineo\n",
              "0  01  69304-350  ...    Felipe Bruno dos Santos            AB-\n",
              "1  02  78132-360  ...     Marcio Heitor Silveira            AB-\n",
              "2  03  88810-336  ...  Theo Mario Victor Barbosa             A-\n",
              "3  04  60874-405  ...   Pietro Henrique de Paula            AB-\n",
              "4  05  79106-140  ...     Kaique Thiago de Paula             A-\n",
              "\n",
              "[5 rows x 10 columns]"
            ]
          },
          "metadata": {
            "tags": []
          },
          "execution_count": 10
        }
      ]
    },
    {
      "cell_type": "code",
      "metadata": {
        "id": "NWN7XbL-x_Sa",
        "colab_type": "code",
        "outputId": "1b93dcff-e104-47a7-c677-b454fc1b75fc",
        "colab": {
          "base_uri": "https://localhost:8080/",
          "height": 527
        }
      },
      "source": [
        "dfa.printSchema()\n",
        "dfb.printSchema()"
      ],
      "execution_count": 11,
      "outputs": [
        {
          "output_type": "stream",
          "text": [
            "root\n",
            " |-- id: string (nullable = true)\n",
            " |-- bairro: string (nullable = true)\n",
            " |-- cep: string (nullable = true)\n",
            " |-- cidade: string (nullable = true)\n",
            " |-- cpf: string (nullable = true)\n",
            " |-- data_nasc: string (nullable = true)\n",
            " |-- email: string (nullable = true)\n",
            " |-- endereco: string (nullable = true)\n",
            " |-- estado: string (nullable = true)\n",
            " |-- idade: string (nullable = true)\n",
            " |-- mae: string (nullable = true)\n",
            " |-- nome: string (nullable = true)\n",
            " |-- numero: string (nullable = true)\n",
            " |-- signo: string (nullable = true)\n",
            " |-- tipo_sanguineo: string (nullable = true)\n",
            " |-- _c15: string (nullable = true)\n",
            "\n",
            "root\n",
            " |-- id: string (nullable = true)\n",
            " |-- cep: string (nullable = true)\n",
            " |-- cidade: string (nullable = true)\n",
            " |-- cpf: string (nullable = true)\n",
            " |-- data_nasc: string (nullable = true)\n",
            " |-- endereco: string (nullable = true)\n",
            " |-- estado: string (nullable = true)\n",
            " |-- mae: string (nullable = true)\n",
            " |-- nome: string (nullable = true)\n",
            " |-- tipo_sanguineo: string (nullable = true)\n",
            "\n"
          ],
          "name": "stdout"
        }
      ]
    },
    {
      "cell_type": "markdown",
      "metadata": {
        "id": "XnNyV4gTK4ZW",
        "colab_type": "text"
      },
      "source": [
        "## Tratamento de Atributo Missing\n"
      ]
    },
    {
      "cell_type": "code",
      "metadata": {
        "id": "8rcWDerlKhav",
        "colab_type": "code",
        "outputId": "4aaec69b-c507-4206-bd39-60fe9391bcf1",
        "colab": {
          "base_uri": "https://localhost:8080/",
          "height": 34
        }
      },
      "source": [
        "dfa.filter(F.col('nome').isNull()).count()"
      ],
      "execution_count": 12,
      "outputs": [
        {
          "output_type": "execute_result",
          "data": {
            "text/plain": [
              "0"
            ]
          },
          "metadata": {
            "tags": []
          },
          "execution_count": 12
        }
      ]
    },
    {
      "cell_type": "code",
      "metadata": {
        "id": "yzbll1W7Kxyz",
        "colab_type": "code",
        "outputId": "ef43906d-a2bf-4cb7-a861-9002df9c4572",
        "colab": {
          "base_uri": "https://localhost:8080/",
          "height": 34
        }
      },
      "source": [
        "dfb.filter(F.col('nome').isNull()).count()"
      ],
      "execution_count": 13,
      "outputs": [
        {
          "output_type": "execute_result",
          "data": {
            "text/plain": [
              "2"
            ]
          },
          "metadata": {
            "tags": []
          },
          "execution_count": 13
        }
      ]
    },
    {
      "cell_type": "code",
      "metadata": {
        "id": "kjGMs6ELLbj4",
        "colab_type": "code",
        "colab": {}
      },
      "source": [
        "# Trocando nomes nulos por espaço em branco (os valores anteriores são sobrescritos ao utilizar o mesmo nome de coluna)\n",
        "dfb = dfb.withColumn('nome', F.when(F.col('nome').isNull(),\" \").otherwise(F.col('nome')))"
      ],
      "execution_count": 0,
      "outputs": []
    },
    {
      "cell_type": "code",
      "metadata": {
        "id": "bkje_fqgLbFX",
        "colab_type": "code",
        "outputId": "6034d13a-4f70-406c-aaf4-d451db3b05f8",
        "colab": {
          "base_uri": "https://localhost:8080/",
          "height": 34
        }
      },
      "source": [
        "dfb.filter(F.col('nome').isNull()).count()"
      ],
      "execution_count": 15,
      "outputs": [
        {
          "output_type": "execute_result",
          "data": {
            "text/plain": [
              "0"
            ]
          },
          "metadata": {
            "tags": []
          },
          "execution_count": 15
        }
      ]
    },
    {
      "cell_type": "markdown",
      "metadata": {
        "id": "qakrYIenwyd1",
        "colab_type": "text"
      },
      "source": [
        "## **Outros Tratamentos**"
      ]
    },
    {
      "cell_type": "code",
      "metadata": {
        "id": "-9PunWs5I8qS",
        "colab_type": "code",
        "colab": {}
      },
      "source": [
        "# Guardando data frames originais sem pré=processamento\n",
        "dfa_o = dfa\n",
        "dfb_o = dfb"
      ],
      "execution_count": 0,
      "outputs": []
    },
    {
      "cell_type": "code",
      "metadata": {
        "id": "Z84a4XB4xV_e",
        "colab_type": "code",
        "colab": {}
      },
      "source": [
        "# Eliminação de possíveis espaços duplos nos nomes\n",
        "dfa = dfa.withColumn(\"nome\", F.regexp_replace(F.col(\"nome\"), '\\s+', ' '))\n",
        "dfb = dfb.withColumn(\"nome\", F.regexp_replace(F.col(\"nome\"), '\\s+', ' '))\n",
        "dfa = dfa.withColumn(\"mae\", F.regexp_replace(F.col(\"mae\"), '\\s+', ' '))\n",
        "dfb = dfb.withColumn(\"mae\", F.regexp_replace(F.col(\"mae\"), '\\s+', ' '))\n",
        "dfa = dfa.withColumn(\"cidade\", F.regexp_replace(F.col(\"cidade\"), '\\s+', ' '))\n",
        "dfb = dfb.withColumn(\"cidade\", F.regexp_replace(F.col(\"cidade\"), '\\s+', ' '))\n",
        "dfa = dfa.withColumn(\"endereco\", F.regexp_replace(F.col(\"endereco\"), '\\s+', ' '))\n",
        "dfb = dfb.withColumn(\"endereco\", F.regexp_replace(F.col(\"endereco\"), '\\s+', ' '))\n",
        "\n",
        "# Substituição de possiveis caracteres especiais por espaço em branco\n",
        "dfa = dfa.withColumn(\"nome\", F.regexp_replace(F.col(\"nome\"), r'[^a-zA-Z ]+', ' '))\n",
        "dfb = dfb.withColumn(\"nome\", F.regexp_replace(F.col(\"nome\"), r'[^a-zA-Z ]+', ' '))\n",
        "dfa = dfa.withColumn(\"mae\", F.regexp_replace(F.col(\"mae\"), r'[^a-zA-Z ]+', ' '))\n",
        "dfb = dfb.withColumn(\"mae\", F.regexp_replace(F.col(\"mae\"), r'[^a-zA-Z ]+', ' '))\n",
        "dfa = dfa.withColumn(\"cidade\", F.regexp_replace(F.col(\"cidade\"), r'[^a-zA-Z ]+', ' '))\n",
        "dfb = dfb.withColumn(\"cidade\", F.regexp_replace(F.col(\"cidade\"), r'[^a-zA-Z ]+', ' '))\n",
        "dfa = dfa.withColumn(\"endereco\", F.regexp_replace(F.col(\"endereco\"), r'[^a-zA-Z ]+', ' '))\n"
      ],
      "execution_count": 0,
      "outputs": []
    },
    {
      "cell_type": "markdown",
      "metadata": {
        "id": "DXFbhfDs3KXG",
        "colab_type": "text"
      },
      "source": [
        "## Renomeando colunas para o linkage (necessita nomes diferentes)"
      ]
    },
    {
      "cell_type": "code",
      "metadata": {
        "id": "Pofvt2WKzEkJ",
        "colab_type": "code",
        "colab": {}
      },
      "source": [
        "dfb = dfb.withColumnRenamed('id','id_b')\n",
        "dfb = dfb.withColumnRenamed('cep','cep_b')\n",
        "dfb = dfb.withColumnRenamed('cidade','cidade_b')\n",
        "dfb = dfb.withColumnRenamed('cpf','cpf_b')\n",
        "dfb = dfb.withColumnRenamed('data_nasc','data_nasc_b')\n",
        "dfb = dfb.withColumnRenamed('endereco','endereco_b')\n",
        "dfb = dfb.withColumnRenamed('estado','estado_b')\n",
        "dfb = dfb.withColumnRenamed('mae','mae_b')\n",
        "dfb = dfb.withColumnRenamed('nome','nome_b')\n",
        "dfb = dfb.withColumnRenamed('tipo_sanguineo','tipo_sanguineo_b')"
      ],
      "execution_count": 0,
      "outputs": []
    },
    {
      "cell_type": "code",
      "metadata": {
        "id": "EteQQ3F90uua",
        "colab_type": "code",
        "outputId": "4b64cf6e-9c78-4672-8adb-9dc42b9cce79",
        "colab": {
          "base_uri": "https://localhost:8080/",
          "height": 527
        }
      },
      "source": [
        "dfa.printSchema()\n",
        "dfb.printSchema()"
      ],
      "execution_count": 19,
      "outputs": [
        {
          "output_type": "stream",
          "text": [
            "root\n",
            " |-- id: string (nullable = true)\n",
            " |-- bairro: string (nullable = true)\n",
            " |-- cep: string (nullable = true)\n",
            " |-- cidade: string (nullable = true)\n",
            " |-- cpf: string (nullable = true)\n",
            " |-- data_nasc: string (nullable = true)\n",
            " |-- email: string (nullable = true)\n",
            " |-- endereco: string (nullable = true)\n",
            " |-- estado: string (nullable = true)\n",
            " |-- idade: string (nullable = true)\n",
            " |-- mae: string (nullable = true)\n",
            " |-- nome: string (nullable = true)\n",
            " |-- numero: string (nullable = true)\n",
            " |-- signo: string (nullable = true)\n",
            " |-- tipo_sanguineo: string (nullable = true)\n",
            " |-- _c15: string (nullable = true)\n",
            "\n",
            "root\n",
            " |-- id_b: string (nullable = true)\n",
            " |-- cep_b: string (nullable = true)\n",
            " |-- cidade_b: string (nullable = true)\n",
            " |-- cpf_b: string (nullable = true)\n",
            " |-- data_nasc_b: string (nullable = true)\n",
            " |-- endereco_b: string (nullable = true)\n",
            " |-- estado_b: string (nullable = true)\n",
            " |-- mae_b: string (nullable = true)\n",
            " |-- nome_b: string (nullable = true)\n",
            " |-- tipo_sanguineo_b: string (nullable = true)\n",
            "\n"
          ],
          "name": "stdout"
        }
      ]
    },
    {
      "cell_type": "markdown",
      "metadata": {
        "id": "TV9OfmjJ3aib",
        "colab_type": "text"
      },
      "source": [
        "## Fazendo Linkage"
      ]
    },
    {
      "cell_type": "code",
      "metadata": {
        "id": "OOUX6idU0Qdj",
        "colab_type": "code",
        "colab": {}
      },
      "source": [
        "# CrossJoin somente com colunas que serão utilizadas na análise\n",
        "\n",
        "dfl = dfa.select('id','cep','cidade','data_nasc','endereco','estado','idade','mae','nome','tipo_sanguineo','cpf').crossJoin( \\\n",
        "      dfb.select('id_b','cep_b','cidade_b','data_nasc_b','endereco_b','estado_b','mae_b','nome_b','tipo_sanguineo_b','cpf_b'))"
      ],
      "execution_count": 0,
      "outputs": []
    },
    {
      "cell_type": "code",
      "metadata": {
        "id": "HaXGRL_z0g12",
        "colab_type": "code",
        "outputId": "f2151550-855e-4b10-a0db-8584c07c1118",
        "colab": {
          "base_uri": "https://localhost:8080/",
          "height": 207
        }
      },
      "source": [
        "dfl.limit(5).show()"
      ],
      "execution_count": 21,
      "outputs": [
        {
          "output_type": "stream",
          "text": [
            "+---+---------+--------+----------+--------------------+------+-----+---------------+--------------------+--------------+--------------+----+---------+-------------+-----------+--------------------+--------+--------------------+--------------------+----------------+--------------+\n",
            "| id|      cep|  cidade| data_nasc|            endereco|estado|idade|            mae|                nome|tipo_sanguineo|           cpf|id_b|    cep_b|     cidade_b|data_nasc_b|          endereco_b|estado_b|               mae_b|              nome_b|tipo_sanguineo_b|         cpf_b|\n",
            "+---+---------+--------+----------+--------------------+------+-----+---------------+--------------------+--------------+--------------+----+---------+-------------+-----------+--------------------+--------+--------------------+--------------------+----------------+--------------+\n",
            "|  0|65090-677|Sao Luis|10/09/1948| a Travessa do Ri...|    MA|   71|Louise Beatriz |Vicente Oliver Mo...|           AB-|097.627.958-49|  01|69304-350|    Boa Vista| 22/11/1965|Avenida Mario Hom...|      RR|Isabelle Marcia A...|Felipe Bruno dos ...|             AB-|506.865.202-46|\n",
            "|  0|65090-677|Sao Luis|10/09/1948| a Travessa do Ri...|    MA|   71|Louise Beatriz |Vicente Oliver Mo...|           AB-|097.627.958-49|  02|78132-360|Varzea Grande|       null|      Rua Rio Cuiaba|      MT|       Alana Isadora|Marcio Heitor Sil...|             AB-|325.828.867-42|\n",
            "|  0|65090-677|Sao Luis|10/09/1948| a Travessa do Ri...|    MA|   71|Louise Beatriz |Vicente Oliver Mo...|           AB-|097.627.958-49|  03|88810-336|     Criciuma| 23/09/1961|Rua Romeu Lopes d...|      SC|  Caroline Gabriela |Theo Mario Victor...|              A-|284.536.218-88|\n",
            "|  0|65090-677|Sao Luis|10/09/1948| a Travessa do Ri...|    MA|   71|Louise Beatriz |Vicente Oliver Mo...|           AB-|097.627.958-49|  04|60874-405|    Fortaleza| 11/05/1981|                null|      CE|       Tereza Bruna |Pietro Henrique d...|             AB-|390.375.925-20|\n",
            "|  0|65090-677|Sao Luis|10/09/1948| a Travessa do Ri...|    MA|   71|Louise Beatriz |Vicente Oliver Mo...|           AB-|097.627.958-49|  05|79106-140| Campo Grande| 14/12/1941|     Rua Pato Branco|      MS|      Alice Leticia |Kaique Thiago de ...|              A-|756.005.387-40|\n",
            "+---+---------+--------+----------+--------------------+------+-----+---------------+--------------------+--------------+--------------+----+---------+-------------+-----------+--------------------+--------+--------------------+--------------------+----------------+--------------+\n",
            "\n"
          ],
          "name": "stdout"
        }
      ]
    },
    {
      "cell_type": "markdown",
      "metadata": {
        "id": "gkwPAIS_7khv",
        "colab_type": "text"
      },
      "source": [
        "## Criação de Funções para extração do primeiro e último nome"
      ]
    },
    {
      "cell_type": "code",
      "metadata": {
        "id": "tzjgEpWA7jJf",
        "colab_type": "code",
        "colab": {}
      },
      "source": [
        "def criaPrimeiroNome(col):\n",
        "  return col.split(' ') [0]\n",
        "udf_criaPrimeiroNome = F.udf(criaPrimeiroNome, StringType())"
      ],
      "execution_count": 0,
      "outputs": []
    },
    {
      "cell_type": "code",
      "metadata": {
        "id": "fwYh_y3E8MoX",
        "colab_type": "code",
        "colab": {}
      },
      "source": [
        "def criaUltimoNome(col):\n",
        "  return col.split(' ') [-1]\n",
        "udf_criaUltimoNome = F.udf(criaUltimoNome, StringType())"
      ],
      "execution_count": 0,
      "outputs": []
    },
    {
      "cell_type": "markdown",
      "metadata": {
        "id": "khpTjMea8cXK",
        "colab_type": "text"
      },
      "source": [
        "## Criação das Colunas dos Primeiros e Ultimos Nomes"
      ]
    },
    {
      "cell_type": "code",
      "metadata": {
        "id": "gFBP3VG58blf",
        "colab_type": "code",
        "colab": {}
      },
      "source": [
        "dfl = dfl.withColumn('primeiro_nome_a', udf_criaPrimeiroNome(F.col('nome')))\n",
        "dfl = dfl.withColumn('primeiro_nome_b', udf_criaPrimeiroNome(F.col('nome_b')))\n",
        "dfl = dfl.withColumn('ultimo_nome_a', udf_criaUltimoNome(F.col('nome')))\n",
        "dfl = dfl.withColumn('ultimo_nome_b', udf_criaUltimoNome(F.col('nome_b')))"
      ],
      "execution_count": 0,
      "outputs": []
    },
    {
      "cell_type": "code",
      "metadata": {
        "id": "f73I6ruGJGhn",
        "colab_type": "code",
        "outputId": "d6b77589-4612-4b3d-ad12-a4addded9752",
        "colab": {
          "base_uri": "https://localhost:8080/",
          "height": 476
        }
      },
      "source": [
        "dfl.printSchema()"
      ],
      "execution_count": 25,
      "outputs": [
        {
          "output_type": "stream",
          "text": [
            "root\n",
            " |-- id: string (nullable = true)\n",
            " |-- cep: string (nullable = true)\n",
            " |-- cidade: string (nullable = true)\n",
            " |-- data_nasc: string (nullable = true)\n",
            " |-- endereco: string (nullable = true)\n",
            " |-- estado: string (nullable = true)\n",
            " |-- idade: string (nullable = true)\n",
            " |-- mae: string (nullable = true)\n",
            " |-- nome: string (nullable = true)\n",
            " |-- tipo_sanguineo: string (nullable = true)\n",
            " |-- cpf: string (nullable = true)\n",
            " |-- id_b: string (nullable = true)\n",
            " |-- cep_b: string (nullable = true)\n",
            " |-- cidade_b: string (nullable = true)\n",
            " |-- data_nasc_b: string (nullable = true)\n",
            " |-- endereco_b: string (nullable = true)\n",
            " |-- estado_b: string (nullable = true)\n",
            " |-- mae_b: string (nullable = true)\n",
            " |-- nome_b: string (nullable = true)\n",
            " |-- tipo_sanguineo_b: string (nullable = true)\n",
            " |-- cpf_b: string (nullable = true)\n",
            " |-- primeiro_nome_a: string (nullable = true)\n",
            " |-- primeiro_nome_b: string (nullable = true)\n",
            " |-- ultimo_nome_a: string (nullable = true)\n",
            " |-- ultimo_nome_b: string (nullable = true)\n",
            "\n"
          ],
          "name": "stdout"
        }
      ]
    },
    {
      "cell_type": "code",
      "metadata": {
        "id": "-x6UnsiyGlrm",
        "colab_type": "code",
        "outputId": "da61f93f-4776-42fa-b437-1102463b7ccf",
        "colab": {
          "base_uri": "https://localhost:8080/",
          "height": 224
        }
      },
      "source": [
        "dfl.show(5)"
      ],
      "execution_count": 28,
      "outputs": [
        {
          "output_type": "stream",
          "text": [
            "+---+---------+--------+----------+--------------------+------+-----+---------------+--------------------+--------------+--------------+----+---------+-------------+-----------+--------------------+--------+--------------------+--------------------+----------------+--------------+---------------+---------------+-------------+-------------+\n",
            "| id|      cep|  cidade| data_nasc|            endereco|estado|idade|            mae|                nome|tipo_sanguineo|           cpf|id_b|    cep_b|     cidade_b|data_nasc_b|          endereco_b|estado_b|               mae_b|              nome_b|tipo_sanguineo_b|         cpf_b|primeiro_nome_a|primeiro_nome_b|ultimo_nome_a|ultimo_nome_b|\n",
            "+---+---------+--------+----------+--------------------+------+-----+---------------+--------------------+--------------+--------------+----+---------+-------------+-----------+--------------------+--------+--------------------+--------------------+----------------+--------------+---------------+---------------+-------------+-------------+\n",
            "|  0|65090-677|Sao Luis|10/09/1948| a Travessa do Ri...|    MA|   71|Louise Beatriz |Vicente Oliver Mo...|           AB-|097.627.958-49|  01|69304-350|    Boa Vista| 22/11/1965|Avenida Mario Hom...|      RR|Isabelle Marcia A...|Felipe Bruno dos ...|             AB-|506.865.202-46|        Vicente|         Felipe|     Monteiro|       Santos|\n",
            "|  0|65090-677|Sao Luis|10/09/1948| a Travessa do Ri...|    MA|   71|Louise Beatriz |Vicente Oliver Mo...|           AB-|097.627.958-49|  02|78132-360|Varzea Grande|       null|      Rua Rio Cuiaba|      MT|       Alana Isadora|Marcio Heitor Sil...|             AB-|325.828.867-42|        Vicente|         Marcio|     Monteiro|     Silveira|\n",
            "|  0|65090-677|Sao Luis|10/09/1948| a Travessa do Ri...|    MA|   71|Louise Beatriz |Vicente Oliver Mo...|           AB-|097.627.958-49|  03|88810-336|     Criciuma| 23/09/1961|Rua Romeu Lopes d...|      SC|  Caroline Gabriela |Theo Mario Victor...|              A-|284.536.218-88|        Vicente|           Theo|     Monteiro|      Barbosa|\n",
            "|  0|65090-677|Sao Luis|10/09/1948| a Travessa do Ri...|    MA|   71|Louise Beatriz |Vicente Oliver Mo...|           AB-|097.627.958-49|  04|60874-405|    Fortaleza| 11/05/1981|                null|      CE|       Tereza Bruna |Pietro Henrique d...|             AB-|390.375.925-20|        Vicente|         Pietro|     Monteiro|        Paula|\n",
            "|  0|65090-677|Sao Luis|10/09/1948| a Travessa do Ri...|    MA|   71|Louise Beatriz |Vicente Oliver Mo...|           AB-|097.627.958-49|  05|79106-140| Campo Grande| 14/12/1941|     Rua Pato Branco|      MS|      Alice Leticia |Kaique Thiago de ...|              A-|756.005.387-40|        Vicente|         Kaique|     Monteiro|        Paula|\n",
            "+---+---------+--------+----------+--------------------+------+-----+---------------+--------------------+--------------+--------------+----+---------+-------------+-----------+--------------------+--------+--------------------+--------------------+----------------+--------------+---------------+---------------+-------------+-------------+\n",
            "only showing top 5 rows\n",
            "\n"
          ],
          "name": "stdout"
        }
      ]
    },
    {
      "cell_type": "markdown",
      "metadata": {
        "id": "TVh8I5YH3ip6",
        "colab_type": "text"
      },
      "source": [
        "## Criação das colunas com nomes fonéticos"
      ]
    },
    {
      "cell_type": "code",
      "metadata": {
        "id": "pKtpWfd_1YtA",
        "colab_type": "code",
        "colab": {}
      },
      "source": [
        "def criaMetaphone(col):\n",
        "  return jellyfish.metaphone(col)\n",
        "udf_criaMetaphone = F.udf(criaMetaphone, StringType())"
      ],
      "execution_count": 0,
      "outputs": []
    },
    {
      "cell_type": "code",
      "metadata": {
        "id": "fGqFTZym-OZC",
        "colab_type": "code",
        "colab": {}
      },
      "source": [
        "dfl = dfl.withColumn('primeiro_nome_fonetico_a', udf_criaMetaphone(F.col('primeiro_nome_a')))\n",
        "dfl = dfl.withColumn('primeiro_nome_fonetico_b', udf_criaMetaphone(F.col('primeiro_nome_b')))\n",
        "dfl = dfl.withColumn('ultimo_nome_fonetico_a', udf_criaMetaphone(F.col('ultimo_nome_a')))\n",
        "dfl = dfl.withColumn('ultimo_nome_fonetico_b', udf_criaMetaphone(F.col('ultimo_nome_b')))"
      ],
      "execution_count": 0,
      "outputs": []
    },
    {
      "cell_type": "code",
      "metadata": {
        "id": "AI9n2znr2BQT",
        "colab_type": "code",
        "colab": {}
      },
      "source": [
        "dfl = dfl.withColumn('nome_fonetico_a', udf_criaMetaphone(F.col('nome')))\n",
        "dfl = dfl.withColumn('nome_fonetico_b', udf_criaMetaphone(F.col('nome_b')))\n",
        "dfl = dfl.withColumn('nome_fonetico_mae_a', udf_criaMetaphone(F.col('mae')))\n",
        "dfl = dfl.withColumn('nome_fonetico_mae_b', udf_criaMetaphone(F.col('mae_b')))"
      ],
      "execution_count": 0,
      "outputs": []
    },
    {
      "cell_type": "code",
      "metadata": {
        "id": "yYDMSeFo2urt",
        "colab_type": "code",
        "outputId": "e865c332-3d2d-4cc7-b8f0-6aadf1459194",
        "colab": {
          "base_uri": "https://localhost:8080/",
          "height": 224
        }
      },
      "source": [
        "dfl.show(5)"
      ],
      "execution_count": 32,
      "outputs": [
        {
          "output_type": "stream",
          "text": [
            "+---+---------+--------+----------+--------------------+------+-----+---------------+--------------------+--------------+--------------+----+---------+-------------+-----------+--------------------+--------+--------------------+--------------------+----------------+--------------+---------------+---------------+-------------+-------------+------------------------+------------------------+----------------------+----------------------+---------------+---------------+-------------------+-------------------+\n",
            "| id|      cep|  cidade| data_nasc|            endereco|estado|idade|            mae|                nome|tipo_sanguineo|           cpf|id_b|    cep_b|     cidade_b|data_nasc_b|          endereco_b|estado_b|               mae_b|              nome_b|tipo_sanguineo_b|         cpf_b|primeiro_nome_a|primeiro_nome_b|ultimo_nome_a|ultimo_nome_b|primeiro_nome_fonetico_a|primeiro_nome_fonetico_b|ultimo_nome_fonetico_a|ultimo_nome_fonetico_b|nome_fonetico_a|nome_fonetico_b|nome_fonetico_mae_a|nome_fonetico_mae_b|\n",
            "+---+---------+--------+----------+--------------------+------+-----+---------------+--------------------+--------------+--------------+----+---------+-------------+-----------+--------------------+--------+--------------------+--------------------+----------------+--------------+---------------+---------------+-------------+-------------+------------------------+------------------------+----------------------+----------------------+---------------+---------------+-------------------+-------------------+\n",
            "|  0|65090-677|Sao Luis|10/09/1948| a Travessa do Ri...|    MA|   71|Louise Beatriz |Vicente Oliver Mo...|           AB-|097.627.958-49|  01|69304-350|    Boa Vista| 22/11/1965|Avenida Mario Hom...|      RR|Isabelle Marcia A...|Felipe Bruno dos ...|             AB-|506.865.202-46|        Vicente|         Felipe|     Monteiro|       Santos|                    FSNT|                     FLP|                  MNTR|                  SNTS| FSNT OLFR MNTR|FLP BRN TS SNTS|           LS BTRS |    ISBL MRX ANTNL |\n",
            "|  0|65090-677|Sao Luis|10/09/1948| a Travessa do Ri...|    MA|   71|Louise Beatriz |Vicente Oliver Mo...|           AB-|097.627.958-49|  02|78132-360|Varzea Grande|       null|      Rua Rio Cuiaba|      MT|       Alana Isadora|Marcio Heitor Sil...|             AB-|325.828.867-42|        Vicente|         Marcio|     Monteiro|     Silveira|                    FSNT|                     MRS|                  MNTR|                  SLFR| FSNT OLFR MNTR|   MRS HTR SLFR|           LS BTRS |           ALN ISTR|\n",
            "|  0|65090-677|Sao Luis|10/09/1948| a Travessa do Ri...|    MA|   71|Louise Beatriz |Vicente Oliver Mo...|           AB-|097.627.958-49|  03|88810-336|     Criciuma| 23/09/1961|Rua Romeu Lopes d...|      SC|  Caroline Gabriela |Theo Mario Victor...|              A-|284.536.218-88|        Vicente|           Theo|     Monteiro|      Barbosa|                    FSNT|                       0|                  MNTR|                  BRBS| FSNT OLFR MNTR| 0 MR FKTR BRBS|           LS BTRS |         KRLN KBRL |\n",
            "|  0|65090-677|Sao Luis|10/09/1948| a Travessa do Ri...|    MA|   71|Louise Beatriz |Vicente Oliver Mo...|           AB-|097.627.958-49|  04|60874-405|    Fortaleza| 11/05/1981|                null|      CE|       Tereza Bruna |Pietro Henrique d...|             AB-|390.375.925-20|        Vicente|         Pietro|     Monteiro|        Paula|                    FSNT|                     PTR|                  MNTR|                    PL| FSNT OLFR MNTR|  PTR HNRK T PL|           LS BTRS |           TRS BRN |\n",
            "|  0|65090-677|Sao Luis|10/09/1948| a Travessa do Ri...|    MA|   71|Louise Beatriz |Vicente Oliver Mo...|           AB-|097.627.958-49|  05|79106-140| Campo Grande| 14/12/1941|     Rua Pato Branco|      MS|      Alice Leticia |Kaique Thiago de ...|              A-|756.005.387-40|        Vicente|         Kaique|     Monteiro|        Paula|                    FSNT|                      KK|                  MNTR|                    PL| FSNT OLFR MNTR|     KK 0K T PL|           LS BTRS |           ALS LTX |\n",
            "+---+---------+--------+----------+--------------------+------+-----+---------------+--------------------+--------------+--------------+----+---------+-------------+-----------+--------------------+--------+--------------------+--------------------+----------------+--------------+---------------+---------------+-------------+-------------+------------------------+------------------------+----------------------+----------------------+---------------+---------------+-------------------+-------------------+\n",
            "only showing top 5 rows\n",
            "\n"
          ],
          "name": "stdout"
        }
      ]
    },
    {
      "cell_type": "code",
      "metadata": {
        "id": "lYiuN4Vy23C5",
        "colab_type": "code",
        "outputId": "095e13d5-7d10-4013-cd84-fd05c2c7a6dd",
        "colab": {
          "base_uri": "https://localhost:8080/",
          "height": 612
        }
      },
      "source": [
        "dfl.printSchema()"
      ],
      "execution_count": 33,
      "outputs": [
        {
          "output_type": "stream",
          "text": [
            "root\n",
            " |-- id: string (nullable = true)\n",
            " |-- cep: string (nullable = true)\n",
            " |-- cidade: string (nullable = true)\n",
            " |-- data_nasc: string (nullable = true)\n",
            " |-- endereco: string (nullable = true)\n",
            " |-- estado: string (nullable = true)\n",
            " |-- idade: string (nullable = true)\n",
            " |-- mae: string (nullable = true)\n",
            " |-- nome: string (nullable = true)\n",
            " |-- tipo_sanguineo: string (nullable = true)\n",
            " |-- cpf: string (nullable = true)\n",
            " |-- id_b: string (nullable = true)\n",
            " |-- cep_b: string (nullable = true)\n",
            " |-- cidade_b: string (nullable = true)\n",
            " |-- data_nasc_b: string (nullable = true)\n",
            " |-- endereco_b: string (nullable = true)\n",
            " |-- estado_b: string (nullable = true)\n",
            " |-- mae_b: string (nullable = true)\n",
            " |-- nome_b: string (nullable = true)\n",
            " |-- tipo_sanguineo_b: string (nullable = true)\n",
            " |-- cpf_b: string (nullable = true)\n",
            " |-- primeiro_nome_a: string (nullable = true)\n",
            " |-- primeiro_nome_b: string (nullable = true)\n",
            " |-- ultimo_nome_a: string (nullable = true)\n",
            " |-- ultimo_nome_b: string (nullable = true)\n",
            " |-- primeiro_nome_fonetico_a: string (nullable = true)\n",
            " |-- primeiro_nome_fonetico_b: string (nullable = true)\n",
            " |-- ultimo_nome_fonetico_a: string (nullable = true)\n",
            " |-- ultimo_nome_fonetico_b: string (nullable = true)\n",
            " |-- nome_fonetico_a: string (nullable = true)\n",
            " |-- nome_fonetico_b: string (nullable = true)\n",
            " |-- nome_fonetico_mae_a: string (nullable = true)\n",
            " |-- nome_fonetico_mae_b: string (nullable = true)\n",
            "\n"
          ],
          "name": "stdout"
        }
      ]
    },
    {
      "cell_type": "markdown",
      "metadata": {
        "id": "xI9idf0j3rvs",
        "colab_type": "text"
      },
      "source": [
        "## Criação da Função de Similaridade pelo Nome e Nome da Mãe com Jaro Winkler (fonético)\n"
      ]
    },
    {
      "cell_type": "code",
      "metadata": {
        "id": "1cBLCw4roUcF",
        "colab_type": "code",
        "colab": {}
      },
      "source": [
        "def compare(primeiro_nome_fonetico_a, ultimo_nome_fonetico_a, nome_fonetico_mae_a, primeiro_nome_fonetico_b, ultimo_nome_fonetico_b, nome_fonetico_mae_b):\n",
        "  sim = 0\n",
        "  \n",
        "  #comparando atributos nominais\n",
        "  sim = jellyfish.jaro_winkler(primeiro_nome_fonetico_a, primeiro_nome_fonetico_b)\n",
        "  sim += jellyfish.jaro_winkler(ultimo_nome_fonetico_a, ultimo_nome_fonetico_b)\n",
        "  sim += jellyfish.jaro_winkler(nome_fonetico_mae_a, nome_fonetico_mae_b)\n",
        "  \n",
        "  #Media aritmética simples\n",
        "  sim = abs(float(sim/3))\n",
        "  \n",
        "  return sim\n",
        "\n",
        "udf_compare = F.udf(compare, StringType())  "
      ],
      "execution_count": 0,
      "outputs": []
    },
    {
      "cell_type": "markdown",
      "metadata": {
        "id": "NTNYJz_sCUQj",
        "colab_type": "text"
      },
      "source": [
        "## Rodando Comparação\n"
      ]
    },
    {
      "cell_type": "code",
      "metadata": {
        "id": "e5QV9YRCmQrP",
        "colab_type": "code",
        "colab": {}
      },
      "source": [
        "dfr = dfl.withColumn('similaridade', \n",
        "                     udf_compare(F.col('primeiro_nome_fonetico_a'),\n",
        "                                 F.col('ultimo_nome_fonetico_a'),\n",
        "                                 F.col('nome_fonetico_mae_a'),\n",
        "                                 F.col('primeiro_nome_fonetico_b'),\n",
        "                                 F.col('ultimo_nome_fonetico_b'),\n",
        "                                 F.col('nome_fonetico_mae_b')))"
      ],
      "execution_count": 0,
      "outputs": []
    },
    {
      "cell_type": "code",
      "metadata": {
        "id": "5IaX_QsOCmQ0",
        "colab_type": "code",
        "colab": {
          "base_uri": "https://localhost:8080/",
          "height": 629
        },
        "outputId": "7b18c0b2-bca5-42a7-e6d4-55eb72941ddd"
      },
      "source": [
        "dfr.printSchema()"
      ],
      "execution_count": 59,
      "outputs": [
        {
          "output_type": "stream",
          "text": [
            "root\n",
            " |-- id: string (nullable = true)\n",
            " |-- cep: string (nullable = true)\n",
            " |-- cidade: string (nullable = true)\n",
            " |-- data_nasc: string (nullable = true)\n",
            " |-- endereco: string (nullable = true)\n",
            " |-- estado: string (nullable = true)\n",
            " |-- idade: string (nullable = true)\n",
            " |-- mae: string (nullable = true)\n",
            " |-- nome: string (nullable = true)\n",
            " |-- tipo_sanguineo: string (nullable = true)\n",
            " |-- cpf: string (nullable = true)\n",
            " |-- id_b: string (nullable = true)\n",
            " |-- cep_b: string (nullable = true)\n",
            " |-- cidade_b: string (nullable = true)\n",
            " |-- data_nasc_b: string (nullable = true)\n",
            " |-- endereco_b: string (nullable = true)\n",
            " |-- estado_b: string (nullable = true)\n",
            " |-- mae_b: string (nullable = true)\n",
            " |-- nome_b: string (nullable = true)\n",
            " |-- tipo_sanguineo_b: string (nullable = true)\n",
            " |-- cpf_b: string (nullable = true)\n",
            " |-- primeiro_nome_a: string (nullable = true)\n",
            " |-- primeiro_nome_b: string (nullable = true)\n",
            " |-- ultimo_nome_a: string (nullable = true)\n",
            " |-- ultimo_nome_b: string (nullable = true)\n",
            " |-- primeiro_nome_fonetico_a: string (nullable = true)\n",
            " |-- primeiro_nome_fonetico_b: string (nullable = true)\n",
            " |-- ultimo_nome_fonetico_a: string (nullable = true)\n",
            " |-- ultimo_nome_fonetico_b: string (nullable = true)\n",
            " |-- nome_fonetico_a: string (nullable = true)\n",
            " |-- nome_fonetico_b: string (nullable = true)\n",
            " |-- nome_fonetico_mae_a: string (nullable = true)\n",
            " |-- nome_fonetico_mae_b: string (nullable = true)\n",
            " |-- similaridade: string (nullable = true)\n",
            "\n"
          ],
          "name": "stdout"
        }
      ]
    },
    {
      "cell_type": "code",
      "metadata": {
        "id": "UVCMI0KhEglU",
        "colab_type": "code",
        "outputId": "efbc4532-d9d6-4032-d599-110f83d35cdf",
        "colab": {
          "base_uri": "https://localhost:8080/",
          "height": 289
        }
      },
      "source": [
        "# Exibindo base de resultado\n",
        "dfr.select(['id', 'id_b', 'nome', 'nome_b', 'cpf', 'cpf_b', 'similaridade']).show(10)"
      ],
      "execution_count": 60,
      "outputs": [
        {
          "output_type": "stream",
          "text": [
            "+---+----+--------------------+--------------------+--------------+--------------+-------------------+\n",
            "| id|id_b|                nome|              nome_b|           cpf|         cpf_b|       similaridade|\n",
            "+---+----+--------------------+--------------------+--------------+--------------+-------------------+\n",
            "|  0|  01|Vicente Oliver Mo...|Felipe Bruno dos ...|097.627.958-49|506.865.202-46|                0.6|\n",
            "|  0|  02|Vicente Oliver Mo...|Marcio Heitor Sil...|097.627.958-49|325.828.867-42| 0.5703703703703703|\n",
            "|  0|  03|Vicente Oliver Mo...|Theo Mario Victor...|097.627.958-49|284.536.218-88|0.19166666666666668|\n",
            "|  0|  04|Vicente Oliver Mo...|Pietro Henrique d...|097.627.958-49|390.375.925-20|               0.25|\n",
            "|  0|  05|Vicente Oliver Mo...|Kaique Thiago de ...|097.627.958-49|756.005.387-40|               0.25|\n",
            "|  0|  06|Vicente Oliver Mo...|Gabriel Erick Oli...|097.627.958-49|551.341.139-39|0.20502645502645503|\n",
            "|  0|  07|Vicente Oliver Mo...|Luan Caue Anthony...|097.627.958-49|756.048.583-90| 0.6527777777777778|\n",
            "|  0|  08|Vicente Oliver Mo...|        Enzo D Rocha|097.627.958-49|386.351.591-95|0.44654882154882153|\n",
            "|  0|  09|Vicente Oliver Mo...|Cesar Matheus Cau...|097.627.958-49|885.264.747-31| 0.6171957671957671|\n",
            "|  0|  10|Vicente Oliver Mo...|   Caua Isaac Castro|097.627.958-49|489.611.821-96|0.42023809523809524|\n",
            "+---+----+--------------------+--------------------+--------------+--------------+-------------------+\n",
            "only showing top 10 rows\n",
            "\n"
          ],
          "name": "stdout"
        }
      ]
    },
    {
      "cell_type": "code",
      "metadata": {
        "id": "SCESQ31i5hKb",
        "colab_type": "code",
        "colab": {}
      },
      "source": [
        "# Deduplicando a base (eliminando linhas duplicadas, ficando somente com a de maior similaridade)\n",
        "dfc = dfr.orderBy(['similaridade'], ascending=False).dropDuplicates(['id_b']).orderBy(['id_b']).select(['id', 'id_b', 'nome','mae', 'nome_b', 'mae_b', 'cpf','cpf_b', 'similaridade'])\n"
      ],
      "execution_count": 0,
      "outputs": []
    },
    {
      "cell_type": "code",
      "metadata": {
        "id": "9vaO4rUCF6gJ",
        "colab_type": "code",
        "colab": {}
      },
      "source": [
        "# Criação de coluna de comparação de CPFs\n",
        "dfc = dfc.withColumn('CPFs_Iguais',F.col('cpf') == F.col('cpf_b'))"
      ],
      "execution_count": 0,
      "outputs": []
    },
    {
      "cell_type": "code",
      "metadata": {
        "id": "zwNei_tzDm7L",
        "colab_type": "code",
        "colab": {
          "base_uri": "https://localhost:8080/",
          "height": 34
        },
        "outputId": "0feb1c80-914a-4ac4-e4bb-80ead7e08619"
      },
      "source": [
        "dfc.count()"
      ],
      "execution_count": 71,
      "outputs": [
        {
          "output_type": "execute_result",
          "data": {
            "text/plain": [
              "143"
            ]
          },
          "metadata": {
            "tags": []
          },
          "execution_count": 71
        }
      ]
    },
    {
      "cell_type": "code",
      "metadata": {
        "id": "nj_pQUaBE4Ch",
        "colab_type": "code",
        "outputId": "8e0fd851-d5b6-4eb9-a430-4c5f85b3cc91",
        "colab": {
          "base_uri": "https://localhost:8080/",
          "height": 289
        }
      },
      "source": [
        "dfc.show(10)"
      ],
      "execution_count": 78,
      "outputs": [
        {
          "output_type": "stream",
          "text": [
            "+---+----+--------------------+--------------------+--------------------+--------------------+--------------+--------------+------------------+-----------+\n",
            "| id|id_b|                nome|                 mae|              nome_b|               mae_b|           cpf|         cpf_b|      similaridade|CPFs_Iguais|\n",
            "+---+----+--------------------+--------------------+--------------------+--------------------+--------------+--------------+------------------+-----------+\n",
            "| 14|  01|Felipe Bruno dos ...|Isabelle Marcia A...|Felipe Bruno dos ...|Isabelle Marcia A...|506.865.202-46|506.865.202-46|               1.0|       true|\n",
            "| 15|  02|Marcio Heitor Sil...|Alana Isadora Jul...|Marcio Heitor Sil...|       Alana Isadora|325.828.867-42|325.828.867-42|0.9743589743589745|       true|\n",
            "| 16|  03|Theo Mario Victor...|  Caroline Gabriela |Theo Mario Victor...|  Caroline Gabriela |284.536.218-88|284.536.218-88|               1.0|       true|\n",
            "| 17|  04|Pietro Henry de P...|       Tereza Bruna |Pietro Henrique d...|       Tereza Bruna |390.375.925-20|390.375.925-20|               1.0|       true|\n",
            "| 18|  05|Kaique Thiago de ...|      Alice Leticia |Kaique Thiago de ...|      Alice Leticia |756.005.387-40|756.005.387-40|               1.0|       true|\n",
            "| 19|  06|Gabriel Erick Oli...|Helena Agatha Ter...|Gabriel Erick Oli...|Elena Agatha Tere...|551.341.139-39|551.341.139-39|0.9841269841269842|       true|\n",
            "| 20|  07|Luan Caue Anthony...|Vanessa Camila Ni...|Luan Caue Anthony...|Vanessa Camila Ni...|756.048.583-90|756.048.583-90|               1.0|       true|\n",
            "| 21|  08|    Enzo Diego Rocha|Isabelle Maite Rosa |        Enzo D Rocha|Isabelle Maite Rosa |386.351.591-95|386.351.591-95|               1.0|       true|\n",
            "| 22|  09|Cesar Matheus Cau...|      Sophie Bianca |Cesar Matheus Cau...|      Sophie Bianca |885.264.747-31|885.264.747-31|               1.0|       true|\n",
            "| 23|  10|   Caua Isaac Castro|Giovana Antonella...|   Caua Isaac Castro|Giovana Antonella...|489.611.821-96|489.611.821-96|               1.0|       true|\n",
            "+---+----+--------------------+--------------------+--------------------+--------------------+--------------+--------------+------------------+-----------+\n",
            "only showing top 10 rows\n",
            "\n"
          ],
          "name": "stdout"
        }
      ]
    },
    {
      "cell_type": "code",
      "metadata": {
        "colab_type": "code",
        "outputId": "e272984d-960b-4377-e47b-146f6d7a0e15",
        "id": "FWY6aedhD7Gn",
        "colab": {
          "base_uri": "https://localhost:8080/",
          "height": 1969
        }
      },
      "source": [
        "dfc.limit(100).toPandas()"
      ],
      "execution_count": 80,
      "outputs": [
        {
          "output_type": "execute_result",
          "data": {
            "text/html": [
              "<div>\n",
              "<style scoped>\n",
              "    .dataframe tbody tr th:only-of-type {\n",
              "        vertical-align: middle;\n",
              "    }\n",
              "\n",
              "    .dataframe tbody tr th {\n",
              "        vertical-align: top;\n",
              "    }\n",
              "\n",
              "    .dataframe thead th {\n",
              "        text-align: right;\n",
              "    }\n",
              "</style>\n",
              "<table border=\"1\" class=\"dataframe\">\n",
              "  <thead>\n",
              "    <tr style=\"text-align: right;\">\n",
              "      <th></th>\n",
              "      <th>id</th>\n",
              "      <th>id_b</th>\n",
              "      <th>nome</th>\n",
              "      <th>mae</th>\n",
              "      <th>nome_b</th>\n",
              "      <th>mae_b</th>\n",
              "      <th>cpf</th>\n",
              "      <th>cpf_b</th>\n",
              "      <th>similaridade</th>\n",
              "      <th>CPFs_Iguais</th>\n",
              "    </tr>\n",
              "  </thead>\n",
              "  <tbody>\n",
              "    <tr>\n",
              "      <th>0</th>\n",
              "      <td>14</td>\n",
              "      <td>01</td>\n",
              "      <td>Felipe Bruno dos Santos</td>\n",
              "      <td>Isabelle Marcia Antonella</td>\n",
              "      <td>Felipe Bruno dos Santos</td>\n",
              "      <td>Isabelle Marcia Antonella</td>\n",
              "      <td>506.865.202-46</td>\n",
              "      <td>506.865.202-46</td>\n",
              "      <td>1.0</td>\n",
              "      <td>True</td>\n",
              "    </tr>\n",
              "    <tr>\n",
              "      <th>1</th>\n",
              "      <td>15</td>\n",
              "      <td>02</td>\n",
              "      <td>Marcio Heitor Silveira</td>\n",
              "      <td>Alana Isadora Juliana</td>\n",
              "      <td>Marcio Heitor Silveira</td>\n",
              "      <td>Alana Isadora</td>\n",
              "      <td>325.828.867-42</td>\n",
              "      <td>325.828.867-42</td>\n",
              "      <td>0.9743589743589745</td>\n",
              "      <td>True</td>\n",
              "    </tr>\n",
              "    <tr>\n",
              "      <th>2</th>\n",
              "      <td>16</td>\n",
              "      <td>03</td>\n",
              "      <td>Theo Mario Victor Barbosa</td>\n",
              "      <td>Caroline Gabriela</td>\n",
              "      <td>Theo Mario Victor Barbosa</td>\n",
              "      <td>Caroline Gabriela</td>\n",
              "      <td>284.536.218-88</td>\n",
              "      <td>284.536.218-88</td>\n",
              "      <td>1.0</td>\n",
              "      <td>True</td>\n",
              "    </tr>\n",
              "    <tr>\n",
              "      <th>3</th>\n",
              "      <td>17</td>\n",
              "      <td>04</td>\n",
              "      <td>Pietro Henry de Paula</td>\n",
              "      <td>Tereza Bruna</td>\n",
              "      <td>Pietro Henrique de Paula</td>\n",
              "      <td>Tereza Bruna</td>\n",
              "      <td>390.375.925-20</td>\n",
              "      <td>390.375.925-20</td>\n",
              "      <td>1.0</td>\n",
              "      <td>True</td>\n",
              "    </tr>\n",
              "    <tr>\n",
              "      <th>4</th>\n",
              "      <td>18</td>\n",
              "      <td>05</td>\n",
              "      <td>Kaique Thiago de Paula</td>\n",
              "      <td>Alice Leticia</td>\n",
              "      <td>Kaique Thiago de Paula</td>\n",
              "      <td>Alice Leticia</td>\n",
              "      <td>756.005.387-40</td>\n",
              "      <td>756.005.387-40</td>\n",
              "      <td>1.0</td>\n",
              "      <td>True</td>\n",
              "    </tr>\n",
              "    <tr>\n",
              "      <th>5</th>\n",
              "      <td>19</td>\n",
              "      <td>06</td>\n",
              "      <td>Gabriel Erick Oliver da Luz</td>\n",
              "      <td>Helena Agatha Teresinha</td>\n",
              "      <td>Gabriel Erick Oliver da Luz</td>\n",
              "      <td>Elena Agatha Teresinha</td>\n",
              "      <td>551.341.139-39</td>\n",
              "      <td>551.341.139-39</td>\n",
              "      <td>0.9841269841269842</td>\n",
              "      <td>True</td>\n",
              "    </tr>\n",
              "    <tr>\n",
              "      <th>6</th>\n",
              "      <td>20</td>\n",
              "      <td>07</td>\n",
              "      <td>Luan Caue Anthony da Mota</td>\n",
              "      <td>Vanessa Camila Nicole</td>\n",
              "      <td>Luan Caue Anthony da Mota</td>\n",
              "      <td>Vanessa Camila Nicole</td>\n",
              "      <td>756.048.583-90</td>\n",
              "      <td>756.048.583-90</td>\n",
              "      <td>1.0</td>\n",
              "      <td>True</td>\n",
              "    </tr>\n",
              "    <tr>\n",
              "      <th>7</th>\n",
              "      <td>21</td>\n",
              "      <td>08</td>\n",
              "      <td>Enzo Diego Rocha</td>\n",
              "      <td>Isabelle Maite Rosa</td>\n",
              "      <td>Enzo D Rocha</td>\n",
              "      <td>Isabelle Maite Rosa</td>\n",
              "      <td>386.351.591-95</td>\n",
              "      <td>386.351.591-95</td>\n",
              "      <td>1.0</td>\n",
              "      <td>True</td>\n",
              "    </tr>\n",
              "    <tr>\n",
              "      <th>8</th>\n",
              "      <td>22</td>\n",
              "      <td>09</td>\n",
              "      <td>Cesar Matheus Caue Rodrigues</td>\n",
              "      <td>Sophie Bianca</td>\n",
              "      <td>Cesar Matheus Caue Rodrigues</td>\n",
              "      <td>Sophie Bianca</td>\n",
              "      <td>885.264.747-31</td>\n",
              "      <td>885.264.747-31</td>\n",
              "      <td>1.0</td>\n",
              "      <td>True</td>\n",
              "    </tr>\n",
              "    <tr>\n",
              "      <th>9</th>\n",
              "      <td>23</td>\n",
              "      <td>10</td>\n",
              "      <td>Caua Isaac Castro</td>\n",
              "      <td>Giovana Antonella Larissa</td>\n",
              "      <td>Caua Isaac Castro</td>\n",
              "      <td>Giovana Antonella Larissa</td>\n",
              "      <td>489.611.821-96</td>\n",
              "      <td>489.611.821-96</td>\n",
              "      <td>1.0</td>\n",
              "      <td>True</td>\n",
              "    </tr>\n",
              "    <tr>\n",
              "      <th>10</th>\n",
              "      <td>88</td>\n",
              "      <td>100</td>\n",
              "      <td>Pedro Henrique Calebe Yuri Figueiredo</td>\n",
              "      <td>Daniela Fernanda</td>\n",
              "      <td>Pedro Henrique Calebe Yuri Figueiredo</td>\n",
              "      <td>Daniela Fernanda</td>\n",
              "      <td>455.314.739-40</td>\n",
              "      <td>711.467.358-20</td>\n",
              "      <td>1.0</td>\n",
              "      <td>False</td>\n",
              "    </tr>\n",
              "    <tr>\n",
              "      <th>11</th>\n",
              "      <td>89</td>\n",
              "      <td>101</td>\n",
              "      <td>Isaac Luiz Aparicio</td>\n",
              "      <td>Stefany Eliane</td>\n",
              "      <td>Isaac Luiz Aparicio</td>\n",
              "      <td>Stefany Eliane</td>\n",
              "      <td>919.624.227-20</td>\n",
              "      <td>823.068.573-85</td>\n",
              "      <td>1.0</td>\n",
              "      <td>False</td>\n",
              "    </tr>\n",
              "    <tr>\n",
              "      <th>12</th>\n",
              "      <td>90</td>\n",
              "      <td>102</td>\n",
              "      <td>Breno Danilo Silva</td>\n",
              "      <td>Eloa Fatima Tania</td>\n",
              "      <td>Breno Danilo Silva</td>\n",
              "      <td>Eloa Fatima Tania</td>\n",
              "      <td>197.863.690-33</td>\n",
              "      <td>040.568.439-88</td>\n",
              "      <td>1.0</td>\n",
              "      <td>False</td>\n",
              "    </tr>\n",
              "    <tr>\n",
              "      <th>13</th>\n",
              "      <td>91</td>\n",
              "      <td>103</td>\n",
              "      <td>Fernando Mario Sales</td>\n",
              "      <td>Silvana Analu Lara</td>\n",
              "      <td>Fernando Mario Sales</td>\n",
              "      <td>Silvana Analu Lara</td>\n",
              "      <td>853.220.078-81</td>\n",
              "      <td>461.427.999-69</td>\n",
              "      <td>1.0</td>\n",
              "      <td>False</td>\n",
              "    </tr>\n",
              "    <tr>\n",
              "      <th>14</th>\n",
              "      <td>92</td>\n",
              "      <td>104</td>\n",
              "      <td>Pedro Henrique Diego Fernandes</td>\n",
              "      <td>Carolina Vitoria</td>\n",
              "      <td>Pedro Henrique Diego Fernandes</td>\n",
              "      <td>Carolina Vitoria</td>\n",
              "      <td>510.498.890-29</td>\n",
              "      <td>423.398.060-54</td>\n",
              "      <td>1.0</td>\n",
              "      <td>False</td>\n",
              "    </tr>\n",
              "    <tr>\n",
              "      <th>15</th>\n",
              "      <td>93</td>\n",
              "      <td>105</td>\n",
              "      <td>Oliver Benicio Sergio Aparicio</td>\n",
              "      <td>Alana Valentina Antonia</td>\n",
              "      <td>Oliver Benicio Sergio Aparicio</td>\n",
              "      <td>Alana Valentina Antonia</td>\n",
              "      <td>621.824.822-45</td>\n",
              "      <td>974.659.231-90</td>\n",
              "      <td>1.0</td>\n",
              "      <td>False</td>\n",
              "    </tr>\n",
              "    <tr>\n",
              "      <th>16</th>\n",
              "      <td>94</td>\n",
              "      <td>106</td>\n",
              "      <td>Cesar Filipe Peixoto</td>\n",
              "      <td>Camila Sarah</td>\n",
              "      <td>Cesar Filipe Peixoto</td>\n",
              "      <td>Camila Sarah</td>\n",
              "      <td>805.964.609-53</td>\n",
              "      <td>629.574.715-90</td>\n",
              "      <td>1.0</td>\n",
              "      <td>False</td>\n",
              "    </tr>\n",
              "    <tr>\n",
              "      <th>17</th>\n",
              "      <td>95</td>\n",
              "      <td>107</td>\n",
              "      <td>Matheus Joao Iago Assuncao</td>\n",
              "      <td>Sueli Tereza</td>\n",
              "      <td>Matheus Joao Iago Assuncao</td>\n",
              "      <td>Sueli Tereza</td>\n",
              "      <td>658.224.088-93</td>\n",
              "      <td>535.871.894-04</td>\n",
              "      <td>1.0</td>\n",
              "      <td>False</td>\n",
              "    </tr>\n",
              "    <tr>\n",
              "      <th>18</th>\n",
              "      <td>96</td>\n",
              "      <td>108</td>\n",
              "      <td>Noah Caleb Pietro das Neves</td>\n",
              "      <td>Larissa Milena Catarina</td>\n",
              "      <td>Noah Caleb Pietro das Neves</td>\n",
              "      <td>Larissa Milena Catarina</td>\n",
              "      <td>236.305.262-50</td>\n",
              "      <td>874.269.918-57</td>\n",
              "      <td>1.0</td>\n",
              "      <td>False</td>\n",
              "    </tr>\n",
              "    <tr>\n",
              "      <th>19</th>\n",
              "      <td>97</td>\n",
              "      <td>109</td>\n",
              "      <td>Nicolas Henry da Costa</td>\n",
              "      <td>Sophie Isabelly Maite</td>\n",
              "      <td>Nicolas Henry da Costa</td>\n",
              "      <td>Sophie Isabelly Maite</td>\n",
              "      <td>640.234.882-16</td>\n",
              "      <td>840.760.458-58</td>\n",
              "      <td>1.0</td>\n",
              "      <td>False</td>\n",
              "    </tr>\n",
              "    <tr>\n",
              "      <th>20</th>\n",
              "      <td>24</td>\n",
              "      <td>11</td>\n",
              "      <td>Gabriel Caua Marcos Vinicius Caldeira</td>\n",
              "      <td>Mariana Mirella Natalia</td>\n",
              "      <td>Gabriel Caua Marcos Vinicius Caldeira</td>\n",
              "      <td>Mariana Mirella Natalia</td>\n",
              "      <td>281.229.310-14</td>\n",
              "      <td>281.229.310-14</td>\n",
              "      <td>1.0</td>\n",
              "      <td>True</td>\n",
              "    </tr>\n",
              "    <tr>\n",
              "      <th>21</th>\n",
              "      <td>98</td>\n",
              "      <td>110</td>\n",
              "      <td>Kaique Heitor Nascimento</td>\n",
              "      <td>Silvana Cristiane Rosa</td>\n",
              "      <td>Kaique Heitor N</td>\n",
              "      <td>Silvana Cristiane Rosa</td>\n",
              "      <td>896.785.694-69</td>\n",
              "      <td>885.968.346-72</td>\n",
              "      <td>0.9074074074074074</td>\n",
              "      <td>False</td>\n",
              "    </tr>\n",
              "    <tr>\n",
              "      <th>22</th>\n",
              "      <td>99</td>\n",
              "      <td>111</td>\n",
              "      <td>Kaue Francisco Bernardes</td>\n",
              "      <td>Alice Nair Rita</td>\n",
              "      <td>Kaue Francisco Bernardes</td>\n",
              "      <td>Alice Nair Rita</td>\n",
              "      <td>537.674.050-16</td>\n",
              "      <td>341.311.535-99</td>\n",
              "      <td>1.0</td>\n",
              "      <td>False</td>\n",
              "    </tr>\n",
              "    <tr>\n",
              "      <th>23</th>\n",
              "      <td>100</td>\n",
              "      <td>112</td>\n",
              "      <td>Marcos Yago Lucca Aragao</td>\n",
              "      <td>Clarice Bruna</td>\n",
              "      <td>Marcos Yago Lucca Aragao</td>\n",
              "      <td>Clarice Bruna</td>\n",
              "      <td>055.033.142-55</td>\n",
              "      <td>233.893.997-20</td>\n",
              "      <td>1.0</td>\n",
              "      <td>False</td>\n",
              "    </tr>\n",
              "    <tr>\n",
              "      <th>24</th>\n",
              "      <td>101</td>\n",
              "      <td>113</td>\n",
              "      <td>Claudio Murilo Augusto da Rosa</td>\n",
              "      <td>Patricia Jennifer</td>\n",
              "      <td>Claudio Rosa</td>\n",
              "      <td>Patricia Jennifer</td>\n",
              "      <td>311.265.388-25</td>\n",
              "      <td>748.193.267-08</td>\n",
              "      <td>1.0</td>\n",
              "      <td>False</td>\n",
              "    </tr>\n",
              "    <tr>\n",
              "      <th>25</th>\n",
              "      <td>102</td>\n",
              "      <td>114</td>\n",
              "      <td>Bento Luan Guilherme Monteiro</td>\n",
              "      <td>Sophia Louise</td>\n",
              "      <td>Bento Luan Guilherme Monteiro</td>\n",
              "      <td>Sophia Louise</td>\n",
              "      <td>617.496.046-39</td>\n",
              "      <td>442.694.244-60</td>\n",
              "      <td>1.0</td>\n",
              "      <td>False</td>\n",
              "    </tr>\n",
              "    <tr>\n",
              "      <th>26</th>\n",
              "      <td>103</td>\n",
              "      <td>115</td>\n",
              "      <td>Gustavo Iago Levi Galvao</td>\n",
              "      <td>Barbara Yasmin</td>\n",
              "      <td>Gustavo Iago Levi Galvao</td>\n",
              "      <td>Barbara Yasmin</td>\n",
              "      <td>710.692.544-60</td>\n",
              "      <td>563.337.623-42</td>\n",
              "      <td>1.0</td>\n",
              "      <td>False</td>\n",
              "    </tr>\n",
              "    <tr>\n",
              "      <th>27</th>\n",
              "      <td>104</td>\n",
              "      <td>116</td>\n",
              "      <td>Eduardo Nelson Melo</td>\n",
              "      <td>Cecilia Sophie</td>\n",
              "      <td>Eduardo Nelson Melo</td>\n",
              "      <td>Cecilia Sophie</td>\n",
              "      <td>895.258.369-83</td>\n",
              "      <td>466.803.635-86</td>\n",
              "      <td>1.0</td>\n",
              "      <td>False</td>\n",
              "    </tr>\n",
              "    <tr>\n",
              "      <th>28</th>\n",
              "      <td>105</td>\n",
              "      <td>117</td>\n",
              "      <td>Pietro Guilherme Moreira</td>\n",
              "      <td>Teresinha Vera Elisa</td>\n",
              "      <td>Pietro Guilherme Moreira</td>\n",
              "      <td>Teresinha Vera Elisa</td>\n",
              "      <td>965.187.557-76</td>\n",
              "      <td>893.426.079-34</td>\n",
              "      <td>1.0</td>\n",
              "      <td>False</td>\n",
              "    </tr>\n",
              "    <tr>\n",
              "      <th>29</th>\n",
              "      <td>19</td>\n",
              "      <td>118</td>\n",
              "      <td>Gabriel Erick Oliver da Luz</td>\n",
              "      <td>Helena Agatha Teresinha</td>\n",
              "      <td>Gabriel Erick Oliver da Luz</td>\n",
              "      <td>Luciana Laura Juliana</td>\n",
              "      <td>551.341.139-39</td>\n",
              "      <td>728.882.048-35</td>\n",
              "      <td>0.8881673881673882</td>\n",
              "      <td>False</td>\n",
              "    </tr>\n",
              "    <tr>\n",
              "      <th>...</th>\n",
              "      <td>...</td>\n",
              "      <td>...</td>\n",
              "      <td>...</td>\n",
              "      <td>...</td>\n",
              "      <td>...</td>\n",
              "      <td>...</td>\n",
              "      <td>...</td>\n",
              "      <td>...</td>\n",
              "      <td>...</td>\n",
              "      <td>...</td>\n",
              "    </tr>\n",
              "    <tr>\n",
              "      <th>70</th>\n",
              "      <td>40</td>\n",
              "      <td>27</td>\n",
              "      <td>Theo Sebastiao da Rosa</td>\n",
              "      <td>Isadora Lucia Joana</td>\n",
              "      <td>Theo Sebastiao da Rosa</td>\n",
              "      <td>Isadora Lucia Joana</td>\n",
              "      <td>536.503.166-09</td>\n",
              "      <td>536.503.166-09</td>\n",
              "      <td>1.0</td>\n",
              "      <td>True</td>\n",
              "    </tr>\n",
              "    <tr>\n",
              "      <th>71</th>\n",
              "      <td>41</td>\n",
              "      <td>28</td>\n",
              "      <td>Breno Bruno Pinto</td>\n",
              "      <td>Jessica Tereza</td>\n",
              "      <td>Breno Bruno Pinto</td>\n",
              "      <td>Jessica Tereza</td>\n",
              "      <td>735.197.681-35</td>\n",
              "      <td>735.197.681-35</td>\n",
              "      <td>1.0</td>\n",
              "      <td>True</td>\n",
              "    </tr>\n",
              "    <tr>\n",
              "      <th>72</th>\n",
              "      <td>512</td>\n",
              "      <td>29</td>\n",
              "      <td>Calebe Osvaldo Barbosa</td>\n",
              "      <td>Stella Raimunda Sandra</td>\n",
              "      <td>Calebe Osvaldo Barbosa</td>\n",
              "      <td>Stella Raimunda Sandra</td>\n",
              "      <td>797.175.014-59</td>\n",
              "      <td>797.175.014-59</td>\n",
              "      <td>1.0</td>\n",
              "      <td>True</td>\n",
              "    </tr>\n",
              "    <tr>\n",
              "      <th>73</th>\n",
              "      <td>513</td>\n",
              "      <td>30</td>\n",
              "      <td>Miguel Francisco Matheus Galvao</td>\n",
              "      <td>Fernanda Mariah</td>\n",
              "      <td>Miguel Francisco Matheus Galvao</td>\n",
              "      <td>Fernanda Mariah</td>\n",
              "      <td>618.880.659-31</td>\n",
              "      <td>618.880.659-31</td>\n",
              "      <td>1.0</td>\n",
              "      <td>True</td>\n",
              "    </tr>\n",
              "    <tr>\n",
              "      <th>74</th>\n",
              "      <td>514</td>\n",
              "      <td>31</td>\n",
              "      <td>Iago Sergio da Conceicao</td>\n",
              "      <td>Sara Benedita</td>\n",
              "      <td>Iago Sergio da Conceicao</td>\n",
              "      <td>Sara Benedita</td>\n",
              "      <td>792.235.438-00</td>\n",
              "      <td>792.235.438-00</td>\n",
              "      <td>1.0</td>\n",
              "      <td>True</td>\n",
              "    </tr>\n",
              "    <tr>\n",
              "      <th>75</th>\n",
              "      <td>515</td>\n",
              "      <td>32</td>\n",
              "      <td>Calebe Augusto Iago da Costa</td>\n",
              "      <td>Debora Sarah</td>\n",
              "      <td>Calebe Augusto Iago da Costa</td>\n",
              "      <td>Debora Sarah</td>\n",
              "      <td>288.360.031-76</td>\n",
              "      <td>288.360.031-76</td>\n",
              "      <td>1.0</td>\n",
              "      <td>True</td>\n",
              "    </tr>\n",
              "    <tr>\n",
              "      <th>76</th>\n",
              "      <td>516</td>\n",
              "      <td>33</td>\n",
              "      <td>Bruno Ruan Luan Cardoso</td>\n",
              "      <td>Andrea Giovanna Emily</td>\n",
              "      <td>Bruno Ruan Luan Cardoso</td>\n",
              "      <td>Andrea Giovanna Emily</td>\n",
              "      <td>155.699.916-03</td>\n",
              "      <td>155.699.916-03</td>\n",
              "      <td>1.0</td>\n",
              "      <td>True</td>\n",
              "    </tr>\n",
              "    <tr>\n",
              "      <th>77</th>\n",
              "      <td>517</td>\n",
              "      <td>34</td>\n",
              "      <td>Enzo Diogo Pinto</td>\n",
              "      <td>Malu Sophia Marli</td>\n",
              "      <td>Enzo Diogo Pinto</td>\n",
              "      <td>Malu Sophia Marli</td>\n",
              "      <td>735.339.007-70</td>\n",
              "      <td>735.339.007-70</td>\n",
              "      <td>1.0</td>\n",
              "      <td>True</td>\n",
              "    </tr>\n",
              "    <tr>\n",
              "      <th>78</th>\n",
              "      <td>518</td>\n",
              "      <td>35</td>\n",
              "      <td>Noah Marcelo Rocha</td>\n",
              "      <td>Daniela Isabella Isabela</td>\n",
              "      <td>Noah Marcelo Rocha</td>\n",
              "      <td>Daniela Isabella Isabela</td>\n",
              "      <td>455.643.269-38</td>\n",
              "      <td>455.643.269-38</td>\n",
              "      <td>1.0</td>\n",
              "      <td>True</td>\n",
              "    </tr>\n",
              "    <tr>\n",
              "      <th>79</th>\n",
              "      <td>519</td>\n",
              "      <td>36</td>\n",
              "      <td>Bernardo Antonio Almada</td>\n",
              "      <td>Alice Stefany</td>\n",
              "      <td>Bernardo Antonio Almada</td>\n",
              "      <td>Alice Stefany</td>\n",
              "      <td>180.830.510-80</td>\n",
              "      <td>180.830.510-80</td>\n",
              "      <td>1.0</td>\n",
              "      <td>True</td>\n",
              "    </tr>\n",
              "    <tr>\n",
              "      <th>80</th>\n",
              "      <td>520</td>\n",
              "      <td>37</td>\n",
              "      <td>Theo Mario Raul Souza</td>\n",
              "      <td>Luzia Ana Maite</td>\n",
              "      <td>Theo Mario Raul Souza</td>\n",
              "      <td>Luzia Ana Maite</td>\n",
              "      <td>473.096.540-05</td>\n",
              "      <td>473.096.540-05</td>\n",
              "      <td>1.0</td>\n",
              "      <td>True</td>\n",
              "    </tr>\n",
              "    <tr>\n",
              "      <th>81</th>\n",
              "      <td>521</td>\n",
              "      <td>38</td>\n",
              "      <td>Paulo Joaquim Araujo</td>\n",
              "      <td>Agatha Maite</td>\n",
              "      <td>Paulo Joaquim Araujo</td>\n",
              "      <td>Agatha Maite</td>\n",
              "      <td>985.904.206-39</td>\n",
              "      <td>985.904.206-39</td>\n",
              "      <td>1.0</td>\n",
              "      <td>True</td>\n",
              "    </tr>\n",
              "    <tr>\n",
              "      <th>82</th>\n",
              "      <td>522</td>\n",
              "      <td>39</td>\n",
              "      <td>Pietro Rafael Nascimento</td>\n",
              "      <td>Gabrielly Malu Vanessa</td>\n",
              "      <td>Pietro Rafael Nassimento</td>\n",
              "      <td>Gabrielly Malu Vanessa</td>\n",
              "      <td>517.088.375-74</td>\n",
              "      <td>517.088.375-74</td>\n",
              "      <td>0.9851851851851853</td>\n",
              "      <td>True</td>\n",
              "    </tr>\n",
              "    <tr>\n",
              "      <th>83</th>\n",
              "      <td>523</td>\n",
              "      <td>40</td>\n",
              "      <td>Cesar Noah Martins</td>\n",
              "      <td>Sebastiana Lucia Luna</td>\n",
              "      <td>Cesar Noah Martins</td>\n",
              "      <td>Sebastiana Lucia Luna</td>\n",
              "      <td>488.380.897-10</td>\n",
              "      <td>488.380.897-10</td>\n",
              "      <td>1.0</td>\n",
              "      <td>True</td>\n",
              "    </tr>\n",
              "    <tr>\n",
              "      <th>84</th>\n",
              "      <td>524</td>\n",
              "      <td>41</td>\n",
              "      <td>Tomas Arthur Rocha</td>\n",
              "      <td>Eloa Maria Rita</td>\n",
              "      <td>Thomas Arthur Rocha</td>\n",
              "      <td>Eloa Maria Rita</td>\n",
              "      <td>169.848.860-23</td>\n",
              "      <td>169.848.860-23</td>\n",
              "      <td>0.9259259259259259</td>\n",
              "      <td>True</td>\n",
              "    </tr>\n",
              "    <tr>\n",
              "      <th>85</th>\n",
              "      <td>525</td>\n",
              "      <td>42</td>\n",
              "      <td>Kaue Cesar Moraes</td>\n",
              "      <td>Tatiane Daiane Sara</td>\n",
              "      <td>Kaue Cesar Moraes</td>\n",
              "      <td>Tatiane Daiane Sara</td>\n",
              "      <td>318.470.004-60</td>\n",
              "      <td>318.470.004-60</td>\n",
              "      <td>1.0</td>\n",
              "      <td>True</td>\n",
              "    </tr>\n",
              "    <tr>\n",
              "      <th>86</th>\n",
              "      <td>526</td>\n",
              "      <td>43</td>\n",
              "      <td>Sebastiao Anderson Claudio Sales</td>\n",
              "      <td>Andreia Mariane</td>\n",
              "      <td>Sebastiao Anderson Claudio Sales</td>\n",
              "      <td>Andreia Mariane</td>\n",
              "      <td>939.097.065-25</td>\n",
              "      <td>939.097.065-25</td>\n",
              "      <td>1.0</td>\n",
              "      <td>True</td>\n",
              "    </tr>\n",
              "    <tr>\n",
              "      <th>87</th>\n",
              "      <td>527</td>\n",
              "      <td>44</td>\n",
              "      <td>Ryan Benicio Corte Real</td>\n",
              "      <td>Alice Marcia Flavia</td>\n",
              "      <td>Ryan Benicio Corte Real</td>\n",
              "      <td>Alice Marcia Flavia</td>\n",
              "      <td>998.958.182-70</td>\n",
              "      <td>998.958.182-70</td>\n",
              "      <td>1.0</td>\n",
              "      <td>True</td>\n",
              "    </tr>\n",
              "    <tr>\n",
              "      <th>88</th>\n",
              "      <td>528</td>\n",
              "      <td>45</td>\n",
              "      <td>Eduardo Pietro Jose Teixeira</td>\n",
              "      <td>Agatha Esther</td>\n",
              "      <td>Eduardo Pietro Jose Teixeira</td>\n",
              "      <td>Agatha Esther</td>\n",
              "      <td>348.748.050-60</td>\n",
              "      <td>348.748.050-60</td>\n",
              "      <td>1.0</td>\n",
              "      <td>True</td>\n",
              "    </tr>\n",
              "    <tr>\n",
              "      <th>89</th>\n",
              "      <td>529</td>\n",
              "      <td>46</td>\n",
              "      <td>Martin Caio Galvao</td>\n",
              "      <td>Isis Raimunda Andreia</td>\n",
              "      <td>Martin Caio Galvao</td>\n",
              "      <td>Isis Raimunda Andreia</td>\n",
              "      <td>066.796.721-47</td>\n",
              "      <td>066.796.721-47</td>\n",
              "      <td>1.0</td>\n",
              "      <td>True</td>\n",
              "    </tr>\n",
              "    <tr>\n",
              "      <th>90</th>\n",
              "      <td>530</td>\n",
              "      <td>47</td>\n",
              "      <td>Marcos Nicolas Baptista</td>\n",
              "      <td>Flavia Leticia</td>\n",
              "      <td>Marcos Nicolas Baptista</td>\n",
              "      <td>Flavia Leticia</td>\n",
              "      <td>213.005.833-71</td>\n",
              "      <td>213.005.833-71</td>\n",
              "      <td>1.0</td>\n",
              "      <td>True</td>\n",
              "    </tr>\n",
              "    <tr>\n",
              "      <th>91</th>\n",
              "      <td>531</td>\n",
              "      <td>48</td>\n",
              "      <td>Gustavo Levi Manoel Moura</td>\n",
              "      <td>Joana Cristiane Sophia</td>\n",
              "      <td>Gustavo Levi Manoel Moura</td>\n",
              "      <td>Joana Cristiane Sophia</td>\n",
              "      <td>758.219.979-09</td>\n",
              "      <td>758.219.979-09</td>\n",
              "      <td>1.0</td>\n",
              "      <td>True</td>\n",
              "    </tr>\n",
              "    <tr>\n",
              "      <th>92</th>\n",
              "      <td>532</td>\n",
              "      <td>49</td>\n",
              "      <td>Gabriel Geraldo Levi Sales</td>\n",
              "      <td>Sonia Stefany Patricia</td>\n",
              "      <td>Gabriel Geraldo Levi Sales</td>\n",
              "      <td>Sonia Stefany Patricia</td>\n",
              "      <td>858.666.733-12</td>\n",
              "      <td>858.666.733-12</td>\n",
              "      <td>1.0</td>\n",
              "      <td>True</td>\n",
              "    </tr>\n",
              "    <tr>\n",
              "      <th>93</th>\n",
              "      <td>533</td>\n",
              "      <td>50</td>\n",
              "      <td>Manoel Luis Felipe Peixoto</td>\n",
              "      <td>Silvana Maya</td>\n",
              "      <td>Manoel Luis Felipe Peixoto</td>\n",
              "      <td>Silvana Maya</td>\n",
              "      <td>046.391.337-07</td>\n",
              "      <td>046.391.337-07</td>\n",
              "      <td>1.0</td>\n",
              "      <td>True</td>\n",
              "    </tr>\n",
              "    <tr>\n",
              "      <th>94</th>\n",
              "      <td>63</td>\n",
              "      <td>51</td>\n",
              "      <td>Alexandre Bruno Marcio Araujo</td>\n",
              "      <td>Isabelly Kamilly</td>\n",
              "      <td>Alexandre Bruno Marcio Araujo</td>\n",
              "      <td>Isabelly Kamilly</td>\n",
              "      <td>869.696.945-69</td>\n",
              "      <td>869.696.945-69</td>\n",
              "      <td>1.0</td>\n",
              "      <td>True</td>\n",
              "    </tr>\n",
              "    <tr>\n",
              "      <th>95</th>\n",
              "      <td>64</td>\n",
              "      <td>52</td>\n",
              "      <td>Heitor Enzo Arthur Pinto</td>\n",
              "      <td>Rita Maya</td>\n",
              "      <td>Heitor Enzo Arthur Pinto</td>\n",
              "      <td>Rita Maa</td>\n",
              "      <td>872.870.813-00</td>\n",
              "      <td>872.870.813-00</td>\n",
              "      <td>0.9777777777777779</td>\n",
              "      <td>True</td>\n",
              "    </tr>\n",
              "    <tr>\n",
              "      <th>96</th>\n",
              "      <td>65</td>\n",
              "      <td>53</td>\n",
              "      <td>Raimundo Tomas da Conceicao</td>\n",
              "      <td>Ayla Claudia</td>\n",
              "      <td>Raimundo Tomas da Conceicao</td>\n",
              "      <td>Ayla Claudia</td>\n",
              "      <td>145.891.596-43</td>\n",
              "      <td>145.891.596-43</td>\n",
              "      <td>0.9904761904761905</td>\n",
              "      <td>True</td>\n",
              "    </tr>\n",
              "    <tr>\n",
              "      <th>97</th>\n",
              "      <td>66</td>\n",
              "      <td>54</td>\n",
              "      <td>Ricardo Igor Barros</td>\n",
              "      <td>Gabrielly Melissa Kamilly</td>\n",
              "      <td>Ricardo Igor Barros</td>\n",
              "      <td>Gabrielly Melissa Kamilly</td>\n",
              "      <td>631.466.800-09</td>\n",
              "      <td>631.466.800-09</td>\n",
              "      <td>1.0</td>\n",
              "      <td>True</td>\n",
              "    </tr>\n",
              "    <tr>\n",
              "      <th>98</th>\n",
              "      <td>67</td>\n",
              "      <td>55</td>\n",
              "      <td>Lucca Francisco Gael Oliveira</td>\n",
              "      <td>Melissa Louise Antonia</td>\n",
              "      <td>Lucca Francisco Gael Oliveira</td>\n",
              "      <td>Melissa Louise Antonia</td>\n",
              "      <td>159.568.299-66</td>\n",
              "      <td>159.568.299-66</td>\n",
              "      <td>1.0</td>\n",
              "      <td>True</td>\n",
              "    </tr>\n",
              "    <tr>\n",
              "      <th>99</th>\n",
              "      <td>68</td>\n",
              "      <td>56</td>\n",
              "      <td>Guilherme Severino Nathan Barbosa</td>\n",
              "      <td>Valentina Tereza Benedita</td>\n",
              "      <td>Guilherme Severino Nathan Barbosa</td>\n",
              "      <td>Valentina Tereza Benedita</td>\n",
              "      <td>875.553.057-55</td>\n",
              "      <td>875.553.057-55</td>\n",
              "      <td>1.0</td>\n",
              "      <td>True</td>\n",
              "    </tr>\n",
              "  </tbody>\n",
              "</table>\n",
              "<p>100 rows × 10 columns</p>\n",
              "</div>"
            ],
            "text/plain": [
              "     id id_b  ...        similaridade CPFs_Iguais\n",
              "0    14   01  ...                 1.0        True\n",
              "1    15   02  ...  0.9743589743589745        True\n",
              "2    16   03  ...                 1.0        True\n",
              "3    17   04  ...                 1.0        True\n",
              "4    18   05  ...                 1.0        True\n",
              "5    19   06  ...  0.9841269841269842        True\n",
              "6    20   07  ...                 1.0        True\n",
              "7    21   08  ...                 1.0        True\n",
              "8    22   09  ...                 1.0        True\n",
              "9    23   10  ...                 1.0        True\n",
              "10   88  100  ...                 1.0       False\n",
              "11   89  101  ...                 1.0       False\n",
              "12   90  102  ...                 1.0       False\n",
              "13   91  103  ...                 1.0       False\n",
              "14   92  104  ...                 1.0       False\n",
              "15   93  105  ...                 1.0       False\n",
              "16   94  106  ...                 1.0       False\n",
              "17   95  107  ...                 1.0       False\n",
              "18   96  108  ...                 1.0       False\n",
              "19   97  109  ...                 1.0       False\n",
              "20   24   11  ...                 1.0        True\n",
              "21   98  110  ...  0.9074074074074074       False\n",
              "22   99  111  ...                 1.0       False\n",
              "23  100  112  ...                 1.0       False\n",
              "24  101  113  ...                 1.0       False\n",
              "25  102  114  ...                 1.0       False\n",
              "26  103  115  ...                 1.0       False\n",
              "27  104  116  ...                 1.0       False\n",
              "28  105  117  ...                 1.0       False\n",
              "29   19  118  ...  0.8881673881673882       False\n",
              "..  ...  ...  ...                 ...         ...\n",
              "70   40   27  ...                 1.0        True\n",
              "71   41   28  ...                 1.0        True\n",
              "72  512   29  ...                 1.0        True\n",
              "73  513   30  ...                 1.0        True\n",
              "74  514   31  ...                 1.0        True\n",
              "75  515   32  ...                 1.0        True\n",
              "76  516   33  ...                 1.0        True\n",
              "77  517   34  ...                 1.0        True\n",
              "78  518   35  ...                 1.0        True\n",
              "79  519   36  ...                 1.0        True\n",
              "80  520   37  ...                 1.0        True\n",
              "81  521   38  ...                 1.0        True\n",
              "82  522   39  ...  0.9851851851851853        True\n",
              "83  523   40  ...                 1.0        True\n",
              "84  524   41  ...  0.9259259259259259        True\n",
              "85  525   42  ...                 1.0        True\n",
              "86  526   43  ...                 1.0        True\n",
              "87  527   44  ...                 1.0        True\n",
              "88  528   45  ...                 1.0        True\n",
              "89  529   46  ...                 1.0        True\n",
              "90  530   47  ...                 1.0        True\n",
              "91  531   48  ...                 1.0        True\n",
              "92  532   49  ...                 1.0        True\n",
              "93  533   50  ...                 1.0        True\n",
              "94   63   51  ...                 1.0        True\n",
              "95   64   52  ...  0.9777777777777779        True\n",
              "96   65   53  ...  0.9904761904761905        True\n",
              "97   66   54  ...                 1.0        True\n",
              "98   67   55  ...                 1.0        True\n",
              "99   68   56  ...                 1.0        True\n",
              "\n",
              "[100 rows x 10 columns]"
            ]
          },
          "metadata": {
            "tags": []
          },
          "execution_count": 80
        }
      ]
    },
    {
      "cell_type": "markdown",
      "metadata": {
        "colab_type": "text",
        "id": "emzVM9bo_Z4L"
      },
      "source": [
        "## Criação da Função de Similaridade pelo Nome e Nome da Mãe com Jaro Winkler (literal)\n"
      ]
    },
    {
      "cell_type": "code",
      "metadata": {
        "colab_type": "code",
        "id": "Hrk-Ar1Z_f2e",
        "colab": {}
      },
      "source": [
        "def compare_2(primeiro_nome_a, ultimo_nome_fonetico_a, nome_fonetico_mae_a, primeiro_nome_fonetico_b, ultimo_nome_fonetico_b, nome_fonetico_mae_b):\n",
        "  sim = 0\n",
        "  \n",
        "  #comparando atributos nominais\n",
        "  sim = jellyfish.jaro_winkler(primeiro_nome_a, primeiro_nome_b)\n",
        "  sim += jellyfish.jaro_winkler(ultimo_nome_a, ultimo_nome_b)\n",
        "  sim += jellyfish.jaro_winkler(nome_mae_a, nome_mae_b)\n",
        "  \n",
        "  #Media aritmética simples\n",
        "  sim = abs(float(sim/3))\n",
        "  \n",
        "  return sim\n",
        "\n",
        "udf_compare_2 = F.udf(compare_2, StringType())  "
      ],
      "execution_count": 0,
      "outputs": []
    },
    {
      "cell_type": "markdown",
      "metadata": {
        "colab_type": "text",
        "id": "xCNqQ0o-Ak-M"
      },
      "source": [
        "## Rodando Comparação\n"
      ]
    },
    {
      "cell_type": "code",
      "metadata": {
        "colab_type": "code",
        "id": "ZCn67srTAggO",
        "colab": {}
      },
      "source": [
        "dfr_2 = dfl.withColumn('similaridade', \n",
        "                     udf_compare(F.col('primeiro_nome_fonetico_a'),\n",
        "                                 F.col('ultimo_nome_fonetico_a'),\n",
        "                                 F.col('nome_fonetico_mae_a'),\n",
        "                                 F.col('primeiro_nome_fonetico_b'),\n",
        "                                 F.col('ultimo_nome_fonetico_b'),\n",
        "                                 F.col('nome_fonetico_mae_b')))"
      ],
      "execution_count": 0,
      "outputs": []
    },
    {
      "cell_type": "code",
      "metadata": {
        "colab_type": "code",
        "outputId": "44c99113-6004-4092-d243-c59e0c355c62",
        "id": "ocA8MSTMAsAc",
        "colab": {
          "base_uri": "https://localhost:8080/",
          "height": 289
        }
      },
      "source": [
        "# Exibindo base de resultado\n",
        "dfr_2.select(['id', 'id_b', 'nome', 'nome_b', 'cpf', 'cpf_b', 'similaridade']).show(10)"
      ],
      "execution_count": 47,
      "outputs": [
        {
          "output_type": "stream",
          "text": [
            "+---+----+--------------------+--------------------+--------------+--------------+-------------------+\n",
            "| id|id_b|                nome|              nome_b|           cpf|         cpf_b|       similaridade|\n",
            "+---+----+--------------------+--------------------+--------------+--------------+-------------------+\n",
            "|  0|  01|Vicente Oliver Mo...|Felipe Bruno dos ...|097.627.958-49|506.865.202-46|                0.6|\n",
            "|  0|  02|Vicente Oliver Mo...|Marcio Heitor Sil...|097.627.958-49|325.828.867-42| 0.5703703703703703|\n",
            "|  0|  03|Vicente Oliver Mo...|Theo Mario Victor...|097.627.958-49|284.536.218-88|0.19166666666666668|\n",
            "|  0|  04|Vicente Oliver Mo...|Pietro Henrique d...|097.627.958-49|390.375.925-20|               0.25|\n",
            "|  0|  05|Vicente Oliver Mo...|Kaique Thiago de ...|097.627.958-49|756.005.387-40|               0.25|\n",
            "|  0|  06|Vicente Oliver Mo...|Gabriel Erick Oli...|097.627.958-49|551.341.139-39|0.20502645502645503|\n",
            "|  0|  07|Vicente Oliver Mo...|Luan Caue Anthony...|097.627.958-49|756.048.583-90| 0.6527777777777778|\n",
            "|  0|  08|Vicente Oliver Mo...|        Enzo D Rocha|097.627.958-49|386.351.591-95|0.44654882154882153|\n",
            "|  0|  09|Vicente Oliver Mo...|Cesar Matheus Cau...|097.627.958-49|885.264.747-31| 0.6171957671957671|\n",
            "|  0|  10|Vicente Oliver Mo...|   Caua Isaac Castro|097.627.958-49|489.611.821-96|0.42023809523809524|\n",
            "+---+----+--------------------+--------------------+--------------+--------------+-------------------+\n",
            "only showing top 10 rows\n",
            "\n"
          ],
          "name": "stdout"
        }
      ]
    },
    {
      "cell_type": "code",
      "metadata": {
        "colab_type": "code",
        "id": "W-zxjzWsBB3_",
        "colab": {}
      },
      "source": [
        "# Deduplicando a base (eliminando linhas duplicadas, ficando somente com a de maior similaridade)\n",
        "dfc_2 = dfr_2.orderBy(['similaridade'], ascending=False).dropDuplicates(['id_b']).orderBy(['id_b']).select(['id', 'id_b', 'nome','nome_b','cpf','cpf_b', 'similaridade'])\n"
      ],
      "execution_count": 0,
      "outputs": []
    },
    {
      "cell_type": "code",
      "metadata": {
        "colab_type": "code",
        "id": "ThEbGeG6BJin",
        "colab": {}
      },
      "source": [
        "# Criação de coluna de comparação de CPFs\n",
        "dfc_2 = dfc_2.withColumn('CPFs_Iguais',F.col('cpf') == F.col('cpf_b'))"
      ],
      "execution_count": 0,
      "outputs": []
    },
    {
      "cell_type": "code",
      "metadata": {
        "colab_type": "code",
        "outputId": "ea926a0f-fa3b-4cb6-f5e2-b3efe00a0d39",
        "id": "wlukV0iDBQgB",
        "colab": {
          "base_uri": "https://localhost:8080/",
          "height": 289
        }
      },
      "source": [
        "dfc_2.show(10)"
      ],
      "execution_count": 53,
      "outputs": [
        {
          "output_type": "stream",
          "text": [
            "+---+----+--------------------+--------------------+--------------+--------------+------------------+-----------+\n",
            "| id|id_b|                nome|              nome_b|           cpf|         cpf_b|      similaridade|CPFs_Iguais|\n",
            "+---+----+--------------------+--------------------+--------------+--------------+------------------+-----------+\n",
            "| 14|  01|Felipe Bruno dos ...|Felipe Bruno dos ...|506.865.202-46|506.865.202-46|               1.0|       true|\n",
            "| 15|  02|Marcio Heitor Sil...|Marcio Heitor Sil...|325.828.867-42|325.828.867-42|0.9743589743589745|       true|\n",
            "| 16|  03|Theo Mario Victor...|Theo Mario Victor...|284.536.218-88|284.536.218-88|               1.0|       true|\n",
            "| 17|  04|Pietro Henry de P...|Pietro Henrique d...|390.375.925-20|390.375.925-20|               1.0|       true|\n",
            "| 18|  05|Kaique Thiago de ...|Kaique Thiago de ...|756.005.387-40|756.005.387-40|               1.0|       true|\n",
            "| 19|  06|Gabriel Erick Oli...|Gabriel Erick Oli...|551.341.139-39|551.341.139-39|0.9841269841269842|       true|\n",
            "| 20|  07|Luan Caue Anthony...|Luan Caue Anthony...|756.048.583-90|756.048.583-90|               1.0|       true|\n",
            "| 21|  08|    Enzo Diego Rocha|        Enzo D Rocha|386.351.591-95|386.351.591-95|               1.0|       true|\n",
            "| 22|  09|Cesar Matheus Cau...|Cesar Matheus Cau...|885.264.747-31|885.264.747-31|               1.0|       true|\n",
            "| 23|  10|   Caua Isaac Castro|   Caua Isaac Castro|489.611.821-96|489.611.821-96|               1.0|       true|\n",
            "+---+----+--------------------+--------------------+--------------+--------------+------------------+-----------+\n",
            "only showing top 10 rows\n",
            "\n"
          ],
          "name": "stdout"
        }
      ]
    },
    {
      "cell_type": "code",
      "metadata": {
        "colab_type": "code",
        "outputId": "38c185d0-00bb-4dc4-8d0a-6e3d79d911da",
        "id": "A9nGXLNHB1Dt",
        "colab": {
          "base_uri": "https://localhost:8080/",
          "height": 359
        }
      },
      "source": [
        "dfc_2.limit(10).toPandas()"
      ],
      "execution_count": 76,
      "outputs": [
        {
          "output_type": "execute_result",
          "data": {
            "text/html": [
              "<div>\n",
              "<style scoped>\n",
              "    .dataframe tbody tr th:only-of-type {\n",
              "        vertical-align: middle;\n",
              "    }\n",
              "\n",
              "    .dataframe tbody tr th {\n",
              "        vertical-align: top;\n",
              "    }\n",
              "\n",
              "    .dataframe thead th {\n",
              "        text-align: right;\n",
              "    }\n",
              "</style>\n",
              "<table border=\"1\" class=\"dataframe\">\n",
              "  <thead>\n",
              "    <tr style=\"text-align: right;\">\n",
              "      <th></th>\n",
              "      <th>id</th>\n",
              "      <th>id_b</th>\n",
              "      <th>nome</th>\n",
              "      <th>nome_b</th>\n",
              "      <th>cpf</th>\n",
              "      <th>cpf_b</th>\n",
              "      <th>similaridade</th>\n",
              "      <th>CPFs_Iguais</th>\n",
              "    </tr>\n",
              "  </thead>\n",
              "  <tbody>\n",
              "    <tr>\n",
              "      <th>0</th>\n",
              "      <td>14</td>\n",
              "      <td>01</td>\n",
              "      <td>Felipe Bruno dos Santos</td>\n",
              "      <td>Felipe Bruno dos Santos</td>\n",
              "      <td>506.865.202-46</td>\n",
              "      <td>506.865.202-46</td>\n",
              "      <td>1.0</td>\n",
              "      <td>True</td>\n",
              "    </tr>\n",
              "    <tr>\n",
              "      <th>1</th>\n",
              "      <td>15</td>\n",
              "      <td>02</td>\n",
              "      <td>Marcio Heitor Silveira</td>\n",
              "      <td>Marcio Heitor Silveira</td>\n",
              "      <td>325.828.867-42</td>\n",
              "      <td>325.828.867-42</td>\n",
              "      <td>0.9743589743589745</td>\n",
              "      <td>True</td>\n",
              "    </tr>\n",
              "    <tr>\n",
              "      <th>2</th>\n",
              "      <td>16</td>\n",
              "      <td>03</td>\n",
              "      <td>Theo Mario Victor Barbosa</td>\n",
              "      <td>Theo Mario Victor Barbosa</td>\n",
              "      <td>284.536.218-88</td>\n",
              "      <td>284.536.218-88</td>\n",
              "      <td>1.0</td>\n",
              "      <td>True</td>\n",
              "    </tr>\n",
              "    <tr>\n",
              "      <th>3</th>\n",
              "      <td>17</td>\n",
              "      <td>04</td>\n",
              "      <td>Pietro Henry de Paula</td>\n",
              "      <td>Pietro Henrique de Paula</td>\n",
              "      <td>390.375.925-20</td>\n",
              "      <td>390.375.925-20</td>\n",
              "      <td>1.0</td>\n",
              "      <td>True</td>\n",
              "    </tr>\n",
              "    <tr>\n",
              "      <th>4</th>\n",
              "      <td>18</td>\n",
              "      <td>05</td>\n",
              "      <td>Kaique Thiago de Paula</td>\n",
              "      <td>Kaique Thiago de Paula</td>\n",
              "      <td>756.005.387-40</td>\n",
              "      <td>756.005.387-40</td>\n",
              "      <td>1.0</td>\n",
              "      <td>True</td>\n",
              "    </tr>\n",
              "    <tr>\n",
              "      <th>5</th>\n",
              "      <td>19</td>\n",
              "      <td>06</td>\n",
              "      <td>Gabriel Erick Oliver da Luz</td>\n",
              "      <td>Gabriel Erick Oliver da Luz</td>\n",
              "      <td>551.341.139-39</td>\n",
              "      <td>551.341.139-39</td>\n",
              "      <td>0.9841269841269842</td>\n",
              "      <td>True</td>\n",
              "    </tr>\n",
              "    <tr>\n",
              "      <th>6</th>\n",
              "      <td>20</td>\n",
              "      <td>07</td>\n",
              "      <td>Luan Caue Anthony da Mota</td>\n",
              "      <td>Luan Caue Anthony da Mota</td>\n",
              "      <td>756.048.583-90</td>\n",
              "      <td>756.048.583-90</td>\n",
              "      <td>1.0</td>\n",
              "      <td>True</td>\n",
              "    </tr>\n",
              "    <tr>\n",
              "      <th>7</th>\n",
              "      <td>21</td>\n",
              "      <td>08</td>\n",
              "      <td>Enzo Diego Rocha</td>\n",
              "      <td>Enzo D Rocha</td>\n",
              "      <td>386.351.591-95</td>\n",
              "      <td>386.351.591-95</td>\n",
              "      <td>1.0</td>\n",
              "      <td>True</td>\n",
              "    </tr>\n",
              "    <tr>\n",
              "      <th>8</th>\n",
              "      <td>22</td>\n",
              "      <td>09</td>\n",
              "      <td>Cesar Matheus Caue Rodrigues</td>\n",
              "      <td>Cesar Matheus Caue Rodrigues</td>\n",
              "      <td>885.264.747-31</td>\n",
              "      <td>885.264.747-31</td>\n",
              "      <td>1.0</td>\n",
              "      <td>True</td>\n",
              "    </tr>\n",
              "    <tr>\n",
              "      <th>9</th>\n",
              "      <td>23</td>\n",
              "      <td>10</td>\n",
              "      <td>Caua Isaac Castro</td>\n",
              "      <td>Caua Isaac Castro</td>\n",
              "      <td>489.611.821-96</td>\n",
              "      <td>489.611.821-96</td>\n",
              "      <td>1.0</td>\n",
              "      <td>True</td>\n",
              "    </tr>\n",
              "  </tbody>\n",
              "</table>\n",
              "</div>"
            ],
            "text/plain": [
              "   id id_b  ...        similaridade CPFs_Iguais\n",
              "0  14   01  ...                 1.0        True\n",
              "1  15   02  ...  0.9743589743589745        True\n",
              "2  16   03  ...                 1.0        True\n",
              "3  17   04  ...                 1.0        True\n",
              "4  18   05  ...                 1.0        True\n",
              "5  19   06  ...  0.9841269841269842        True\n",
              "6  20   07  ...                 1.0        True\n",
              "7  21   08  ...                 1.0        True\n",
              "8  22   09  ...                 1.0        True\n",
              "9  23   10  ...                 1.0        True\n",
              "\n",
              "[10 rows x 8 columns]"
            ]
          },
          "metadata": {
            "tags": []
          },
          "execution_count": 76
        }
      ]
    },
    {
      "cell_type": "markdown",
      "metadata": {
        "colab_type": "text",
        "id": "GS4olrEXGvQD"
      },
      "source": [
        "## Criação da Função de Similaridade pelo Nome e Data de Nascimento com Jaro Winkler "
      ]
    },
    {
      "cell_type": "markdown",
      "metadata": {
        "colab_type": "text",
        "id": "-Tui4WvNHCRs"
      },
      "source": [
        "## Criação da Função de Similaridade pelo Primeiro e Ultimo Nome e Nome da Mãe com *** "
      ]
    },
    {
      "cell_type": "markdown",
      "metadata": {
        "colab_type": "text",
        "id": "ychuA3CtHCes"
      },
      "source": [
        "## Criação da Função de Similaridade por outros Campos"
      ]
    },
    {
      "cell_type": "markdown",
      "metadata": {
        "colab_type": "text",
        "id": "a30hZ4BoHCkU"
      },
      "source": [
        "## Criação da Função de Similaridade pelo Nome e Data de Nascimento com Jaro Winkler "
      ]
    },
    {
      "cell_type": "markdown",
      "metadata": {
        "colab_type": "text",
        "id": "nQ02b84HHCsj"
      },
      "source": [
        "## Criação da Função de Similaridade pelo Nome e Data de Nascimento com Jaro Winkler "
      ]
    },
    {
      "cell_type": "code",
      "metadata": {
        "id": "1OXUbjMQG3Vq",
        "colab_type": "code",
        "colab": {}
      },
      "source": [
        ""
      ],
      "execution_count": 0,
      "outputs": []
    },
    {
      "cell_type": "code",
      "metadata": {
        "colab_type": "code",
        "id": "Mv9OWmhXG6s0",
        "colab": {}
      },
      "source": [
        "def compare_2(primeiro_nome_a, ultimo_nome_fonetico_a, nome_fonetico_mae_a, primeiro_nome_fonetico_b, ultimo_nome_fonetico_b, nome_fonetico_mae_b):\n",
        "  sim = 0\n",
        "  \n",
        "  #comparando atributos nominais\n",
        "  sim = jellyfish.jaro_winkler(primeiro_nome_a, primeiro_nome_b)\n",
        "  sim += jellyfish.jaro_winkler(ultimo_nome_a, ultimo_nome_b)\n",
        "  sim += jellyfish.jaro_winkler(nome_mae_a, nome_mae_b)\n",
        "  \n",
        "  #Media aritmética simples\n",
        "  sim = abs(float(sim/3))\n",
        "  \n",
        "  return sim\n",
        "\n",
        "udf_compare_2 = F.udf(compare_2, StringType())  "
      ],
      "execution_count": 0,
      "outputs": []
    }
  ]
}