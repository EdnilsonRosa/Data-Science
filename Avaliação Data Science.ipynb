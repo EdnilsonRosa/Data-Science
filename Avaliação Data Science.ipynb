{
  "nbformat": 4,
  "nbformat_minor": 0,
  "metadata": {
    "colab": {
      "name": "Avaliação Data Science.ipynb",
      "version": "0.3.2",
      "provenance": [],
      "collapsed_sections": [
        "HeAFpH1H4Mj7",
        "lndoP-vn4YJW",
        "DXFbhfDs3KXG",
        "TV9OfmjJ3aib",
        "TVh8I5YH3ip6"
      ],
      "include_colab_link": true
    },
    "kernelspec": {
      "name": "python3",
      "display_name": "Python 3"
    }
  },
  "cells": [
    {
      "cell_type": "markdown",
      "metadata": {
        "id": "view-in-github",
        "colab_type": "text"
      },
      "source": [
        "<a href=\"https://colab.research.google.com/github/EdnilsonRosa/Data-Science/blob/master/Avalia%C3%A7%C3%A3o%20Data%20Science.ipynb\" target=\"_parent\"><img src=\"https://colab.research.google.com/assets/colab-badge.svg\" alt=\"Open In Colab\"/></a>"
      ]
    },
    {
      "cell_type": "markdown",
      "metadata": {
        "id": "EzATYNEw4yxP",
        "colab_type": "text"
      },
      "source": [
        "# Avaliação de Big Data"
      ]
    },
    {
      "cell_type": "markdown",
      "metadata": {
        "id": "HeAFpH1H4Mj7",
        "colab_type": "text"
      },
      "source": [
        "## Inicializando o ambiente e carregando as bibliotecas"
      ]
    },
    {
      "cell_type": "code",
      "metadata": {
        "id": "fxBhk2b5l2vE",
        "colab_type": "code",
        "colab": {
          "base_uri": "https://localhost:8080/",
          "height": 67
        },
        "outputId": "508d8811-9e44-4164-dc85-bad8b4707b69"
      },
      "source": [
        "#!apt-get install openjdk-8-jdk-headless -qq > /dev/null\n",
        "!wget -q http://archive.apache.org/dist/spark/spark-2.4.2/spark-2.4.2-bin-hadoop2.7.tgz\n",
        "!tar xf spark-2.4.2-bin-hadoop2.7.tgz\n",
        "!pip install -q findspark\n",
        "\n",
        "!java -version\n",
        "\n",
        "import os\n",
        "os.environ[\"JAVA_HOME\"] = \"/usr/lib/jvm/java-1.11.0-openjdk-amd64/\"\n",
        "os.environ[\"SPARK_HOME\"] = \"/content/spark-2.4.2-bin-hadoop2.7\"\n",
        "\n",
        "import findspark\n",
        "findspark.init()\n",
        "from pyspark.sql import SparkSession\n",
        "spark = SparkSession.builder.master(\"local[*]\").getOrCreate()\n",
        "\n",
        "### Chamada da biblioteca\n",
        "\n",
        "from pyspark.sql import SparkSession\n",
        "import pyspark.sql.functions as F\n",
        "from pyspark.sql.types import StringType\n",
        "from pyspark.sql.types import IntegerType\n",
        "\n",
        "### Inicializaçaõ da Sessão do Spark - \n",
        "\n",
        "spark = SparkSession.builder \\\n",
        "                    .appName(\"Tutorial PySpark SQL\") \\\n",
        "                    .config(\"spark.some.config.option\", \"some-value\") \\\n",
        "                    .getOrCreate()"
      ],
      "execution_count": 1,
      "outputs": [
        {
          "output_type": "stream",
          "text": [
            "openjdk version \"11.0.3\" 2019-04-16\n",
            "OpenJDK Runtime Environment (build 11.0.3+7-Ubuntu-1ubuntu218.04.1)\n",
            "OpenJDK 64-Bit Server VM (build 11.0.3+7-Ubuntu-1ubuntu218.04.1, mixed mode, sharing)\n"
          ],
          "name": "stdout"
        }
      ]
    },
    {
      "cell_type": "code",
      "metadata": {
        "id": "SN14McSe09um",
        "colab_type": "code",
        "colab": {
          "base_uri": "https://localhost:8080/",
          "height": 167
        },
        "outputId": "99d4f9ad-8771-49be-9a5f-151bfc60ced4"
      },
      "source": [
        "!pip install jellyfish\n",
        "import jellyfish"
      ],
      "execution_count": 32,
      "outputs": [
        {
          "output_type": "stream",
          "text": [
            "Collecting jellyfish\n",
            "\u001b[?25l  Downloading https://files.pythonhosted.org/packages/69/9f/ae6f6ad509725b71d45bb408953c850da7a2ecc3dbdad4063a825702ba29/jellyfish-0.7.1.tar.gz (131kB)\n",
            "\u001b[K     |████████████████████████████████| 133kB 2.0MB/s \n",
            "\u001b[?25hBuilding wheels for collected packages: jellyfish\n",
            "  Building wheel for jellyfish (setup.py) ... \u001b[?25l\u001b[?25hdone\n",
            "  Stored in directory: /root/.cache/pip/wheels/eb/33/cf/c7ce9866a02202b1f8ca45595e20f5145bf56c0262cfa2daf1\n",
            "Successfully built jellyfish\n",
            "Installing collected packages: jellyfish\n",
            "Successfully installed jellyfish-0.7.1\n"
          ],
          "name": "stdout"
        }
      ]
    },
    {
      "cell_type": "code",
      "metadata": {
        "id": "_WD9ie0Tw01B",
        "colab_type": "code",
        "colab": {}
      },
      "source": [
        "import pandas as pd"
      ],
      "execution_count": 0,
      "outputs": []
    },
    {
      "cell_type": "markdown",
      "metadata": {
        "id": "lndoP-vn4YJW",
        "colab_type": "text"
      },
      "source": [
        "## Montando o Drive e carregando o arquivo"
      ]
    },
    {
      "cell_type": "code",
      "metadata": {
        "id": "6apsGNwnvZEV",
        "colab_type": "code",
        "colab": {
          "base_uri": "https://localhost:8080/",
          "height": 120
        },
        "outputId": "3340d39b-8239-4d50-d6fa-7045caa1a046"
      },
      "source": [
        "### Montagem de drive do Google\n",
        "### Será solicitada autorização\n",
        "### O Colab tem como raiz uma pasta 'content'\n",
        "\n",
        "from google.colab import drive\n",
        "drive.mount('/content/gdrive')"
      ],
      "execution_count": 2,
      "outputs": [
        {
          "output_type": "stream",
          "text": [
            "Go to this URL in a browser: https://accounts.google.com/o/oauth2/auth?client_id=947318989803-6bn6qk8qdgf4n4g3pfee6491hc0brc4i.apps.googleusercontent.com&redirect_uri=urn%3Aietf%3Awg%3Aoauth%3A2.0%3Aoob&scope=email%20https%3A%2F%2Fwww.googleapis.com%2Fauth%2Fdocs.test%20https%3A%2F%2Fwww.googleapis.com%2Fauth%2Fdrive%20https%3A%2F%2Fwww.googleapis.com%2Fauth%2Fdrive.photos.readonly%20https%3A%2F%2Fwww.googleapis.com%2Fauth%2Fpeopleapi.readonly&response_type=code\n",
            "\n",
            "Enter your authorization code:\n",
            "··········\n",
            "Mounted at /content/gdrive\n"
          ],
          "name": "stdout"
        }
      ]
    },
    {
      "cell_type": "code",
      "metadata": {
        "id": "Mzr1wPwOvv68",
        "colab_type": "code",
        "colab": {}
      },
      "source": [
        "dfa = spark.read.csv('gdrive/My Drive/Colab Notebooks/base_sintetica_ascii_a.csv', header=True, sep=',')"
      ],
      "execution_count": 0,
      "outputs": []
    },
    {
      "cell_type": "code",
      "metadata": {
        "id": "akzNC8RCwUmN",
        "colab_type": "code",
        "colab": {}
      },
      "source": [
        "dfb = spark.read.csv('gdrive/My Drive/Colab Notebooks/base_sintetica_ascii_b.csv', header=True, sep=',')"
      ],
      "execution_count": 0,
      "outputs": []
    },
    {
      "cell_type": "code",
      "metadata": {
        "id": "J-2Oknqiwb33",
        "colab_type": "code",
        "colab": {
          "base_uri": "https://localhost:8080/",
          "height": 33
        },
        "outputId": "e9201f8b-3108-4f00-b485-003aa176fd53"
      },
      "source": [
        "dfb.count()"
      ],
      "execution_count": 5,
      "outputs": [
        {
          "output_type": "execute_result",
          "data": {
            "text/plain": [
              "143"
            ]
          },
          "metadata": {
            "tags": []
          },
          "execution_count": 5
        }
      ]
    },
    {
      "cell_type": "code",
      "metadata": {
        "id": "VxWZz1lOwjrd",
        "colab_type": "code",
        "colab": {
          "base_uri": "https://localhost:8080/",
          "height": 33
        },
        "outputId": "9e8b9cfa-6267-4c4b-ae9c-27408a9e8869"
      },
      "source": [
        "dfa.count()"
      ],
      "execution_count": 6,
      "outputs": [
        {
          "output_type": "execute_result",
          "data": {
            "text/plain": [
              "540"
            ]
          },
          "metadata": {
            "tags": []
          },
          "execution_count": 6
        }
      ]
    },
    {
      "cell_type": "code",
      "metadata": {
        "id": "5p5jXN36wpqU",
        "colab_type": "code",
        "colab": {}
      },
      "source": [
        "dfb.toPandas()"
      ],
      "execution_count": 0,
      "outputs": []
    },
    {
      "cell_type": "markdown",
      "metadata": {
        "id": "Tcggpj8_4K-A",
        "colab_type": "text"
      },
      "source": [
        ""
      ]
    },
    {
      "cell_type": "code",
      "metadata": {
        "id": "8PEhGkpPww9P",
        "colab_type": "code",
        "colab": {
          "base_uri": "https://localhost:8080/",
          "height": 472
        },
        "outputId": "8b0a2b61-5aca-41aa-b8eb-54eb5e6e54c9"
      },
      "source": [
        "dfa.show()"
      ],
      "execution_count": 17,
      "outputs": [
        {
          "output_type": "stream",
          "text": [
            "+---+--------------------+---------+-----------------+--------------+----------+--------------------+--------------------+------+-----+--------------------+--------------------+------+-----------+--------------+----+\n",
            "| id|              bairro|      cep|           cidade|           cpf| data_nasc|               email|            endereco|estado|idade|                 mae|                nome|numero|      signo|tipo_sanguineo|_c15|\n",
            "+---+--------------------+---------+-----------------+--------------+----------+--------------------+--------------------+------+-----+--------------------+--------------------+------+-----------+--------------+----+\n",
            "|  0|         Vila Sarney|65090-677|         Sao Luis|097.627.958-49|10/09/1948|vicenteolivermont...|2a Travessa do Ri...|    MA|   71|     Louise Beatriz |Vicente Oliver Mo...|   738|     Virgem|           AB-|null|\n",
            "|  1|      Vila Sao Jorge|75044-220|         Anapolis|685.096.335-09|24/04/1995|miguelbernardogon...|  Praca Joao Salomao|    GO|   24|     Raquel Barbara |Miguel Bernardo G...|   805|      Touro|            A-|null|\n",
            "|  2|         Cabralzinho|68906-846|           Macapa|956.997.968-27|13/03/1984|ericktheomarcosvi...|    Alameda Calcoene|    AP|   35|Maite Valentina R...|Erick Theo Marcos...|   669|     Peixes|            B+|null|\n",
            "|  3|           Mae Luiza|59014-227|            Natal|631.875.885-22|27/09/1965|mariorobertoisaac...|1a Rua Sao Francisco|    RN|   54|Alicia Cristiane ...|Mario Roberto Isa...|   978|      Libra|           AB+|null|\n",
            "|  4|       Jardim Monaco|86702-790|        Arapongas|397.480.478-14|24/11/1965|eeliasandersonmat...|Rua Mariquita-dos...|    PR|   54|     Tatiane Josefa |Elias Anderson Ma...|   558|  Sagitario|            A+|null|\n",
            "|  5|        Boca da Mata|65917-157|       Imperatriz|216.419.173-00|27/04/1997|gabrielluisjesus_...|  Rua Antenor Bastos|    MA|   22|Fernanda Sebastia...|  Gabriel Luis Jesus|   651|      Touro|            B-|null|\n",
            "|  6|       Boa Esperanca|23894-586|       Seropedica|148.386.650-59|10/01/1985|brunojulioguilher...|    Rua Jose Paucino|    RJ|   34|     Lavinia Isabel |Bruno Julio Guilh...|   445|Capricornio|            B-|null|\n",
            "|  7|  Vila Santo Eugenio|79060-380|     Campo Grande|654.325.863-20|06/12/1957|ttheoguilhermesou...|      Rua Mamanguape|    MS|   62|Andreia Evelyn Ca...|Theo Guilherme Souza|   912|  Sagitario|            O+|null|\n",
            "|  8|         Nova Maraba|68506-160|           Maraba|704.817.633-41|12/11/1955|marcosviniciusdie...|    Quadra Dezesseis|    PA|   64| Luiza Claudia Isis |Marcos Vinicius D...|   869|  Escorpiao|            O+|null|\n",
            "|  9|Ceilandia Norte (...|72241-555|         Brasilia|179.057.616-49|12/11/1952|tthomasenzoarthur...|Quadra EQNP 13/17...|    DF|   67|Stefany Vera Kami...|Thomas Enzo Arthu...|   894|  Escorpiao|            A-|null|\n",
            "| 10|Loteamento Linda ...|13802-488|       Mogi Mirim|999.008.988-42|25/08/1997|caiokevinpereira_...|       Rua Tom Jobim|    SP|   22|     Mariana Helena |  Caio Kevin Pereira|   675|     Virgem|            O-|null|\n",
            "| 11|              Centro|29130-172|            Viana|844.083.511-64|04/09/1999|olivermarioandrea...|   Rua Alvimar Silva|    ES|   20|Marli Hadassa Lor...|Oliver Mario Andr...|   880|     Virgem|           AB+|null|\n",
            "| 12|             Pacheco|88135-079|          Palhoca|164.210.136-27|06/07/1985|mmatheusclaudiori...|Travessa Antonio ...|    SC|   34|      Pietra Aurora |Matheus Claudio R...|   602|     Cancer|            A-|null|\n",
            "| 13|      Setor Noroeste|70686-455|         Brasilia|771.006.764-60|20/02/1997|ddanielvicenteisa...|Quadra SQNW 109 B...|    DF|   22|Jaqueline Valentina |Daniel Vicente Is...|   211|     Peixes|            B-|null|\n",
            "| 14|            Mecejana|69304-350|        Boa Vista|506.865.202-46|22/11/1965|felipebrunodossan...|Avenida Mario Hom...|    RR|   54|Isabelle Marcia A...|Felipe Bruno dos ...|   732|  Sagitario|           AB-|null|\n",
            "| 15|           Primavera|78132-360|    Varzea Grande|325.828.867-42|04/03/1945|marcioheitorsilve...|      Rua Rio Cuiaba|    MT|   74|Alana Isadora Jul...|Marcio Heitor Sil...|   681|     Peixes|           AB-|null|\n",
            "| 16|           Maria Ceu|88810-336|         Criciuma|284.536.218-88|23/09/1961|theomariovictorba...|Rua Romeu Lopes d...|    SC|   58|  Caroline Gabriela |Theo Mario Victor...|   713|      Libra|            A-|null|\n",
            "| 17|              Pedras|60874-405|        Fortaleza|390.375.925-20|11/05/1981|pietrohenrydepaul...|           Rua Matiz|    CE|   38|       Tereza Bruna |Pietro Henry de P...|   118|      Touro|           AB-|null|\n",
            "| 18|    Jardim Aeroporto|79106-140|     Campo Grande|756.005.387-40|14/12/1941|kkaiquethiagodepa...|     Rua Pato Branco|    MS|   78|      Alice Leticia |Kaique Thiago de ...|   349|  Sagitario|            A-|null|\n",
            "| 19|       Novo Juazeiro|63030-450|Juazeiro do Norte|551.341.139-39|16/02/1999|ggabrielerickoliv...| Avenida do Contorno|    CE|   20|Helena Agatha Ter...|Gabriel Erick Oli...|   758|    Aquario|            O+|null|\n",
            "+---+--------------------+---------+-----------------+--------------+----------+--------------------+--------------------+------+-----+--------------------+--------------------+------+-----------+--------------+----+\n",
            "only showing top 20 rows\n",
            "\n"
          ],
          "name": "stdout"
        }
      ]
    },
    {
      "cell_type": "code",
      "metadata": {
        "id": "NWN7XbL-x_Sa",
        "colab_type": "code",
        "colab": {
          "base_uri": "https://localhost:8080/",
          "height": 318
        },
        "outputId": "47aa3510-a3ed-45c3-ab6a-024cd9c2b444"
      },
      "source": [
        "dfa.printSchema()"
      ],
      "execution_count": 19,
      "outputs": [
        {
          "output_type": "stream",
          "text": [
            "root\n",
            " |-- id: string (nullable = true)\n",
            " |-- bairro: string (nullable = true)\n",
            " |-- cep: string (nullable = true)\n",
            " |-- cidade: string (nullable = true)\n",
            " |-- cpf: string (nullable = true)\n",
            " |-- data_nasc: string (nullable = true)\n",
            " |-- email: string (nullable = true)\n",
            " |-- endereco: string (nullable = true)\n",
            " |-- estado: string (nullable = true)\n",
            " |-- idade: string (nullable = true)\n",
            " |-- mae: string (nullable = true)\n",
            " |-- nome: string (nullable = true)\n",
            " |-- numero: string (nullable = true)\n",
            " |-- signo: string (nullable = true)\n",
            " |-- tipo_sanguineo: string (nullable = true)\n",
            " |-- _c15: string (nullable = true)\n",
            "\n"
          ],
          "name": "stdout"
        }
      ]
    },
    {
      "cell_type": "code",
      "metadata": {
        "id": "kILblFBSyNaV",
        "colab_type": "code",
        "colab": {
          "base_uri": "https://localhost:8080/",
          "height": 217
        },
        "outputId": "6dbe97e8-3ba3-4e98-cb19-f4ac9d442a19"
      },
      "source": [
        "dfb.printSchema()"
      ],
      "execution_count": 20,
      "outputs": [
        {
          "output_type": "stream",
          "text": [
            "root\n",
            " |-- id: string (nullable = true)\n",
            " |-- cep: string (nullable = true)\n",
            " |-- cidade: string (nullable = true)\n",
            " |-- cpf: string (nullable = true)\n",
            " |-- data_nasc: string (nullable = true)\n",
            " |-- endereco: string (nullable = true)\n",
            " |-- estado: string (nullable = true)\n",
            " |-- mae: string (nullable = true)\n",
            " |-- nome: string (nullable = true)\n",
            " |-- tipo_sanguineo: string (nullable = true)\n",
            "\n"
          ],
          "name": "stdout"
        }
      ]
    },
    {
      "cell_type": "code",
      "metadata": {
        "id": "M0momAHsyRo3",
        "colab_type": "code",
        "colab": {
          "base_uri": "https://localhost:8080/",
          "height": 53
        },
        "outputId": "7fc02576-e1f4-4337-b8ad-09d684e44976"
      },
      "source": [
        "dfb.withColumnRenamed('id_b','id')"
      ],
      "execution_count": 23,
      "outputs": [
        {
          "output_type": "execute_result",
          "data": {
            "text/plain": [
              "DataFrame[id: string, cep: string, cidade: string, cpf: string, data_nasc: string, endereco: string, estado: string, mae: string, nome: string, tipo_sanguineo: string]"
            ]
          },
          "metadata": {
            "tags": []
          },
          "execution_count": 23
        }
      ]
    },
    {
      "cell_type": "markdown",
      "metadata": {
        "id": "DXFbhfDs3KXG",
        "colab_type": "text"
      },
      "source": [
        "## Renomeando colunas para o linkage (necessita nomes diferentes)"
      ]
    },
    {
      "cell_type": "code",
      "metadata": {
        "id": "Pofvt2WKzEkJ",
        "colab_type": "code",
        "colab": {}
      },
      "source": [
        "dfb = dfb.withColumnRenamed('id','id_b')\n",
        "dfb = dfb.withColumnRenamed('cep','cep_b')\n",
        "dfb = dfb.withColumnRenamed('cidade','cidade_b')\n",
        "dfb = dfb.withColumnRenamed('cpf','cpf_b')\n",
        "dfb = dfb.withColumnRenamed('data_nasc','data_nasc_b')\n",
        "dfb = dfb.withColumnRenamed('endereco','endereco_b')\n",
        "dfb = dfb.withColumnRenamed('estado','estado_b')\n",
        "dfb = dfb.withColumnRenamed('mae','mae_b')\n",
        "dfb = dfb.withColumnRenamed('nome','nome_b')\n",
        "dfb = dfb.withColumnRenamed('tipo_sanguineo','tipo_sanguineo_b')"
      ],
      "execution_count": 0,
      "outputs": []
    },
    {
      "cell_type": "code",
      "metadata": {
        "id": "jZqtYaaTzfF1",
        "colab_type": "code",
        "colab": {
          "base_uri": "https://localhost:8080/",
          "height": 217
        },
        "outputId": "3760a3bd-e26a-4bf2-f32b-dd35767433f0"
      },
      "source": [
        "dfb.printSchema()"
      ],
      "execution_count": 26,
      "outputs": [
        {
          "output_type": "stream",
          "text": [
            "root\n",
            " |-- id_b: string (nullable = true)\n",
            " |-- cep_b: string (nullable = true)\n",
            " |-- cidade_b: string (nullable = true)\n",
            " |-- cpf_b: string (nullable = true)\n",
            " |-- data_nasc_b: string (nullable = true)\n",
            " |-- endereco_b: string (nullable = true)\n",
            " |-- estado_b: string (nullable = true)\n",
            " |-- mae_b: string (nullable = true)\n",
            " |-- nome_b: string (nullable = true)\n",
            " |-- tipo_sanguineo_b: string (nullable = true)\n",
            "\n"
          ],
          "name": "stdout"
        }
      ]
    },
    {
      "cell_type": "code",
      "metadata": {
        "id": "OOUX6idU0Qdj",
        "colab_type": "code",
        "colab": {}
      },
      "source": [
        "dfl = dfa.crossJoin(dfb)"
      ],
      "execution_count": 0,
      "outputs": []
    },
    {
      "cell_type": "markdown",
      "metadata": {
        "id": "TV9OfmjJ3aib",
        "colab_type": "text"
      },
      "source": [
        "## Fazendo Linkage"
      ]
    },
    {
      "cell_type": "code",
      "metadata": {
        "id": "HaXGRL_z0g12",
        "colab_type": "code",
        "colab": {
          "base_uri": "https://localhost:8080/",
          "height": 204
        },
        "outputId": "aee6bd4a-5e48-4951-c1f4-ea7e35a27e43"
      },
      "source": [
        "dfl.limit(5).show()"
      ],
      "execution_count": 29,
      "outputs": [
        {
          "output_type": "stream",
          "text": [
            "+---+-----------+---------+--------+--------------+----------+--------------------+--------------------+------+-----+---------------+--------------------+------+------+--------------+----+----+---------+-------------+--------------+-----------+--------------------+--------+--------------------+--------------------+----------------+\n",
            "| id|     bairro|      cep|  cidade|           cpf| data_nasc|               email|            endereco|estado|idade|            mae|                nome|numero| signo|tipo_sanguineo|_c15|id_b|    cep_b|     cidade_b|         cpf_b|data_nasc_b|          endereco_b|estado_b|               mae_b|              nome_b|tipo_sanguineo_b|\n",
            "+---+-----------+---------+--------+--------------+----------+--------------------+--------------------+------+-----+---------------+--------------------+------+------+--------------+----+----+---------+-------------+--------------+-----------+--------------------+--------+--------------------+--------------------+----------------+\n",
            "|  0|Vila Sarney|65090-677|Sao Luis|097.627.958-49|10/09/1948|vicenteolivermont...|2a Travessa do Ri...|    MA|   71|Louise Beatriz |Vicente Oliver Mo...|   738|Virgem|           AB-|null|  01|69304-350|    Boa Vista|506.865.202-46| 22/11/1965|Avenida Mario Hom...|      RR|Isabelle Marcia A...|Felipe Bruno dos ...|             AB-|\n",
            "|  0|Vila Sarney|65090-677|Sao Luis|097.627.958-49|10/09/1948|vicenteolivermont...|2a Travessa do Ri...|    MA|   71|Louise Beatriz |Vicente Oliver Mo...|   738|Virgem|           AB-|null|  02|78132-360|Varzea Grande|325.828.867-42|       null|      Rua Rio Cuiaba|      MT|       Alana Isadora|Marcio Heitor Sil...|             AB-|\n",
            "|  0|Vila Sarney|65090-677|Sao Luis|097.627.958-49|10/09/1948|vicenteolivermont...|2a Travessa do Ri...|    MA|   71|Louise Beatriz |Vicente Oliver Mo...|   738|Virgem|           AB-|null|  03|88810-336|     Criciuma|284.536.218-88| 23/09/1961|Rua Romeu Lopes d...|      SC|  Caroline Gabriela |Theo Mario Victor...|              A-|\n",
            "|  0|Vila Sarney|65090-677|Sao Luis|097.627.958-49|10/09/1948|vicenteolivermont...|2a Travessa do Ri...|    MA|   71|Louise Beatriz |Vicente Oliver Mo...|   738|Virgem|           AB-|null|  04|60874-405|    Fortaleza|390.375.925-20| 11/05/1981|                null|      CE|       Tereza Bruna |Pietro Henrique d...|             AB-|\n",
            "|  0|Vila Sarney|65090-677|Sao Luis|097.627.958-49|10/09/1948|vicenteolivermont...|2a Travessa do Ri...|    MA|   71|Louise Beatriz |Vicente Oliver Mo...|   738|Virgem|           AB-|null|  05|79106-140| Campo Grande|756.005.387-40| 14/12/1941|     Rua Pato Branco|      MS|      Alice Leticia |Kaique Thiago de ...|              A-|\n",
            "+---+-----------+---------+--------+--------------+----------+--------------------+--------------------+------+-----+---------------+--------------------+------+------+--------------+----+----+---------+-------------+--------------+-----------+--------------------+--------+--------------------+--------------------+----------------+\n",
            "\n"
          ],
          "name": "stdout"
        }
      ]
    },
    {
      "cell_type": "code",
      "metadata": {
        "id": "afaYkmiM0o-k",
        "colab_type": "code",
        "colab": {}
      },
      "source": [
        "dfl.limit(5).toPandas()"
      ],
      "execution_count": 0,
      "outputs": []
    },
    {
      "cell_type": "code",
      "metadata": {
        "id": "EteQQ3F90uua",
        "colab_type": "code",
        "colab": {
          "base_uri": "https://localhost:8080/",
          "height": 518
        },
        "outputId": "2b5651a1-795a-4fa9-e768-d96104f9f3bd"
      },
      "source": [
        "dfb.printSchema()\n",
        "dfa.printSchema()"
      ],
      "execution_count": 33,
      "outputs": [
        {
          "output_type": "stream",
          "text": [
            "root\n",
            " |-- id_b: string (nullable = true)\n",
            " |-- cep_b: string (nullable = true)\n",
            " |-- cidade_b: string (nullable = true)\n",
            " |-- cpf_b: string (nullable = true)\n",
            " |-- data_nasc_b: string (nullable = true)\n",
            " |-- endereco_b: string (nullable = true)\n",
            " |-- estado_b: string (nullable = true)\n",
            " |-- mae_b: string (nullable = true)\n",
            " |-- nome_b: string (nullable = true)\n",
            " |-- tipo_sanguineo_b: string (nullable = true)\n",
            "\n",
            "root\n",
            " |-- id: string (nullable = true)\n",
            " |-- bairro: string (nullable = true)\n",
            " |-- cep: string (nullable = true)\n",
            " |-- cidade: string (nullable = true)\n",
            " |-- cpf: string (nullable = true)\n",
            " |-- data_nasc: string (nullable = true)\n",
            " |-- email: string (nullable = true)\n",
            " |-- endereco: string (nullable = true)\n",
            " |-- estado: string (nullable = true)\n",
            " |-- idade: string (nullable = true)\n",
            " |-- mae: string (nullable = true)\n",
            " |-- nome: string (nullable = true)\n",
            " |-- numero: string (nullable = true)\n",
            " |-- signo: string (nullable = true)\n",
            " |-- tipo_sanguineo: string (nullable = true)\n",
            " |-- _c15: string (nullable = true)\n",
            "\n"
          ],
          "name": "stdout"
        }
      ]
    },
    {
      "cell_type": "markdown",
      "metadata": {
        "id": "TVh8I5YH3ip6",
        "colab_type": "text"
      },
      "source": [
        "## Criação das colunas com nomes fonéticos"
      ]
    },
    {
      "cell_type": "code",
      "metadata": {
        "id": "pKtpWfd_1YtA",
        "colab_type": "code",
        "colab": {}
      },
      "source": [
        "def criaMetaphone(col):\n",
        "  return jellyfisch.metaphone(col)\n",
        "udf_criaMetaphone = F.udf(criaMetaphone, StringType())"
      ],
      "execution_count": 0,
      "outputs": []
    },
    {
      "cell_type": "code",
      "metadata": {
        "id": "AI9n2znr2BQT",
        "colab_type": "code",
        "colab": {}
      },
      "source": [
        "dfl = dfl.withColumn('nome_fonetico_a', udf_criaMetaphone(F.col('nome')))"
      ],
      "execution_count": 0,
      "outputs": []
    },
    {
      "cell_type": "code",
      "metadata": {
        "id": "k_L-kd3j2gAi",
        "colab_type": "code",
        "colab": {}
      },
      "source": [
        "dfl = dfl.withColumn('nome_fonetico_b', udf_criaMetaphone(F.col('nome_b')))"
      ],
      "execution_count": 0,
      "outputs": []
    },
    {
      "cell_type": "code",
      "metadata": {
        "id": "st4WYJf_2n5v",
        "colab_type": "code",
        "colab": {}
      },
      "source": [
        "dfl = dfl.withColumn('mae_a', udf_criaMetaphone(F.col('mae')))"
      ],
      "execution_count": 0,
      "outputs": []
    },
    {
      "cell_type": "code",
      "metadata": {
        "id": "yYDMSeFo2urt",
        "colab_type": "code",
        "colab": {}
      },
      "source": [
        "dfl = dfl.withColumn('mae_b', udf_criaMetaphone(F.col('mae_b')))"
      ],
      "execution_count": 0,
      "outputs": []
    },
    {
      "cell_type": "code",
      "metadata": {
        "id": "lYiuN4Vy23C5",
        "colab_type": "code",
        "colab": {
          "base_uri": "https://localhost:8080/",
          "height": 535
        },
        "outputId": "f1a6dcc6-b004-4cc5-8b2a-184df7d37eb1"
      },
      "source": [
        "dfl.printSchema()"
      ],
      "execution_count": 42,
      "outputs": [
        {
          "output_type": "stream",
          "text": [
            "root\n",
            " |-- id: string (nullable = true)\n",
            " |-- bairro: string (nullable = true)\n",
            " |-- cep: string (nullable = true)\n",
            " |-- cidade: string (nullable = true)\n",
            " |-- cpf: string (nullable = true)\n",
            " |-- data_nasc: string (nullable = true)\n",
            " |-- email: string (nullable = true)\n",
            " |-- endereco: string (nullable = true)\n",
            " |-- estado: string (nullable = true)\n",
            " |-- idade: string (nullable = true)\n",
            " |-- mae: string (nullable = true)\n",
            " |-- nome: string (nullable = true)\n",
            " |-- numero: string (nullable = true)\n",
            " |-- signo: string (nullable = true)\n",
            " |-- tipo_sanguineo: string (nullable = true)\n",
            " |-- _c15: string (nullable = true)\n",
            " |-- id_b: string (nullable = true)\n",
            " |-- cep_b: string (nullable = true)\n",
            " |-- cidade_b: string (nullable = true)\n",
            " |-- cpf_b: string (nullable = true)\n",
            " |-- data_nasc_b: string (nullable = true)\n",
            " |-- endereco_b: string (nullable = true)\n",
            " |-- estado_b: string (nullable = true)\n",
            " |-- mae_b: string (nullable = true)\n",
            " |-- nome_b: string (nullable = true)\n",
            " |-- tipo_sanguineo_b: string (nullable = true)\n",
            " |-- nome_fonetico_a: string (nullable = true)\n",
            " |-- nome_fonetico_b: string (nullable = true)\n",
            " |-- mae_a: string (nullable = true)\n",
            "\n"
          ],
          "name": "stdout"
        }
      ]
    },
    {
      "cell_type": "markdown",
      "metadata": {
        "id": "xI9idf0j3rvs",
        "colab_type": "text"
      },
      "source": [
        "## Criação da Função de Similaridade"
      ]
    },
    {
      "cell_type": "code",
      "metadata": {
        "id": "4eOQ9ToC23q3",
        "colab_type": "code",
        "colab": {}
      },
      "source": [
        ""
      ],
      "execution_count": 0,
      "outputs": []
    }
  ]
}