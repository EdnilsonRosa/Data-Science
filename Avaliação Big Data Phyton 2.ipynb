{
  "nbformat": 4,
  "nbformat_minor": 0,
  "metadata": {
    "colab": {
      "name": "Avaliação Big Data - Phyton 2.ipynb",
      "version": "0.3.2",
      "provenance": [],
      "collapsed_sections": [],
      "include_colab_link": true
    },
    "kernelspec": {
      "name": "python2",
      "display_name": "Python 2"
    }
  },
  "cells": [
    {
      "cell_type": "markdown",
      "metadata": {
        "id": "view-in-github",
        "colab_type": "text"
      },
      "source": [
        "<a href=\"https://colab.research.google.com/github/EdnilsonRosa/Data-Science/blob/master/Avalia%C3%A7%C3%A3o%20Big%20Data%20Phyton%202.ipynb\" target=\"_parent\"><img src=\"https://colab.research.google.com/assets/colab-badge.svg\" alt=\"Open In Colab\"/></a>"
      ]
    },
    {
      "cell_type": "markdown",
      "metadata": {
        "id": "EzATYNEw4yxP",
        "colab_type": "text"
      },
      "source": [
        "# Avaliação Big Data - Phyton 2"
      ]
    },
    {
      "cell_type": "markdown",
      "metadata": {
        "id": "HeAFpH1H4Mj7",
        "colab_type": "text"
      },
      "source": [
        "## Inicializando o ambiente e carregando as bibliotecas"
      ]
    },
    {
      "cell_type": "code",
      "metadata": {
        "id": "fxBhk2b5l2vE",
        "colab_type": "code",
        "outputId": "866a4913-ab35-4c3c-c9fe-ee54221cfed0",
        "colab": {
          "base_uri": "https://localhost:8080/",
          "height": 68
        }
      },
      "source": [
        "#!apt-get install openjdk-8-jdk-headless -qq > /dev/null\n",
        "!wget -q http://archive.apache.org/dist/spark/spark-2.4.2/spark-2.4.2-bin-hadoop2.7.tgz\n",
        "!tar xf spark-2.4.2-bin-hadoop2.7.tgz\n",
        "!pip install -q findspark\n",
        "\n",
        "!java -version\n",
        "\n",
        "import os\n",
        "os.environ[\"JAVA_HOME\"] = \"/usr/lib/jvm/java-1.11.0-openjdk-amd64/\"\n",
        "os.environ[\"SPARK_HOME\"] = \"/content/spark-2.4.2-bin-hadoop2.7\"\n",
        "\n",
        "import findspark\n",
        "findspark.init()\n",
        "from pyspark.sql import SparkSession\n",
        "spark = SparkSession.builder.master(\"local[*]\").getOrCreate()\n",
        "\n",
        "### Chamada da biblioteca\n",
        "\n",
        "from pyspark.sql import SparkSession\n",
        "import pyspark.sql.functions as F\n",
        "from pyspark.sql.types import StringType\n",
        "from pyspark.sql.types import IntegerType\n",
        "\n",
        "### Inicializaçaõ da Sessão do Spark - \n",
        "\n",
        "spark = SparkSession.builder \\\n",
        "                    .appName(\"Tutorial PySpark SQL\") \\\n",
        "                    .config(\"spark.some.config.option\", \"some-value\") \\\n",
        "                    .getOrCreate()"
      ],
      "execution_count": 1,
      "outputs": [
        {
          "output_type": "stream",
          "text": [
            "openjdk version \"11.0.3\" 2019-04-16\n",
            "OpenJDK Runtime Environment (build 11.0.3+7-Ubuntu-1ubuntu218.04.1)\n",
            "OpenJDK 64-Bit Server VM (build 11.0.3+7-Ubuntu-1ubuntu218.04.1, mixed mode, sharing)\n"
          ],
          "name": "stdout"
        }
      ]
    },
    {
      "cell_type": "code",
      "metadata": {
        "id": "SN14McSe09um",
        "colab_type": "code",
        "outputId": "a9ab9d6b-3273-4729-b520-7e46622971e6",
        "colab": {
          "base_uri": "https://localhost:8080/",
          "height": 170
        }
      },
      "source": [
        "!pip install jellyfish\n",
        "import jellyfish"
      ],
      "execution_count": 2,
      "outputs": [
        {
          "output_type": "stream",
          "text": [
            "Collecting jellyfish\n",
            "\u001b[?25l  Downloading https://files.pythonhosted.org/packages/61/3f/60ac86fb43dfbf976768e80674b5538e535f6eca5aa7806cf2fdfd63550f/jellyfish-0.6.1.tar.gz (132kB)\n",
            "\u001b[K     |████████████████████████████████| 133kB 5.0MB/s \n",
            "\u001b[?25hBuilding wheels for collected packages: jellyfish\n",
            "  Building wheel for jellyfish (setup.py) ... \u001b[?25l\u001b[?25hdone\n",
            "  Stored in directory: /root/.cache/pip/wheels/9c/6f/33/92bb9a4b4562a60ba6a80cedbab8907e48bc7a8b1f369ea0ae\n",
            "Successfully built jellyfish\n",
            "Installing collected packages: jellyfish\n",
            "Successfully installed jellyfish-0.6.1\n"
          ],
          "name": "stdout"
        }
      ]
    },
    {
      "cell_type": "code",
      "metadata": {
        "id": "_WD9ie0Tw01B",
        "colab_type": "code",
        "colab": {}
      },
      "source": [
        "import pandas as pd"
      ],
      "execution_count": 0,
      "outputs": []
    },
    {
      "cell_type": "markdown",
      "metadata": {
        "id": "lndoP-vn4YJW",
        "colab_type": "text"
      },
      "source": [
        "## Montando o Drive e carregando o arquivo"
      ]
    },
    {
      "cell_type": "code",
      "metadata": {
        "id": "6apsGNwnvZEV",
        "colab_type": "code",
        "outputId": "9b8cdc8d-11a9-4c9c-d7a5-b4fd3c4ac1bd",
        "colab": {
          "base_uri": "https://localhost:8080/",
          "height": 34
        }
      },
      "source": [
        "### Montagem de drive do Google\n",
        "### Será solicitada autorização\n",
        "### O Colab tem como raiz uma pasta 'content'\n",
        "\n",
        "from google.colab import drive\n",
        "drive.mount('/content/gdrive')"
      ],
      "execution_count": 4,
      "outputs": [
        {
          "output_type": "stream",
          "text": [
            "Drive already mounted at /content/gdrive; to attempt to forcibly remount, call drive.mount(\"/content/gdrive\", force_remount=True).\n"
          ],
          "name": "stdout"
        }
      ]
    },
    {
      "cell_type": "code",
      "metadata": {
        "id": "Mzr1wPwOvv68",
        "colab_type": "code",
        "colab": {}
      },
      "source": [
        "dfa = spark.read.csv('gdrive/My Drive/Colab Notebooks/base_sintetica_ascii_a.csv', header=True, sep=',')"
      ],
      "execution_count": 0,
      "outputs": []
    },
    {
      "cell_type": "code",
      "metadata": {
        "id": "akzNC8RCwUmN",
        "colab_type": "code",
        "colab": {}
      },
      "source": [
        "dfb = spark.read.csv('gdrive/My Drive/Colab Notebooks/base_sintetica_ascii_b.csv', header=True, sep=',')"
      ],
      "execution_count": 0,
      "outputs": []
    },
    {
      "cell_type": "code",
      "metadata": {
        "id": "J-2Oknqiwb33",
        "colab_type": "code",
        "outputId": "d8563dbc-8404-4979-9296-43a111edbb32",
        "colab": {
          "base_uri": "https://localhost:8080/",
          "height": 34
        }
      },
      "source": [
        "dfb.count()"
      ],
      "execution_count": 83,
      "outputs": [
        {
          "output_type": "execute_result",
          "data": {
            "text/plain": [
              "143"
            ]
          },
          "metadata": {
            "tags": []
          },
          "execution_count": 83
        }
      ]
    },
    {
      "cell_type": "code",
      "metadata": {
        "id": "VxWZz1lOwjrd",
        "colab_type": "code",
        "outputId": "1ce8336c-f32b-4e40-9d11-0438439fd472",
        "colab": {
          "base_uri": "https://localhost:8080/",
          "height": 34
        }
      },
      "source": [
        "dfa.count()"
      ],
      "execution_count": 84,
      "outputs": [
        {
          "output_type": "execute_result",
          "data": {
            "text/plain": [
              "540"
            ]
          },
          "metadata": {
            "tags": []
          },
          "execution_count": 84
        }
      ]
    },
    {
      "cell_type": "code",
      "metadata": {
        "id": "5p5jXN36wpqU",
        "colab_type": "code",
        "outputId": "299595f9-0892-4205-a5c9-fe81f1a2c129",
        "colab": {
          "base_uri": "https://localhost:8080/",
          "height": 1969
        }
      },
      "source": [
        "dfb.toPandas()"
      ],
      "execution_count": 85,
      "outputs": [
        {
          "output_type": "execute_result",
          "data": {
            "text/html": [
              "<div>\n",
              "<style scoped>\n",
              "    .dataframe tbody tr th:only-of-type {\n",
              "        vertical-align: middle;\n",
              "    }\n",
              "\n",
              "    .dataframe tbody tr th {\n",
              "        vertical-align: top;\n",
              "    }\n",
              "\n",
              "    .dataframe thead th {\n",
              "        text-align: right;\n",
              "    }\n",
              "</style>\n",
              "<table border=\"1\" class=\"dataframe\">\n",
              "  <thead>\n",
              "    <tr style=\"text-align: right;\">\n",
              "      <th></th>\n",
              "      <th>id</th>\n",
              "      <th>cep</th>\n",
              "      <th>cidade</th>\n",
              "      <th>cpf</th>\n",
              "      <th>data_nasc</th>\n",
              "      <th>endereco</th>\n",
              "      <th>estado</th>\n",
              "      <th>mae</th>\n",
              "      <th>nome</th>\n",
              "      <th>tipo_sanguineo</th>\n",
              "    </tr>\n",
              "  </thead>\n",
              "  <tbody>\n",
              "    <tr>\n",
              "      <th>0</th>\n",
              "      <td>01</td>\n",
              "      <td>69304-350</td>\n",
              "      <td>Boa Vista</td>\n",
              "      <td>506.865.202-46</td>\n",
              "      <td>22/11/1965</td>\n",
              "      <td>Avenida Mario Homem de Melo</td>\n",
              "      <td>RR</td>\n",
              "      <td>Isabelle Marcia Antonella</td>\n",
              "      <td>Felipe Bruno dos Santos</td>\n",
              "      <td>AB-</td>\n",
              "    </tr>\n",
              "    <tr>\n",
              "      <th>1</th>\n",
              "      <td>02</td>\n",
              "      <td>78132-360</td>\n",
              "      <td>Varzea Grande</td>\n",
              "      <td>325.828.867-42</td>\n",
              "      <td>None</td>\n",
              "      <td>Rua Rio Cuiaba</td>\n",
              "      <td>MT</td>\n",
              "      <td>Alana Isadora</td>\n",
              "      <td>Marcio Heitor Silveira</td>\n",
              "      <td>AB-</td>\n",
              "    </tr>\n",
              "    <tr>\n",
              "      <th>2</th>\n",
              "      <td>03</td>\n",
              "      <td>88810-336</td>\n",
              "      <td>Criciuma</td>\n",
              "      <td>284.536.218-88</td>\n",
              "      <td>23/09/1961</td>\n",
              "      <td>Rua Romeu Lopes de Carvalho</td>\n",
              "      <td>SC</td>\n",
              "      <td>Caroline Gabriela</td>\n",
              "      <td>Theo Mario Victor Barbosa</td>\n",
              "      <td>A-</td>\n",
              "    </tr>\n",
              "    <tr>\n",
              "      <th>3</th>\n",
              "      <td>04</td>\n",
              "      <td>60874-405</td>\n",
              "      <td>Fortaleza</td>\n",
              "      <td>390.375.925-20</td>\n",
              "      <td>11/05/1981</td>\n",
              "      <td>None</td>\n",
              "      <td>CE</td>\n",
              "      <td>Tereza Bruna</td>\n",
              "      <td>Pietro Henrique de Paula</td>\n",
              "      <td>AB-</td>\n",
              "    </tr>\n",
              "    <tr>\n",
              "      <th>4</th>\n",
              "      <td>05</td>\n",
              "      <td>79106-140</td>\n",
              "      <td>Campo Grande</td>\n",
              "      <td>756.005.387-40</td>\n",
              "      <td>14/12/1941</td>\n",
              "      <td>Rua Pato Branco</td>\n",
              "      <td>MS</td>\n",
              "      <td>Alice Leticia</td>\n",
              "      <td>Kaique Thiago de Paula</td>\n",
              "      <td>A-</td>\n",
              "    </tr>\n",
              "    <tr>\n",
              "      <th>5</th>\n",
              "      <td>06</td>\n",
              "      <td>63030-450</td>\n",
              "      <td>Juazeiro do Norte</td>\n",
              "      <td>551.341.139-39</td>\n",
              "      <td>16/02/1999</td>\n",
              "      <td>Avenida do Contorno</td>\n",
              "      <td>CE</td>\n",
              "      <td>Elena Agatha Teresinha</td>\n",
              "      <td>Gabriel Erick Oliver da Luz</td>\n",
              "      <td>O+</td>\n",
              "    </tr>\n",
              "    <tr>\n",
              "      <th>6</th>\n",
              "      <td>07</td>\n",
              "      <td>84172-370</td>\n",
              "      <td>Castro</td>\n",
              "      <td>756.048.583-90</td>\n",
              "      <td>11/03/1982</td>\n",
              "      <td>Rua Major Candido Cruz</td>\n",
              "      <td>None</td>\n",
              "      <td>Vanessa Camila Nicole</td>\n",
              "      <td>Luan Caue Anthony da Mota</td>\n",
              "      <td>None</td>\n",
              "    </tr>\n",
              "    <tr>\n",
              "      <th>7</th>\n",
              "      <td>08</td>\n",
              "      <td>69070-555</td>\n",
              "      <td>Manaus</td>\n",
              "      <td>386.351.591-95</td>\n",
              "      <td>13/01/1978</td>\n",
              "      <td>None</td>\n",
              "      <td>AM</td>\n",
              "      <td>Isabelle Maite Rosa</td>\n",
              "      <td>Enzo D Rocha</td>\n",
              "      <td>None</td>\n",
              "    </tr>\n",
              "    <tr>\n",
              "      <th>8</th>\n",
              "      <td>09</td>\n",
              "      <td>20950-430</td>\n",
              "      <td>Rio de Janeiro</td>\n",
              "      <td>885.264.747-31</td>\n",
              "      <td>27/01/2001</td>\n",
              "      <td>Rua do Amor</td>\n",
              "      <td>RJ</td>\n",
              "      <td>Sophie Bianca</td>\n",
              "      <td>Cesar Matheus Caue Rodrigues</td>\n",
              "      <td>None</td>\n",
              "    </tr>\n",
              "    <tr>\n",
              "      <th>9</th>\n",
              "      <td>10</td>\n",
              "      <td>36071-020</td>\n",
              "      <td>Juiz de Fora</td>\n",
              "      <td>489.611.821-96</td>\n",
              "      <td>None</td>\n",
              "      <td>Rua Flavia Rios Miranda</td>\n",
              "      <td>MG</td>\n",
              "      <td>Giovana Antonella Larissa</td>\n",
              "      <td>Caua Isaac Castro</td>\n",
              "      <td>None</td>\n",
              "    </tr>\n",
              "    <tr>\n",
              "      <th>10</th>\n",
              "      <td>11</td>\n",
              "      <td>75063-120</td>\n",
              "      <td>Anapolis</td>\n",
              "      <td>281.229.310-14</td>\n",
              "      <td>08/11/1947</td>\n",
              "      <td>Avenida dos Palmares</td>\n",
              "      <td>GO</td>\n",
              "      <td>Mariana Mirella Natalia</td>\n",
              "      <td>Gabriel Caua Marcos Vinicius Caldeira</td>\n",
              "      <td>None</td>\n",
              "    </tr>\n",
              "    <tr>\n",
              "      <th>11</th>\n",
              "      <td>12</td>\n",
              "      <td>78731-260</td>\n",
              "      <td>Rondonopolis</td>\n",
              "      <td>492.264.809-74</td>\n",
              "      <td>18/04/1969</td>\n",
              "      <td>Rua Circular-2</td>\n",
              "      <td>MT</td>\n",
              "      <td>Rita Ayla Sara</td>\n",
              "      <td>Danilo Severino da Cruz</td>\n",
              "      <td>B+</td>\n",
              "    </tr>\n",
              "    <tr>\n",
              "      <th>12</th>\n",
              "      <td>13</td>\n",
              "      <td>77818-355</td>\n",
              "      <td>None</td>\n",
              "      <td>816.876.443-90</td>\n",
              "      <td>27/03/1972</td>\n",
              "      <td>Rua Aparecida</td>\n",
              "      <td>TO</td>\n",
              "      <td>Louise Joana</td>\n",
              "      <td>Samuel Noah Lopes</td>\n",
              "      <td>O-</td>\n",
              "    </tr>\n",
              "    <tr>\n",
              "      <th>13</th>\n",
              "      <td>14</td>\n",
              "      <td>05403-900</td>\n",
              "      <td>None</td>\n",
              "      <td>327.630.596-86</td>\n",
              "      <td>10/10/1984</td>\n",
              "      <td>Avenida Doutor Eneas Carvalho de Aguiar 255</td>\n",
              "      <td>SP</td>\n",
              "      <td>Heloisa Luzia</td>\n",
              "      <td>Juan Raimundo Osvaldo Cardoso</td>\n",
              "      <td>B+</td>\n",
              "    </tr>\n",
              "    <tr>\n",
              "      <th>14</th>\n",
              "      <td>15</td>\n",
              "      <td>69036-075</td>\n",
              "      <td>None</td>\n",
              "      <td>181.410.022-95</td>\n",
              "      <td>05/01/1973</td>\n",
              "      <td>Beco Sao Pedro II</td>\n",
              "      <td>AM</td>\n",
              "      <td>Jessica Jaqueline Flavia</td>\n",
              "      <td>Leandro Cesar Jorge Drumond</td>\n",
              "      <td>O-</td>\n",
              "    </tr>\n",
              "    <tr>\n",
              "      <th>15</th>\n",
              "      <td>16</td>\n",
              "      <td>40720-479</td>\n",
              "      <td>None</td>\n",
              "      <td>843.458.724-64</td>\n",
              "      <td>12/09/1996</td>\n",
              "      <td>3a Travessa Osvaldo Neves</td>\n",
              "      <td>BA</td>\n",
              "      <td>Lara Sabrina Giovanna</td>\n",
              "      <td>Caio Julio Kaue Lima</td>\n",
              "      <td>AB+</td>\n",
              "    </tr>\n",
              "    <tr>\n",
              "      <th>16</th>\n",
              "      <td>17</td>\n",
              "      <td>65075-047</td>\n",
              "      <td>None</td>\n",
              "      <td>134.836.403-39</td>\n",
              "      <td>21/06/1963</td>\n",
              "      <td>Rua Professora Laura Rosa</td>\n",
              "      <td>MA</td>\n",
              "      <td>Leticia Isabelly Stefany</td>\n",
              "      <td>Guilherme Rafael Kevin Monteiro</td>\n",
              "      <td>A-</td>\n",
              "    </tr>\n",
              "    <tr>\n",
              "      <th>17</th>\n",
              "      <td>18</td>\n",
              "      <td>79041-061</td>\n",
              "      <td>None</td>\n",
              "      <td>557.744.519-17</td>\n",
              "      <td>09/02/1947</td>\n",
              "      <td>Rua Jacarepagua</td>\n",
              "      <td>MS</td>\n",
              "      <td>Gabriela Sueli</td>\n",
              "      <td>Nicolas Edson Araujo</td>\n",
              "      <td>O-</td>\n",
              "    </tr>\n",
              "    <tr>\n",
              "      <th>18</th>\n",
              "      <td>19</td>\n",
              "      <td>72236-503</td>\n",
              "      <td>None</td>\n",
              "      <td>254.321.926-91</td>\n",
              "      <td>25/05/1988</td>\n",
              "      <td>Quadra EQNP 30/34 Bloco C</td>\n",
              "      <td>DF</td>\n",
              "      <td>Rita Rafaela Lara</td>\n",
              "      <td>Cesar Nelson Daniel Britto</td>\n",
              "      <td>AB+</td>\n",
              "    </tr>\n",
              "    <tr>\n",
              "      <th>19</th>\n",
              "      <td>20</td>\n",
              "      <td>72233-008</td>\n",
              "      <td>Brasilia</td>\n",
              "      <td>806.443.633-80</td>\n",
              "      <td>16/02/1941</td>\n",
              "      <td>Quadra QNP 20 Conjunto H</td>\n",
              "      <td>DF</td>\n",
              "      <td>Nicole Aparecida</td>\n",
              "      <td>Rodrigo Erick Roberto Freitas</td>\n",
              "      <td>B+</td>\n",
              "    </tr>\n",
              "    <tr>\n",
              "      <th>20</th>\n",
              "      <td>21</td>\n",
              "      <td>29908-350</td>\n",
              "      <td>None</td>\n",
              "      <td>984.830.666-88</td>\n",
              "      <td>09/07/1980</td>\n",
              "      <td>Rua Argeo de Carvalho</td>\n",
              "      <td>ES</td>\n",
              "      <td>Antonella Yasmin</td>\n",
              "      <td>Enrico Arthur Kaue da Cunha</td>\n",
              "      <td>A-</td>\n",
              "    </tr>\n",
              "    <tr>\n",
              "      <th>21</th>\n",
              "      <td>22</td>\n",
              "      <td>69038-276</td>\n",
              "      <td>Manaus</td>\n",
              "      <td>097.294.987-92</td>\n",
              "      <td>24/12/1958</td>\n",
              "      <td>Rua 6</td>\n",
              "      <td>AM</td>\n",
              "      <td>Luzia Sara Rafaela</td>\n",
              "      <td>Mario Kevin Baptista</td>\n",
              "      <td>O-</td>\n",
              "    </tr>\n",
              "    <tr>\n",
              "      <th>22</th>\n",
              "      <td>23</td>\n",
              "      <td>69550-455</td>\n",
              "      <td>Tefe</td>\n",
              "      <td>949.278.899-39</td>\n",
              "      <td>10/03/2001</td>\n",
              "      <td>Travessa Porto Alegre</td>\n",
              "      <td>AM</td>\n",
              "      <td>Benedita Nair Tatiane</td>\n",
              "      <td>Caleb Augusto Igor Barbosa</td>\n",
              "      <td>AB+</td>\n",
              "    </tr>\n",
              "    <tr>\n",
              "      <th>23</th>\n",
              "      <td>24</td>\n",
              "      <td>57044-152</td>\n",
              "      <td>Maceio</td>\n",
              "      <td>657.324.647-00</td>\n",
              "      <td>24/06/1991</td>\n",
              "      <td>Rua Lirio</td>\n",
              "      <td>AL</td>\n",
              "      <td>Isabelly Maria Lavinia</td>\n",
              "      <td>Jose Ian da Conceicao</td>\n",
              "      <td>B+</td>\n",
              "    </tr>\n",
              "    <tr>\n",
              "      <th>24</th>\n",
              "      <td>25</td>\n",
              "      <td>None</td>\n",
              "      <td>Valparaiso de Goias</td>\n",
              "      <td>249.678.124-57</td>\n",
              "      <td>08/09/1943</td>\n",
              "      <td>Rua 23</td>\n",
              "      <td>GO</td>\n",
              "      <td>Bruna Esther Evelyn</td>\n",
              "      <td>Fernando Cesar Figueiredo</td>\n",
              "      <td>AB+</td>\n",
              "    </tr>\n",
              "    <tr>\n",
              "      <th>25</th>\n",
              "      <td>26</td>\n",
              "      <td>None</td>\n",
              "      <td>Varzea Grande</td>\n",
              "      <td>295.718.231-98</td>\n",
              "      <td>08/04/1966</td>\n",
              "      <td>Rua Sao Sebastiao</td>\n",
              "      <td>MT</td>\n",
              "      <td>Luzia Luciana</td>\n",
              "      <td>Jose Caua Vicente Aragao</td>\n",
              "      <td>O-</td>\n",
              "    </tr>\n",
              "    <tr>\n",
              "      <th>26</th>\n",
              "      <td>27</td>\n",
              "      <td>None</td>\n",
              "      <td>Rio do Sul</td>\n",
              "      <td>536.503.166-09</td>\n",
              "      <td>24/07/1987</td>\n",
              "      <td>Rua Tenente Neves</td>\n",
              "      <td>SC</td>\n",
              "      <td>Isadora Lucia Joana</td>\n",
              "      <td>Theo Sebastiao da Rosa</td>\n",
              "      <td>A-</td>\n",
              "    </tr>\n",
              "    <tr>\n",
              "      <th>27</th>\n",
              "      <td>28</td>\n",
              "      <td>None</td>\n",
              "      <td>Caieiras</td>\n",
              "      <td>735.197.681-35</td>\n",
              "      <td>17/07/1955</td>\n",
              "      <td>Rua Belem</td>\n",
              "      <td>SP</td>\n",
              "      <td>Jessica Tereza</td>\n",
              "      <td>Breno Bruno Pinto</td>\n",
              "      <td>AB+</td>\n",
              "    </tr>\n",
              "    <tr>\n",
              "      <th>28</th>\n",
              "      <td>29</td>\n",
              "      <td>None</td>\n",
              "      <td>Canoas</td>\n",
              "      <td>797.175.014-59</td>\n",
              "      <td>11/09/1954</td>\n",
              "      <td>Rua Dezoito</td>\n",
              "      <td>RS</td>\n",
              "      <td>Stella Raimunda Sandra</td>\n",
              "      <td>Calebe Osvaldo Barbosa</td>\n",
              "      <td>AB+</td>\n",
              "    </tr>\n",
              "    <tr>\n",
              "      <th>29</th>\n",
              "      <td>30</td>\n",
              "      <td>None</td>\n",
              "      <td>Macapa</td>\n",
              "      <td>618.880.659-31</td>\n",
              "      <td>20/03/1961</td>\n",
              "      <td>Avenida Maria Cavalcante de Azevedo Picanco</td>\n",
              "      <td>AP</td>\n",
              "      <td>Fernanda Mariah</td>\n",
              "      <td>Miguel Francisco Matheus Galvao</td>\n",
              "      <td>AB+</td>\n",
              "    </tr>\n",
              "    <tr>\n",
              "      <th>...</th>\n",
              "      <td>...</td>\n",
              "      <td>...</td>\n",
              "      <td>...</td>\n",
              "      <td>...</td>\n",
              "      <td>...</td>\n",
              "      <td>...</td>\n",
              "      <td>...</td>\n",
              "      <td>...</td>\n",
              "      <td>...</td>\n",
              "      <td>...</td>\n",
              "    </tr>\n",
              "    <tr>\n",
              "      <th>113</th>\n",
              "      <td>114</td>\n",
              "      <td>69304-350</td>\n",
              "      <td>Boa Vista</td>\n",
              "      <td>442.694.244-60</td>\n",
              "      <td>20/07/1951</td>\n",
              "      <td>Rua PM - 018</td>\n",
              "      <td>AM</td>\n",
              "      <td>Sophia Louise</td>\n",
              "      <td>Bento Luan Guilherme Monteiro</td>\n",
              "      <td>O-</td>\n",
              "    </tr>\n",
              "    <tr>\n",
              "      <th>114</th>\n",
              "      <td>115</td>\n",
              "      <td>78132-360</td>\n",
              "      <td>Varzea Grande</td>\n",
              "      <td>563.337.623-42</td>\n",
              "      <td>14/07/1991</td>\n",
              "      <td>Rua Sao Miguel</td>\n",
              "      <td>PI</td>\n",
              "      <td>Barbara Yasmin</td>\n",
              "      <td>Gustavo Iago Levi Galvao</td>\n",
              "      <td>AB+</td>\n",
              "    </tr>\n",
              "    <tr>\n",
              "      <th>115</th>\n",
              "      <td>116</td>\n",
              "      <td>88810-336</td>\n",
              "      <td>Criciuma</td>\n",
              "      <td>466.803.635-86</td>\n",
              "      <td>07/09/1988</td>\n",
              "      <td>Rua Otavio Rola</td>\n",
              "      <td>MS</td>\n",
              "      <td>Cecilia Sophie</td>\n",
              "      <td>Eduardo Nelson Melo</td>\n",
              "      <td>A-</td>\n",
              "    </tr>\n",
              "    <tr>\n",
              "      <th>116</th>\n",
              "      <td>117</td>\n",
              "      <td>60874-405</td>\n",
              "      <td>Fortaleza</td>\n",
              "      <td>893.426.079-34</td>\n",
              "      <td>27/07/1940</td>\n",
              "      <td>Avenida 203</td>\n",
              "      <td>ES</td>\n",
              "      <td>Teresinha Vera Elisa</td>\n",
              "      <td>Pietro Guilherme Moreira</td>\n",
              "      <td>O-</td>\n",
              "    </tr>\n",
              "    <tr>\n",
              "      <th>117</th>\n",
              "      <td>118</td>\n",
              "      <td>79106-140</td>\n",
              "      <td>Campo Grande</td>\n",
              "      <td>728.882.048-35</td>\n",
              "      <td>10/10/1984</td>\n",
              "      <td>Avenida Doutor Eneas Carvalho de Aguiar 255</td>\n",
              "      <td>RR</td>\n",
              "      <td>Luciana Laura Juliana</td>\n",
              "      <td>Gabriel Erick Oliver da Luz</td>\n",
              "      <td>AB+</td>\n",
              "    </tr>\n",
              "    <tr>\n",
              "      <th>118</th>\n",
              "      <td>119</td>\n",
              "      <td>63030-450</td>\n",
              "      <td>Juazeiro do Norte</td>\n",
              "      <td>869.696.945-69</td>\n",
              "      <td>05/01/1973</td>\n",
              "      <td>Beco Sao Pedro II</td>\n",
              "      <td>MA</td>\n",
              "      <td>Louise Sarah Tereza</td>\n",
              "      <td>Luan Caue Anthony da Mota</td>\n",
              "      <td>B+</td>\n",
              "    </tr>\n",
              "    <tr>\n",
              "      <th>119</th>\n",
              "      <td>120</td>\n",
              "      <td>84172-370</td>\n",
              "      <td>Castro</td>\n",
              "      <td>872.870.813-00</td>\n",
              "      <td>12/09/1996</td>\n",
              "      <td>3a Travessa Osvaldo Neves</td>\n",
              "      <td>MA</td>\n",
              "      <td>Sophia Rafaela Silvana</td>\n",
              "      <td>Enzo Diego Rocha</td>\n",
              "      <td>O+</td>\n",
              "    </tr>\n",
              "    <tr>\n",
              "      <th>120</th>\n",
              "      <td>121</td>\n",
              "      <td>54360-159</td>\n",
              "      <td>Jaboatao dos Guararapes</td>\n",
              "      <td>155.699.916-03</td>\n",
              "      <td>21/06/1963</td>\n",
              "      <td>Rua Professora Laura Rosa</td>\n",
              "      <td>PA</td>\n",
              "      <td>Liz Nicole</td>\n",
              "      <td>Cesar Matheus Caue Rodrigues</td>\n",
              "      <td>AB+</td>\n",
              "    </tr>\n",
              "    <tr>\n",
              "      <th>121</th>\n",
              "      <td>122</td>\n",
              "      <td>37902-013</td>\n",
              "      <td>Passos</td>\n",
              "      <td>735.339.007-70</td>\n",
              "      <td>09/02/1947</td>\n",
              "      <td>Rua Jacarepagua</td>\n",
              "      <td>AC</td>\n",
              "      <td>Simone Heloisa</td>\n",
              "      <td>Caua Isaac Castro</td>\n",
              "      <td>A-</td>\n",
              "    </tr>\n",
              "    <tr>\n",
              "      <th>122</th>\n",
              "      <td>123</td>\n",
              "      <td>57072-276</td>\n",
              "      <td>Maceio</td>\n",
              "      <td>455.643.269-38</td>\n",
              "      <td>25/05/1988</td>\n",
              "      <td>Quadra EQNP 30/34 Bloco C</td>\n",
              "      <td>CE</td>\n",
              "      <td>Sophie Elza</td>\n",
              "      <td>Gabriel Caua Marcos Vinicius Caldeira</td>\n",
              "      <td>O+</td>\n",
              "    </tr>\n",
              "    <tr>\n",
              "      <th>123</th>\n",
              "      <td>124</td>\n",
              "      <td>60767-645</td>\n",
              "      <td>Fortaleza</td>\n",
              "      <td>180.830.510-80</td>\n",
              "      <td>16/02/1941</td>\n",
              "      <td>Quadra QNP 20 Conjunto H</td>\n",
              "      <td>AL</td>\n",
              "      <td>Sabrina Tania Adriana</td>\n",
              "      <td>Danilo Severino da Cruz</td>\n",
              "      <td>AB+</td>\n",
              "    </tr>\n",
              "    <tr>\n",
              "      <th>124</th>\n",
              "      <td>125</td>\n",
              "      <td>59616-380</td>\n",
              "      <td>Mossoro</td>\n",
              "      <td>473.096.540-05</td>\n",
              "      <td>09/07/1980</td>\n",
              "      <td>Rua Argeo de Carvalho</td>\n",
              "      <td>SE</td>\n",
              "      <td>Luana Louise</td>\n",
              "      <td>Samuel Noah Lopes</td>\n",
              "      <td>O-</td>\n",
              "    </tr>\n",
              "    <tr>\n",
              "      <th>125</th>\n",
              "      <td>126</td>\n",
              "      <td>69316-322</td>\n",
              "      <td>Boa Vista</td>\n",
              "      <td>985.904.206-39</td>\n",
              "      <td>24/12/1958</td>\n",
              "      <td>Rua 6</td>\n",
              "      <td>SP</td>\n",
              "      <td>Jaqueline Olivia</td>\n",
              "      <td>Juan Raimundo Osvaldo Cardoso</td>\n",
              "      <td>A-</td>\n",
              "    </tr>\n",
              "    <tr>\n",
              "      <th>126</th>\n",
              "      <td>127</td>\n",
              "      <td>72275-322</td>\n",
              "      <td>Brasilia</td>\n",
              "      <td>517.088.375-74</td>\n",
              "      <td>10/03/2001</td>\n",
              "      <td>Travessa Porto Alegre</td>\n",
              "      <td>SP</td>\n",
              "      <td>Ana Ayla</td>\n",
              "      <td>Leandro Cesar Jorge Drumond</td>\n",
              "      <td>AB+</td>\n",
              "    </tr>\n",
              "    <tr>\n",
              "      <th>127</th>\n",
              "      <td>128</td>\n",
              "      <td>64218-415</td>\n",
              "      <td>Parnaiba</td>\n",
              "      <td>488.380.897-10</td>\n",
              "      <td>24/06/1991</td>\n",
              "      <td>Rua Lirio</td>\n",
              "      <td>SE</td>\n",
              "      <td>Eloa Jessica Stefany</td>\n",
              "      <td>Caio Julio Kaue Lima</td>\n",
              "      <td>AB+</td>\n",
              "    </tr>\n",
              "    <tr>\n",
              "      <th>128</th>\n",
              "      <td>129</td>\n",
              "      <td>61637-973</td>\n",
              "      <td>Caucaia</td>\n",
              "      <td>169.848.860-23</td>\n",
              "      <td>08/09/1943</td>\n",
              "      <td>Rua 23</td>\n",
              "      <td>AL</td>\n",
              "      <td>Cecilia Joana</td>\n",
              "      <td>Guilherme Rafael Kevin Monteiro</td>\n",
              "      <td>AB+</td>\n",
              "    </tr>\n",
              "    <tr>\n",
              "      <th>129</th>\n",
              "      <td>130</td>\n",
              "      <td>24802-120</td>\n",
              "      <td>Itaborai</td>\n",
              "      <td>318.470.004-60</td>\n",
              "      <td>08/04/1966</td>\n",
              "      <td>Rua Sao Sebastiao</td>\n",
              "      <td>AP</td>\n",
              "      <td>Evelyn Isis</td>\n",
              "      <td>Nicolas Edson Araujo</td>\n",
              "      <td>AB-</td>\n",
              "    </tr>\n",
              "    <tr>\n",
              "      <th>130</th>\n",
              "      <td>131</td>\n",
              "      <td>36771-412</td>\n",
              "      <td>Cataguases</td>\n",
              "      <td>939.097.065-25</td>\n",
              "      <td>24/07/1987</td>\n",
              "      <td>Rua Tenente Neves</td>\n",
              "      <td>PI</td>\n",
              "      <td>Eliane Antonia Cecilia</td>\n",
              "      <td>Cesar Nelson Daniel Brito</td>\n",
              "      <td>AB-</td>\n",
              "    </tr>\n",
              "    <tr>\n",
              "      <th>131</th>\n",
              "      <td>132</td>\n",
              "      <td>83402-215</td>\n",
              "      <td>Colombo</td>\n",
              "      <td>998.958.182-70</td>\n",
              "      <td>17/07/1955</td>\n",
              "      <td>Rua Belem</td>\n",
              "      <td>DF</td>\n",
              "      <td>Fatima Isabela Regina</td>\n",
              "      <td>Rodrigo Erick Roberto Freitas</td>\n",
              "      <td>O-</td>\n",
              "    </tr>\n",
              "    <tr>\n",
              "      <th>132</th>\n",
              "      <td>133</td>\n",
              "      <td>26020-115</td>\n",
              "      <td>Nova Iguacu</td>\n",
              "      <td>348.748.050-60</td>\n",
              "      <td>11/09/1954</td>\n",
              "      <td>Rua Dezoito</td>\n",
              "      <td>SP</td>\n",
              "      <td>Maya Sara Isabela</td>\n",
              "      <td>Enrico Arthur Kaue da Cunha</td>\n",
              "      <td>AB-</td>\n",
              "    </tr>\n",
              "    <tr>\n",
              "      <th>133</th>\n",
              "      <td>134</td>\n",
              "      <td>96020-130</td>\n",
              "      <td>Pelotas</td>\n",
              "      <td>066.796.721-47</td>\n",
              "      <td>20/03/1961</td>\n",
              "      <td>Avenida Maria Cavalcante de Azevedo Picanco</td>\n",
              "      <td>BA</td>\n",
              "      <td>Emily Jessica</td>\n",
              "      <td>Martin Benjamin Jesus</td>\n",
              "      <td>B+</td>\n",
              "    </tr>\n",
              "    <tr>\n",
              "      <th>134</th>\n",
              "      <td>135</td>\n",
              "      <td>49044-010</td>\n",
              "      <td>Aracaju</td>\n",
              "      <td>213.005.833-71</td>\n",
              "      <td>21/10/1939</td>\n",
              "      <td>Quadra 303 Sul Alameda 10</td>\n",
              "      <td>GO</td>\n",
              "      <td>Rosa Ayla Alicia</td>\n",
              "      <td>Marcos Raimundo Rocha</td>\n",
              "      <td>AB-</td>\n",
              "    </tr>\n",
              "    <tr>\n",
              "      <th>135</th>\n",
              "      <td>136</td>\n",
              "      <td>79900-636</td>\n",
              "      <td>Ponta Pora</td>\n",
              "      <td>758.219.979-09</td>\n",
              "      <td>07/02/1998</td>\n",
              "      <td>Rua Matias Vasconcelos da Costa</td>\n",
              "      <td>PR</td>\n",
              "      <td>Vitoria Antonella</td>\n",
              "      <td>Hugo Marcio Igor Silva</td>\n",
              "      <td>B-</td>\n",
              "    </tr>\n",
              "    <tr>\n",
              "      <th>136</th>\n",
              "      <td>137</td>\n",
              "      <td>77062-164</td>\n",
              "      <td>Palmas</td>\n",
              "      <td>858.666.733-12</td>\n",
              "      <td>23/03/1983</td>\n",
              "      <td>Rua Lobo da Costa</td>\n",
              "      <td>SP</td>\n",
              "      <td>Rita Louise</td>\n",
              "      <td>Vinicius Kaue Nascimento</td>\n",
              "      <td>A+</td>\n",
              "    </tr>\n",
              "    <tr>\n",
              "      <th>137</th>\n",
              "      <td>138</td>\n",
              "      <td>49055-610</td>\n",
              "      <td>Aracaju</td>\n",
              "      <td>046.391.337-07</td>\n",
              "      <td>03/05/1954</td>\n",
              "      <td>Rua Jose Alves Pontes</td>\n",
              "      <td>AP</td>\n",
              "      <td>Regina Gabriela Analu</td>\n",
              "      <td>Heitor Leonardo Calebe Ferreira</td>\n",
              "      <td>O-</td>\n",
              "    </tr>\n",
              "    <tr>\n",
              "      <th>138</th>\n",
              "      <td>139</td>\n",
              "      <td>45002-048</td>\n",
              "      <td>Vitoria da Conquista</td>\n",
              "      <td>869.696.945-69</td>\n",
              "      <td>17/12/1988</td>\n",
              "      <td>Rua Virgilio Ferreira</td>\n",
              "      <td>AC</td>\n",
              "      <td>Rayssa Benedita Manuela</td>\n",
              "      <td>Gael Tomas Thiago Campos</td>\n",
              "      <td>A+</td>\n",
              "    </tr>\n",
              "    <tr>\n",
              "      <th>139</th>\n",
              "      <td>140</td>\n",
              "      <td>88353-509</td>\n",
              "      <td>Brusque</td>\n",
              "      <td>872.870.813-00</td>\n",
              "      <td>11/08/1969</td>\n",
              "      <td>Rua Emiliano Perneta</td>\n",
              "      <td>PE</td>\n",
              "      <td>Yasmin Renata</td>\n",
              "      <td>Tomas Caua Martins</td>\n",
              "      <td>AB+</td>\n",
              "    </tr>\n",
              "    <tr>\n",
              "      <th>140</th>\n",
              "      <td>141</td>\n",
              "      <td>77413-785</td>\n",
              "      <td>Gurupi</td>\n",
              "      <td>145.891.596-43</td>\n",
              "      <td>10/02/1967</td>\n",
              "      <td>Rua 6A</td>\n",
              "      <td>PI</td>\n",
              "      <td>Hadassa Maya Elza</td>\n",
              "      <td>Leonardo Fabio de Paula</td>\n",
              "      <td>O-</td>\n",
              "    </tr>\n",
              "    <tr>\n",
              "      <th>141</th>\n",
              "      <td>142</td>\n",
              "      <td>59600-200</td>\n",
              "      <td>Mossoro</td>\n",
              "      <td>631.466.800-09</td>\n",
              "      <td>11/01/1955</td>\n",
              "      <td>Avenida Rouxinol</td>\n",
              "      <td>CE</td>\n",
              "      <td>Cristiane Manuela</td>\n",
              "      <td>Roberto Heitor Farias</td>\n",
              "      <td>B-</td>\n",
              "    </tr>\n",
              "    <tr>\n",
              "      <th>142</th>\n",
              "      <td>143</td>\n",
              "      <td>79645-200</td>\n",
              "      <td>Tres Lagoas</td>\n",
              "      <td>159.568.299-66</td>\n",
              "      <td>07/03/1977</td>\n",
              "      <td>Rua Projetada Um</td>\n",
              "      <td>PE</td>\n",
              "      <td>Livia Sandra Sueli</td>\n",
              "      <td>Francisco Jorge Raimundo Freitas</td>\n",
              "      <td>A-</td>\n",
              "    </tr>\n",
              "  </tbody>\n",
              "</table>\n",
              "<p>143 rows × 10 columns</p>\n",
              "</div>"
            ],
            "text/plain": [
              "      id        cep  ...                                   nome tipo_sanguineo\n",
              "0     01  69304-350  ...                Felipe Bruno dos Santos            AB-\n",
              "1     02  78132-360  ...                 Marcio Heitor Silveira            AB-\n",
              "2     03  88810-336  ...              Theo Mario Victor Barbosa             A-\n",
              "3     04  60874-405  ...               Pietro Henrique de Paula            AB-\n",
              "4     05  79106-140  ...                 Kaique Thiago de Paula             A-\n",
              "5     06  63030-450  ...            Gabriel Erick Oliver da Luz             O+\n",
              "6     07  84172-370  ...              Luan Caue Anthony da Mota           None\n",
              "7     08  69070-555  ...                           Enzo D Rocha           None\n",
              "8     09  20950-430  ...           Cesar Matheus Caue Rodrigues           None\n",
              "9     10  36071-020  ...                      Caua Isaac Castro           None\n",
              "10    11  75063-120  ...  Gabriel Caua Marcos Vinicius Caldeira           None\n",
              "11    12  78731-260  ...                Danilo Severino da Cruz             B+\n",
              "12    13  77818-355  ...                      Samuel Noah Lopes             O-\n",
              "13    14  05403-900  ...          Juan Raimundo Osvaldo Cardoso             B+\n",
              "14    15  69036-075  ...            Leandro Cesar Jorge Drumond             O-\n",
              "15    16  40720-479  ...                   Caio Julio Kaue Lima            AB+\n",
              "16    17  65075-047  ...        Guilherme Rafael Kevin Monteiro             A-\n",
              "17    18  79041-061  ...                   Nicolas Edson Araujo             O-\n",
              "18    19  72236-503  ...             Cesar Nelson Daniel Britto            AB+\n",
              "19    20  72233-008  ...          Rodrigo Erick Roberto Freitas             B+\n",
              "20    21  29908-350  ...            Enrico Arthur Kaue da Cunha             A-\n",
              "21    22  69038-276  ...                   Mario Kevin Baptista             O-\n",
              "22    23  69550-455  ...             Caleb Augusto Igor Barbosa            AB+\n",
              "23    24  57044-152  ...                  Jose Ian da Conceicao             B+\n",
              "24    25       None  ...              Fernando Cesar Figueiredo            AB+\n",
              "25    26       None  ...               Jose Caua Vicente Aragao             O-\n",
              "26    27       None  ...                 Theo Sebastiao da Rosa             A-\n",
              "27    28       None  ...                      Breno Bruno Pinto            AB+\n",
              "28    29       None  ...                 Calebe Osvaldo Barbosa            AB+\n",
              "29    30       None  ...        Miguel Francisco Matheus Galvao            AB+\n",
              "..   ...        ...  ...                                    ...            ...\n",
              "113  114  69304-350  ...          Bento Luan Guilherme Monteiro             O-\n",
              "114  115  78132-360  ...               Gustavo Iago Levi Galvao            AB+\n",
              "115  116  88810-336  ...                    Eduardo Nelson Melo             A-\n",
              "116  117  60874-405  ...               Pietro Guilherme Moreira             O-\n",
              "117  118  79106-140  ...            Gabriel Erick Oliver da Luz            AB+\n",
              "118  119  63030-450  ...              Luan Caue Anthony da Mota             B+\n",
              "119  120  84172-370  ...                       Enzo Diego Rocha             O+\n",
              "120  121  54360-159  ...           Cesar Matheus Caue Rodrigues            AB+\n",
              "121  122  37902-013  ...                      Caua Isaac Castro             A-\n",
              "122  123  57072-276  ...  Gabriel Caua Marcos Vinicius Caldeira             O+\n",
              "123  124  60767-645  ...                Danilo Severino da Cruz            AB+\n",
              "124  125  59616-380  ...                      Samuel Noah Lopes             O-\n",
              "125  126  69316-322  ...          Juan Raimundo Osvaldo Cardoso             A-\n",
              "126  127  72275-322  ...            Leandro Cesar Jorge Drumond            AB+\n",
              "127  128  64218-415  ...                   Caio Julio Kaue Lima            AB+\n",
              "128  129  61637-973  ...        Guilherme Rafael Kevin Monteiro            AB+\n",
              "129  130  24802-120  ...                   Nicolas Edson Araujo            AB-\n",
              "130  131  36771-412  ...              Cesar Nelson Daniel Brito            AB-\n",
              "131  132  83402-215  ...          Rodrigo Erick Roberto Freitas             O-\n",
              "132  133  26020-115  ...            Enrico Arthur Kaue da Cunha            AB-\n",
              "133  134  96020-130  ...                  Martin Benjamin Jesus             B+\n",
              "134  135  49044-010  ...                  Marcos Raimundo Rocha            AB-\n",
              "135  136  79900-636  ...                 Hugo Marcio Igor Silva             B-\n",
              "136  137  77062-164  ...               Vinicius Kaue Nascimento             A+\n",
              "137  138  49055-610  ...        Heitor Leonardo Calebe Ferreira             O-\n",
              "138  139  45002-048  ...               Gael Tomas Thiago Campos             A+\n",
              "139  140  88353-509  ...                     Tomas Caua Martins            AB+\n",
              "140  141  77413-785  ...                Leonardo Fabio de Paula             O-\n",
              "141  142  59600-200  ...                  Roberto Heitor Farias             B-\n",
              "142  143  79645-200  ...       Francisco Jorge Raimundo Freitas             A-\n",
              "\n",
              "[143 rows x 10 columns]"
            ]
          },
          "metadata": {
            "tags": []
          },
          "execution_count": 85
        }
      ]
    },
    {
      "cell_type": "code",
      "metadata": {
        "id": "8PEhGkpPww9P",
        "colab_type": "code",
        "outputId": "11e9a8c0-0c34-4e57-b3cf-343a1201d2d0",
        "colab": {
          "base_uri": "https://localhost:8080/",
          "height": 459
        }
      },
      "source": [
        "dfa.show()"
      ],
      "execution_count": 86,
      "outputs": [
        {
          "output_type": "stream",
          "text": [
            "+---+--------------------+---------+-----------------+--------------+----------+--------------------+--------------------+------+-----+--------------------+--------------------+------+-----------+--------------+----+\n",
            "| id|              bairro|      cep|           cidade|           cpf| data_nasc|               email|            endereco|estado|idade|                 mae|                nome|numero|      signo|tipo_sanguineo|_c15|\n",
            "+---+--------------------+---------+-----------------+--------------+----------+--------------------+--------------------+------+-----+--------------------+--------------------+------+-----------+--------------+----+\n",
            "|  0|         Vila Sarney|65090-677|         Sao Luis|097.627.958-49|10/09/1948|vicenteolivermont...|2a Travessa do Ri...|    MA|   71|     Louise Beatriz |Vicente Oliver Mo...|   738|     Virgem|           AB-|null|\n",
            "|  1|      Vila Sao Jorge|75044-220|         Anapolis|685.096.335-09|24/04/1995|miguelbernardogon...|  Praca Joao Salomao|    GO|   24|     Raquel Barbara |Miguel Bernardo G...|   805|      Touro|            A-|null|\n",
            "|  2|         Cabralzinho|68906-846|           Macapa|956.997.968-27|13/03/1984|ericktheomarcosvi...|    Alameda Calcoene|    AP|   35|Maite Valentina R...|Erick Theo Marcos...|   669|     Peixes|            B+|null|\n",
            "|  3|           Mae Luiza|59014-227|            Natal|631.875.885-22|27/09/1965|mariorobertoisaac...|1a Rua Sao Francisco|    RN|   54|Alicia Cristiane ...|Mario Roberto Isa...|   978|      Libra|           AB+|null|\n",
            "|  4|       Jardim Monaco|86702-790|        Arapongas|397.480.478-14|24/11/1965|eeliasandersonmat...|Rua Mariquita-dos...|    PR|   54|     Tatiane Josefa |Elias Anderson Ma...|   558|  Sagitario|            A+|null|\n",
            "|  5|        Boca da Mata|65917-157|       Imperatriz|216.419.173-00|27/04/1997|gabrielluisjesus_...|  Rua Antenor Bastos|    MA|   22|Fernanda Sebastia...|  Gabriel Luis Jesus|   651|      Touro|            B-|null|\n",
            "|  6|       Boa Esperanca|23894-586|       Seropedica|148.386.650-59|10/01/1985|brunojulioguilher...|    Rua Jose Paucino|    RJ|   34|     Lavinia Isabel |Bruno Julio Guilh...|   445|Capricornio|            B-|null|\n",
            "|  7|  Vila Santo Eugenio|79060-380|     Campo Grande|654.325.863-20|06/12/1957|ttheoguilhermesou...|      Rua Mamanguape|    MS|   62|Andreia Evelyn Ca...|Theo Guilherme Souza|   912|  Sagitario|            O+|null|\n",
            "|  8|         Nova Maraba|68506-160|           Maraba|704.817.633-41|12/11/1955|marcosviniciusdie...|    Quadra Dezesseis|    PA|   64| Luiza Claudia Isis |Marcos Vinicius D...|   869|  Escorpiao|            O+|null|\n",
            "|  9|Ceilandia Norte (...|72241-555|         Brasilia|179.057.616-49|12/11/1952|tthomasenzoarthur...|Quadra EQNP 13/17...|    DF|   67|Stefany Vera Kami...|Thomas Enzo Arthu...|   894|  Escorpiao|            A-|null|\n",
            "| 10|Loteamento Linda ...|13802-488|       Mogi Mirim|999.008.988-42|25/08/1997|caiokevinpereira_...|       Rua Tom Jobim|    SP|   22|     Mariana Helena |  Caio Kevin Pereira|   675|     Virgem|            O-|null|\n",
            "| 11|              Centro|29130-172|            Viana|844.083.511-64|04/09/1999|olivermarioandrea...|   Rua Alvimar Silva|    ES|   20|Marli Hadassa Lor...|Oliver Mario Andr...|   880|     Virgem|           AB+|null|\n",
            "| 12|             Pacheco|88135-079|          Palhoca|164.210.136-27|06/07/1985|mmatheusclaudiori...|Travessa Antonio ...|    SC|   34|      Pietra Aurora |Matheus Claudio R...|   602|     Cancer|            A-|null|\n",
            "| 13|      Setor Noroeste|70686-455|         Brasilia|771.006.764-60|20/02/1997|ddanielvicenteisa...|Quadra SQNW 109 B...|    DF|   22|Jaqueline Valentina |Daniel Vicente Is...|   211|     Peixes|            B-|null|\n",
            "| 14|            Mecejana|69304-350|        Boa Vista|506.865.202-46|22/11/1965|felipebrunodossan...|Avenida Mario Hom...|    RR|   54|Isabelle Marcia A...|Felipe Bruno dos ...|   732|  Sagitario|           AB-|null|\n",
            "| 15|           Primavera|78132-360|    Varzea Grande|325.828.867-42|04/03/1945|marcioheitorsilve...|      Rua Rio Cuiaba|    MT|   74|Alana Isadora Jul...|Marcio Heitor Sil...|   681|     Peixes|           AB-|null|\n",
            "| 16|           Maria Ceu|88810-336|         Criciuma|284.536.218-88|23/09/1961|theomariovictorba...|Rua Romeu Lopes d...|    SC|   58|  Caroline Gabriela |Theo Mario Victor...|   713|      Libra|            A-|null|\n",
            "| 17|              Pedras|60874-405|        Fortaleza|390.375.925-20|11/05/1981|pietrohenrydepaul...|           Rua Matiz|    CE|   38|       Tereza Bruna |Pietro Henry de P...|   118|      Touro|           AB-|null|\n",
            "| 18|    Jardim Aeroporto|79106-140|     Campo Grande|756.005.387-40|14/12/1941|kkaiquethiagodepa...|     Rua Pato Branco|    MS|   78|      Alice Leticia |Kaique Thiago de ...|   349|  Sagitario|            A-|null|\n",
            "| 19|       Novo Juazeiro|63030-450|Juazeiro do Norte|551.341.139-39|16/02/1999|ggabrielerickoliv...| Avenida do Contorno|    CE|   20|Helena Agatha Ter...|Gabriel Erick Oli...|   758|    Aquario|            O+|null|\n",
            "+---+--------------------+---------+-----------------+--------------+----------+--------------------+--------------------+------+-----+--------------------+--------------------+------+-----------+--------------+----+\n",
            "only showing top 20 rows\n",
            "\n"
          ],
          "name": "stdout"
        }
      ]
    },
    {
      "cell_type": "code",
      "metadata": {
        "id": "NWN7XbL-x_Sa",
        "colab_type": "code",
        "outputId": "d87d9f4a-0d2f-46b6-8c25-75438e8384d4",
        "colab": {
          "base_uri": "https://localhost:8080/",
          "height": 527
        }
      },
      "source": [
        "dfa.printSchema()\n",
        "dfb.printSchema()"
      ],
      "execution_count": 87,
      "outputs": [
        {
          "output_type": "stream",
          "text": [
            "root\n",
            " |-- id: string (nullable = true)\n",
            " |-- bairro: string (nullable = true)\n",
            " |-- cep: string (nullable = true)\n",
            " |-- cidade: string (nullable = true)\n",
            " |-- cpf: string (nullable = true)\n",
            " |-- data_nasc: string (nullable = true)\n",
            " |-- email: string (nullable = true)\n",
            " |-- endereco: string (nullable = true)\n",
            " |-- estado: string (nullable = true)\n",
            " |-- idade: string (nullable = true)\n",
            " |-- mae: string (nullable = true)\n",
            " |-- nome: string (nullable = true)\n",
            " |-- numero: string (nullable = true)\n",
            " |-- signo: string (nullable = true)\n",
            " |-- tipo_sanguineo: string (nullable = true)\n",
            " |-- _c15: string (nullable = true)\n",
            "\n",
            "root\n",
            " |-- id: string (nullable = true)\n",
            " |-- cep: string (nullable = true)\n",
            " |-- cidade: string (nullable = true)\n",
            " |-- cpf: string (nullable = true)\n",
            " |-- data_nasc: string (nullable = true)\n",
            " |-- endereco: string (nullable = true)\n",
            " |-- estado: string (nullable = true)\n",
            " |-- mae: string (nullable = true)\n",
            " |-- nome: string (nullable = true)\n",
            " |-- tipo_sanguineo: string (nullable = true)\n",
            "\n"
          ],
          "name": "stdout"
        }
      ]
    },
    {
      "cell_type": "markdown",
      "metadata": {
        "id": "XnNyV4gTK4ZW",
        "colab_type": "text"
      },
      "source": [
        "## Tratamento de Atributo Missing\n"
      ]
    },
    {
      "cell_type": "code",
      "metadata": {
        "id": "8rcWDerlKhav",
        "colab_type": "code",
        "outputId": "19af78a9-a452-4567-a6dd-c9600d60f56f",
        "colab": {
          "base_uri": "https://localhost:8080/",
          "height": 34
        }
      },
      "source": [
        "dfa.filter(F.col('nome').isNull()).count()"
      ],
      "execution_count": 88,
      "outputs": [
        {
          "output_type": "execute_result",
          "data": {
            "text/plain": [
              "0"
            ]
          },
          "metadata": {
            "tags": []
          },
          "execution_count": 88
        }
      ]
    },
    {
      "cell_type": "code",
      "metadata": {
        "id": "yzbll1W7Kxyz",
        "colab_type": "code",
        "outputId": "fe338f0b-cbff-47aa-fd02-cb0ae3cc22c9",
        "colab": {
          "base_uri": "https://localhost:8080/",
          "height": 34
        }
      },
      "source": [
        "dfb.filter(F.col('nome').isNull()).count()"
      ],
      "execution_count": 89,
      "outputs": [
        {
          "output_type": "execute_result",
          "data": {
            "text/plain": [
              "2"
            ]
          },
          "metadata": {
            "tags": []
          },
          "execution_count": 89
        }
      ]
    },
    {
      "cell_type": "code",
      "metadata": {
        "id": "kjGMs6ELLbj4",
        "colab_type": "code",
        "colab": {}
      },
      "source": [
        "dfb = dfb.withColumnRenamed('nome','nome_antigo')\n",
        "dfb = dfb.withColumn('nome', F.when(F.col('nome_antigo').isNull(),\" \").otherwise(F.col('nome_antigo')))"
      ],
      "execution_count": 0,
      "outputs": []
    },
    {
      "cell_type": "code",
      "metadata": {
        "id": "bkje_fqgLbFX",
        "colab_type": "code",
        "outputId": "8e27a99b-2ab7-4af0-a499-f8b07ce913a0",
        "colab": {
          "base_uri": "https://localhost:8080/",
          "height": 459
        }
      },
      "source": [
        "dfb.show()"
      ],
      "execution_count": 91,
      "outputs": [
        {
          "output_type": "stream",
          "text": [
            "+---+---------+-----------------+--------------+----------+--------------------+------+--------------------+--------------------+--------------+--------------------+\n",
            "| id|      cep|           cidade|           cpf| data_nasc|            endereco|estado|                 mae|         nome_antigo|tipo_sanguineo|                nome|\n",
            "+---+---------+-----------------+--------------+----------+--------------------+------+--------------------+--------------------+--------------+--------------------+\n",
            "| 01|69304-350|        Boa Vista|506.865.202-46|22/11/1965|Avenida Mario Hom...|    RR|Isabelle Marcia A...|Felipe Bruno dos ...|           AB-|Felipe Bruno dos ...|\n",
            "| 02|78132-360|    Varzea Grande|325.828.867-42|      null|      Rua Rio Cuiaba|    MT|       Alana Isadora|Marcio Heitor Sil...|           AB-|Marcio Heitor Sil...|\n",
            "| 03|88810-336|         Criciuma|284.536.218-88|23/09/1961|Rua Romeu Lopes d...|    SC|  Caroline Gabriela |Theo Mario Victor...|            A-|Theo Mario Victor...|\n",
            "| 04|60874-405|        Fortaleza|390.375.925-20|11/05/1981|                null|    CE|       Tereza Bruna |Pietro Henrique d...|           AB-|Pietro Henrique d...|\n",
            "| 05|79106-140|     Campo Grande|756.005.387-40|14/12/1941|     Rua Pato Branco|    MS|      Alice Leticia |Kaique Thiago de ...|            A-|Kaique Thiago de ...|\n",
            "| 06|63030-450|Juazeiro do Norte|551.341.139-39|16/02/1999| Avenida do Contorno|    CE|Elena Agatha Tere...|Gabriel Erick Oli...|            O+|Gabriel Erick Oli...|\n",
            "| 07|84172-370|           Castro|756.048.583-90|11/03/1982|Rua Major Candido...|  null|Vanessa Camila Ni...|Luan Caue Anthony...|          null|Luan Caue Anthony...|\n",
            "| 08|69070-555|           Manaus|386.351.591-95|13/01/1978|                null|    AM|Isabelle Maite Rosa |        Enzo D Rocha|          null|        Enzo D Rocha|\n",
            "| 09|20950-430|   Rio de Janeiro|885.264.747-31|27/01/2001|         Rua do Amor|    RJ|      Sophie Bianca |Cesar Matheus Cau...|          null|Cesar Matheus Cau...|\n",
            "| 10|36071-020|     Juiz de Fora|489.611.821-96|      null|Rua Flavia Rios M...|    MG|Giovana Antonella...|   Caua Isaac Castro|          null|   Caua Isaac Castro|\n",
            "| 11|75063-120|         Anapolis|281.229.310-14|08/11/1947|Avenida dos Palmares|    GO|Mariana Mirella N...|Gabriel Caua Marc...|          null|Gabriel Caua Marc...|\n",
            "| 12|78731-260|     Rondonopolis|492.264.809-74|18/04/1969|      Rua Circular-2|    MT|     Rita Ayla Sara |Danilo Severino d...|            B+|Danilo Severino d...|\n",
            "| 13|77818-355|             null|816.876.443-90|27/03/1972|       Rua Aparecida|    TO|       Louise Joana |   Samuel Noah Lopes|            O-|   Samuel Noah Lopes|\n",
            "| 14|05403-900|             null|327.630.596-86|10/10/1984|Avenida Doutor En...|    SP|      Heloisa Luzia |Juan Raimundo Osv...|            B+|Juan Raimundo Osv...|\n",
            "| 15|69036-075|             null|181.410.022-95|05/01/1973|   Beco Sao Pedro II|    AM|Jessica Jaqueline...|Leandro Cesar Jor...|            O-|Leandro Cesar Jor...|\n",
            "| 16|40720-479|             null|843.458.724-64|12/09/1996|3a Travessa Osval...|    BA|Lara Sabrina Giov...|Caio Julio Kaue Lima|           AB+|Caio Julio Kaue Lima|\n",
            "| 17|65075-047|             null|134.836.403-39|21/06/1963|Rua Professora La...|    MA|Leticia Isabelly ...|Guilherme Rafael ...|            A-|Guilherme Rafael ...|\n",
            "| 18|79041-061|             null|557.744.519-17|09/02/1947|     Rua Jacarepagua|    MS|     Gabriela Sueli |Nicolas Edson Araujo|            O-|Nicolas Edson Araujo|\n",
            "| 19|72236-503|             null|254.321.926-91|25/05/1988|Quadra EQNP 30/34...|    DF|  Rita Rafaela Lara |Cesar Nelson Dani...|           AB+|Cesar Nelson Dani...|\n",
            "| 20|72233-008|         Brasilia|806.443.633-80|16/02/1941|Quadra QNP 20 Con...|    DF|   Nicole Aparecida |Rodrigo Erick Rob...|            B+|Rodrigo Erick Rob...|\n",
            "+---+---------+-----------------+--------------+----------+--------------------+------+--------------------+--------------------+--------------+--------------------+\n",
            "only showing top 20 rows\n",
            "\n"
          ],
          "name": "stdout"
        }
      ]
    },
    {
      "cell_type": "markdown",
      "metadata": {
        "id": "DXFbhfDs3KXG",
        "colab_type": "text"
      },
      "source": [
        "## Renomeando colunas para o linkage (necessita nomes diferentes)"
      ]
    },
    {
      "cell_type": "code",
      "metadata": {
        "id": "Pofvt2WKzEkJ",
        "colab_type": "code",
        "colab": {}
      },
      "source": [
        "dfb = dfb.withColumnRenamed('id','id_b')\n",
        "dfb = dfb.withColumnRenamed('cep','cep_b')\n",
        "dfb = dfb.withColumnRenamed('cidade','cidade_b')\n",
        "dfb = dfb.withColumnRenamed('cpf','cpf_b')\n",
        "dfb = dfb.withColumnRenamed('data_nasc','data_nasc_b')\n",
        "dfb = dfb.withColumnRenamed('endereco','endereco_b')\n",
        "dfb = dfb.withColumnRenamed('estado','estado_b')\n",
        "dfb = dfb.withColumnRenamed('mae','mae_b')\n",
        "dfb = dfb.withColumnRenamed('nome','nome_b')\n",
        "dfb = dfb.withColumnRenamed('tipo_sanguineo','tipo_sanguineo_b')"
      ],
      "execution_count": 0,
      "outputs": []
    },
    {
      "cell_type": "code",
      "metadata": {
        "id": "jZqtYaaTzfF1",
        "colab_type": "code",
        "outputId": "b59d983b-0dcb-44dd-c24c-2753548b170d",
        "colab": {
          "base_uri": "https://localhost:8080/",
          "height": 238
        }
      },
      "source": [
        "dfb.printSchema()"
      ],
      "execution_count": 93,
      "outputs": [
        {
          "output_type": "stream",
          "text": [
            "root\n",
            " |-- id_b: string (nullable = true)\n",
            " |-- cep_b: string (nullable = true)\n",
            " |-- cidade_b: string (nullable = true)\n",
            " |-- cpf_b: string (nullable = true)\n",
            " |-- data_nasc_b: string (nullable = true)\n",
            " |-- endereco_b: string (nullable = true)\n",
            " |-- estado_b: string (nullable = true)\n",
            " |-- mae_b: string (nullable = true)\n",
            " |-- nome_antigo: string (nullable = true)\n",
            " |-- tipo_sanguineo_b: string (nullable = true)\n",
            " |-- nome_b: string (nullable = true)\n",
            "\n"
          ],
          "name": "stdout"
        }
      ]
    },
    {
      "cell_type": "markdown",
      "metadata": {
        "id": "TV9OfmjJ3aib",
        "colab_type": "text"
      },
      "source": [
        "## Fazendo Linkage"
      ]
    },
    {
      "cell_type": "code",
      "metadata": {
        "id": "OOUX6idU0Qdj",
        "colab_type": "code",
        "colab": {}
      },
      "source": [
        "dfl = dfa.crossJoin(dfb)"
      ],
      "execution_count": 0,
      "outputs": []
    },
    {
      "cell_type": "code",
      "metadata": {
        "id": "HaXGRL_z0g12",
        "colab_type": "code",
        "outputId": "d2ea9ce7-b89d-4622-a525-e351afa3fab1",
        "colab": {
          "base_uri": "https://localhost:8080/",
          "height": 207
        }
      },
      "source": [
        "dfl.limit(5).show()"
      ],
      "execution_count": 95,
      "outputs": [
        {
          "output_type": "stream",
          "text": [
            "+---+-----------+---------+--------+--------------+----------+--------------------+--------------------+------+-----+---------------+--------------------+------+------+--------------+----+----+---------+-------------+--------------+-----------+--------------------+--------+--------------------+--------------------+----------------+--------------------+\n",
            "| id|     bairro|      cep|  cidade|           cpf| data_nasc|               email|            endereco|estado|idade|            mae|                nome|numero| signo|tipo_sanguineo|_c15|id_b|    cep_b|     cidade_b|         cpf_b|data_nasc_b|          endereco_b|estado_b|               mae_b|         nome_antigo|tipo_sanguineo_b|              nome_b|\n",
            "+---+-----------+---------+--------+--------------+----------+--------------------+--------------------+------+-----+---------------+--------------------+------+------+--------------+----+----+---------+-------------+--------------+-----------+--------------------+--------+--------------------+--------------------+----------------+--------------------+\n",
            "|  0|Vila Sarney|65090-677|Sao Luis|097.627.958-49|10/09/1948|vicenteolivermont...|2a Travessa do Ri...|    MA|   71|Louise Beatriz |Vicente Oliver Mo...|   738|Virgem|           AB-|null|  01|69304-350|    Boa Vista|506.865.202-46| 22/11/1965|Avenida Mario Hom...|      RR|Isabelle Marcia A...|Felipe Bruno dos ...|             AB-|Felipe Bruno dos ...|\n",
            "|  0|Vila Sarney|65090-677|Sao Luis|097.627.958-49|10/09/1948|vicenteolivermont...|2a Travessa do Ri...|    MA|   71|Louise Beatriz |Vicente Oliver Mo...|   738|Virgem|           AB-|null|  02|78132-360|Varzea Grande|325.828.867-42|       null|      Rua Rio Cuiaba|      MT|       Alana Isadora|Marcio Heitor Sil...|             AB-|Marcio Heitor Sil...|\n",
            "|  0|Vila Sarney|65090-677|Sao Luis|097.627.958-49|10/09/1948|vicenteolivermont...|2a Travessa do Ri...|    MA|   71|Louise Beatriz |Vicente Oliver Mo...|   738|Virgem|           AB-|null|  03|88810-336|     Criciuma|284.536.218-88| 23/09/1961|Rua Romeu Lopes d...|      SC|  Caroline Gabriela |Theo Mario Victor...|              A-|Theo Mario Victor...|\n",
            "|  0|Vila Sarney|65090-677|Sao Luis|097.627.958-49|10/09/1948|vicenteolivermont...|2a Travessa do Ri...|    MA|   71|Louise Beatriz |Vicente Oliver Mo...|   738|Virgem|           AB-|null|  04|60874-405|    Fortaleza|390.375.925-20| 11/05/1981|                null|      CE|       Tereza Bruna |Pietro Henrique d...|             AB-|Pietro Henrique d...|\n",
            "|  0|Vila Sarney|65090-677|Sao Luis|097.627.958-49|10/09/1948|vicenteolivermont...|2a Travessa do Ri...|    MA|   71|Louise Beatriz |Vicente Oliver Mo...|   738|Virgem|           AB-|null|  05|79106-140| Campo Grande|756.005.387-40| 14/12/1941|     Rua Pato Branco|      MS|      Alice Leticia |Kaique Thiago de ...|              A-|Kaique Thiago de ...|\n",
            "+---+-----------+---------+--------+--------------+----------+--------------------+--------------------+------+-----+---------------+--------------------+------+------+--------------+----+----+---------+-------------+--------------+-----------+--------------------+--------+--------------------+--------------------+----------------+--------------------+\n",
            "\n"
          ],
          "name": "stdout"
        }
      ]
    },
    {
      "cell_type": "markdown",
      "metadata": {
        "id": "BpJ6EbbcIWuD",
        "colab_type": "text"
      },
      "source": [
        ""
      ]
    },
    {
      "cell_type": "code",
      "metadata": {
        "id": "EteQQ3F90uua",
        "colab_type": "code",
        "outputId": "ebfe20ba-1885-4ca2-86d0-def008304b18",
        "colab": {
          "base_uri": "https://localhost:8080/",
          "height": 544
        }
      },
      "source": [
        "dfb.printSchema()\n",
        "dfa.printSchema()"
      ],
      "execution_count": 96,
      "outputs": [
        {
          "output_type": "stream",
          "text": [
            "root\n",
            " |-- id_b: string (nullable = true)\n",
            " |-- cep_b: string (nullable = true)\n",
            " |-- cidade_b: string (nullable = true)\n",
            " |-- cpf_b: string (nullable = true)\n",
            " |-- data_nasc_b: string (nullable = true)\n",
            " |-- endereco_b: string (nullable = true)\n",
            " |-- estado_b: string (nullable = true)\n",
            " |-- mae_b: string (nullable = true)\n",
            " |-- nome_antigo: string (nullable = true)\n",
            " |-- tipo_sanguineo_b: string (nullable = true)\n",
            " |-- nome_b: string (nullable = true)\n",
            "\n",
            "root\n",
            " |-- id: string (nullable = true)\n",
            " |-- bairro: string (nullable = true)\n",
            " |-- cep: string (nullable = true)\n",
            " |-- cidade: string (nullable = true)\n",
            " |-- cpf: string (nullable = true)\n",
            " |-- data_nasc: string (nullable = true)\n",
            " |-- email: string (nullable = true)\n",
            " |-- endereco: string (nullable = true)\n",
            " |-- estado: string (nullable = true)\n",
            " |-- idade: string (nullable = true)\n",
            " |-- mae: string (nullable = true)\n",
            " |-- nome: string (nullable = true)\n",
            " |-- numero: string (nullable = true)\n",
            " |-- signo: string (nullable = true)\n",
            " |-- tipo_sanguineo: string (nullable = true)\n",
            " |-- _c15: string (nullable = true)\n",
            "\n"
          ],
          "name": "stdout"
        }
      ]
    },
    {
      "cell_type": "markdown",
      "metadata": {
        "id": "gkwPAIS_7khv",
        "colab_type": "text"
      },
      "source": [
        "## Criação de Funções para extração do primeiro e último nome"
      ]
    },
    {
      "cell_type": "code",
      "metadata": {
        "id": "tzjgEpWA7jJf",
        "colab_type": "code",
        "colab": {}
      },
      "source": [
        "def criaPrimeiroNome(col):\n",
        "  return col.split(' ') [0]\n",
        "udf_criaPrimeiroNome = F.udf(criaPrimeiroNome, StringType())"
      ],
      "execution_count": 0,
      "outputs": []
    },
    {
      "cell_type": "code",
      "metadata": {
        "id": "fwYh_y3E8MoX",
        "colab_type": "code",
        "colab": {}
      },
      "source": [
        "def criaUltimoNome(col):\n",
        "  return col.split(' ') [-1]\n",
        "udf_criaUltimoNome = F.udf(criaUltimoNome, StringType())"
      ],
      "execution_count": 0,
      "outputs": []
    },
    {
      "cell_type": "markdown",
      "metadata": {
        "id": "khpTjMea8cXK",
        "colab_type": "text"
      },
      "source": [
        "## Criação das Colunas dos Primeiros e Ultimos Nomes"
      ]
    },
    {
      "cell_type": "code",
      "metadata": {
        "id": "gFBP3VG58blf",
        "colab_type": "code",
        "colab": {}
      },
      "source": [
        "dfl = dfl.withColumn('primeiro_nome_a', udf_criaPrimeiroNome(F.col('nome')))\n",
        "dfl = dfl.withColumn('primeiro_nome_b', udf_criaPrimeiroNome(F.col('nome_b')))\n",
        "dfl = dfl.withColumn('ultimo_nome_a', udf_criaUltimoNome(F.col('nome')))\n",
        "dfl = dfl.withColumn('ultimo_nome_b', udf_criaUltimoNome(F.col('nome_b')))"
      ],
      "execution_count": 0,
      "outputs": []
    },
    {
      "cell_type": "code",
      "metadata": {
        "id": "f73I6ruGJGhn",
        "colab_type": "code",
        "colab": {
          "base_uri": "https://localhost:8080/",
          "height": 578
        },
        "outputId": "038e9c6b-69c7-4555-8b4c-75643b46f133"
      },
      "source": [
        "dfl.printSchema()"
      ],
      "execution_count": 100,
      "outputs": [
        {
          "output_type": "stream",
          "text": [
            "root\n",
            " |-- id: string (nullable = true)\n",
            " |-- bairro: string (nullable = true)\n",
            " |-- cep: string (nullable = true)\n",
            " |-- cidade: string (nullable = true)\n",
            " |-- cpf: string (nullable = true)\n",
            " |-- data_nasc: string (nullable = true)\n",
            " |-- email: string (nullable = true)\n",
            " |-- endereco: string (nullable = true)\n",
            " |-- estado: string (nullable = true)\n",
            " |-- idade: string (nullable = true)\n",
            " |-- mae: string (nullable = true)\n",
            " |-- nome: string (nullable = true)\n",
            " |-- numero: string (nullable = true)\n",
            " |-- signo: string (nullable = true)\n",
            " |-- tipo_sanguineo: string (nullable = true)\n",
            " |-- _c15: string (nullable = true)\n",
            " |-- id_b: string (nullable = true)\n",
            " |-- cep_b: string (nullable = true)\n",
            " |-- cidade_b: string (nullable = true)\n",
            " |-- cpf_b: string (nullable = true)\n",
            " |-- data_nasc_b: string (nullable = true)\n",
            " |-- endereco_b: string (nullable = true)\n",
            " |-- estado_b: string (nullable = true)\n",
            " |-- mae_b: string (nullable = true)\n",
            " |-- nome_antigo: string (nullable = true)\n",
            " |-- tipo_sanguineo_b: string (nullable = true)\n",
            " |-- nome_b: string (nullable = true)\n",
            " |-- primeiro_nome_a: string (nullable = true)\n",
            " |-- primeiro_nome_b: string (nullable = true)\n",
            " |-- ultimo_nome_a: string (nullable = true)\n",
            " |-- ultimo_nome_b: string (nullable = true)\n",
            "\n"
          ],
          "name": "stdout"
        }
      ]
    },
    {
      "cell_type": "code",
      "metadata": {
        "id": "-x6UnsiyGlrm",
        "colab_type": "code",
        "outputId": "ffb6e912-71e7-4c27-964e-0ab463f6a7c7",
        "colab": {
          "base_uri": "https://localhost:8080/",
          "height": 479
        }
      },
      "source": [
        "dfl.show()"
      ],
      "execution_count": 101,
      "outputs": [
        {
          "output_type": "stream",
          "text": [
            "+---+-----------+---------+--------+--------------+----------+--------------------+--------------------+------+-----+---------------+--------------------+------+------+--------------+----+----+---------+-----------------+--------------+-----------+--------------------+--------+--------------------+--------------------+----------------+--------------------+---------------+---------------+-------------+-------------+\n",
            "| id|     bairro|      cep|  cidade|           cpf| data_nasc|               email|            endereco|estado|idade|            mae|                nome|numero| signo|tipo_sanguineo|_c15|id_b|    cep_b|         cidade_b|         cpf_b|data_nasc_b|          endereco_b|estado_b|               mae_b|         nome_antigo|tipo_sanguineo_b|              nome_b|primeiro_nome_a|primeiro_nome_b|ultimo_nome_a|ultimo_nome_b|\n",
            "+---+-----------+---------+--------+--------------+----------+--------------------+--------------------+------+-----+---------------+--------------------+------+------+--------------+----+----+---------+-----------------+--------------+-----------+--------------------+--------+--------------------+--------------------+----------------+--------------------+---------------+---------------+-------------+-------------+\n",
            "|  0|Vila Sarney|65090-677|Sao Luis|097.627.958-49|10/09/1948|vicenteolivermont...|2a Travessa do Ri...|    MA|   71|Louise Beatriz |Vicente Oliver Mo...|   738|Virgem|           AB-|null|  01|69304-350|        Boa Vista|506.865.202-46| 22/11/1965|Avenida Mario Hom...|      RR|Isabelle Marcia A...|Felipe Bruno dos ...|             AB-|Felipe Bruno dos ...|        Vicente|         Felipe|     Monteiro|       Santos|\n",
            "|  0|Vila Sarney|65090-677|Sao Luis|097.627.958-49|10/09/1948|vicenteolivermont...|2a Travessa do Ri...|    MA|   71|Louise Beatriz |Vicente Oliver Mo...|   738|Virgem|           AB-|null|  02|78132-360|    Varzea Grande|325.828.867-42|       null|      Rua Rio Cuiaba|      MT|       Alana Isadora|Marcio Heitor Sil...|             AB-|Marcio Heitor Sil...|        Vicente|         Marcio|     Monteiro|     Silveira|\n",
            "|  0|Vila Sarney|65090-677|Sao Luis|097.627.958-49|10/09/1948|vicenteolivermont...|2a Travessa do Ri...|    MA|   71|Louise Beatriz |Vicente Oliver Mo...|   738|Virgem|           AB-|null|  03|88810-336|         Criciuma|284.536.218-88| 23/09/1961|Rua Romeu Lopes d...|      SC|  Caroline Gabriela |Theo Mario Victor...|              A-|Theo Mario Victor...|        Vicente|           Theo|     Monteiro|      Barbosa|\n",
            "|  0|Vila Sarney|65090-677|Sao Luis|097.627.958-49|10/09/1948|vicenteolivermont...|2a Travessa do Ri...|    MA|   71|Louise Beatriz |Vicente Oliver Mo...|   738|Virgem|           AB-|null|  04|60874-405|        Fortaleza|390.375.925-20| 11/05/1981|                null|      CE|       Tereza Bruna |Pietro Henrique d...|             AB-|Pietro Henrique d...|        Vicente|         Pietro|     Monteiro|        Paula|\n",
            "|  0|Vila Sarney|65090-677|Sao Luis|097.627.958-49|10/09/1948|vicenteolivermont...|2a Travessa do Ri...|    MA|   71|Louise Beatriz |Vicente Oliver Mo...|   738|Virgem|           AB-|null|  05|79106-140|     Campo Grande|756.005.387-40| 14/12/1941|     Rua Pato Branco|      MS|      Alice Leticia |Kaique Thiago de ...|              A-|Kaique Thiago de ...|        Vicente|         Kaique|     Monteiro|        Paula|\n",
            "|  0|Vila Sarney|65090-677|Sao Luis|097.627.958-49|10/09/1948|vicenteolivermont...|2a Travessa do Ri...|    MA|   71|Louise Beatriz |Vicente Oliver Mo...|   738|Virgem|           AB-|null|  06|63030-450|Juazeiro do Norte|551.341.139-39| 16/02/1999| Avenida do Contorno|      CE|Elena Agatha Tere...|Gabriel Erick Oli...|              O+|Gabriel Erick Oli...|        Vicente|        Gabriel|     Monteiro|          Luz|\n",
            "|  0|Vila Sarney|65090-677|Sao Luis|097.627.958-49|10/09/1948|vicenteolivermont...|2a Travessa do Ri...|    MA|   71|Louise Beatriz |Vicente Oliver Mo...|   738|Virgem|           AB-|null|  07|84172-370|           Castro|756.048.583-90| 11/03/1982|Rua Major Candido...|    null|Vanessa Camila Ni...|Luan Caue Anthony...|            null|Luan Caue Anthony...|        Vicente|           Luan|     Monteiro|         Mota|\n",
            "|  0|Vila Sarney|65090-677|Sao Luis|097.627.958-49|10/09/1948|vicenteolivermont...|2a Travessa do Ri...|    MA|   71|Louise Beatriz |Vicente Oliver Mo...|   738|Virgem|           AB-|null|  08|69070-555|           Manaus|386.351.591-95| 13/01/1978|                null|      AM|Isabelle Maite Rosa |        Enzo D Rocha|            null|        Enzo D Rocha|        Vicente|           Enzo|     Monteiro|        Rocha|\n",
            "|  0|Vila Sarney|65090-677|Sao Luis|097.627.958-49|10/09/1948|vicenteolivermont...|2a Travessa do Ri...|    MA|   71|Louise Beatriz |Vicente Oliver Mo...|   738|Virgem|           AB-|null|  09|20950-430|   Rio de Janeiro|885.264.747-31| 27/01/2001|         Rua do Amor|      RJ|      Sophie Bianca |Cesar Matheus Cau...|            null|Cesar Matheus Cau...|        Vicente|          Cesar|     Monteiro|    Rodrigues|\n",
            "|  0|Vila Sarney|65090-677|Sao Luis|097.627.958-49|10/09/1948|vicenteolivermont...|2a Travessa do Ri...|    MA|   71|Louise Beatriz |Vicente Oliver Mo...|   738|Virgem|           AB-|null|  10|36071-020|     Juiz de Fora|489.611.821-96|       null|Rua Flavia Rios M...|      MG|Giovana Antonella...|   Caua Isaac Castro|            null|   Caua Isaac Castro|        Vicente|           Caua|     Monteiro|       Castro|\n",
            "|  0|Vila Sarney|65090-677|Sao Luis|097.627.958-49|10/09/1948|vicenteolivermont...|2a Travessa do Ri...|    MA|   71|Louise Beatriz |Vicente Oliver Mo...|   738|Virgem|           AB-|null|  11|75063-120|         Anapolis|281.229.310-14| 08/11/1947|Avenida dos Palmares|      GO|Mariana Mirella N...|Gabriel Caua Marc...|            null|Gabriel Caua Marc...|        Vicente|        Gabriel|     Monteiro|     Caldeira|\n",
            "|  0|Vila Sarney|65090-677|Sao Luis|097.627.958-49|10/09/1948|vicenteolivermont...|2a Travessa do Ri...|    MA|   71|Louise Beatriz |Vicente Oliver Mo...|   738|Virgem|           AB-|null|  12|78731-260|     Rondonopolis|492.264.809-74| 18/04/1969|      Rua Circular-2|      MT|     Rita Ayla Sara |Danilo Severino d...|              B+|Danilo Severino d...|        Vicente|         Danilo|     Monteiro|         Cruz|\n",
            "|  0|Vila Sarney|65090-677|Sao Luis|097.627.958-49|10/09/1948|vicenteolivermont...|2a Travessa do Ri...|    MA|   71|Louise Beatriz |Vicente Oliver Mo...|   738|Virgem|           AB-|null|  13|77818-355|             null|816.876.443-90| 27/03/1972|       Rua Aparecida|      TO|       Louise Joana |   Samuel Noah Lopes|              O-|   Samuel Noah Lopes|        Vicente|         Samuel|     Monteiro|        Lopes|\n",
            "|  0|Vila Sarney|65090-677|Sao Luis|097.627.958-49|10/09/1948|vicenteolivermont...|2a Travessa do Ri...|    MA|   71|Louise Beatriz |Vicente Oliver Mo...|   738|Virgem|           AB-|null|  14|05403-900|             null|327.630.596-86| 10/10/1984|Avenida Doutor En...|      SP|      Heloisa Luzia |Juan Raimundo Osv...|              B+|Juan Raimundo Osv...|        Vicente|           Juan|     Monteiro|      Cardoso|\n",
            "|  0|Vila Sarney|65090-677|Sao Luis|097.627.958-49|10/09/1948|vicenteolivermont...|2a Travessa do Ri...|    MA|   71|Louise Beatriz |Vicente Oliver Mo...|   738|Virgem|           AB-|null|  15|69036-075|             null|181.410.022-95| 05/01/1973|   Beco Sao Pedro II|      AM|Jessica Jaqueline...|Leandro Cesar Jor...|              O-|Leandro Cesar Jor...|        Vicente|        Leandro|     Monteiro|      Drumond|\n",
            "|  0|Vila Sarney|65090-677|Sao Luis|097.627.958-49|10/09/1948|vicenteolivermont...|2a Travessa do Ri...|    MA|   71|Louise Beatriz |Vicente Oliver Mo...|   738|Virgem|           AB-|null|  16|40720-479|             null|843.458.724-64| 12/09/1996|3a Travessa Osval...|      BA|Lara Sabrina Giov...|Caio Julio Kaue Lima|             AB+|Caio Julio Kaue Lima|        Vicente|           Caio|     Monteiro|         Lima|\n",
            "|  0|Vila Sarney|65090-677|Sao Luis|097.627.958-49|10/09/1948|vicenteolivermont...|2a Travessa do Ri...|    MA|   71|Louise Beatriz |Vicente Oliver Mo...|   738|Virgem|           AB-|null|  17|65075-047|             null|134.836.403-39| 21/06/1963|Rua Professora La...|      MA|Leticia Isabelly ...|Guilherme Rafael ...|              A-|Guilherme Rafael ...|        Vicente|      Guilherme|     Monteiro|     Monteiro|\n",
            "|  0|Vila Sarney|65090-677|Sao Luis|097.627.958-49|10/09/1948|vicenteolivermont...|2a Travessa do Ri...|    MA|   71|Louise Beatriz |Vicente Oliver Mo...|   738|Virgem|           AB-|null|  18|79041-061|             null|557.744.519-17| 09/02/1947|     Rua Jacarepagua|      MS|     Gabriela Sueli |Nicolas Edson Araujo|              O-|Nicolas Edson Araujo|        Vicente|        Nicolas|     Monteiro|       Araujo|\n",
            "|  0|Vila Sarney|65090-677|Sao Luis|097.627.958-49|10/09/1948|vicenteolivermont...|2a Travessa do Ri...|    MA|   71|Louise Beatriz |Vicente Oliver Mo...|   738|Virgem|           AB-|null|  19|72236-503|             null|254.321.926-91| 25/05/1988|Quadra EQNP 30/34...|      DF|  Rita Rafaela Lara |Cesar Nelson Dani...|             AB+|Cesar Nelson Dani...|        Vicente|          Cesar|     Monteiro|       Britto|\n",
            "|  0|Vila Sarney|65090-677|Sao Luis|097.627.958-49|10/09/1948|vicenteolivermont...|2a Travessa do Ri...|    MA|   71|Louise Beatriz |Vicente Oliver Mo...|   738|Virgem|           AB-|null|  20|72233-008|         Brasilia|806.443.633-80| 16/02/1941|Quadra QNP 20 Con...|      DF|   Nicole Aparecida |Rodrigo Erick Rob...|              B+|Rodrigo Erick Rob...|        Vicente|        Rodrigo|     Monteiro|      Freitas|\n",
            "+---+-----------+---------+--------+--------------+----------+--------------------+--------------------+------+-----+---------------+--------------------+------+------+--------------+----+----+---------+-----------------+--------------+-----------+--------------------+--------+--------------------+--------------------+----------------+--------------------+---------------+---------------+-------------+-------------+\n",
            "only showing top 20 rows\n",
            "\n"
          ],
          "name": "stdout"
        }
      ]
    },
    {
      "cell_type": "markdown",
      "metadata": {
        "id": "TVh8I5YH3ip6",
        "colab_type": "text"
      },
      "source": [
        "## Criação das colunas com nomes fonéticos"
      ]
    },
    {
      "cell_type": "code",
      "metadata": {
        "id": "pKtpWfd_1YtA",
        "colab_type": "code",
        "colab": {}
      },
      "source": [
        "def criaMetaphone(col):\n",
        "  return jellyfish.metaphone(col)\n",
        "udf_criaMetaphone = F.udf(criaMetaphone, StringType())"
      ],
      "execution_count": 0,
      "outputs": []
    },
    {
      "cell_type": "code",
      "metadata": {
        "id": "fGqFTZym-OZC",
        "colab_type": "code",
        "colab": {}
      },
      "source": [
        "dfl = dfl.withColumn('primeiro_nome_fonetico_a', udf_criaMetaphone(F.col('primeiro_nome_a')))\n",
        "dfl = dfl.withColumn('primeiro_nome_fonetico_b', udf_criaMetaphone(F.col('primeiro_nome_b')))\n",
        "dfl = dfl.withColumn('ultimo_nome_fonetico_a', udf_criaMetaphone(F.col('ultimo_nome_a')))\n",
        "dfl = dfl.withColumn('ultimo_nome_fonetico_b', udf_criaMetaphone(F.col('ultimo_nome_b')))"
      ],
      "execution_count": 0,
      "outputs": []
    },
    {
      "cell_type": "code",
      "metadata": {
        "id": "AI9n2znr2BQT",
        "colab_type": "code",
        "colab": {}
      },
      "source": [
        "dfl = dfl.withColumn('nome_fonetico_a', udf_criaMetaphone(F.col('nome')))\n",
        "dfl = dfl.withColumn('nome_fonetico_b', udf_criaMetaphone(F.col('nome_b')))\n",
        "dfl = dfl.withColumn('nome_fonetico_mae_a', udf_criaMetaphone(F.col('mae')))\n",
        "dfl = dfl.withColumn('nome_fonetico_mae_b', udf_criaMetaphone(F.col('mae_b')))"
      ],
      "execution_count": 0,
      "outputs": []
    },
    {
      "cell_type": "code",
      "metadata": {
        "id": "yYDMSeFo2urt",
        "colab_type": "code",
        "outputId": "3b8702d4-4dd5-47a8-a2f4-960bf34ab822",
        "colab": {
          "base_uri": "https://localhost:8080/",
          "height": 479
        }
      },
      "source": [
        "dfl.show()"
      ],
      "execution_count": 57,
      "outputs": [
        {
          "output_type": "stream",
          "text": [
            "+---+-----------+---------+--------+--------------+----------+--------------------+--------------------+------+-----+---------------+--------------------+------+------+--------------+----+---+---------+-----------------+--------------+----------+--------------------+------+--------------------+--------------------+--------------+--------------------+\n",
            "| id|     bairro|      cep|  cidade|           cpf| data_nasc|               email|            endereco|estado|idade|            mae|                nome|numero| signo|tipo_sanguineo|_c15| id|      cep|           cidade|           cpf| data_nasc|            endereco|estado|                 mae|         nome_antigo|tipo_sanguineo|                nome|\n",
            "+---+-----------+---------+--------+--------------+----------+--------------------+--------------------+------+-----+---------------+--------------------+------+------+--------------+----+---+---------+-----------------+--------------+----------+--------------------+------+--------------------+--------------------+--------------+--------------------+\n",
            "|  0|Vila Sarney|65090-677|Sao Luis|097.627.958-49|10/09/1948|vicenteolivermont...|2a Travessa do Ri...|    MA|   71|Louise Beatriz |Vicente Oliver Mo...|   738|Virgem|           AB-|null| 01|69304-350|        Boa Vista|506.865.202-46|22/11/1965|Avenida Mario Hom...|    RR|Isabelle Marcia A...|Felipe Bruno dos ...|           AB-|Felipe Bruno dos ...|\n",
            "|  0|Vila Sarney|65090-677|Sao Luis|097.627.958-49|10/09/1948|vicenteolivermont...|2a Travessa do Ri...|    MA|   71|Louise Beatriz |Vicente Oliver Mo...|   738|Virgem|           AB-|null| 02|78132-360|    Varzea Grande|325.828.867-42|      null|      Rua Rio Cuiaba|    MT|       Alana Isadora|Marcio Heitor Sil...|           AB-|Marcio Heitor Sil...|\n",
            "|  0|Vila Sarney|65090-677|Sao Luis|097.627.958-49|10/09/1948|vicenteolivermont...|2a Travessa do Ri...|    MA|   71|Louise Beatriz |Vicente Oliver Mo...|   738|Virgem|           AB-|null| 03|88810-336|         Criciuma|284.536.218-88|23/09/1961|Rua Romeu Lopes d...|    SC|  Caroline Gabriela |Theo Mario Victor...|            A-|Theo Mario Victor...|\n",
            "|  0|Vila Sarney|65090-677|Sao Luis|097.627.958-49|10/09/1948|vicenteolivermont...|2a Travessa do Ri...|    MA|   71|Louise Beatriz |Vicente Oliver Mo...|   738|Virgem|           AB-|null| 04|60874-405|        Fortaleza|390.375.925-20|11/05/1981|                null|    CE|       Tereza Bruna |Pietro Henrique d...|           AB-|Pietro Henrique d...|\n",
            "|  0|Vila Sarney|65090-677|Sao Luis|097.627.958-49|10/09/1948|vicenteolivermont...|2a Travessa do Ri...|    MA|   71|Louise Beatriz |Vicente Oliver Mo...|   738|Virgem|           AB-|null| 05|79106-140|     Campo Grande|756.005.387-40|14/12/1941|     Rua Pato Branco|    MS|      Alice Leticia |Kaique Thiago de ...|            A-|Kaique Thiago de ...|\n",
            "|  0|Vila Sarney|65090-677|Sao Luis|097.627.958-49|10/09/1948|vicenteolivermont...|2a Travessa do Ri...|    MA|   71|Louise Beatriz |Vicente Oliver Mo...|   738|Virgem|           AB-|null| 06|63030-450|Juazeiro do Norte|551.341.139-39|16/02/1999| Avenida do Contorno|    CE|Elena Agatha Tere...|Gabriel Erick Oli...|            O+|Gabriel Erick Oli...|\n",
            "|  0|Vila Sarney|65090-677|Sao Luis|097.627.958-49|10/09/1948|vicenteolivermont...|2a Travessa do Ri...|    MA|   71|Louise Beatriz |Vicente Oliver Mo...|   738|Virgem|           AB-|null| 07|84172-370|           Castro|756.048.583-90|11/03/1982|Rua Major Candido...|  null|Vanessa Camila Ni...|Luan Caue Anthony...|          null|Luan Caue Anthony...|\n",
            "|  0|Vila Sarney|65090-677|Sao Luis|097.627.958-49|10/09/1948|vicenteolivermont...|2a Travessa do Ri...|    MA|   71|Louise Beatriz |Vicente Oliver Mo...|   738|Virgem|           AB-|null| 08|69070-555|           Manaus|386.351.591-95|13/01/1978|                null|    AM|Isabelle Maite Rosa |        Enzo D Rocha|          null|        Enzo D Rocha|\n",
            "|  0|Vila Sarney|65090-677|Sao Luis|097.627.958-49|10/09/1948|vicenteolivermont...|2a Travessa do Ri...|    MA|   71|Louise Beatriz |Vicente Oliver Mo...|   738|Virgem|           AB-|null| 09|20950-430|   Rio de Janeiro|885.264.747-31|27/01/2001|         Rua do Amor|    RJ|      Sophie Bianca |Cesar Matheus Cau...|          null|Cesar Matheus Cau...|\n",
            "|  0|Vila Sarney|65090-677|Sao Luis|097.627.958-49|10/09/1948|vicenteolivermont...|2a Travessa do Ri...|    MA|   71|Louise Beatriz |Vicente Oliver Mo...|   738|Virgem|           AB-|null| 10|36071-020|     Juiz de Fora|489.611.821-96|      null|Rua Flavia Rios M...|    MG|Giovana Antonella...|   Caua Isaac Castro|          null|   Caua Isaac Castro|\n",
            "|  0|Vila Sarney|65090-677|Sao Luis|097.627.958-49|10/09/1948|vicenteolivermont...|2a Travessa do Ri...|    MA|   71|Louise Beatriz |Vicente Oliver Mo...|   738|Virgem|           AB-|null| 11|75063-120|         Anapolis|281.229.310-14|08/11/1947|Avenida dos Palmares|    GO|Mariana Mirella N...|Gabriel Caua Marc...|          null|Gabriel Caua Marc...|\n",
            "|  0|Vila Sarney|65090-677|Sao Luis|097.627.958-49|10/09/1948|vicenteolivermont...|2a Travessa do Ri...|    MA|   71|Louise Beatriz |Vicente Oliver Mo...|   738|Virgem|           AB-|null| 12|78731-260|     Rondonopolis|492.264.809-74|18/04/1969|      Rua Circular-2|    MT|     Rita Ayla Sara |Danilo Severino d...|            B+|Danilo Severino d...|\n",
            "|  0|Vila Sarney|65090-677|Sao Luis|097.627.958-49|10/09/1948|vicenteolivermont...|2a Travessa do Ri...|    MA|   71|Louise Beatriz |Vicente Oliver Mo...|   738|Virgem|           AB-|null| 13|77818-355|             null|816.876.443-90|27/03/1972|       Rua Aparecida|    TO|       Louise Joana |   Samuel Noah Lopes|            O-|   Samuel Noah Lopes|\n",
            "|  0|Vila Sarney|65090-677|Sao Luis|097.627.958-49|10/09/1948|vicenteolivermont...|2a Travessa do Ri...|    MA|   71|Louise Beatriz |Vicente Oliver Mo...|   738|Virgem|           AB-|null| 14|05403-900|             null|327.630.596-86|10/10/1984|Avenida Doutor En...|    SP|      Heloisa Luzia |Juan Raimundo Osv...|            B+|Juan Raimundo Osv...|\n",
            "|  0|Vila Sarney|65090-677|Sao Luis|097.627.958-49|10/09/1948|vicenteolivermont...|2a Travessa do Ri...|    MA|   71|Louise Beatriz |Vicente Oliver Mo...|   738|Virgem|           AB-|null| 15|69036-075|             null|181.410.022-95|05/01/1973|   Beco Sao Pedro II|    AM|Jessica Jaqueline...|Leandro Cesar Jor...|            O-|Leandro Cesar Jor...|\n",
            "|  0|Vila Sarney|65090-677|Sao Luis|097.627.958-49|10/09/1948|vicenteolivermont...|2a Travessa do Ri...|    MA|   71|Louise Beatriz |Vicente Oliver Mo...|   738|Virgem|           AB-|null| 16|40720-479|             null|843.458.724-64|12/09/1996|3a Travessa Osval...|    BA|Lara Sabrina Giov...|Caio Julio Kaue Lima|           AB+|Caio Julio Kaue Lima|\n",
            "|  0|Vila Sarney|65090-677|Sao Luis|097.627.958-49|10/09/1948|vicenteolivermont...|2a Travessa do Ri...|    MA|   71|Louise Beatriz |Vicente Oliver Mo...|   738|Virgem|           AB-|null| 17|65075-047|             null|134.836.403-39|21/06/1963|Rua Professora La...|    MA|Leticia Isabelly ...|Guilherme Rafael ...|            A-|Guilherme Rafael ...|\n",
            "|  0|Vila Sarney|65090-677|Sao Luis|097.627.958-49|10/09/1948|vicenteolivermont...|2a Travessa do Ri...|    MA|   71|Louise Beatriz |Vicente Oliver Mo...|   738|Virgem|           AB-|null| 18|79041-061|             null|557.744.519-17|09/02/1947|     Rua Jacarepagua|    MS|     Gabriela Sueli |Nicolas Edson Araujo|            O-|Nicolas Edson Araujo|\n",
            "|  0|Vila Sarney|65090-677|Sao Luis|097.627.958-49|10/09/1948|vicenteolivermont...|2a Travessa do Ri...|    MA|   71|Louise Beatriz |Vicente Oliver Mo...|   738|Virgem|           AB-|null| 19|72236-503|             null|254.321.926-91|25/05/1988|Quadra EQNP 30/34...|    DF|  Rita Rafaela Lara |Cesar Nelson Dani...|           AB+|Cesar Nelson Dani...|\n",
            "|  0|Vila Sarney|65090-677|Sao Luis|097.627.958-49|10/09/1948|vicenteolivermont...|2a Travessa do Ri...|    MA|   71|Louise Beatriz |Vicente Oliver Mo...|   738|Virgem|           AB-|null| 20|72233-008|         Brasilia|806.443.633-80|16/02/1941|Quadra QNP 20 Con...|    DF|   Nicole Aparecida |Rodrigo Erick Rob...|            B+|Rodrigo Erick Rob...|\n",
            "+---+-----------+---------+--------+--------------+----------+--------------------+--------------------+------+-----+---------------+--------------------+------+------+--------------+----+---+---------+-----------------+--------------+----------+--------------------+------+--------------------+--------------------+--------------+--------------------+\n",
            "only showing top 20 rows\n",
            "\n"
          ],
          "name": "stdout"
        }
      ]
    },
    {
      "cell_type": "code",
      "metadata": {
        "id": "lYiuN4Vy23C5",
        "colab_type": "code",
        "outputId": "a282c922-b040-477d-ec29-686e675222a5",
        "colab": {
          "base_uri": "https://localhost:8080/",
          "height": 714
        }
      },
      "source": [
        "dfl.printSchema()"
      ],
      "execution_count": 105,
      "outputs": [
        {
          "output_type": "stream",
          "text": [
            "root\n",
            " |-- id: string (nullable = true)\n",
            " |-- bairro: string (nullable = true)\n",
            " |-- cep: string (nullable = true)\n",
            " |-- cidade: string (nullable = true)\n",
            " |-- cpf: string (nullable = true)\n",
            " |-- data_nasc: string (nullable = true)\n",
            " |-- email: string (nullable = true)\n",
            " |-- endereco: string (nullable = true)\n",
            " |-- estado: string (nullable = true)\n",
            " |-- idade: string (nullable = true)\n",
            " |-- mae: string (nullable = true)\n",
            " |-- nome: string (nullable = true)\n",
            " |-- numero: string (nullable = true)\n",
            " |-- signo: string (nullable = true)\n",
            " |-- tipo_sanguineo: string (nullable = true)\n",
            " |-- _c15: string (nullable = true)\n",
            " |-- id_b: string (nullable = true)\n",
            " |-- cep_b: string (nullable = true)\n",
            " |-- cidade_b: string (nullable = true)\n",
            " |-- cpf_b: string (nullable = true)\n",
            " |-- data_nasc_b: string (nullable = true)\n",
            " |-- endereco_b: string (nullable = true)\n",
            " |-- estado_b: string (nullable = true)\n",
            " |-- mae_b: string (nullable = true)\n",
            " |-- nome_antigo: string (nullable = true)\n",
            " |-- tipo_sanguineo_b: string (nullable = true)\n",
            " |-- nome_b: string (nullable = true)\n",
            " |-- primeiro_nome_a: string (nullable = true)\n",
            " |-- primeiro_nome_b: string (nullable = true)\n",
            " |-- ultimo_nome_a: string (nullable = true)\n",
            " |-- ultimo_nome_b: string (nullable = true)\n",
            " |-- primeiro_nome_fonetico_a: string (nullable = true)\n",
            " |-- primeiro_nome_fonetico_b: string (nullable = true)\n",
            " |-- ultimo_nome_fonetico_a: string (nullable = true)\n",
            " |-- ultimo_nome_fonetico_b: string (nullable = true)\n",
            " |-- nome_fonetico_a: string (nullable = true)\n",
            " |-- nome_fonetico_b: string (nullable = true)\n",
            " |-- nome_fonetico_mae_a: string (nullable = true)\n",
            " |-- nome_fonetico_mae_b: string (nullable = true)\n",
            "\n"
          ],
          "name": "stdout"
        }
      ]
    },
    {
      "cell_type": "markdown",
      "metadata": {
        "id": "xI9idf0j3rvs",
        "colab_type": "text"
      },
      "source": [
        "## Criação da Função de Similaridade"
      ]
    },
    {
      "cell_type": "code",
      "metadata": {
        "id": "4eOQ9ToC23q3",
        "colab_type": "code",
        "colab": {}
      },
      "source": [
        "def compare(primeiro_nome_fonetico_a, ultimo_nome_fonetico_a, nome_fonetico_mae_a, primeiro_nome_fonetico_b, ultimo_nome_fonetico_b, nome_fonetico_mae_b):\n",
        "  sim = 0\n",
        "  \n",
        "  # import unicodedata\n",
        "  \n",
        "  #comparando atributos nominais (Phyton 3)\n",
        "  #sim = jellyfish.jaro_winkler(primeiro_nome_fonetico_a.encode('utf-8'), primeiro_nome_fonetico_b.encode('utf-8'))\n",
        "  #sim += jellyfish.jaro_winkler(ultimo_nome_fonetico_a.encode('utf-8'), ultimo_nome_fonetico_b.encode('utf-8'))\n",
        "  #sim += jellyfish.jaro_winkler(nome_fonetico_mae_a.encode('utf-8'), nome_fonetico_mae_b.encode('utf-8'))\n",
        "  \n",
        "  #comparando atributos nominais (Phyton 2)\n",
        "  sim = jellyfish.jaro_winkler(primeiro_nome_fonetico_a.encode('utf-8'), primeiro_nome_fonetico_b.encode('utf-8'))\n",
        "  sim += jellyfish.jaro_winkler(unicode(ultimo_nome_fonetico_a), unicode(ultimo_nome_fonetico_b))\n",
        "  sim += jellyfish.jaro_winkler(unicode(nome_fonetico_mae_a), unicode(nome_fonetico_mae_b))\n",
        "  \n",
        "  #Media aritmética simples\n",
        "  sim = str(abs(float(sim/3)))\n",
        "  \n",
        "  return sim\n",
        "\n",
        "udf_compare = F.udf(compare, StringType())                           "
      ],
      "execution_count": 0,
      "outputs": []
    },
    {
      "cell_type": "markdown",
      "metadata": {
        "id": "NTNYJz_sCUQj",
        "colab_type": "text"
      },
      "source": [
        "## Rodando Comparação\n"
      ]
    },
    {
      "cell_type": "code",
      "metadata": {
        "id": "2ohXVDksCZgM",
        "colab_type": "code",
        "colab": {}
      },
      "source": [
        "dfr = dfl.withColumn('similaridade', \n",
        "                     udf_compare(F.col('primeiro_nome_fonetico_a'), \n",
        "                                 F.col('ultimo_nome_fonetico_a'), \n",
        "                                 F.col('nome_fonetico_mae_a'), \n",
        "                                 F.col('primeiro_nome_fonetico_b'),\n",
        "                                 F.col('ultimo_nome_fonetico_b'),\n",
        "                                 F.col('nome_fonetico_mae_b')))"
      ],
      "execution_count": 0,
      "outputs": []
    },
    {
      "cell_type": "code",
      "metadata": {
        "id": "cEK387nvFGf6",
        "colab_type": "code",
        "outputId": "38e2fb21-6e64-451b-b05b-a0d98c319687",
        "colab": {
          "base_uri": "https://localhost:8080/",
          "height": 2553
        }
      },
      "source": [
        "dfr.show()"
      ],
      "execution_count": 108,
      "outputs": [
        {
          "output_type": "error",
          "ename": "Py4JJavaError",
          "evalue": "ignored",
          "traceback": [
            "\u001b[0;31m\u001b[0m",
            "\u001b[0;31mPy4JJavaError\u001b[0mTraceback (most recent call last)",
            "\u001b[0;32m<ipython-input-108-dfdd9d6c0b8e>\u001b[0m in \u001b[0;36m<module>\u001b[0;34m()\u001b[0m\n\u001b[0;32m----> 1\u001b[0;31m \u001b[0mdfr\u001b[0m\u001b[0;34m.\u001b[0m\u001b[0mshow\u001b[0m\u001b[0;34m(\u001b[0m\u001b[0;34m)\u001b[0m\u001b[0;34m\u001b[0m\u001b[0m\n\u001b[0m",
            "\u001b[0;32m/content/spark-2.4.2-bin-hadoop2.7/python/pyspark/sql/dataframe.py\u001b[0m in \u001b[0;36mshow\u001b[0;34m(self, n, truncate, vertical)\u001b[0m\n\u001b[1;32m    376\u001b[0m         \"\"\"\n\u001b[1;32m    377\u001b[0m         \u001b[0;32mif\u001b[0m \u001b[0misinstance\u001b[0m\u001b[0;34m(\u001b[0m\u001b[0mtruncate\u001b[0m\u001b[0;34m,\u001b[0m \u001b[0mbool\u001b[0m\u001b[0;34m)\u001b[0m \u001b[0;32mand\u001b[0m \u001b[0mtruncate\u001b[0m\u001b[0;34m:\u001b[0m\u001b[0;34m\u001b[0m\u001b[0m\n\u001b[0;32m--> 378\u001b[0;31m             \u001b[0;32mprint\u001b[0m\u001b[0;34m(\u001b[0m\u001b[0mself\u001b[0m\u001b[0;34m.\u001b[0m\u001b[0m_jdf\u001b[0m\u001b[0;34m.\u001b[0m\u001b[0mshowString\u001b[0m\u001b[0;34m(\u001b[0m\u001b[0mn\u001b[0m\u001b[0;34m,\u001b[0m \u001b[0;36m20\u001b[0m\u001b[0;34m,\u001b[0m \u001b[0mvertical\u001b[0m\u001b[0;34m)\u001b[0m\u001b[0;34m)\u001b[0m\u001b[0;34m\u001b[0m\u001b[0m\n\u001b[0m\u001b[1;32m    379\u001b[0m         \u001b[0;32melse\u001b[0m\u001b[0;34m:\u001b[0m\u001b[0;34m\u001b[0m\u001b[0m\n\u001b[1;32m    380\u001b[0m             \u001b[0;32mprint\u001b[0m\u001b[0;34m(\u001b[0m\u001b[0mself\u001b[0m\u001b[0;34m.\u001b[0m\u001b[0m_jdf\u001b[0m\u001b[0;34m.\u001b[0m\u001b[0mshowString\u001b[0m\u001b[0;34m(\u001b[0m\u001b[0mn\u001b[0m\u001b[0;34m,\u001b[0m \u001b[0mint\u001b[0m\u001b[0;34m(\u001b[0m\u001b[0mtruncate\u001b[0m\u001b[0;34m)\u001b[0m\u001b[0;34m,\u001b[0m \u001b[0mvertical\u001b[0m\u001b[0;34m)\u001b[0m\u001b[0;34m)\u001b[0m\u001b[0;34m\u001b[0m\u001b[0m\n",
            "\u001b[0;32m/content/spark-2.4.2-bin-hadoop2.7/python/lib/py4j-0.10.7-src.zip/py4j/java_gateway.py\u001b[0m in \u001b[0;36m__call__\u001b[0;34m(self, *args)\u001b[0m\n\u001b[1;32m   1255\u001b[0m         \u001b[0manswer\u001b[0m \u001b[0;34m=\u001b[0m \u001b[0mself\u001b[0m\u001b[0;34m.\u001b[0m\u001b[0mgateway_client\u001b[0m\u001b[0;34m.\u001b[0m\u001b[0msend_command\u001b[0m\u001b[0;34m(\u001b[0m\u001b[0mcommand\u001b[0m\u001b[0;34m)\u001b[0m\u001b[0;34m\u001b[0m\u001b[0m\n\u001b[1;32m   1256\u001b[0m         return_value = get_return_value(\n\u001b[0;32m-> 1257\u001b[0;31m             answer, self.gateway_client, self.target_id, self.name)\n\u001b[0m\u001b[1;32m   1258\u001b[0m \u001b[0;34m\u001b[0m\u001b[0m\n\u001b[1;32m   1259\u001b[0m         \u001b[0;32mfor\u001b[0m \u001b[0mtemp_arg\u001b[0m \u001b[0;32min\u001b[0m \u001b[0mtemp_args\u001b[0m\u001b[0;34m:\u001b[0m\u001b[0;34m\u001b[0m\u001b[0m\n",
            "\u001b[0;32m/content/spark-2.4.2-bin-hadoop2.7/python/pyspark/sql/utils.py\u001b[0m in \u001b[0;36mdeco\u001b[0;34m(*a, **kw)\u001b[0m\n\u001b[1;32m     61\u001b[0m     \u001b[0;32mdef\u001b[0m \u001b[0mdeco\u001b[0m\u001b[0;34m(\u001b[0m\u001b[0;34m*\u001b[0m\u001b[0ma\u001b[0m\u001b[0;34m,\u001b[0m \u001b[0;34m**\u001b[0m\u001b[0mkw\u001b[0m\u001b[0;34m)\u001b[0m\u001b[0;34m:\u001b[0m\u001b[0;34m\u001b[0m\u001b[0m\n\u001b[1;32m     62\u001b[0m         \u001b[0;32mtry\u001b[0m\u001b[0;34m:\u001b[0m\u001b[0;34m\u001b[0m\u001b[0m\n\u001b[0;32m---> 63\u001b[0;31m             \u001b[0;32mreturn\u001b[0m \u001b[0mf\u001b[0m\u001b[0;34m(\u001b[0m\u001b[0;34m*\u001b[0m\u001b[0ma\u001b[0m\u001b[0;34m,\u001b[0m \u001b[0;34m**\u001b[0m\u001b[0mkw\u001b[0m\u001b[0;34m)\u001b[0m\u001b[0;34m\u001b[0m\u001b[0m\n\u001b[0m\u001b[1;32m     64\u001b[0m         \u001b[0;32mexcept\u001b[0m \u001b[0mpy4j\u001b[0m\u001b[0;34m.\u001b[0m\u001b[0mprotocol\u001b[0m\u001b[0;34m.\u001b[0m\u001b[0mPy4JJavaError\u001b[0m \u001b[0;32mas\u001b[0m \u001b[0me\u001b[0m\u001b[0;34m:\u001b[0m\u001b[0;34m\u001b[0m\u001b[0m\n\u001b[1;32m     65\u001b[0m             \u001b[0ms\u001b[0m \u001b[0;34m=\u001b[0m \u001b[0me\u001b[0m\u001b[0;34m.\u001b[0m\u001b[0mjava_exception\u001b[0m\u001b[0;34m.\u001b[0m\u001b[0mtoString\u001b[0m\u001b[0;34m(\u001b[0m\u001b[0;34m)\u001b[0m\u001b[0;34m\u001b[0m\u001b[0m\n",
            "\u001b[0;32m/content/spark-2.4.2-bin-hadoop2.7/python/lib/py4j-0.10.7-src.zip/py4j/protocol.py\u001b[0m in \u001b[0;36mget_return_value\u001b[0;34m(answer, gateway_client, target_id, name)\u001b[0m\n\u001b[1;32m    326\u001b[0m                 raise Py4JJavaError(\n\u001b[1;32m    327\u001b[0m                     \u001b[0;34m\"An error occurred while calling {0}{1}{2}.\\n\"\u001b[0m\u001b[0;34m.\u001b[0m\u001b[0;34m\u001b[0m\u001b[0m\n\u001b[0;32m--> 328\u001b[0;31m                     format(target_id, \".\", name), value)\n\u001b[0m\u001b[1;32m    329\u001b[0m             \u001b[0;32melse\u001b[0m\u001b[0;34m:\u001b[0m\u001b[0;34m\u001b[0m\u001b[0m\n\u001b[1;32m    330\u001b[0m                 raise Py4JError(\n",
            "\u001b[0;31mPy4JJavaError\u001b[0m: An error occurred while calling o1265.showString.\n: org.apache.spark.SparkException: Job aborted due to stage failure: Task 0 in stage 71.0 failed 1 times, most recent failure: Lost task 0.0 in stage 71.0 (TID 71, localhost, executor driver): org.apache.spark.api.python.PythonException: Traceback (most recent call last):\n  File \"/content/spark-2.4.2-bin-hadoop2.7/python/lib/pyspark.zip/pyspark/worker.py\", line 377, in main\n    process()\n  File \"/content/spark-2.4.2-bin-hadoop2.7/python/lib/pyspark.zip/pyspark/worker.py\", line 372, in process\n    serializer.dump_stream(func(split_index, iterator), outfile)\n  File \"/content/spark-2.4.2-bin-hadoop2.7/python/lib/pyspark.zip/pyspark/worker.py\", line 248, in <lambda>\n    func = lambda _, it: map(mapper, it)\n  File \"<string>\", line 1, in <lambda>\n  File \"/content/spark-2.4.2-bin-hadoop2.7/python/lib/pyspark.zip/pyspark/worker.py\", line 85, in <lambda>\n    return lambda *a: f(*a)\n  File \"/content/spark-2.4.2-bin-hadoop2.7/python/lib/pyspark.zip/pyspark/util.py\", line 99, in wrapper\n    return f(*args, **kwargs)\n  File \"<ipython-input-106-7644aadfa60f>\", line 12, in compare\nTypeError: unicode argument expected\n\n\tat org.apache.spark.api.python.BasePythonRunner$ReaderIterator.handlePythonException(PythonRunner.scala:453)\n\tat org.apache.spark.sql.execution.python.PythonUDFRunner$$anon$2.read(PythonUDFRunner.scala:81)\n\tat org.apache.spark.sql.execution.python.PythonUDFRunner$$anon$2.read(PythonUDFRunner.scala:64)\n\tat org.apache.spark.api.python.BasePythonRunner$ReaderIterator.hasNext(PythonRunner.scala:406)\n\tat org.apache.spark.InterruptibleIterator.hasNext(InterruptibleIterator.scala:37)\n\tat scala.collection.Iterator$$anon$11.hasNext(Iterator.scala:489)\n\tat scala.collection.Iterator$$anon$10.hasNext(Iterator.scala:458)\n\tat scala.collection.Iterator$$anon$10.hasNext(Iterator.scala:458)\n\tat org.apache.spark.sql.catalyst.expressions.GeneratedClass$GeneratedIteratorForCodegenStage4.processNext(Unknown Source)\n\tat org.apache.spark.sql.execution.BufferedRowIterator.hasNext(BufferedRowIterator.java:43)\n\tat org.apache.spark.sql.execution.WholeStageCodegenExec$$anon$2.hasNext(WholeStageCodegenExec.scala:636)\n\tat org.apache.spark.sql.execution.SparkPlan.$anonfun$getByteArrayRdd$1(SparkPlan.scala:255)\n\tat org.apache.spark.rdd.RDD.$anonfun$mapPartitionsInternal$2(RDD.scala:836)\n\tat org.apache.spark.rdd.RDD.$anonfun$mapPartitionsInternal$2$adapted(RDD.scala:836)\n\tat org.apache.spark.rdd.MapPartitionsRDD.compute(MapPartitionsRDD.scala:52)\n\tat org.apache.spark.rdd.RDD.computeOrReadCheckpoint(RDD.scala:324)\n\tat org.apache.spark.rdd.RDD.iterator(RDD.scala:288)\n\tat org.apache.spark.rdd.MapPartitionsRDD.compute(MapPartitionsRDD.scala:52)\n\tat org.apache.spark.rdd.RDD.computeOrReadCheckpoint(RDD.scala:324)\n\tat org.apache.spark.rdd.RDD.iterator(RDD.scala:288)\n\tat org.apache.spark.scheduler.ResultTask.runTask(ResultTask.scala:90)\n\tat org.apache.spark.scheduler.Task.run(Task.scala:121)\n\tat org.apache.spark.executor.Executor$TaskRunner.$anonfun$run$3(Executor.scala:411)\n\tat org.apache.spark.util.Utils$.tryWithSafeFinally(Utils.scala:1360)\n\tat org.apache.spark.executor.Executor$TaskRunner.run(Executor.scala:414)\n\tat java.base/java.util.concurrent.ThreadPoolExecutor.runWorker(ThreadPoolExecutor.java:1128)\n\tat java.base/java.util.concurrent.ThreadPoolExecutor$Worker.run(ThreadPoolExecutor.java:628)\n\tat java.base/java.lang.Thread.run(Thread.java:834)\n\nDriver stacktrace:\n\tat org.apache.spark.scheduler.DAGScheduler.failJobAndIndependentStages(DAGScheduler.scala:1889)\n\tat org.apache.spark.scheduler.DAGScheduler.$anonfun$abortStage$2(DAGScheduler.scala:1877)\n\tat org.apache.spark.scheduler.DAGScheduler.$anonfun$abortStage$2$adapted(DAGScheduler.scala:1876)\n\tat scala.collection.mutable.ResizableArray.foreach(ResizableArray.scala:62)\n\tat scala.collection.mutable.ResizableArray.foreach$(ResizableArray.scala:55)\n\tat scala.collection.mutable.ArrayBuffer.foreach(ArrayBuffer.scala:49)\n\tat org.apache.spark.scheduler.DAGScheduler.abortStage(DAGScheduler.scala:1876)\n\tat org.apache.spark.scheduler.DAGScheduler.$anonfun$handleTaskSetFailed$1(DAGScheduler.scala:926)\n\tat org.apache.spark.scheduler.DAGScheduler.$anonfun$handleTaskSetFailed$1$adapted(DAGScheduler.scala:926)\n\tat scala.Option.foreach(Option.scala:274)\n\tat org.apache.spark.scheduler.DAGScheduler.handleTaskSetFailed(DAGScheduler.scala:926)\n\tat org.apache.spark.scheduler.DAGSchedulerEventProcessLoop.doOnReceive(DAGScheduler.scala:2110)\n\tat org.apache.spark.scheduler.DAGSchedulerEventProcessLoop.onReceive(DAGScheduler.scala:2059)\n\tat org.apache.spark.scheduler.DAGSchedulerEventProcessLoop.onReceive(DAGScheduler.scala:2048)\n\tat org.apache.spark.util.EventLoop$$anon$1.run(EventLoop.scala:49)\n\tat org.apache.spark.scheduler.DAGScheduler.runJob(DAGScheduler.scala:737)\n\tat org.apache.spark.SparkContext.runJob(SparkContext.scala:2061)\n\tat org.apache.spark.SparkContext.runJob(SparkContext.scala:2082)\n\tat org.apache.spark.SparkContext.runJob(SparkContext.scala:2101)\n\tat org.apache.spark.sql.execution.SparkPlan.executeTake(SparkPlan.scala:365)\n\tat org.apache.spark.sql.execution.CollectLimitExec.executeCollect(limit.scala:38)\n\tat org.apache.spark.sql.Dataset.collectFromPlan(Dataset.scala:3383)\n\tat org.apache.spark.sql.Dataset.$anonfun$head$1(Dataset.scala:2544)\n\tat org.apache.spark.sql.Dataset.$anonfun$withAction$2(Dataset.scala:3364)\n\tat org.apache.spark.sql.execution.SQLExecution$.$anonfun$withNewExecutionId$1(SQLExecution.scala:78)\n\tat org.apache.spark.sql.execution.SQLExecution$.withSQLConfPropagated(SQLExecution.scala:125)\n\tat org.apache.spark.sql.execution.SQLExecution$.withNewExecutionId(SQLExecution.scala:73)\n\tat org.apache.spark.sql.Dataset.withAction(Dataset.scala:3364)\n\tat org.apache.spark.sql.Dataset.head(Dataset.scala:2544)\n\tat org.apache.spark.sql.Dataset.take(Dataset.scala:2758)\n\tat org.apache.spark.sql.Dataset.getRows(Dataset.scala:254)\n\tat org.apache.spark.sql.Dataset.showString(Dataset.scala:291)\n\tat java.base/jdk.internal.reflect.NativeMethodAccessorImpl.invoke0(Native Method)\n\tat java.base/jdk.internal.reflect.NativeMethodAccessorImpl.invoke(NativeMethodAccessorImpl.java:62)\n\tat java.base/jdk.internal.reflect.DelegatingMethodAccessorImpl.invoke(DelegatingMethodAccessorImpl.java:43)\n\tat java.base/java.lang.reflect.Method.invoke(Method.java:566)\n\tat py4j.reflection.MethodInvoker.invoke(MethodInvoker.java:244)\n\tat py4j.reflection.ReflectionEngine.invoke(ReflectionEngine.java:357)\n\tat py4j.Gateway.invoke(Gateway.java:282)\n\tat py4j.commands.AbstractCommand.invokeMethod(AbstractCommand.java:132)\n\tat py4j.commands.CallCommand.execute(CallCommand.java:79)\n\tat py4j.GatewayConnection.run(GatewayConnection.java:238)\n\tat java.base/java.lang.Thread.run(Thread.java:834)\nCaused by: org.apache.spark.api.python.PythonException: Traceback (most recent call last):\n  File \"/content/spark-2.4.2-bin-hadoop2.7/python/lib/pyspark.zip/pyspark/worker.py\", line 377, in main\n    process()\n  File \"/content/spark-2.4.2-bin-hadoop2.7/python/lib/pyspark.zip/pyspark/worker.py\", line 372, in process\n    serializer.dump_stream(func(split_index, iterator), outfile)\n  File \"/content/spark-2.4.2-bin-hadoop2.7/python/lib/pyspark.zip/pyspark/worker.py\", line 248, in <lambda>\n    func = lambda _, it: map(mapper, it)\n  File \"<string>\", line 1, in <lambda>\n  File \"/content/spark-2.4.2-bin-hadoop2.7/python/lib/pyspark.zip/pyspark/worker.py\", line 85, in <lambda>\n    return lambda *a: f(*a)\n  File \"/content/spark-2.4.2-bin-hadoop2.7/python/lib/pyspark.zip/pyspark/util.py\", line 99, in wrapper\n    return f(*args, **kwargs)\n  File \"<ipython-input-106-7644aadfa60f>\", line 12, in compare\nTypeError: unicode argument expected\n\n\tat org.apache.spark.api.python.BasePythonRunner$ReaderIterator.handlePythonException(PythonRunner.scala:453)\n\tat org.apache.spark.sql.execution.python.PythonUDFRunner$$anon$2.read(PythonUDFRunner.scala:81)\n\tat org.apache.spark.sql.execution.python.PythonUDFRunner$$anon$2.read(PythonUDFRunner.scala:64)\n\tat org.apache.spark.api.python.BasePythonRunner$ReaderIterator.hasNext(PythonRunner.scala:406)\n\tat org.apache.spark.InterruptibleIterator.hasNext(InterruptibleIterator.scala:37)\n\tat scala.collection.Iterator$$anon$11.hasNext(Iterator.scala:489)\n\tat scala.collection.Iterator$$anon$10.hasNext(Iterator.scala:458)\n\tat scala.collection.Iterator$$anon$10.hasNext(Iterator.scala:458)\n\tat org.apache.spark.sql.catalyst.expressions.GeneratedClass$GeneratedIteratorForCodegenStage4.processNext(Unknown Source)\n\tat org.apache.spark.sql.execution.BufferedRowIterator.hasNext(BufferedRowIterator.java:43)\n\tat org.apache.spark.sql.execution.WholeStageCodegenExec$$anon$2.hasNext(WholeStageCodegenExec.scala:636)\n\tat org.apache.spark.sql.execution.SparkPlan.$anonfun$getByteArrayRdd$1(SparkPlan.scala:255)\n\tat org.apache.spark.rdd.RDD.$anonfun$mapPartitionsInternal$2(RDD.scala:836)\n\tat org.apache.spark.rdd.RDD.$anonfun$mapPartitionsInternal$2$adapted(RDD.scala:836)\n\tat org.apache.spark.rdd.MapPartitionsRDD.compute(MapPartitionsRDD.scala:52)\n\tat org.apache.spark.rdd.RDD.computeOrReadCheckpoint(RDD.scala:324)\n\tat org.apache.spark.rdd.RDD.iterator(RDD.scala:288)\n\tat org.apache.spark.rdd.MapPartitionsRDD.compute(MapPartitionsRDD.scala:52)\n\tat org.apache.spark.rdd.RDD.computeOrReadCheckpoint(RDD.scala:324)\n\tat org.apache.spark.rdd.RDD.iterator(RDD.scala:288)\n\tat org.apache.spark.scheduler.ResultTask.runTask(ResultTask.scala:90)\n\tat org.apache.spark.scheduler.Task.run(Task.scala:121)\n\tat org.apache.spark.executor.Executor$TaskRunner.$anonfun$run$3(Executor.scala:411)\n\tat org.apache.spark.util.Utils$.tryWithSafeFinally(Utils.scala:1360)\n\tat org.apache.spark.executor.Executor$TaskRunner.run(Executor.scala:414)\n\tat java.base/java.util.concurrent.ThreadPoolExecutor.runWorker(ThreadPoolExecutor.java:1128)\n\tat java.base/java.util.concurrent.ThreadPoolExecutor$Worker.run(ThreadPoolExecutor.java:628)\n\t... 1 more\n"
          ]
        }
      ]
    },
    {
      "cell_type": "code",
      "metadata": {
        "id": "UVCMI0KhEglU",
        "colab_type": "code",
        "outputId": "a433ac08-8b81-4e06-cc8d-fa70b707b330",
        "colab": {
          "base_uri": "https://localhost:8080/",
          "height": 2553
        }
      },
      "source": [
        "dfr.select(['nome','nome_b','cpf','cpf_b', 'similaridade']).show()"
      ],
      "execution_count": 109,
      "outputs": [
        {
          "output_type": "error",
          "ename": "Py4JJavaError",
          "evalue": "ignored",
          "traceback": [
            "\u001b[0;31m\u001b[0m",
            "\u001b[0;31mPy4JJavaError\u001b[0mTraceback (most recent call last)",
            "\u001b[0;32m<ipython-input-109-adfb80d2b0bd>\u001b[0m in \u001b[0;36m<module>\u001b[0;34m()\u001b[0m\n\u001b[0;32m----> 1\u001b[0;31m \u001b[0mdfr\u001b[0m\u001b[0;34m.\u001b[0m\u001b[0mselect\u001b[0m\u001b[0;34m(\u001b[0m\u001b[0;34m[\u001b[0m\u001b[0;34m'nome'\u001b[0m\u001b[0;34m,\u001b[0m\u001b[0;34m'nome_b'\u001b[0m\u001b[0;34m,\u001b[0m\u001b[0;34m'cpf'\u001b[0m\u001b[0;34m,\u001b[0m\u001b[0;34m'cpf_b'\u001b[0m\u001b[0;34m,\u001b[0m \u001b[0;34m'similaridade'\u001b[0m\u001b[0;34m]\u001b[0m\u001b[0;34m)\u001b[0m\u001b[0;34m.\u001b[0m\u001b[0mshow\u001b[0m\u001b[0;34m(\u001b[0m\u001b[0;34m)\u001b[0m\u001b[0;34m\u001b[0m\u001b[0m\n\u001b[0m",
            "\u001b[0;32m/content/spark-2.4.2-bin-hadoop2.7/python/pyspark/sql/dataframe.py\u001b[0m in \u001b[0;36mshow\u001b[0;34m(self, n, truncate, vertical)\u001b[0m\n\u001b[1;32m    376\u001b[0m         \"\"\"\n\u001b[1;32m    377\u001b[0m         \u001b[0;32mif\u001b[0m \u001b[0misinstance\u001b[0m\u001b[0;34m(\u001b[0m\u001b[0mtruncate\u001b[0m\u001b[0;34m,\u001b[0m \u001b[0mbool\u001b[0m\u001b[0;34m)\u001b[0m \u001b[0;32mand\u001b[0m \u001b[0mtruncate\u001b[0m\u001b[0;34m:\u001b[0m\u001b[0;34m\u001b[0m\u001b[0m\n\u001b[0;32m--> 378\u001b[0;31m             \u001b[0;32mprint\u001b[0m\u001b[0;34m(\u001b[0m\u001b[0mself\u001b[0m\u001b[0;34m.\u001b[0m\u001b[0m_jdf\u001b[0m\u001b[0;34m.\u001b[0m\u001b[0mshowString\u001b[0m\u001b[0;34m(\u001b[0m\u001b[0mn\u001b[0m\u001b[0;34m,\u001b[0m \u001b[0;36m20\u001b[0m\u001b[0;34m,\u001b[0m \u001b[0mvertical\u001b[0m\u001b[0;34m)\u001b[0m\u001b[0;34m)\u001b[0m\u001b[0;34m\u001b[0m\u001b[0m\n\u001b[0m\u001b[1;32m    379\u001b[0m         \u001b[0;32melse\u001b[0m\u001b[0;34m:\u001b[0m\u001b[0;34m\u001b[0m\u001b[0m\n\u001b[1;32m    380\u001b[0m             \u001b[0;32mprint\u001b[0m\u001b[0;34m(\u001b[0m\u001b[0mself\u001b[0m\u001b[0;34m.\u001b[0m\u001b[0m_jdf\u001b[0m\u001b[0;34m.\u001b[0m\u001b[0mshowString\u001b[0m\u001b[0;34m(\u001b[0m\u001b[0mn\u001b[0m\u001b[0;34m,\u001b[0m \u001b[0mint\u001b[0m\u001b[0;34m(\u001b[0m\u001b[0mtruncate\u001b[0m\u001b[0;34m)\u001b[0m\u001b[0;34m,\u001b[0m \u001b[0mvertical\u001b[0m\u001b[0;34m)\u001b[0m\u001b[0;34m)\u001b[0m\u001b[0;34m\u001b[0m\u001b[0m\n",
            "\u001b[0;32m/content/spark-2.4.2-bin-hadoop2.7/python/lib/py4j-0.10.7-src.zip/py4j/java_gateway.py\u001b[0m in \u001b[0;36m__call__\u001b[0;34m(self, *args)\u001b[0m\n\u001b[1;32m   1255\u001b[0m         \u001b[0manswer\u001b[0m \u001b[0;34m=\u001b[0m \u001b[0mself\u001b[0m\u001b[0;34m.\u001b[0m\u001b[0mgateway_client\u001b[0m\u001b[0;34m.\u001b[0m\u001b[0msend_command\u001b[0m\u001b[0;34m(\u001b[0m\u001b[0mcommand\u001b[0m\u001b[0;34m)\u001b[0m\u001b[0;34m\u001b[0m\u001b[0m\n\u001b[1;32m   1256\u001b[0m         return_value = get_return_value(\n\u001b[0;32m-> 1257\u001b[0;31m             answer, self.gateway_client, self.target_id, self.name)\n\u001b[0m\u001b[1;32m   1258\u001b[0m \u001b[0;34m\u001b[0m\u001b[0m\n\u001b[1;32m   1259\u001b[0m         \u001b[0;32mfor\u001b[0m \u001b[0mtemp_arg\u001b[0m \u001b[0;32min\u001b[0m \u001b[0mtemp_args\u001b[0m\u001b[0;34m:\u001b[0m\u001b[0;34m\u001b[0m\u001b[0m\n",
            "\u001b[0;32m/content/spark-2.4.2-bin-hadoop2.7/python/pyspark/sql/utils.py\u001b[0m in \u001b[0;36mdeco\u001b[0;34m(*a, **kw)\u001b[0m\n\u001b[1;32m     61\u001b[0m     \u001b[0;32mdef\u001b[0m \u001b[0mdeco\u001b[0m\u001b[0;34m(\u001b[0m\u001b[0;34m*\u001b[0m\u001b[0ma\u001b[0m\u001b[0;34m,\u001b[0m \u001b[0;34m**\u001b[0m\u001b[0mkw\u001b[0m\u001b[0;34m)\u001b[0m\u001b[0;34m:\u001b[0m\u001b[0;34m\u001b[0m\u001b[0m\n\u001b[1;32m     62\u001b[0m         \u001b[0;32mtry\u001b[0m\u001b[0;34m:\u001b[0m\u001b[0;34m\u001b[0m\u001b[0m\n\u001b[0;32m---> 63\u001b[0;31m             \u001b[0;32mreturn\u001b[0m \u001b[0mf\u001b[0m\u001b[0;34m(\u001b[0m\u001b[0;34m*\u001b[0m\u001b[0ma\u001b[0m\u001b[0;34m,\u001b[0m \u001b[0;34m**\u001b[0m\u001b[0mkw\u001b[0m\u001b[0;34m)\u001b[0m\u001b[0;34m\u001b[0m\u001b[0m\n\u001b[0m\u001b[1;32m     64\u001b[0m         \u001b[0;32mexcept\u001b[0m \u001b[0mpy4j\u001b[0m\u001b[0;34m.\u001b[0m\u001b[0mprotocol\u001b[0m\u001b[0;34m.\u001b[0m\u001b[0mPy4JJavaError\u001b[0m \u001b[0;32mas\u001b[0m \u001b[0me\u001b[0m\u001b[0;34m:\u001b[0m\u001b[0;34m\u001b[0m\u001b[0m\n\u001b[1;32m     65\u001b[0m             \u001b[0ms\u001b[0m \u001b[0;34m=\u001b[0m \u001b[0me\u001b[0m\u001b[0;34m.\u001b[0m\u001b[0mjava_exception\u001b[0m\u001b[0;34m.\u001b[0m\u001b[0mtoString\u001b[0m\u001b[0;34m(\u001b[0m\u001b[0;34m)\u001b[0m\u001b[0;34m\u001b[0m\u001b[0m\n",
            "\u001b[0;32m/content/spark-2.4.2-bin-hadoop2.7/python/lib/py4j-0.10.7-src.zip/py4j/protocol.py\u001b[0m in \u001b[0;36mget_return_value\u001b[0;34m(answer, gateway_client, target_id, name)\u001b[0m\n\u001b[1;32m    326\u001b[0m                 raise Py4JJavaError(\n\u001b[1;32m    327\u001b[0m                     \u001b[0;34m\"An error occurred while calling {0}{1}{2}.\\n\"\u001b[0m\u001b[0;34m.\u001b[0m\u001b[0;34m\u001b[0m\u001b[0m\n\u001b[0;32m--> 328\u001b[0;31m                     format(target_id, \".\", name), value)\n\u001b[0m\u001b[1;32m    329\u001b[0m             \u001b[0;32melse\u001b[0m\u001b[0;34m:\u001b[0m\u001b[0;34m\u001b[0m\u001b[0m\n\u001b[1;32m    330\u001b[0m                 raise Py4JError(\n",
            "\u001b[0;31mPy4JJavaError\u001b[0m: An error occurred while calling o1318.showString.\n: org.apache.spark.SparkException: Job aborted due to stage failure: Task 0 in stage 73.0 failed 1 times, most recent failure: Lost task 0.0 in stage 73.0 (TID 73, localhost, executor driver): org.apache.spark.api.python.PythonException: Traceback (most recent call last):\n  File \"/content/spark-2.4.2-bin-hadoop2.7/python/lib/pyspark.zip/pyspark/worker.py\", line 377, in main\n    process()\n  File \"/content/spark-2.4.2-bin-hadoop2.7/python/lib/pyspark.zip/pyspark/worker.py\", line 372, in process\n    serializer.dump_stream(func(split_index, iterator), outfile)\n  File \"/content/spark-2.4.2-bin-hadoop2.7/python/lib/pyspark.zip/pyspark/worker.py\", line 248, in <lambda>\n    func = lambda _, it: map(mapper, it)\n  File \"<string>\", line 1, in <lambda>\n  File \"/content/spark-2.4.2-bin-hadoop2.7/python/lib/pyspark.zip/pyspark/worker.py\", line 85, in <lambda>\n    return lambda *a: f(*a)\n  File \"/content/spark-2.4.2-bin-hadoop2.7/python/lib/pyspark.zip/pyspark/util.py\", line 99, in wrapper\n    return f(*args, **kwargs)\n  File \"<ipython-input-106-7644aadfa60f>\", line 12, in compare\nTypeError: unicode argument expected\n\n\tat org.apache.spark.api.python.BasePythonRunner$ReaderIterator.handlePythonException(PythonRunner.scala:453)\n\tat org.apache.spark.sql.execution.python.PythonUDFRunner$$anon$2.read(PythonUDFRunner.scala:81)\n\tat org.apache.spark.sql.execution.python.PythonUDFRunner$$anon$2.read(PythonUDFRunner.scala:64)\n\tat org.apache.spark.api.python.BasePythonRunner$ReaderIterator.hasNext(PythonRunner.scala:406)\n\tat org.apache.spark.InterruptibleIterator.hasNext(InterruptibleIterator.scala:37)\n\tat scala.collection.Iterator$$anon$11.hasNext(Iterator.scala:489)\n\tat scala.collection.Iterator$$anon$10.hasNext(Iterator.scala:458)\n\tat scala.collection.Iterator$$anon$10.hasNext(Iterator.scala:458)\n\tat org.apache.spark.sql.catalyst.expressions.GeneratedClass$GeneratedIteratorForCodegenStage4.processNext(Unknown Source)\n\tat org.apache.spark.sql.execution.BufferedRowIterator.hasNext(BufferedRowIterator.java:43)\n\tat org.apache.spark.sql.execution.WholeStageCodegenExec$$anon$2.hasNext(WholeStageCodegenExec.scala:636)\n\tat org.apache.spark.sql.execution.SparkPlan.$anonfun$getByteArrayRdd$1(SparkPlan.scala:255)\n\tat org.apache.spark.rdd.RDD.$anonfun$mapPartitionsInternal$2(RDD.scala:836)\n\tat org.apache.spark.rdd.RDD.$anonfun$mapPartitionsInternal$2$adapted(RDD.scala:836)\n\tat org.apache.spark.rdd.MapPartitionsRDD.compute(MapPartitionsRDD.scala:52)\n\tat org.apache.spark.rdd.RDD.computeOrReadCheckpoint(RDD.scala:324)\n\tat org.apache.spark.rdd.RDD.iterator(RDD.scala:288)\n\tat org.apache.spark.rdd.MapPartitionsRDD.compute(MapPartitionsRDD.scala:52)\n\tat org.apache.spark.rdd.RDD.computeOrReadCheckpoint(RDD.scala:324)\n\tat org.apache.spark.rdd.RDD.iterator(RDD.scala:288)\n\tat org.apache.spark.scheduler.ResultTask.runTask(ResultTask.scala:90)\n\tat org.apache.spark.scheduler.Task.run(Task.scala:121)\n\tat org.apache.spark.executor.Executor$TaskRunner.$anonfun$run$3(Executor.scala:411)\n\tat org.apache.spark.util.Utils$.tryWithSafeFinally(Utils.scala:1360)\n\tat org.apache.spark.executor.Executor$TaskRunner.run(Executor.scala:414)\n\tat java.base/java.util.concurrent.ThreadPoolExecutor.runWorker(ThreadPoolExecutor.java:1128)\n\tat java.base/java.util.concurrent.ThreadPoolExecutor$Worker.run(ThreadPoolExecutor.java:628)\n\tat java.base/java.lang.Thread.run(Thread.java:834)\n\nDriver stacktrace:\n\tat org.apache.spark.scheduler.DAGScheduler.failJobAndIndependentStages(DAGScheduler.scala:1889)\n\tat org.apache.spark.scheduler.DAGScheduler.$anonfun$abortStage$2(DAGScheduler.scala:1877)\n\tat org.apache.spark.scheduler.DAGScheduler.$anonfun$abortStage$2$adapted(DAGScheduler.scala:1876)\n\tat scala.collection.mutable.ResizableArray.foreach(ResizableArray.scala:62)\n\tat scala.collection.mutable.ResizableArray.foreach$(ResizableArray.scala:55)\n\tat scala.collection.mutable.ArrayBuffer.foreach(ArrayBuffer.scala:49)\n\tat org.apache.spark.scheduler.DAGScheduler.abortStage(DAGScheduler.scala:1876)\n\tat org.apache.spark.scheduler.DAGScheduler.$anonfun$handleTaskSetFailed$1(DAGScheduler.scala:926)\n\tat org.apache.spark.scheduler.DAGScheduler.$anonfun$handleTaskSetFailed$1$adapted(DAGScheduler.scala:926)\n\tat scala.Option.foreach(Option.scala:274)\n\tat org.apache.spark.scheduler.DAGScheduler.handleTaskSetFailed(DAGScheduler.scala:926)\n\tat org.apache.spark.scheduler.DAGSchedulerEventProcessLoop.doOnReceive(DAGScheduler.scala:2110)\n\tat org.apache.spark.scheduler.DAGSchedulerEventProcessLoop.onReceive(DAGScheduler.scala:2059)\n\tat org.apache.spark.scheduler.DAGSchedulerEventProcessLoop.onReceive(DAGScheduler.scala:2048)\n\tat org.apache.spark.util.EventLoop$$anon$1.run(EventLoop.scala:49)\n\tat org.apache.spark.scheduler.DAGScheduler.runJob(DAGScheduler.scala:737)\n\tat org.apache.spark.SparkContext.runJob(SparkContext.scala:2061)\n\tat org.apache.spark.SparkContext.runJob(SparkContext.scala:2082)\n\tat org.apache.spark.SparkContext.runJob(SparkContext.scala:2101)\n\tat org.apache.spark.sql.execution.SparkPlan.executeTake(SparkPlan.scala:365)\n\tat org.apache.spark.sql.execution.CollectLimitExec.executeCollect(limit.scala:38)\n\tat org.apache.spark.sql.Dataset.collectFromPlan(Dataset.scala:3383)\n\tat org.apache.spark.sql.Dataset.$anonfun$head$1(Dataset.scala:2544)\n\tat org.apache.spark.sql.Dataset.$anonfun$withAction$2(Dataset.scala:3364)\n\tat org.apache.spark.sql.execution.SQLExecution$.$anonfun$withNewExecutionId$1(SQLExecution.scala:78)\n\tat org.apache.spark.sql.execution.SQLExecution$.withSQLConfPropagated(SQLExecution.scala:125)\n\tat org.apache.spark.sql.execution.SQLExecution$.withNewExecutionId(SQLExecution.scala:73)\n\tat org.apache.spark.sql.Dataset.withAction(Dataset.scala:3364)\n\tat org.apache.spark.sql.Dataset.head(Dataset.scala:2544)\n\tat org.apache.spark.sql.Dataset.take(Dataset.scala:2758)\n\tat org.apache.spark.sql.Dataset.getRows(Dataset.scala:254)\n\tat org.apache.spark.sql.Dataset.showString(Dataset.scala:291)\n\tat java.base/jdk.internal.reflect.NativeMethodAccessorImpl.invoke0(Native Method)\n\tat java.base/jdk.internal.reflect.NativeMethodAccessorImpl.invoke(NativeMethodAccessorImpl.java:62)\n\tat java.base/jdk.internal.reflect.DelegatingMethodAccessorImpl.invoke(DelegatingMethodAccessorImpl.java:43)\n\tat java.base/java.lang.reflect.Method.invoke(Method.java:566)\n\tat py4j.reflection.MethodInvoker.invoke(MethodInvoker.java:244)\n\tat py4j.reflection.ReflectionEngine.invoke(ReflectionEngine.java:357)\n\tat py4j.Gateway.invoke(Gateway.java:282)\n\tat py4j.commands.AbstractCommand.invokeMethod(AbstractCommand.java:132)\n\tat py4j.commands.CallCommand.execute(CallCommand.java:79)\n\tat py4j.GatewayConnection.run(GatewayConnection.java:238)\n\tat java.base/java.lang.Thread.run(Thread.java:834)\nCaused by: org.apache.spark.api.python.PythonException: Traceback (most recent call last):\n  File \"/content/spark-2.4.2-bin-hadoop2.7/python/lib/pyspark.zip/pyspark/worker.py\", line 377, in main\n    process()\n  File \"/content/spark-2.4.2-bin-hadoop2.7/python/lib/pyspark.zip/pyspark/worker.py\", line 372, in process\n    serializer.dump_stream(func(split_index, iterator), outfile)\n  File \"/content/spark-2.4.2-bin-hadoop2.7/python/lib/pyspark.zip/pyspark/worker.py\", line 248, in <lambda>\n    func = lambda _, it: map(mapper, it)\n  File \"<string>\", line 1, in <lambda>\n  File \"/content/spark-2.4.2-bin-hadoop2.7/python/lib/pyspark.zip/pyspark/worker.py\", line 85, in <lambda>\n    return lambda *a: f(*a)\n  File \"/content/spark-2.4.2-bin-hadoop2.7/python/lib/pyspark.zip/pyspark/util.py\", line 99, in wrapper\n    return f(*args, **kwargs)\n  File \"<ipython-input-106-7644aadfa60f>\", line 12, in compare\nTypeError: unicode argument expected\n\n\tat org.apache.spark.api.python.BasePythonRunner$ReaderIterator.handlePythonException(PythonRunner.scala:453)\n\tat org.apache.spark.sql.execution.python.PythonUDFRunner$$anon$2.read(PythonUDFRunner.scala:81)\n\tat org.apache.spark.sql.execution.python.PythonUDFRunner$$anon$2.read(PythonUDFRunner.scala:64)\n\tat org.apache.spark.api.python.BasePythonRunner$ReaderIterator.hasNext(PythonRunner.scala:406)\n\tat org.apache.spark.InterruptibleIterator.hasNext(InterruptibleIterator.scala:37)\n\tat scala.collection.Iterator$$anon$11.hasNext(Iterator.scala:489)\n\tat scala.collection.Iterator$$anon$10.hasNext(Iterator.scala:458)\n\tat scala.collection.Iterator$$anon$10.hasNext(Iterator.scala:458)\n\tat org.apache.spark.sql.catalyst.expressions.GeneratedClass$GeneratedIteratorForCodegenStage4.processNext(Unknown Source)\n\tat org.apache.spark.sql.execution.BufferedRowIterator.hasNext(BufferedRowIterator.java:43)\n\tat org.apache.spark.sql.execution.WholeStageCodegenExec$$anon$2.hasNext(WholeStageCodegenExec.scala:636)\n\tat org.apache.spark.sql.execution.SparkPlan.$anonfun$getByteArrayRdd$1(SparkPlan.scala:255)\n\tat org.apache.spark.rdd.RDD.$anonfun$mapPartitionsInternal$2(RDD.scala:836)\n\tat org.apache.spark.rdd.RDD.$anonfun$mapPartitionsInternal$2$adapted(RDD.scala:836)\n\tat org.apache.spark.rdd.MapPartitionsRDD.compute(MapPartitionsRDD.scala:52)\n\tat org.apache.spark.rdd.RDD.computeOrReadCheckpoint(RDD.scala:324)\n\tat org.apache.spark.rdd.RDD.iterator(RDD.scala:288)\n\tat org.apache.spark.rdd.MapPartitionsRDD.compute(MapPartitionsRDD.scala:52)\n\tat org.apache.spark.rdd.RDD.computeOrReadCheckpoint(RDD.scala:324)\n\tat org.apache.spark.rdd.RDD.iterator(RDD.scala:288)\n\tat org.apache.spark.scheduler.ResultTask.runTask(ResultTask.scala:90)\n\tat org.apache.spark.scheduler.Task.run(Task.scala:121)\n\tat org.apache.spark.executor.Executor$TaskRunner.$anonfun$run$3(Executor.scala:411)\n\tat org.apache.spark.util.Utils$.tryWithSafeFinally(Utils.scala:1360)\n\tat org.apache.spark.executor.Executor$TaskRunner.run(Executor.scala:414)\n\tat java.base/java.util.concurrent.ThreadPoolExecutor.runWorker(ThreadPoolExecutor.java:1128)\n\tat java.base/java.util.concurrent.ThreadPoolExecutor$Worker.run(ThreadPoolExecutor.java:628)\n\t... 1 more\n"
          ]
        }
      ]
    },
    {
      "cell_type": "code",
      "metadata": {
        "id": "nj_pQUaBE4Ch",
        "colab_type": "code",
        "outputId": "a334c248-6bff-4f3a-ebaf-cd8003180c98",
        "colab": {
          "base_uri": "https://localhost:8080/",
          "height": 2553
        }
      },
      "source": [
        "dfr.show()"
      ],
      "execution_count": 110,
      "outputs": [
        {
          "output_type": "error",
          "ename": "Py4JJavaError",
          "evalue": "ignored",
          "traceback": [
            "\u001b[0;31m\u001b[0m",
            "\u001b[0;31mPy4JJavaError\u001b[0mTraceback (most recent call last)",
            "\u001b[0;32m<ipython-input-110-dfdd9d6c0b8e>\u001b[0m in \u001b[0;36m<module>\u001b[0;34m()\u001b[0m\n\u001b[0;32m----> 1\u001b[0;31m \u001b[0mdfr\u001b[0m\u001b[0;34m.\u001b[0m\u001b[0mshow\u001b[0m\u001b[0;34m(\u001b[0m\u001b[0;34m)\u001b[0m\u001b[0;34m\u001b[0m\u001b[0m\n\u001b[0m",
            "\u001b[0;32m/content/spark-2.4.2-bin-hadoop2.7/python/pyspark/sql/dataframe.py\u001b[0m in \u001b[0;36mshow\u001b[0;34m(self, n, truncate, vertical)\u001b[0m\n\u001b[1;32m    376\u001b[0m         \"\"\"\n\u001b[1;32m    377\u001b[0m         \u001b[0;32mif\u001b[0m \u001b[0misinstance\u001b[0m\u001b[0;34m(\u001b[0m\u001b[0mtruncate\u001b[0m\u001b[0;34m,\u001b[0m \u001b[0mbool\u001b[0m\u001b[0;34m)\u001b[0m \u001b[0;32mand\u001b[0m \u001b[0mtruncate\u001b[0m\u001b[0;34m:\u001b[0m\u001b[0;34m\u001b[0m\u001b[0m\n\u001b[0;32m--> 378\u001b[0;31m             \u001b[0;32mprint\u001b[0m\u001b[0;34m(\u001b[0m\u001b[0mself\u001b[0m\u001b[0;34m.\u001b[0m\u001b[0m_jdf\u001b[0m\u001b[0;34m.\u001b[0m\u001b[0mshowString\u001b[0m\u001b[0;34m(\u001b[0m\u001b[0mn\u001b[0m\u001b[0;34m,\u001b[0m \u001b[0;36m20\u001b[0m\u001b[0;34m,\u001b[0m \u001b[0mvertical\u001b[0m\u001b[0;34m)\u001b[0m\u001b[0;34m)\u001b[0m\u001b[0;34m\u001b[0m\u001b[0m\n\u001b[0m\u001b[1;32m    379\u001b[0m         \u001b[0;32melse\u001b[0m\u001b[0;34m:\u001b[0m\u001b[0;34m\u001b[0m\u001b[0m\n\u001b[1;32m    380\u001b[0m             \u001b[0;32mprint\u001b[0m\u001b[0;34m(\u001b[0m\u001b[0mself\u001b[0m\u001b[0;34m.\u001b[0m\u001b[0m_jdf\u001b[0m\u001b[0;34m.\u001b[0m\u001b[0mshowString\u001b[0m\u001b[0;34m(\u001b[0m\u001b[0mn\u001b[0m\u001b[0;34m,\u001b[0m \u001b[0mint\u001b[0m\u001b[0;34m(\u001b[0m\u001b[0mtruncate\u001b[0m\u001b[0;34m)\u001b[0m\u001b[0;34m,\u001b[0m \u001b[0mvertical\u001b[0m\u001b[0;34m)\u001b[0m\u001b[0;34m)\u001b[0m\u001b[0;34m\u001b[0m\u001b[0m\n",
            "\u001b[0;32m/content/spark-2.4.2-bin-hadoop2.7/python/lib/py4j-0.10.7-src.zip/py4j/java_gateway.py\u001b[0m in \u001b[0;36m__call__\u001b[0;34m(self, *args)\u001b[0m\n\u001b[1;32m   1255\u001b[0m         \u001b[0manswer\u001b[0m \u001b[0;34m=\u001b[0m \u001b[0mself\u001b[0m\u001b[0;34m.\u001b[0m\u001b[0mgateway_client\u001b[0m\u001b[0;34m.\u001b[0m\u001b[0msend_command\u001b[0m\u001b[0;34m(\u001b[0m\u001b[0mcommand\u001b[0m\u001b[0;34m)\u001b[0m\u001b[0;34m\u001b[0m\u001b[0m\n\u001b[1;32m   1256\u001b[0m         return_value = get_return_value(\n\u001b[0;32m-> 1257\u001b[0;31m             answer, self.gateway_client, self.target_id, self.name)\n\u001b[0m\u001b[1;32m   1258\u001b[0m \u001b[0;34m\u001b[0m\u001b[0m\n\u001b[1;32m   1259\u001b[0m         \u001b[0;32mfor\u001b[0m \u001b[0mtemp_arg\u001b[0m \u001b[0;32min\u001b[0m \u001b[0mtemp_args\u001b[0m\u001b[0;34m:\u001b[0m\u001b[0;34m\u001b[0m\u001b[0m\n",
            "\u001b[0;32m/content/spark-2.4.2-bin-hadoop2.7/python/pyspark/sql/utils.py\u001b[0m in \u001b[0;36mdeco\u001b[0;34m(*a, **kw)\u001b[0m\n\u001b[1;32m     61\u001b[0m     \u001b[0;32mdef\u001b[0m \u001b[0mdeco\u001b[0m\u001b[0;34m(\u001b[0m\u001b[0;34m*\u001b[0m\u001b[0ma\u001b[0m\u001b[0;34m,\u001b[0m \u001b[0;34m**\u001b[0m\u001b[0mkw\u001b[0m\u001b[0;34m)\u001b[0m\u001b[0;34m:\u001b[0m\u001b[0;34m\u001b[0m\u001b[0m\n\u001b[1;32m     62\u001b[0m         \u001b[0;32mtry\u001b[0m\u001b[0;34m:\u001b[0m\u001b[0;34m\u001b[0m\u001b[0m\n\u001b[0;32m---> 63\u001b[0;31m             \u001b[0;32mreturn\u001b[0m \u001b[0mf\u001b[0m\u001b[0;34m(\u001b[0m\u001b[0;34m*\u001b[0m\u001b[0ma\u001b[0m\u001b[0;34m,\u001b[0m \u001b[0;34m**\u001b[0m\u001b[0mkw\u001b[0m\u001b[0;34m)\u001b[0m\u001b[0;34m\u001b[0m\u001b[0m\n\u001b[0m\u001b[1;32m     64\u001b[0m         \u001b[0;32mexcept\u001b[0m \u001b[0mpy4j\u001b[0m\u001b[0;34m.\u001b[0m\u001b[0mprotocol\u001b[0m\u001b[0;34m.\u001b[0m\u001b[0mPy4JJavaError\u001b[0m \u001b[0;32mas\u001b[0m \u001b[0me\u001b[0m\u001b[0;34m:\u001b[0m\u001b[0;34m\u001b[0m\u001b[0m\n\u001b[1;32m     65\u001b[0m             \u001b[0ms\u001b[0m \u001b[0;34m=\u001b[0m \u001b[0me\u001b[0m\u001b[0;34m.\u001b[0m\u001b[0mjava_exception\u001b[0m\u001b[0;34m.\u001b[0m\u001b[0mtoString\u001b[0m\u001b[0;34m(\u001b[0m\u001b[0;34m)\u001b[0m\u001b[0;34m\u001b[0m\u001b[0m\n",
            "\u001b[0;32m/content/spark-2.4.2-bin-hadoop2.7/python/lib/py4j-0.10.7-src.zip/py4j/protocol.py\u001b[0m in \u001b[0;36mget_return_value\u001b[0;34m(answer, gateway_client, target_id, name)\u001b[0m\n\u001b[1;32m    326\u001b[0m                 raise Py4JJavaError(\n\u001b[1;32m    327\u001b[0m                     \u001b[0;34m\"An error occurred while calling {0}{1}{2}.\\n\"\u001b[0m\u001b[0;34m.\u001b[0m\u001b[0;34m\u001b[0m\u001b[0m\n\u001b[0;32m--> 328\u001b[0;31m                     format(target_id, \".\", name), value)\n\u001b[0m\u001b[1;32m    329\u001b[0m             \u001b[0;32melse\u001b[0m\u001b[0;34m:\u001b[0m\u001b[0;34m\u001b[0m\u001b[0m\n\u001b[1;32m    330\u001b[0m                 raise Py4JError(\n",
            "\u001b[0;31mPy4JJavaError\u001b[0m: An error occurred while calling o1265.showString.\n: org.apache.spark.SparkException: Job aborted due to stage failure: Task 0 in stage 75.0 failed 1 times, most recent failure: Lost task 0.0 in stage 75.0 (TID 75, localhost, executor driver): org.apache.spark.api.python.PythonException: Traceback (most recent call last):\n  File \"/content/spark-2.4.2-bin-hadoop2.7/python/lib/pyspark.zip/pyspark/worker.py\", line 377, in main\n    process()\n  File \"/content/spark-2.4.2-bin-hadoop2.7/python/lib/pyspark.zip/pyspark/worker.py\", line 372, in process\n    serializer.dump_stream(func(split_index, iterator), outfile)\n  File \"/content/spark-2.4.2-bin-hadoop2.7/python/lib/pyspark.zip/pyspark/worker.py\", line 248, in <lambda>\n    func = lambda _, it: map(mapper, it)\n  File \"<string>\", line 1, in <lambda>\n  File \"/content/spark-2.4.2-bin-hadoop2.7/python/lib/pyspark.zip/pyspark/worker.py\", line 85, in <lambda>\n    return lambda *a: f(*a)\n  File \"/content/spark-2.4.2-bin-hadoop2.7/python/lib/pyspark.zip/pyspark/util.py\", line 99, in wrapper\n    return f(*args, **kwargs)\n  File \"<ipython-input-106-7644aadfa60f>\", line 12, in compare\nTypeError: unicode argument expected\n\n\tat org.apache.spark.api.python.BasePythonRunner$ReaderIterator.handlePythonException(PythonRunner.scala:453)\n\tat org.apache.spark.sql.execution.python.PythonUDFRunner$$anon$2.read(PythonUDFRunner.scala:81)\n\tat org.apache.spark.sql.execution.python.PythonUDFRunner$$anon$2.read(PythonUDFRunner.scala:64)\n\tat org.apache.spark.api.python.BasePythonRunner$ReaderIterator.hasNext(PythonRunner.scala:406)\n\tat org.apache.spark.InterruptibleIterator.hasNext(InterruptibleIterator.scala:37)\n\tat scala.collection.Iterator$$anon$11.hasNext(Iterator.scala:489)\n\tat scala.collection.Iterator$$anon$10.hasNext(Iterator.scala:458)\n\tat scala.collection.Iterator$$anon$10.hasNext(Iterator.scala:458)\n\tat org.apache.spark.sql.catalyst.expressions.GeneratedClass$GeneratedIteratorForCodegenStage4.processNext(Unknown Source)\n\tat org.apache.spark.sql.execution.BufferedRowIterator.hasNext(BufferedRowIterator.java:43)\n\tat org.apache.spark.sql.execution.WholeStageCodegenExec$$anon$2.hasNext(WholeStageCodegenExec.scala:636)\n\tat org.apache.spark.sql.execution.SparkPlan.$anonfun$getByteArrayRdd$1(SparkPlan.scala:255)\n\tat org.apache.spark.rdd.RDD.$anonfun$mapPartitionsInternal$2(RDD.scala:836)\n\tat org.apache.spark.rdd.RDD.$anonfun$mapPartitionsInternal$2$adapted(RDD.scala:836)\n\tat org.apache.spark.rdd.MapPartitionsRDD.compute(MapPartitionsRDD.scala:52)\n\tat org.apache.spark.rdd.RDD.computeOrReadCheckpoint(RDD.scala:324)\n\tat org.apache.spark.rdd.RDD.iterator(RDD.scala:288)\n\tat org.apache.spark.rdd.MapPartitionsRDD.compute(MapPartitionsRDD.scala:52)\n\tat org.apache.spark.rdd.RDD.computeOrReadCheckpoint(RDD.scala:324)\n\tat org.apache.spark.rdd.RDD.iterator(RDD.scala:288)\n\tat org.apache.spark.scheduler.ResultTask.runTask(ResultTask.scala:90)\n\tat org.apache.spark.scheduler.Task.run(Task.scala:121)\n\tat org.apache.spark.executor.Executor$TaskRunner.$anonfun$run$3(Executor.scala:411)\n\tat org.apache.spark.util.Utils$.tryWithSafeFinally(Utils.scala:1360)\n\tat org.apache.spark.executor.Executor$TaskRunner.run(Executor.scala:414)\n\tat java.base/java.util.concurrent.ThreadPoolExecutor.runWorker(ThreadPoolExecutor.java:1128)\n\tat java.base/java.util.concurrent.ThreadPoolExecutor$Worker.run(ThreadPoolExecutor.java:628)\n\tat java.base/java.lang.Thread.run(Thread.java:834)\n\nDriver stacktrace:\n\tat org.apache.spark.scheduler.DAGScheduler.failJobAndIndependentStages(DAGScheduler.scala:1889)\n\tat org.apache.spark.scheduler.DAGScheduler.$anonfun$abortStage$2(DAGScheduler.scala:1877)\n\tat org.apache.spark.scheduler.DAGScheduler.$anonfun$abortStage$2$adapted(DAGScheduler.scala:1876)\n\tat scala.collection.mutable.ResizableArray.foreach(ResizableArray.scala:62)\n\tat scala.collection.mutable.ResizableArray.foreach$(ResizableArray.scala:55)\n\tat scala.collection.mutable.ArrayBuffer.foreach(ArrayBuffer.scala:49)\n\tat org.apache.spark.scheduler.DAGScheduler.abortStage(DAGScheduler.scala:1876)\n\tat org.apache.spark.scheduler.DAGScheduler.$anonfun$handleTaskSetFailed$1(DAGScheduler.scala:926)\n\tat org.apache.spark.scheduler.DAGScheduler.$anonfun$handleTaskSetFailed$1$adapted(DAGScheduler.scala:926)\n\tat scala.Option.foreach(Option.scala:274)\n\tat org.apache.spark.scheduler.DAGScheduler.handleTaskSetFailed(DAGScheduler.scala:926)\n\tat org.apache.spark.scheduler.DAGSchedulerEventProcessLoop.doOnReceive(DAGScheduler.scala:2110)\n\tat org.apache.spark.scheduler.DAGSchedulerEventProcessLoop.onReceive(DAGScheduler.scala:2059)\n\tat org.apache.spark.scheduler.DAGSchedulerEventProcessLoop.onReceive(DAGScheduler.scala:2048)\n\tat org.apache.spark.util.EventLoop$$anon$1.run(EventLoop.scala:49)\n\tat org.apache.spark.scheduler.DAGScheduler.runJob(DAGScheduler.scala:737)\n\tat org.apache.spark.SparkContext.runJob(SparkContext.scala:2061)\n\tat org.apache.spark.SparkContext.runJob(SparkContext.scala:2082)\n\tat org.apache.spark.SparkContext.runJob(SparkContext.scala:2101)\n\tat org.apache.spark.sql.execution.SparkPlan.executeTake(SparkPlan.scala:365)\n\tat org.apache.spark.sql.execution.CollectLimitExec.executeCollect(limit.scala:38)\n\tat org.apache.spark.sql.Dataset.collectFromPlan(Dataset.scala:3383)\n\tat org.apache.spark.sql.Dataset.$anonfun$head$1(Dataset.scala:2544)\n\tat org.apache.spark.sql.Dataset.$anonfun$withAction$2(Dataset.scala:3364)\n\tat org.apache.spark.sql.execution.SQLExecution$.$anonfun$withNewExecutionId$1(SQLExecution.scala:78)\n\tat org.apache.spark.sql.execution.SQLExecution$.withSQLConfPropagated(SQLExecution.scala:125)\n\tat org.apache.spark.sql.execution.SQLExecution$.withNewExecutionId(SQLExecution.scala:73)\n\tat org.apache.spark.sql.Dataset.withAction(Dataset.scala:3364)\n\tat org.apache.spark.sql.Dataset.head(Dataset.scala:2544)\n\tat org.apache.spark.sql.Dataset.take(Dataset.scala:2758)\n\tat org.apache.spark.sql.Dataset.getRows(Dataset.scala:254)\n\tat org.apache.spark.sql.Dataset.showString(Dataset.scala:291)\n\tat java.base/jdk.internal.reflect.NativeMethodAccessorImpl.invoke0(Native Method)\n\tat java.base/jdk.internal.reflect.NativeMethodAccessorImpl.invoke(NativeMethodAccessorImpl.java:62)\n\tat java.base/jdk.internal.reflect.DelegatingMethodAccessorImpl.invoke(DelegatingMethodAccessorImpl.java:43)\n\tat java.base/java.lang.reflect.Method.invoke(Method.java:566)\n\tat py4j.reflection.MethodInvoker.invoke(MethodInvoker.java:244)\n\tat py4j.reflection.ReflectionEngine.invoke(ReflectionEngine.java:357)\n\tat py4j.Gateway.invoke(Gateway.java:282)\n\tat py4j.commands.AbstractCommand.invokeMethod(AbstractCommand.java:132)\n\tat py4j.commands.CallCommand.execute(CallCommand.java:79)\n\tat py4j.GatewayConnection.run(GatewayConnection.java:238)\n\tat java.base/java.lang.Thread.run(Thread.java:834)\nCaused by: org.apache.spark.api.python.PythonException: Traceback (most recent call last):\n  File \"/content/spark-2.4.2-bin-hadoop2.7/python/lib/pyspark.zip/pyspark/worker.py\", line 377, in main\n    process()\n  File \"/content/spark-2.4.2-bin-hadoop2.7/python/lib/pyspark.zip/pyspark/worker.py\", line 372, in process\n    serializer.dump_stream(func(split_index, iterator), outfile)\n  File \"/content/spark-2.4.2-bin-hadoop2.7/python/lib/pyspark.zip/pyspark/worker.py\", line 248, in <lambda>\n    func = lambda _, it: map(mapper, it)\n  File \"<string>\", line 1, in <lambda>\n  File \"/content/spark-2.4.2-bin-hadoop2.7/python/lib/pyspark.zip/pyspark/worker.py\", line 85, in <lambda>\n    return lambda *a: f(*a)\n  File \"/content/spark-2.4.2-bin-hadoop2.7/python/lib/pyspark.zip/pyspark/util.py\", line 99, in wrapper\n    return f(*args, **kwargs)\n  File \"<ipython-input-106-7644aadfa60f>\", line 12, in compare\nTypeError: unicode argument expected\n\n\tat org.apache.spark.api.python.BasePythonRunner$ReaderIterator.handlePythonException(PythonRunner.scala:453)\n\tat org.apache.spark.sql.execution.python.PythonUDFRunner$$anon$2.read(PythonUDFRunner.scala:81)\n\tat org.apache.spark.sql.execution.python.PythonUDFRunner$$anon$2.read(PythonUDFRunner.scala:64)\n\tat org.apache.spark.api.python.BasePythonRunner$ReaderIterator.hasNext(PythonRunner.scala:406)\n\tat org.apache.spark.InterruptibleIterator.hasNext(InterruptibleIterator.scala:37)\n\tat scala.collection.Iterator$$anon$11.hasNext(Iterator.scala:489)\n\tat scala.collection.Iterator$$anon$10.hasNext(Iterator.scala:458)\n\tat scala.collection.Iterator$$anon$10.hasNext(Iterator.scala:458)\n\tat org.apache.spark.sql.catalyst.expressions.GeneratedClass$GeneratedIteratorForCodegenStage4.processNext(Unknown Source)\n\tat org.apache.spark.sql.execution.BufferedRowIterator.hasNext(BufferedRowIterator.java:43)\n\tat org.apache.spark.sql.execution.WholeStageCodegenExec$$anon$2.hasNext(WholeStageCodegenExec.scala:636)\n\tat org.apache.spark.sql.execution.SparkPlan.$anonfun$getByteArrayRdd$1(SparkPlan.scala:255)\n\tat org.apache.spark.rdd.RDD.$anonfun$mapPartitionsInternal$2(RDD.scala:836)\n\tat org.apache.spark.rdd.RDD.$anonfun$mapPartitionsInternal$2$adapted(RDD.scala:836)\n\tat org.apache.spark.rdd.MapPartitionsRDD.compute(MapPartitionsRDD.scala:52)\n\tat org.apache.spark.rdd.RDD.computeOrReadCheckpoint(RDD.scala:324)\n\tat org.apache.spark.rdd.RDD.iterator(RDD.scala:288)\n\tat org.apache.spark.rdd.MapPartitionsRDD.compute(MapPartitionsRDD.scala:52)\n\tat org.apache.spark.rdd.RDD.computeOrReadCheckpoint(RDD.scala:324)\n\tat org.apache.spark.rdd.RDD.iterator(RDD.scala:288)\n\tat org.apache.spark.scheduler.ResultTask.runTask(ResultTask.scala:90)\n\tat org.apache.spark.scheduler.Task.run(Task.scala:121)\n\tat org.apache.spark.executor.Executor$TaskRunner.$anonfun$run$3(Executor.scala:411)\n\tat org.apache.spark.util.Utils$.tryWithSafeFinally(Utils.scala:1360)\n\tat org.apache.spark.executor.Executor$TaskRunner.run(Executor.scala:414)\n\tat java.base/java.util.concurrent.ThreadPoolExecutor.runWorker(ThreadPoolExecutor.java:1128)\n\tat java.base/java.util.concurrent.ThreadPoolExecutor$Worker.run(ThreadPoolExecutor.java:628)\n\t... 1 more\n"
          ]
        }
      ]
    }
  ]
}