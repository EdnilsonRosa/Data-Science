{
  "nbformat": 4,
  "nbformat_minor": 0,
  "metadata": {
    "colab": {
      "name": "Avaliação Big Data.ipynb",
      "version": "0.3.2",
      "provenance": [],
      "collapsed_sections": [],
      "include_colab_link": true
    },
    "kernelspec": {
      "name": "python3",
      "display_name": "Python 3"
    }
  },
  "cells": [
    {
      "cell_type": "markdown",
      "metadata": {
        "id": "view-in-github",
        "colab_type": "text"
      },
      "source": [
        "<a href=\"https://colab.research.google.com/github/EdnilsonRosa/Data-Science/blob/master/Avalia%C3%A7%C3%A3o%20Big%20Data.ipynb\" target=\"_parent\"><img src=\"https://colab.research.google.com/assets/colab-badge.svg\" alt=\"Open In Colab\"/></a>"
      ]
    },
    {
      "cell_type": "markdown",
      "metadata": {
        "id": "EzATYNEw4yxP",
        "colab_type": "text"
      },
      "source": [
        "# Avaliação de Big Data"
      ]
    },
    {
      "cell_type": "markdown",
      "metadata": {
        "id": "HeAFpH1H4Mj7",
        "colab_type": "text"
      },
      "source": [
        "## Inicializando o ambiente e carregando as bibliotecas"
      ]
    },
    {
      "cell_type": "code",
      "metadata": {
        "id": "fxBhk2b5l2vE",
        "colab_type": "code",
        "outputId": "1877bbbc-0823-4a37-a059-26444578fb77",
        "colab": {
          "base_uri": "https://localhost:8080/",
          "height": 67
        }
      },
      "source": [
        "#!apt-get install openjdk-8-jdk-headless -qq > /dev/null\n",
        "!wget -q http://archive.apache.org/dist/spark/spark-2.4.2/spark-2.4.2-bin-hadoop2.7.tgz\n",
        "!tar xf spark-2.4.2-bin-hadoop2.7.tgz\n",
        "!pip install -q findspark\n",
        "\n",
        "!java -version\n",
        "\n",
        "import os\n",
        "os.environ[\"JAVA_HOME\"] = \"/usr/lib/jvm/java-1.11.0-openjdk-amd64/\"\n",
        "os.environ[\"SPARK_HOME\"] = \"/content/spark-2.4.2-bin-hadoop2.7\"\n",
        "\n",
        "import findspark\n",
        "findspark.init()\n",
        "from pyspark.sql import SparkSession\n",
        "spark = SparkSession.builder.master(\"local[*]\").getOrCreate()\n",
        "\n",
        "### Chamada da biblioteca\n",
        "\n",
        "from pyspark.sql import SparkSession\n",
        "import pyspark.sql.functions as F\n",
        "from pyspark.sql.types import StringType\n",
        "from pyspark.sql.types import IntegerType\n",
        "\n",
        "### Inicializaçaõ da Sessão do Spark - \n",
        "\n",
        "spark = SparkSession.builder \\\n",
        "                    .appName(\"Tutorial PySpark SQL\") \\\n",
        "                    .config(\"spark.some.config.option\", \"some-value\") \\\n",
        "                    .getOrCreate()"
      ],
      "execution_count": 0,
      "outputs": [
        {
          "output_type": "stream",
          "text": [
            "openjdk version \"11.0.3\" 2019-04-16\n",
            "OpenJDK Runtime Environment (build 11.0.3+7-Ubuntu-1ubuntu218.04.1)\n",
            "OpenJDK 64-Bit Server VM (build 11.0.3+7-Ubuntu-1ubuntu218.04.1, mixed mode, sharing)\n"
          ],
          "name": "stdout"
        }
      ]
    },
    {
      "cell_type": "code",
      "metadata": {
        "id": "SN14McSe09um",
        "colab_type": "code",
        "outputId": "cde3ff3c-16a4-4d58-8fa3-0768ec1cd917",
        "colab": {
          "base_uri": "https://localhost:8080/",
          "height": 167
        }
      },
      "source": [
        "!pip install jellyfish\n",
        "import jellyfish"
      ],
      "execution_count": 0,
      "outputs": [
        {
          "output_type": "stream",
          "text": [
            "Collecting jellyfish\n",
            "\u001b[?25l  Downloading https://files.pythonhosted.org/packages/69/9f/ae6f6ad509725b71d45bb408953c850da7a2ecc3dbdad4063a825702ba29/jellyfish-0.7.1.tar.gz (131kB)\n",
            "\u001b[K     |████████████████████████████████| 133kB 5.0MB/s \n",
            "\u001b[?25hBuilding wheels for collected packages: jellyfish\n",
            "  Building wheel for jellyfish (setup.py) ... \u001b[?25l\u001b[?25hdone\n",
            "  Stored in directory: /root/.cache/pip/wheels/eb/33/cf/c7ce9866a02202b1f8ca45595e20f5145bf56c0262cfa2daf1\n",
            "Successfully built jellyfish\n",
            "Installing collected packages: jellyfish\n",
            "Successfully installed jellyfish-0.7.1\n"
          ],
          "name": "stdout"
        }
      ]
    },
    {
      "cell_type": "code",
      "metadata": {
        "id": "_WD9ie0Tw01B",
        "colab_type": "code",
        "colab": {}
      },
      "source": [
        "import pandas as pd"
      ],
      "execution_count": 0,
      "outputs": []
    },
    {
      "cell_type": "markdown",
      "metadata": {
        "id": "lndoP-vn4YJW",
        "colab_type": "text"
      },
      "source": [
        "## Montando o Drive e carregando o arquivo"
      ]
    },
    {
      "cell_type": "code",
      "metadata": {
        "id": "6apsGNwnvZEV",
        "colab_type": "code",
        "outputId": "92369d12-59c9-4299-e016-d7218a27a4ed",
        "colab": {
          "base_uri": "https://localhost:8080/",
          "height": 120
        }
      },
      "source": [
        "### Montagem de drive do Google\n",
        "### Será solicitada autorização\n",
        "### O Colab tem como raiz uma pasta 'content'\n",
        "\n",
        "from google.colab import drive\n",
        "drive.mount('/content/gdrive')"
      ],
      "execution_count": 0,
      "outputs": [
        {
          "output_type": "stream",
          "text": [
            "Go to this URL in a browser: https://accounts.google.com/o/oauth2/auth?client_id=947318989803-6bn6qk8qdgf4n4g3pfee6491hc0brc4i.apps.googleusercontent.com&redirect_uri=urn%3Aietf%3Awg%3Aoauth%3A2.0%3Aoob&scope=email%20https%3A%2F%2Fwww.googleapis.com%2Fauth%2Fdocs.test%20https%3A%2F%2Fwww.googleapis.com%2Fauth%2Fdrive%20https%3A%2F%2Fwww.googleapis.com%2Fauth%2Fdrive.photos.readonly%20https%3A%2F%2Fwww.googleapis.com%2Fauth%2Fpeopleapi.readonly&response_type=code\n",
            "\n",
            "Enter your authorization code:\n",
            "··········\n",
            "Mounted at /content/gdrive\n"
          ],
          "name": "stdout"
        }
      ]
    },
    {
      "cell_type": "code",
      "metadata": {
        "id": "Mzr1wPwOvv68",
        "colab_type": "code",
        "colab": {}
      },
      "source": [
        "dfa = spark.read.csv('gdrive/My Drive/Colab Notebooks/base_sintetica_ascii_a.csv', header=True, sep=',')"
      ],
      "execution_count": 0,
      "outputs": []
    },
    {
      "cell_type": "code",
      "metadata": {
        "id": "akzNC8RCwUmN",
        "colab_type": "code",
        "colab": {}
      },
      "source": [
        "dfb = spark.read.csv('gdrive/My Drive/Colab Notebooks/base_sintetica_ascii_b.csv', header=True, sep=',')"
      ],
      "execution_count": 0,
      "outputs": []
    },
    {
      "cell_type": "code",
      "metadata": {
        "id": "J-2Oknqiwb33",
        "colab_type": "code",
        "outputId": "86e29eaa-3b6b-4b60-cdda-0336baa196c1",
        "colab": {
          "base_uri": "https://localhost:8080/",
          "height": 33
        }
      },
      "source": [
        "dfb.count()"
      ],
      "execution_count": 0,
      "outputs": [
        {
          "output_type": "execute_result",
          "data": {
            "text/plain": [
              "143"
            ]
          },
          "metadata": {
            "tags": []
          },
          "execution_count": 8
        }
      ]
    },
    {
      "cell_type": "code",
      "metadata": {
        "id": "VxWZz1lOwjrd",
        "colab_type": "code",
        "outputId": "881ad130-a45a-4ee7-b35f-51f009699ba3",
        "colab": {
          "base_uri": "https://localhost:8080/",
          "height": 33
        }
      },
      "source": [
        "dfa.count()"
      ],
      "execution_count": 0,
      "outputs": [
        {
          "output_type": "execute_result",
          "data": {
            "text/plain": [
              "540"
            ]
          },
          "metadata": {
            "tags": []
          },
          "execution_count": 9
        }
      ]
    },
    {
      "cell_type": "code",
      "metadata": {
        "id": "5p5jXN36wpqU",
        "colab_type": "code",
        "colab": {}
      },
      "source": [
        "dfb.toPandas()"
      ],
      "execution_count": 0,
      "outputs": []
    },
    {
      "cell_type": "markdown",
      "metadata": {
        "id": "Tcggpj8_4K-A",
        "colab_type": "text"
      },
      "source": [
        ""
      ]
    },
    {
      "cell_type": "code",
      "metadata": {
        "id": "8PEhGkpPww9P",
        "colab_type": "code",
        "outputId": "5004ec1c-06a7-4525-e54b-17f1c66c3a9b",
        "colab": {
          "base_uri": "https://localhost:8080/",
          "height": 472
        }
      },
      "source": [
        "dfa.show()"
      ],
      "execution_count": 0,
      "outputs": [
        {
          "output_type": "stream",
          "text": [
            "+---+--------------------+---------+-----------------+--------------+----------+--------------------+--------------------+------+-----+--------------------+--------------------+------+-----------+--------------+----+\n",
            "| id|              bairro|      cep|           cidade|           cpf| data_nasc|               email|            endereco|estado|idade|                 mae|                nome|numero|      signo|tipo_sanguineo|_c15|\n",
            "+---+--------------------+---------+-----------------+--------------+----------+--------------------+--------------------+------+-----+--------------------+--------------------+------+-----------+--------------+----+\n",
            "|  0|         Vila Sarney|65090-677|         Sao Luis|097.627.958-49|10/09/1948|vicenteolivermont...|2a Travessa do Ri...|    MA|   71|     Louise Beatriz |Vicente Oliver Mo...|   738|     Virgem|           AB-|null|\n",
            "|  1|      Vila Sao Jorge|75044-220|         Anapolis|685.096.335-09|24/04/1995|miguelbernardogon...|  Praca Joao Salomao|    GO|   24|     Raquel Barbara |Miguel Bernardo G...|   805|      Touro|            A-|null|\n",
            "|  2|         Cabralzinho|68906-846|           Macapa|956.997.968-27|13/03/1984|ericktheomarcosvi...|    Alameda Calcoene|    AP|   35|Maite Valentina R...|Erick Theo Marcos...|   669|     Peixes|            B+|null|\n",
            "|  3|           Mae Luiza|59014-227|            Natal|631.875.885-22|27/09/1965|mariorobertoisaac...|1a Rua Sao Francisco|    RN|   54|Alicia Cristiane ...|Mario Roberto Isa...|   978|      Libra|           AB+|null|\n",
            "|  4|       Jardim Monaco|86702-790|        Arapongas|397.480.478-14|24/11/1965|eeliasandersonmat...|Rua Mariquita-dos...|    PR|   54|     Tatiane Josefa |Elias Anderson Ma...|   558|  Sagitario|            A+|null|\n",
            "|  5|        Boca da Mata|65917-157|       Imperatriz|216.419.173-00|27/04/1997|gabrielluisjesus_...|  Rua Antenor Bastos|    MA|   22|Fernanda Sebastia...|  Gabriel Luis Jesus|   651|      Touro|            B-|null|\n",
            "|  6|       Boa Esperanca|23894-586|       Seropedica|148.386.650-59|10/01/1985|brunojulioguilher...|    Rua Jose Paucino|    RJ|   34|     Lavinia Isabel |Bruno Julio Guilh...|   445|Capricornio|            B-|null|\n",
            "|  7|  Vila Santo Eugenio|79060-380|     Campo Grande|654.325.863-20|06/12/1957|ttheoguilhermesou...|      Rua Mamanguape|    MS|   62|Andreia Evelyn Ca...|Theo Guilherme Souza|   912|  Sagitario|            O+|null|\n",
            "|  8|         Nova Maraba|68506-160|           Maraba|704.817.633-41|12/11/1955|marcosviniciusdie...|    Quadra Dezesseis|    PA|   64| Luiza Claudia Isis |Marcos Vinicius D...|   869|  Escorpiao|            O+|null|\n",
            "|  9|Ceilandia Norte (...|72241-555|         Brasilia|179.057.616-49|12/11/1952|tthomasenzoarthur...|Quadra EQNP 13/17...|    DF|   67|Stefany Vera Kami...|Thomas Enzo Arthu...|   894|  Escorpiao|            A-|null|\n",
            "| 10|Loteamento Linda ...|13802-488|       Mogi Mirim|999.008.988-42|25/08/1997|caiokevinpereira_...|       Rua Tom Jobim|    SP|   22|     Mariana Helena |  Caio Kevin Pereira|   675|     Virgem|            O-|null|\n",
            "| 11|              Centro|29130-172|            Viana|844.083.511-64|04/09/1999|olivermarioandrea...|   Rua Alvimar Silva|    ES|   20|Marli Hadassa Lor...|Oliver Mario Andr...|   880|     Virgem|           AB+|null|\n",
            "| 12|             Pacheco|88135-079|          Palhoca|164.210.136-27|06/07/1985|mmatheusclaudiori...|Travessa Antonio ...|    SC|   34|      Pietra Aurora |Matheus Claudio R...|   602|     Cancer|            A-|null|\n",
            "| 13|      Setor Noroeste|70686-455|         Brasilia|771.006.764-60|20/02/1997|ddanielvicenteisa...|Quadra SQNW 109 B...|    DF|   22|Jaqueline Valentina |Daniel Vicente Is...|   211|     Peixes|            B-|null|\n",
            "| 14|            Mecejana|69304-350|        Boa Vista|506.865.202-46|22/11/1965|felipebrunodossan...|Avenida Mario Hom...|    RR|   54|Isabelle Marcia A...|Felipe Bruno dos ...|   732|  Sagitario|           AB-|null|\n",
            "| 15|           Primavera|78132-360|    Varzea Grande|325.828.867-42|04/03/1945|marcioheitorsilve...|      Rua Rio Cuiaba|    MT|   74|Alana Isadora Jul...|Marcio Heitor Sil...|   681|     Peixes|           AB-|null|\n",
            "| 16|           Maria Ceu|88810-336|         Criciuma|284.536.218-88|23/09/1961|theomariovictorba...|Rua Romeu Lopes d...|    SC|   58|  Caroline Gabriela |Theo Mario Victor...|   713|      Libra|            A-|null|\n",
            "| 17|              Pedras|60874-405|        Fortaleza|390.375.925-20|11/05/1981|pietrohenrydepaul...|           Rua Matiz|    CE|   38|       Tereza Bruna |Pietro Henry de P...|   118|      Touro|           AB-|null|\n",
            "| 18|    Jardim Aeroporto|79106-140|     Campo Grande|756.005.387-40|14/12/1941|kkaiquethiagodepa...|     Rua Pato Branco|    MS|   78|      Alice Leticia |Kaique Thiago de ...|   349|  Sagitario|            A-|null|\n",
            "| 19|       Novo Juazeiro|63030-450|Juazeiro do Norte|551.341.139-39|16/02/1999|ggabrielerickoliv...| Avenida do Contorno|    CE|   20|Helena Agatha Ter...|Gabriel Erick Oli...|   758|    Aquario|            O+|null|\n",
            "+---+--------------------+---------+-----------------+--------------+----------+--------------------+--------------------+------+-----+--------------------+--------------------+------+-----------+--------------+----+\n",
            "only showing top 20 rows\n",
            "\n"
          ],
          "name": "stdout"
        }
      ]
    },
    {
      "cell_type": "code",
      "metadata": {
        "id": "NWN7XbL-x_Sa",
        "colab_type": "code",
        "outputId": "e4febbae-c3d5-43ed-e972-34033c70dfc8",
        "colab": {
          "base_uri": "https://localhost:8080/",
          "height": 318
        }
      },
      "source": [
        "dfa.printSchema()"
      ],
      "execution_count": 0,
      "outputs": [
        {
          "output_type": "stream",
          "text": [
            "root\n",
            " |-- id: string (nullable = true)\n",
            " |-- bairro: string (nullable = true)\n",
            " |-- cep: string (nullable = true)\n",
            " |-- cidade: string (nullable = true)\n",
            " |-- cpf: string (nullable = true)\n",
            " |-- data_nasc: string (nullable = true)\n",
            " |-- email: string (nullable = true)\n",
            " |-- endereco: string (nullable = true)\n",
            " |-- estado: string (nullable = true)\n",
            " |-- idade: string (nullable = true)\n",
            " |-- mae: string (nullable = true)\n",
            " |-- nome: string (nullable = true)\n",
            " |-- numero: string (nullable = true)\n",
            " |-- signo: string (nullable = true)\n",
            " |-- tipo_sanguineo: string (nullable = true)\n",
            " |-- _c15: string (nullable = true)\n",
            "\n"
          ],
          "name": "stdout"
        }
      ]
    },
    {
      "cell_type": "code",
      "metadata": {
        "id": "kILblFBSyNaV",
        "colab_type": "code",
        "outputId": "0e0b4b80-b63e-47c4-99b8-ca4e75d5a309",
        "colab": {
          "base_uri": "https://localhost:8080/",
          "height": 217
        }
      },
      "source": [
        "dfb.printSchema()"
      ],
      "execution_count": 0,
      "outputs": [
        {
          "output_type": "stream",
          "text": [
            "root\n",
            " |-- id: string (nullable = true)\n",
            " |-- cep: string (nullable = true)\n",
            " |-- cidade: string (nullable = true)\n",
            " |-- cpf: string (nullable = true)\n",
            " |-- data_nasc: string (nullable = true)\n",
            " |-- endereco: string (nullable = true)\n",
            " |-- estado: string (nullable = true)\n",
            " |-- mae: string (nullable = true)\n",
            " |-- nome: string (nullable = true)\n",
            " |-- tipo_sanguineo: string (nullable = true)\n",
            "\n"
          ],
          "name": "stdout"
        }
      ]
    },
    {
      "cell_type": "markdown",
      "metadata": {
        "id": "XnNyV4gTK4ZW",
        "colab_type": "text"
      },
      "source": [
        "## Tratamento de Atributo Missing\n"
      ]
    },
    {
      "cell_type": "code",
      "metadata": {
        "id": "8rcWDerlKhav",
        "colab_type": "code",
        "outputId": "74189c34-b901-4e64-e2ec-dd591aa8b591",
        "colab": {
          "base_uri": "https://localhost:8080/",
          "height": 33
        }
      },
      "source": [
        "dfa.filter(F.col('nome').isNull()).count()"
      ],
      "execution_count": 0,
      "outputs": [
        {
          "output_type": "execute_result",
          "data": {
            "text/plain": [
              "0"
            ]
          },
          "metadata": {
            "tags": []
          },
          "execution_count": 13
        }
      ]
    },
    {
      "cell_type": "code",
      "metadata": {
        "id": "yzbll1W7Kxyz",
        "colab_type": "code",
        "outputId": "8ac2bb62-3c68-4186-e331-2353c48bf124",
        "colab": {
          "base_uri": "https://localhost:8080/",
          "height": 33
        }
      },
      "source": [
        "dfb.filter(F.col('nome').isNull()).count()"
      ],
      "execution_count": 0,
      "outputs": [
        {
          "output_type": "execute_result",
          "data": {
            "text/plain": [
              "2"
            ]
          },
          "metadata": {
            "tags": []
          },
          "execution_count": 14
        }
      ]
    },
    {
      "cell_type": "code",
      "metadata": {
        "id": "kjGMs6ELLbj4",
        "colab_type": "code",
        "colab": {}
      },
      "source": [
        "dfb = dfb.withColumnRenamed('nome','nome_antigo')\n",
        "dfb = dfb.withColumn('nome', F.when(F.col('nome_antigo').isNull(),\" \").otherwise(F.col('nome_antigo')))"
      ],
      "execution_count": 0,
      "outputs": []
    },
    {
      "cell_type": "code",
      "metadata": {
        "id": "bkje_fqgLbFX",
        "colab_type": "code",
        "outputId": "8a053060-a83a-4462-aca0-70cb430e60db",
        "colab": {
          "base_uri": "https://localhost:8080/",
          "height": 472
        }
      },
      "source": [
        "dfb.show()"
      ],
      "execution_count": 0,
      "outputs": [
        {
          "output_type": "stream",
          "text": [
            "+---+---------+-----------------+--------------+----------+--------------------+------+--------------------+--------------------+--------------+--------------------+\n",
            "| id|      cep|           cidade|           cpf| data_nasc|            endereco|estado|                 mae|         nome_antigo|tipo_sanguineo|                nome|\n",
            "+---+---------+-----------------+--------------+----------+--------------------+------+--------------------+--------------------+--------------+--------------------+\n",
            "| 01|69304-350|        Boa Vista|506.865.202-46|22/11/1965|Avenida Mario Hom...|    RR|Isabelle Marcia A...|Felipe Bruno dos ...|           AB-|Felipe Bruno dos ...|\n",
            "| 02|78132-360|    Varzea Grande|325.828.867-42|      null|      Rua Rio Cuiaba|    MT|       Alana Isadora|Marcio Heitor Sil...|           AB-|Marcio Heitor Sil...|\n",
            "| 03|88810-336|         Criciuma|284.536.218-88|23/09/1961|Rua Romeu Lopes d...|    SC|  Caroline Gabriela |Theo Mario Victor...|            A-|Theo Mario Victor...|\n",
            "| 04|60874-405|        Fortaleza|390.375.925-20|11/05/1981|                null|    CE|       Tereza Bruna |Pietro Henrique d...|           AB-|Pietro Henrique d...|\n",
            "| 05|79106-140|     Campo Grande|756.005.387-40|14/12/1941|     Rua Pato Branco|    MS|      Alice Leticia |Kaique Thiago de ...|            A-|Kaique Thiago de ...|\n",
            "| 06|63030-450|Juazeiro do Norte|551.341.139-39|16/02/1999| Avenida do Contorno|    CE|Elena Agatha Tere...|Gabriel Erick Oli...|            O+|Gabriel Erick Oli...|\n",
            "| 07|84172-370|           Castro|756.048.583-90|11/03/1982|Rua Major Candido...|  null|Vanessa Camila Ni...|Luan Caue Anthony...|          null|Luan Caue Anthony...|\n",
            "| 08|69070-555|           Manaus|386.351.591-95|13/01/1978|                null|    AM|Isabelle Maite Rosa |        Enzo D Rocha|          null|        Enzo D Rocha|\n",
            "| 09|20950-430|   Rio de Janeiro|885.264.747-31|27/01/2001|         Rua do Amor|    RJ|      Sophie Bianca |Cesar Matheus Cau...|          null|Cesar Matheus Cau...|\n",
            "| 10|36071-020|     Juiz de Fora|489.611.821-96|      null|Rua Flavia Rios M...|    MG|Giovana Antonella...|   Caua Isaac Castro|          null|   Caua Isaac Castro|\n",
            "| 11|75063-120|         Anapolis|281.229.310-14|08/11/1947|Avenida dos Palmares|    GO|Mariana Mirella N...|Gabriel Caua Marc...|          null|Gabriel Caua Marc...|\n",
            "| 12|78731-260|     Rondonopolis|492.264.809-74|18/04/1969|      Rua Circular-2|    MT|     Rita Ayla Sara |Danilo Severino d...|            B+|Danilo Severino d...|\n",
            "| 13|77818-355|             null|816.876.443-90|27/03/1972|       Rua Aparecida|    TO|       Louise Joana |   Samuel Noah Lopes|            O-|   Samuel Noah Lopes|\n",
            "| 14|05403-900|             null|327.630.596-86|10/10/1984|Avenida Doutor En...|    SP|      Heloisa Luzia |Juan Raimundo Osv...|            B+|Juan Raimundo Osv...|\n",
            "| 15|69036-075|             null|181.410.022-95|05/01/1973|   Beco Sao Pedro II|    AM|Jessica Jaqueline...|Leandro Cesar Jor...|            O-|Leandro Cesar Jor...|\n",
            "| 16|40720-479|             null|843.458.724-64|12/09/1996|3a Travessa Osval...|    BA|Lara Sabrina Giov...|Caio Julio Kaue Lima|           AB+|Caio Julio Kaue Lima|\n",
            "| 17|65075-047|             null|134.836.403-39|21/06/1963|Rua Professora La...|    MA|Leticia Isabelly ...|Guilherme Rafael ...|            A-|Guilherme Rafael ...|\n",
            "| 18|79041-061|             null|557.744.519-17|09/02/1947|     Rua Jacarepagua|    MS|     Gabriela Sueli |Nicolas Edson Araujo|            O-|Nicolas Edson Araujo|\n",
            "| 19|72236-503|             null|254.321.926-91|25/05/1988|Quadra EQNP 30/34...|    DF|  Rita Rafaela Lara |Cesar Nelson Dani...|           AB+|Cesar Nelson Dani...|\n",
            "| 20|72233-008|         Brasilia|806.443.633-80|16/02/1941|Quadra QNP 20 Con...|    DF|   Nicole Aparecida |Rodrigo Erick Rob...|            B+|Rodrigo Erick Rob...|\n",
            "+---+---------+-----------------+--------------+----------+--------------------+------+--------------------+--------------------+--------------+--------------------+\n",
            "only showing top 20 rows\n",
            "\n"
          ],
          "name": "stdout"
        }
      ]
    },
    {
      "cell_type": "markdown",
      "metadata": {
        "id": "DXFbhfDs3KXG",
        "colab_type": "text"
      },
      "source": [
        "## Renomeando colunas para o linkage (necessita nomes diferentes)"
      ]
    },
    {
      "cell_type": "code",
      "metadata": {
        "id": "Pofvt2WKzEkJ",
        "colab_type": "code",
        "colab": {}
      },
      "source": [
        "dfb = dfb.withColumnRenamed('id','id_b')\n",
        "dfb = dfb.withColumnRenamed('cep','cep_b')\n",
        "dfb = dfb.withColumnRenamed('cidade','cidade_b')\n",
        "dfb = dfb.withColumnRenamed('cpf','cpf_b')\n",
        "dfb = dfb.withColumnRenamed('data_nasc','data_nasc_b')\n",
        "dfb = dfb.withColumnRenamed('endereco','endereco_b')\n",
        "dfb = dfb.withColumnRenamed('estado','estado_b')\n",
        "dfb = dfb.withColumnRenamed('mae','mae_b')\n",
        "dfb = dfb.withColumnRenamed('nome','nome_b')\n",
        "dfb = dfb.withColumnRenamed('tipo_sanguineo','tipo_sanguineo_b')"
      ],
      "execution_count": 0,
      "outputs": []
    },
    {
      "cell_type": "code",
      "metadata": {
        "id": "jZqtYaaTzfF1",
        "colab_type": "code",
        "outputId": "616e4cde-8fb2-46b3-c7bc-a71654904763",
        "colab": {
          "base_uri": "https://localhost:8080/",
          "height": 234
        }
      },
      "source": [
        "dfb.printSchema()"
      ],
      "execution_count": 0,
      "outputs": [
        {
          "output_type": "stream",
          "text": [
            "root\n",
            " |-- id_b: string (nullable = true)\n",
            " |-- cep_b: string (nullable = true)\n",
            " |-- cidade_b: string (nullable = true)\n",
            " |-- cpf_b: string (nullable = true)\n",
            " |-- data_nasc_b: string (nullable = true)\n",
            " |-- endereco_b: string (nullable = true)\n",
            " |-- estado_b: string (nullable = true)\n",
            " |-- mae_b: string (nullable = true)\n",
            " |-- nome_antigo: string (nullable = true)\n",
            " |-- tipo_sanguineo_b: string (nullable = true)\n",
            " |-- nome_b: string (nullable = true)\n",
            "\n"
          ],
          "name": "stdout"
        }
      ]
    },
    {
      "cell_type": "markdown",
      "metadata": {
        "id": "TV9OfmjJ3aib",
        "colab_type": "text"
      },
      "source": [
        "## Fazendo Linkage"
      ]
    },
    {
      "cell_type": "code",
      "metadata": {
        "id": "OOUX6idU0Qdj",
        "colab_type": "code",
        "colab": {}
      },
      "source": [
        "dfl = dfa.crossJoin(dfb)"
      ],
      "execution_count": 0,
      "outputs": []
    },
    {
      "cell_type": "code",
      "metadata": {
        "id": "HaXGRL_z0g12",
        "colab_type": "code",
        "outputId": "842d5c8b-c12c-4228-ae63-dc1c1a1d925b",
        "colab": {
          "base_uri": "https://localhost:8080/",
          "height": 204
        }
      },
      "source": [
        "dfl.limit(5).show()"
      ],
      "execution_count": 0,
      "outputs": [
        {
          "output_type": "stream",
          "text": [
            "+---+-----------+---------+--------+--------------+----------+--------------------+--------------------+------+-----+---------------+--------------------+------+------+--------------+----+----+---------+-------------+--------------+-----------+--------------------+--------+--------------------+--------------------+----------------+--------------------+\n",
            "| id|     bairro|      cep|  cidade|           cpf| data_nasc|               email|            endereco|estado|idade|            mae|                nome|numero| signo|tipo_sanguineo|_c15|id_b|    cep_b|     cidade_b|         cpf_b|data_nasc_b|          endereco_b|estado_b|               mae_b|         nome_antigo|tipo_sanguineo_b|              nome_b|\n",
            "+---+-----------+---------+--------+--------------+----------+--------------------+--------------------+------+-----+---------------+--------------------+------+------+--------------+----+----+---------+-------------+--------------+-----------+--------------------+--------+--------------------+--------------------+----------------+--------------------+\n",
            "|  0|Vila Sarney|65090-677|Sao Luis|097.627.958-49|10/09/1948|vicenteolivermont...|2a Travessa do Ri...|    MA|   71|Louise Beatriz |Vicente Oliver Mo...|   738|Virgem|           AB-|null|  01|69304-350|    Boa Vista|506.865.202-46| 22/11/1965|Avenida Mario Hom...|      RR|Isabelle Marcia A...|Felipe Bruno dos ...|             AB-|Felipe Bruno dos ...|\n",
            "|  0|Vila Sarney|65090-677|Sao Luis|097.627.958-49|10/09/1948|vicenteolivermont...|2a Travessa do Ri...|    MA|   71|Louise Beatriz |Vicente Oliver Mo...|   738|Virgem|           AB-|null|  02|78132-360|Varzea Grande|325.828.867-42|       null|      Rua Rio Cuiaba|      MT|       Alana Isadora|Marcio Heitor Sil...|             AB-|Marcio Heitor Sil...|\n",
            "|  0|Vila Sarney|65090-677|Sao Luis|097.627.958-49|10/09/1948|vicenteolivermont...|2a Travessa do Ri...|    MA|   71|Louise Beatriz |Vicente Oliver Mo...|   738|Virgem|           AB-|null|  03|88810-336|     Criciuma|284.536.218-88| 23/09/1961|Rua Romeu Lopes d...|      SC|  Caroline Gabriela |Theo Mario Victor...|              A-|Theo Mario Victor...|\n",
            "|  0|Vila Sarney|65090-677|Sao Luis|097.627.958-49|10/09/1948|vicenteolivermont...|2a Travessa do Ri...|    MA|   71|Louise Beatriz |Vicente Oliver Mo...|   738|Virgem|           AB-|null|  04|60874-405|    Fortaleza|390.375.925-20| 11/05/1981|                null|      CE|       Tereza Bruna |Pietro Henrique d...|             AB-|Pietro Henrique d...|\n",
            "|  0|Vila Sarney|65090-677|Sao Luis|097.627.958-49|10/09/1948|vicenteolivermont...|2a Travessa do Ri...|    MA|   71|Louise Beatriz |Vicente Oliver Mo...|   738|Virgem|           AB-|null|  05|79106-140| Campo Grande|756.005.387-40| 14/12/1941|     Rua Pato Branco|      MS|      Alice Leticia |Kaique Thiago de ...|              A-|Kaique Thiago de ...|\n",
            "+---+-----------+---------+--------+--------------+----------+--------------------+--------------------+------+-----+---------------+--------------------+------+------+--------------+----+----+---------+-------------+--------------+-----------+--------------------+--------+--------------------+--------------------+----------------+--------------------+\n",
            "\n"
          ],
          "name": "stdout"
        }
      ]
    },
    {
      "cell_type": "code",
      "metadata": {
        "id": "afaYkmiM0o-k",
        "colab_type": "code",
        "colab": {}
      },
      "source": [
        "dfl.limit(5).toPandas()"
      ],
      "execution_count": 0,
      "outputs": []
    },
    {
      "cell_type": "code",
      "metadata": {
        "id": "EteQQ3F90uua",
        "colab_type": "code",
        "outputId": "45319265-23b7-450f-bd4d-03beb4102d7b",
        "colab": {
          "base_uri": "https://localhost:8080/",
          "height": 535
        }
      },
      "source": [
        "dfb.printSchema()\n",
        "dfa.printSchema()"
      ],
      "execution_count": 0,
      "outputs": [
        {
          "output_type": "stream",
          "text": [
            "root\n",
            " |-- id_b: string (nullable = true)\n",
            " |-- cep_b: string (nullable = true)\n",
            " |-- cidade_b: string (nullable = true)\n",
            " |-- cpf_b: string (nullable = true)\n",
            " |-- data_nasc_b: string (nullable = true)\n",
            " |-- endereco_b: string (nullable = true)\n",
            " |-- estado_b: string (nullable = true)\n",
            " |-- mae_b: string (nullable = true)\n",
            " |-- nome_antigo: string (nullable = true)\n",
            " |-- tipo_sanguineo_b: string (nullable = true)\n",
            " |-- nome_b: string (nullable = true)\n",
            "\n",
            "root\n",
            " |-- id: string (nullable = true)\n",
            " |-- bairro: string (nullable = true)\n",
            " |-- cep: string (nullable = true)\n",
            " |-- cidade: string (nullable = true)\n",
            " |-- cpf: string (nullable = true)\n",
            " |-- data_nasc: string (nullable = true)\n",
            " |-- email: string (nullable = true)\n",
            " |-- endereco: string (nullable = true)\n",
            " |-- estado: string (nullable = true)\n",
            " |-- idade: string (nullable = true)\n",
            " |-- mae: string (nullable = true)\n",
            " |-- nome: string (nullable = true)\n",
            " |-- numero: string (nullable = true)\n",
            " |-- signo: string (nullable = true)\n",
            " |-- tipo_sanguineo: string (nullable = true)\n",
            " |-- _c15: string (nullable = true)\n",
            "\n"
          ],
          "name": "stdout"
        }
      ]
    },
    {
      "cell_type": "markdown",
      "metadata": {
        "id": "gkwPAIS_7khv",
        "colab_type": "text"
      },
      "source": [
        "## Criação de Funções para extração do primeiro e último nome"
      ]
    },
    {
      "cell_type": "code",
      "metadata": {
        "id": "tzjgEpWA7jJf",
        "colab_type": "code",
        "colab": {}
      },
      "source": [
        "def criaPrimeiroNome(col):\n",
        "  return col.split(' ') [0]\n",
        "udf_criaPrimeiroNome = F.udf(criaPrimeiroNome, StringType())"
      ],
      "execution_count": 0,
      "outputs": []
    },
    {
      "cell_type": "code",
      "metadata": {
        "id": "fwYh_y3E8MoX",
        "colab_type": "code",
        "colab": {}
      },
      "source": [
        "def criaUltimoNome(col):\n",
        "  return col.split(' ') [-1]\n",
        "udf_criaUltimoNome = F.udf(criaUltimoNome, StringType())"
      ],
      "execution_count": 0,
      "outputs": []
    },
    {
      "cell_type": "markdown",
      "metadata": {
        "id": "khpTjMea8cXK",
        "colab_type": "text"
      },
      "source": [
        "## Criação das Colunas com Primeiros e Ultimos Nomes Fonéticos"
      ]
    },
    {
      "cell_type": "code",
      "metadata": {
        "id": "gFBP3VG58blf",
        "colab_type": "code",
        "colab": {}
      },
      "source": [
        "dfl = dfl.withColumn('primeiro_nome_a', udf_criaPrimeiroNome(F.col('nome')))\n",
        "dfl = dfl.withColumn('primeiro_nome_b', udf_criaPrimeiroNome(F.col('nome_b')))\n",
        "dfl = dfl.withColumn('ultimo_nome_a', udf_criaUltimoNome(F.col('nome')))\n",
        "dfl = dfl.withColumn('ultimo_nome_b', udf_criaUltimoNome(F.col('nome_b')))"
      ],
      "execution_count": 0,
      "outputs": []
    },
    {
      "cell_type": "code",
      "metadata": {
        "id": "-x6UnsiyGlrm",
        "colab_type": "code",
        "outputId": "61cef1a5-d048-49cf-832d-91d07e5fde14",
        "colab": {
          "base_uri": "https://localhost:8080/",
          "height": 472
        }
      },
      "source": [
        "dfl.show()"
      ],
      "execution_count": 0,
      "outputs": [
        {
          "output_type": "stream",
          "text": [
            "+---+-----------+---------+--------+--------------+----------+--------------------+--------------------+------+-----+---------------+--------------------+------+------+--------------+----+----+---------+-----------------+--------------+-----------+--------------------+--------+--------------------+--------------------+----------------+--------------------+---------------+---------------+-------------+-------------+\n",
            "| id|     bairro|      cep|  cidade|           cpf| data_nasc|               email|            endereco|estado|idade|            mae|                nome|numero| signo|tipo_sanguineo|_c15|id_b|    cep_b|         cidade_b|         cpf_b|data_nasc_b|          endereco_b|estado_b|               mae_b|         nome_antigo|tipo_sanguineo_b|              nome_b|primeiro_nome_a|primeiro_nome_b|ultimo_nome_a|ultimo_nome_b|\n",
            "+---+-----------+---------+--------+--------------+----------+--------------------+--------------------+------+-----+---------------+--------------------+------+------+--------------+----+----+---------+-----------------+--------------+-----------+--------------------+--------+--------------------+--------------------+----------------+--------------------+---------------+---------------+-------------+-------------+\n",
            "|  0|Vila Sarney|65090-677|Sao Luis|097.627.958-49|10/09/1948|vicenteolivermont...|2a Travessa do Ri...|    MA|   71|Louise Beatriz |Vicente Oliver Mo...|   738|Virgem|           AB-|null|  01|69304-350|        Boa Vista|506.865.202-46| 22/11/1965|Avenida Mario Hom...|      RR|Isabelle Marcia A...|Felipe Bruno dos ...|             AB-|Felipe Bruno dos ...|        Vicente|         Felipe|     Monteiro|       Santos|\n",
            "|  0|Vila Sarney|65090-677|Sao Luis|097.627.958-49|10/09/1948|vicenteolivermont...|2a Travessa do Ri...|    MA|   71|Louise Beatriz |Vicente Oliver Mo...|   738|Virgem|           AB-|null|  02|78132-360|    Varzea Grande|325.828.867-42|       null|      Rua Rio Cuiaba|      MT|       Alana Isadora|Marcio Heitor Sil...|             AB-|Marcio Heitor Sil...|        Vicente|         Marcio|     Monteiro|     Silveira|\n",
            "|  0|Vila Sarney|65090-677|Sao Luis|097.627.958-49|10/09/1948|vicenteolivermont...|2a Travessa do Ri...|    MA|   71|Louise Beatriz |Vicente Oliver Mo...|   738|Virgem|           AB-|null|  03|88810-336|         Criciuma|284.536.218-88| 23/09/1961|Rua Romeu Lopes d...|      SC|  Caroline Gabriela |Theo Mario Victor...|              A-|Theo Mario Victor...|        Vicente|           Theo|     Monteiro|      Barbosa|\n",
            "|  0|Vila Sarney|65090-677|Sao Luis|097.627.958-49|10/09/1948|vicenteolivermont...|2a Travessa do Ri...|    MA|   71|Louise Beatriz |Vicente Oliver Mo...|   738|Virgem|           AB-|null|  04|60874-405|        Fortaleza|390.375.925-20| 11/05/1981|                null|      CE|       Tereza Bruna |Pietro Henrique d...|             AB-|Pietro Henrique d...|        Vicente|         Pietro|     Monteiro|        Paula|\n",
            "|  0|Vila Sarney|65090-677|Sao Luis|097.627.958-49|10/09/1948|vicenteolivermont...|2a Travessa do Ri...|    MA|   71|Louise Beatriz |Vicente Oliver Mo...|   738|Virgem|           AB-|null|  05|79106-140|     Campo Grande|756.005.387-40| 14/12/1941|     Rua Pato Branco|      MS|      Alice Leticia |Kaique Thiago de ...|              A-|Kaique Thiago de ...|        Vicente|         Kaique|     Monteiro|        Paula|\n",
            "|  0|Vila Sarney|65090-677|Sao Luis|097.627.958-49|10/09/1948|vicenteolivermont...|2a Travessa do Ri...|    MA|   71|Louise Beatriz |Vicente Oliver Mo...|   738|Virgem|           AB-|null|  06|63030-450|Juazeiro do Norte|551.341.139-39| 16/02/1999| Avenida do Contorno|      CE|Elena Agatha Tere...|Gabriel Erick Oli...|              O+|Gabriel Erick Oli...|        Vicente|        Gabriel|     Monteiro|          Luz|\n",
            "|  0|Vila Sarney|65090-677|Sao Luis|097.627.958-49|10/09/1948|vicenteolivermont...|2a Travessa do Ri...|    MA|   71|Louise Beatriz |Vicente Oliver Mo...|   738|Virgem|           AB-|null|  07|84172-370|           Castro|756.048.583-90| 11/03/1982|Rua Major Candido...|    null|Vanessa Camila Ni...|Luan Caue Anthony...|            null|Luan Caue Anthony...|        Vicente|           Luan|     Monteiro|         Mota|\n",
            "|  0|Vila Sarney|65090-677|Sao Luis|097.627.958-49|10/09/1948|vicenteolivermont...|2a Travessa do Ri...|    MA|   71|Louise Beatriz |Vicente Oliver Mo...|   738|Virgem|           AB-|null|  08|69070-555|           Manaus|386.351.591-95| 13/01/1978|                null|      AM|Isabelle Maite Rosa |        Enzo D Rocha|            null|        Enzo D Rocha|        Vicente|           Enzo|     Monteiro|        Rocha|\n",
            "|  0|Vila Sarney|65090-677|Sao Luis|097.627.958-49|10/09/1948|vicenteolivermont...|2a Travessa do Ri...|    MA|   71|Louise Beatriz |Vicente Oliver Mo...|   738|Virgem|           AB-|null|  09|20950-430|   Rio de Janeiro|885.264.747-31| 27/01/2001|         Rua do Amor|      RJ|      Sophie Bianca |Cesar Matheus Cau...|            null|Cesar Matheus Cau...|        Vicente|          Cesar|     Monteiro|    Rodrigues|\n",
            "|  0|Vila Sarney|65090-677|Sao Luis|097.627.958-49|10/09/1948|vicenteolivermont...|2a Travessa do Ri...|    MA|   71|Louise Beatriz |Vicente Oliver Mo...|   738|Virgem|           AB-|null|  10|36071-020|     Juiz de Fora|489.611.821-96|       null|Rua Flavia Rios M...|      MG|Giovana Antonella...|   Caua Isaac Castro|            null|   Caua Isaac Castro|        Vicente|           Caua|     Monteiro|       Castro|\n",
            "|  0|Vila Sarney|65090-677|Sao Luis|097.627.958-49|10/09/1948|vicenteolivermont...|2a Travessa do Ri...|    MA|   71|Louise Beatriz |Vicente Oliver Mo...|   738|Virgem|           AB-|null|  11|75063-120|         Anapolis|281.229.310-14| 08/11/1947|Avenida dos Palmares|      GO|Mariana Mirella N...|Gabriel Caua Marc...|            null|Gabriel Caua Marc...|        Vicente|        Gabriel|     Monteiro|     Caldeira|\n",
            "|  0|Vila Sarney|65090-677|Sao Luis|097.627.958-49|10/09/1948|vicenteolivermont...|2a Travessa do Ri...|    MA|   71|Louise Beatriz |Vicente Oliver Mo...|   738|Virgem|           AB-|null|  12|78731-260|     Rondonopolis|492.264.809-74| 18/04/1969|      Rua Circular-2|      MT|     Rita Ayla Sara |Danilo Severino d...|              B+|Danilo Severino d...|        Vicente|         Danilo|     Monteiro|         Cruz|\n",
            "|  0|Vila Sarney|65090-677|Sao Luis|097.627.958-49|10/09/1948|vicenteolivermont...|2a Travessa do Ri...|    MA|   71|Louise Beatriz |Vicente Oliver Mo...|   738|Virgem|           AB-|null|  13|77818-355|             null|816.876.443-90| 27/03/1972|       Rua Aparecida|      TO|       Louise Joana |   Samuel Noah Lopes|              O-|   Samuel Noah Lopes|        Vicente|         Samuel|     Monteiro|        Lopes|\n",
            "|  0|Vila Sarney|65090-677|Sao Luis|097.627.958-49|10/09/1948|vicenteolivermont...|2a Travessa do Ri...|    MA|   71|Louise Beatriz |Vicente Oliver Mo...|   738|Virgem|           AB-|null|  14|05403-900|             null|327.630.596-86| 10/10/1984|Avenida Doutor En...|      SP|      Heloisa Luzia |Juan Raimundo Osv...|              B+|Juan Raimundo Osv...|        Vicente|           Juan|     Monteiro|      Cardoso|\n",
            "|  0|Vila Sarney|65090-677|Sao Luis|097.627.958-49|10/09/1948|vicenteolivermont...|2a Travessa do Ri...|    MA|   71|Louise Beatriz |Vicente Oliver Mo...|   738|Virgem|           AB-|null|  15|69036-075|             null|181.410.022-95| 05/01/1973|   Beco Sao Pedro II|      AM|Jessica Jaqueline...|Leandro Cesar Jor...|              O-|Leandro Cesar Jor...|        Vicente|        Leandro|     Monteiro|      Drumond|\n",
            "|  0|Vila Sarney|65090-677|Sao Luis|097.627.958-49|10/09/1948|vicenteolivermont...|2a Travessa do Ri...|    MA|   71|Louise Beatriz |Vicente Oliver Mo...|   738|Virgem|           AB-|null|  16|40720-479|             null|843.458.724-64| 12/09/1996|3a Travessa Osval...|      BA|Lara Sabrina Giov...|Caio Julio Kaue Lima|             AB+|Caio Julio Kaue Lima|        Vicente|           Caio|     Monteiro|         Lima|\n",
            "|  0|Vila Sarney|65090-677|Sao Luis|097.627.958-49|10/09/1948|vicenteolivermont...|2a Travessa do Ri...|    MA|   71|Louise Beatriz |Vicente Oliver Mo...|   738|Virgem|           AB-|null|  17|65075-047|             null|134.836.403-39| 21/06/1963|Rua Professora La...|      MA|Leticia Isabelly ...|Guilherme Rafael ...|              A-|Guilherme Rafael ...|        Vicente|      Guilherme|     Monteiro|     Monteiro|\n",
            "|  0|Vila Sarney|65090-677|Sao Luis|097.627.958-49|10/09/1948|vicenteolivermont...|2a Travessa do Ri...|    MA|   71|Louise Beatriz |Vicente Oliver Mo...|   738|Virgem|           AB-|null|  18|79041-061|             null|557.744.519-17| 09/02/1947|     Rua Jacarepagua|      MS|     Gabriela Sueli |Nicolas Edson Araujo|              O-|Nicolas Edson Araujo|        Vicente|        Nicolas|     Monteiro|       Araujo|\n",
            "|  0|Vila Sarney|65090-677|Sao Luis|097.627.958-49|10/09/1948|vicenteolivermont...|2a Travessa do Ri...|    MA|   71|Louise Beatriz |Vicente Oliver Mo...|   738|Virgem|           AB-|null|  19|72236-503|             null|254.321.926-91| 25/05/1988|Quadra EQNP 30/34...|      DF|  Rita Rafaela Lara |Cesar Nelson Dani...|             AB+|Cesar Nelson Dani...|        Vicente|          Cesar|     Monteiro|       Britto|\n",
            "|  0|Vila Sarney|65090-677|Sao Luis|097.627.958-49|10/09/1948|vicenteolivermont...|2a Travessa do Ri...|    MA|   71|Louise Beatriz |Vicente Oliver Mo...|   738|Virgem|           AB-|null|  20|72233-008|         Brasilia|806.443.633-80| 16/02/1941|Quadra QNP 20 Con...|      DF|   Nicole Aparecida |Rodrigo Erick Rob...|              B+|Rodrigo Erick Rob...|        Vicente|        Rodrigo|     Monteiro|      Freitas|\n",
            "+---+-----------+---------+--------+--------------+----------+--------------------+--------------------+------+-----+---------------+--------------------+------+------+--------------+----+----+---------+-----------------+--------------+-----------+--------------------+--------+--------------------+--------------------+----------------+--------------------+---------------+---------------+-------------+-------------+\n",
            "only showing top 20 rows\n",
            "\n"
          ],
          "name": "stdout"
        }
      ]
    },
    {
      "cell_type": "markdown",
      "metadata": {
        "id": "TVh8I5YH3ip6",
        "colab_type": "text"
      },
      "source": [
        "## Criação das colunas com nomes fonéticos"
      ]
    },
    {
      "cell_type": "code",
      "metadata": {
        "id": "pKtpWfd_1YtA",
        "colab_type": "code",
        "colab": {}
      },
      "source": [
        "def criaMetaphone(col):\n",
        "  return jellyfish.metaphone(col)\n",
        "udf_criaMetaphone = F.udf(criaMetaphone, StringType())"
      ],
      "execution_count": 0,
      "outputs": []
    },
    {
      "cell_type": "code",
      "metadata": {
        "id": "fGqFTZym-OZC",
        "colab_type": "code",
        "colab": {}
      },
      "source": [
        "dfl = dfl.withColumn('primeiro_nome_fonetico_a', udf_criaMetaphone(F.col('primeiro_nome_a')))\n",
        "dfl = dfl.withColumn('primeiro_nome_fonetico_b', udf_criaMetaphone(F.col('primeiro_nome_b')))\n",
        "dfl = dfl.withColumn('ultimo_nome_fonetico_a', udf_criaMetaphone(F.col('ultimo_nome_a')))\n",
        "dfl = dfl.withColumn('ultimo_nome_fonetico_b', udf_criaMetaphone(F.col('ultimo_nome_b')))"
      ],
      "execution_count": 0,
      "outputs": []
    },
    {
      "cell_type": "code",
      "metadata": {
        "id": "AI9n2znr2BQT",
        "colab_type": "code",
        "colab": {}
      },
      "source": [
        "dfl = dfl.withColumn('nome_fonetico_a', udf_criaMetaphone(F.col('nome')))\n",
        "dfl = dfl.withColumn('nome_fonetico_b', udf_criaMetaphone(F.col('nome_b')))\n",
        "dfl = dfl.withColumn('nome_fonetico_mae_a', udf_criaMetaphone(F.col('mae')))\n",
        "dfl = dfl.withColumn('nome_fonetico_mae_b', udf_criaMetaphone(F.col('mae_b')))"
      ],
      "execution_count": 0,
      "outputs": []
    },
    {
      "cell_type": "code",
      "metadata": {
        "id": "yYDMSeFo2urt",
        "colab_type": "code",
        "outputId": "30025c14-72ab-4b60-f564-c9541deb38e6",
        "colab": {
          "base_uri": "https://localhost:8080/",
          "height": 472
        }
      },
      "source": [
        "dfl.show()"
      ],
      "execution_count": 0,
      "outputs": [
        {
          "output_type": "stream",
          "text": [
            "+---+-----------+---------+--------+--------------+----------+--------------------+--------------------+------+-----+---------------+--------------------+------+------+--------------+----+----+---------+-----------------+--------------+-----------+--------------------+--------+--------------------+--------------------+----------------+--------------------+---------------+---------------+-------------+-------------+------------------------+------------------------+----------------------+----------------------+---------------+--------------------+-------------------+-------------------+\n",
            "| id|     bairro|      cep|  cidade|           cpf| data_nasc|               email|            endereco|estado|idade|            mae|                nome|numero| signo|tipo_sanguineo|_c15|id_b|    cep_b|         cidade_b|         cpf_b|data_nasc_b|          endereco_b|estado_b|               mae_b|         nome_antigo|tipo_sanguineo_b|              nome_b|primeiro_nome_a|primeiro_nome_b|ultimo_nome_a|ultimo_nome_b|primeiro_nome_fonetico_a|primeiro_nome_fonetico_b|ultimo_nome_fonetico_a|ultimo_nome_fonetico_b|nome_fonetico_a|     nome_fonetico_b|nome_fonetico_mae_a|nome_fonetico_mae_b|\n",
            "+---+-----------+---------+--------+--------------+----------+--------------------+--------------------+------+-----+---------------+--------------------+------+------+--------------+----+----+---------+-----------------+--------------+-----------+--------------------+--------+--------------------+--------------------+----------------+--------------------+---------------+---------------+-------------+-------------+------------------------+------------------------+----------------------+----------------------+---------------+--------------------+-------------------+-------------------+\n",
            "|  0|Vila Sarney|65090-677|Sao Luis|097.627.958-49|10/09/1948|vicenteolivermont...|2a Travessa do Ri...|    MA|   71|Louise Beatriz |Vicente Oliver Mo...|   738|Virgem|           AB-|null|  01|69304-350|        Boa Vista|506.865.202-46| 22/11/1965|Avenida Mario Hom...|      RR|Isabelle Marcia A...|Felipe Bruno dos ...|             AB-|Felipe Bruno dos ...|        Vicente|         Felipe|     Monteiro|       Santos|                    FSNT|                     FLP|                  MNTR|                  SNTS| FSNT OLFR MNTR|     FLP BRN TS SNTS|           LS BTRS |    ISBL MRX ANTNL |\n",
            "|  0|Vila Sarney|65090-677|Sao Luis|097.627.958-49|10/09/1948|vicenteolivermont...|2a Travessa do Ri...|    MA|   71|Louise Beatriz |Vicente Oliver Mo...|   738|Virgem|           AB-|null|  02|78132-360|    Varzea Grande|325.828.867-42|       null|      Rua Rio Cuiaba|      MT|       Alana Isadora|Marcio Heitor Sil...|             AB-|Marcio Heitor Sil...|        Vicente|         Marcio|     Monteiro|     Silveira|                    FSNT|                     MRS|                  MNTR|                  SLFR| FSNT OLFR MNTR|        MRS HTR SLFR|           LS BTRS |           ALN ISTR|\n",
            "|  0|Vila Sarney|65090-677|Sao Luis|097.627.958-49|10/09/1948|vicenteolivermont...|2a Travessa do Ri...|    MA|   71|Louise Beatriz |Vicente Oliver Mo...|   738|Virgem|           AB-|null|  03|88810-336|         Criciuma|284.536.218-88| 23/09/1961|Rua Romeu Lopes d...|      SC|  Caroline Gabriela |Theo Mario Victor...|              A-|Theo Mario Victor...|        Vicente|           Theo|     Monteiro|      Barbosa|                    FSNT|                       0|                  MNTR|                  BRBS| FSNT OLFR MNTR|      0 MR FKTR BRBS|           LS BTRS |         KRLN KBRL |\n",
            "|  0|Vila Sarney|65090-677|Sao Luis|097.627.958-49|10/09/1948|vicenteolivermont...|2a Travessa do Ri...|    MA|   71|Louise Beatriz |Vicente Oliver Mo...|   738|Virgem|           AB-|null|  04|60874-405|        Fortaleza|390.375.925-20| 11/05/1981|                null|      CE|       Tereza Bruna |Pietro Henrique d...|             AB-|Pietro Henrique d...|        Vicente|         Pietro|     Monteiro|        Paula|                    FSNT|                     PTR|                  MNTR|                    PL| FSNT OLFR MNTR|       PTR HNRK T PL|           LS BTRS |           TRS BRN |\n",
            "|  0|Vila Sarney|65090-677|Sao Luis|097.627.958-49|10/09/1948|vicenteolivermont...|2a Travessa do Ri...|    MA|   71|Louise Beatriz |Vicente Oliver Mo...|   738|Virgem|           AB-|null|  05|79106-140|     Campo Grande|756.005.387-40| 14/12/1941|     Rua Pato Branco|      MS|      Alice Leticia |Kaique Thiago de ...|              A-|Kaique Thiago de ...|        Vicente|         Kaique|     Monteiro|        Paula|                    FSNT|                      KK|                  MNTR|                    PL| FSNT OLFR MNTR|          KK 0K T PL|           LS BTRS |           ALS LTX |\n",
            "|  0|Vila Sarney|65090-677|Sao Luis|097.627.958-49|10/09/1948|vicenteolivermont...|2a Travessa do Ri...|    MA|   71|Louise Beatriz |Vicente Oliver Mo...|   738|Virgem|           AB-|null|  06|63030-450|Juazeiro do Norte|551.341.139-39| 16/02/1999| Avenida do Contorno|      CE|Elena Agatha Tere...|Gabriel Erick Oli...|              O+|Gabriel Erick Oli...|        Vicente|        Gabriel|     Monteiro|          Luz|                    FSNT|                    KBRL|                  MNTR|                    LS| FSNT OLFR MNTR|  KBRL ERK OLFR T LS|           LS BTRS |     ELN AK0 TRSNH |\n",
            "|  0|Vila Sarney|65090-677|Sao Luis|097.627.958-49|10/09/1948|vicenteolivermont...|2a Travessa do Ri...|    MA|   71|Louise Beatriz |Vicente Oliver Mo...|   738|Virgem|           AB-|null|  07|84172-370|           Castro|756.048.583-90| 11/03/1982|Rua Major Candido...|    null|Vanessa Camila Ni...|Luan Caue Anthony...|            null|Luan Caue Anthony...|        Vicente|           Luan|     Monteiro|         Mota|                    FSNT|                      LN|                  MNTR|                    MT| FSNT OLFR MNTR|      LN K AN0N T MT|           LS BTRS |       FNS KML NKL |\n",
            "|  0|Vila Sarney|65090-677|Sao Luis|097.627.958-49|10/09/1948|vicenteolivermont...|2a Travessa do Ri...|    MA|   71|Louise Beatriz |Vicente Oliver Mo...|   738|Virgem|           AB-|null|  08|69070-555|           Manaus|386.351.591-95| 13/01/1978|                null|      AM|Isabelle Maite Rosa |        Enzo D Rocha|            null|        Enzo D Rocha|        Vicente|           Enzo|     Monteiro|        Rocha|                    FSNT|                     ENS|                  MNTR|                    RX| FSNT OLFR MNTR|            ENS T RX|           LS BTRS |        ISBL MT RS |\n",
            "|  0|Vila Sarney|65090-677|Sao Luis|097.627.958-49|10/09/1948|vicenteolivermont...|2a Travessa do Ri...|    MA|   71|Louise Beatriz |Vicente Oliver Mo...|   738|Virgem|           AB-|null|  09|20950-430|   Rio de Janeiro|885.264.747-31| 27/01/2001|         Rua do Amor|      RJ|      Sophie Bianca |Cesar Matheus Cau...|            null|Cesar Matheus Cau...|        Vicente|          Cesar|     Monteiro|    Rodrigues|                    FSNT|                     SSR|                  MNTR|                 RTRKS| FSNT OLFR MNTR|     SSR M0S K RTRKS|           LS BTRS |            SF BNK |\n",
            "|  0|Vila Sarney|65090-677|Sao Luis|097.627.958-49|10/09/1948|vicenteolivermont...|2a Travessa do Ri...|    MA|   71|Louise Beatriz |Vicente Oliver Mo...|   738|Virgem|           AB-|null|  10|36071-020|     Juiz de Fora|489.611.821-96|       null|Rua Flavia Rios M...|      MG|Giovana Antonella...|   Caua Isaac Castro|            null|   Caua Isaac Castro|        Vicente|           Caua|     Monteiro|       Castro|                    FSNT|                       K|                  MNTR|                  KSTR| FSNT OLFR MNTR|          K ISK KSTR|           LS BTRS |     JFN ANTNL LRS |\n",
            "|  0|Vila Sarney|65090-677|Sao Luis|097.627.958-49|10/09/1948|vicenteolivermont...|2a Travessa do Ri...|    MA|   71|Louise Beatriz |Vicente Oliver Mo...|   738|Virgem|           AB-|null|  11|75063-120|         Anapolis|281.229.310-14| 08/11/1947|Avenida dos Palmares|      GO|Mariana Mirella N...|Gabriel Caua Marc...|            null|Gabriel Caua Marc...|        Vicente|        Gabriel|     Monteiro|     Caldeira|                    FSNT|                    KBRL|                  MNTR|                  KLTR| FSNT OLFR MNTR|KBRL K MRKS FNSS ...|           LS BTRS |       MRN MRL NTL |\n",
            "|  0|Vila Sarney|65090-677|Sao Luis|097.627.958-49|10/09/1948|vicenteolivermont...|2a Travessa do Ri...|    MA|   71|Louise Beatriz |Vicente Oliver Mo...|   738|Virgem|           AB-|null|  12|78731-260|     Rondonopolis|492.264.809-74| 18/04/1969|      Rua Circular-2|      MT|     Rita Ayla Sara |Danilo Severino d...|              B+|Danilo Severino d...|        Vicente|         Danilo|     Monteiro|         Cruz|                    FSNT|                     TNL|                  MNTR|                   KRS| FSNT OLFR MNTR|      TNL SFRN T KRS|           LS BTRS |          RT AL SR |\n",
            "|  0|Vila Sarney|65090-677|Sao Luis|097.627.958-49|10/09/1948|vicenteolivermont...|2a Travessa do Ri...|    MA|   71|Louise Beatriz |Vicente Oliver Mo...|   738|Virgem|           AB-|null|  13|77818-355|             null|816.876.443-90| 27/03/1972|       Rua Aparecida|      TO|       Louise Joana |   Samuel Noah Lopes|              O-|   Samuel Noah Lopes|        Vicente|         Samuel|     Monteiro|        Lopes|                    FSNT|                     SML|                  MNTR|                   LPS| FSNT OLFR MNTR|           SML N LPS|           LS BTRS |             LS JN |\n",
            "|  0|Vila Sarney|65090-677|Sao Luis|097.627.958-49|10/09/1948|vicenteolivermont...|2a Travessa do Ri...|    MA|   71|Louise Beatriz |Vicente Oliver Mo...|   738|Virgem|           AB-|null|  14|05403-900|             null|327.630.596-86| 10/10/1984|Avenida Doutor En...|      SP|      Heloisa Luzia |Juan Raimundo Osv...|              B+|Juan Raimundo Osv...|        Vicente|           Juan|     Monteiro|      Cardoso|                    FSNT|                      JN|                  MNTR|                  KRTS| FSNT OLFR MNTR|  JN RMNT OSFLT KRTS|           LS BTRS |            HLS LS |\n",
            "|  0|Vila Sarney|65090-677|Sao Luis|097.627.958-49|10/09/1948|vicenteolivermont...|2a Travessa do Ri...|    MA|   71|Louise Beatriz |Vicente Oliver Mo...|   738|Virgem|           AB-|null|  15|69036-075|             null|181.410.022-95| 05/01/1973|   Beco Sao Pedro II|      AM|Jessica Jaqueline...|Leandro Cesar Jor...|              O-|Leandro Cesar Jor...|        Vicente|        Leandro|     Monteiro|      Drumond|                    FSNT|                    LNTR|                  MNTR|                 TRMNT| FSNT OLFR MNTR|  LNTR SSR JRJ TRMNT|           LS BTRS |      JSK JKLN FLF |\n",
            "|  0|Vila Sarney|65090-677|Sao Luis|097.627.958-49|10/09/1948|vicenteolivermont...|2a Travessa do Ri...|    MA|   71|Louise Beatriz |Vicente Oliver Mo...|   738|Virgem|           AB-|null|  16|40720-479|             null|843.458.724-64| 12/09/1996|3a Travessa Osval...|      BA|Lara Sabrina Giov...|Caio Julio Kaue Lima|             AB+|Caio Julio Kaue Lima|        Vicente|           Caio|     Monteiro|         Lima|                    FSNT|                       K|                  MNTR|                    LM| FSNT OLFR MNTR|           K JL K LM|           LS BTRS |       LR SBRN JFN |\n",
            "|  0|Vila Sarney|65090-677|Sao Luis|097.627.958-49|10/09/1948|vicenteolivermont...|2a Travessa do Ri...|    MA|   71|Louise Beatriz |Vicente Oliver Mo...|   738|Virgem|           AB-|null|  17|65075-047|             null|134.836.403-39| 21/06/1963|Rua Professora La...|      MA|Leticia Isabelly ...|Guilherme Rafael ...|              A-|Guilherme Rafael ...|        Vicente|      Guilherme|     Monteiro|     Monteiro|                    FSNT|                   KLHRM|                  MNTR|                  MNTR| FSNT OLFR MNTR|  KLHRM RFL KFN MNTR|           LS BTRS |     LTX ISBL STFN |\n",
            "|  0|Vila Sarney|65090-677|Sao Luis|097.627.958-49|10/09/1948|vicenteolivermont...|2a Travessa do Ri...|    MA|   71|Louise Beatriz |Vicente Oliver Mo...|   738|Virgem|           AB-|null|  18|79041-061|             null|557.744.519-17| 09/02/1947|     Rua Jacarepagua|      MS|     Gabriela Sueli |Nicolas Edson Araujo|              O-|Nicolas Edson Araujo|        Vicente|        Nicolas|     Monteiro|       Araujo|                    FSNT|                    NKLS|                  MNTR|                   ARJ| FSNT OLFR MNTR|       NKLS ETSN ARJ|           LS BTRS |           KBRL SL |\n",
            "|  0|Vila Sarney|65090-677|Sao Luis|097.627.958-49|10/09/1948|vicenteolivermont...|2a Travessa do Ri...|    MA|   71|Louise Beatriz |Vicente Oliver Mo...|   738|Virgem|           AB-|null|  19|72236-503|             null|254.321.926-91| 25/05/1988|Quadra EQNP 30/34...|      DF|  Rita Rafaela Lara |Cesar Nelson Dani...|             AB+|Cesar Nelson Dani...|        Vicente|          Cesar|     Monteiro|       Britto|                    FSNT|                     SSR|                  MNTR|                   BRT| FSNT OLFR MNTR|    SSR NLSN TNL BRT|           LS BTRS |         RT RFL LR |\n",
            "|  0|Vila Sarney|65090-677|Sao Luis|097.627.958-49|10/09/1948|vicenteolivermont...|2a Travessa do Ri...|    MA|   71|Louise Beatriz |Vicente Oliver Mo...|   738|Virgem|           AB-|null|  20|72233-008|         Brasilia|806.443.633-80| 16/02/1941|Quadra QNP 20 Con...|      DF|   Nicole Aparecida |Rodrigo Erick Rob...|              B+|Rodrigo Erick Rob...|        Vicente|        Rodrigo|     Monteiro|      Freitas|                    FSNT|                    RTRK|                  MNTR|                  FRTS| FSNT OLFR MNTR|  RTRK ERK RBRT FRTS|           LS BTRS |         NKL APRST |\n",
            "+---+-----------+---------+--------+--------------+----------+--------------------+--------------------+------+-----+---------------+--------------------+------+------+--------------+----+----+---------+-----------------+--------------+-----------+--------------------+--------+--------------------+--------------------+----------------+--------------------+---------------+---------------+-------------+-------------+------------------------+------------------------+----------------------+----------------------+---------------+--------------------+-------------------+-------------------+\n",
            "only showing top 20 rows\n",
            "\n"
          ],
          "name": "stdout"
        }
      ]
    },
    {
      "cell_type": "code",
      "metadata": {
        "id": "lYiuN4Vy23C5",
        "colab_type": "code",
        "outputId": "55ea4cb2-f041-486e-8ad6-5bd0841664e3",
        "colab": {
          "base_uri": "https://localhost:8080/",
          "height": 702
        }
      },
      "source": [
        "dfl.printSchema()"
      ],
      "execution_count": 0,
      "outputs": [
        {
          "output_type": "stream",
          "text": [
            "root\n",
            " |-- id: string (nullable = true)\n",
            " |-- bairro: string (nullable = true)\n",
            " |-- cep: string (nullable = true)\n",
            " |-- cidade: string (nullable = true)\n",
            " |-- cpf: string (nullable = true)\n",
            " |-- data_nasc: string (nullable = true)\n",
            " |-- email: string (nullable = true)\n",
            " |-- endereco: string (nullable = true)\n",
            " |-- estado: string (nullable = true)\n",
            " |-- idade: string (nullable = true)\n",
            " |-- mae: string (nullable = true)\n",
            " |-- nome: string (nullable = true)\n",
            " |-- numero: string (nullable = true)\n",
            " |-- signo: string (nullable = true)\n",
            " |-- tipo_sanguineo: string (nullable = true)\n",
            " |-- _c15: string (nullable = true)\n",
            " |-- id_b: string (nullable = true)\n",
            " |-- cep_b: string (nullable = true)\n",
            " |-- cidade_b: string (nullable = true)\n",
            " |-- cpf_b: string (nullable = true)\n",
            " |-- data_nasc_b: string (nullable = true)\n",
            " |-- endereco_b: string (nullable = true)\n",
            " |-- estado_b: string (nullable = true)\n",
            " |-- mae_b: string (nullable = true)\n",
            " |-- nome_antigo: string (nullable = true)\n",
            " |-- tipo_sanguineo_b: string (nullable = true)\n",
            " |-- nome_b: string (nullable = true)\n",
            " |-- primeiro_nome_a: string (nullable = true)\n",
            " |-- primeiro_nome_b: string (nullable = true)\n",
            " |-- ultimo_nome_a: string (nullable = true)\n",
            " |-- ultimo_nome_b: string (nullable = true)\n",
            " |-- primeiro_nome_fonetico_a: string (nullable = true)\n",
            " |-- primeiro_nome_fonetico_b: string (nullable = true)\n",
            " |-- ultimo_nome_fonetico_a: string (nullable = true)\n",
            " |-- ultimo_nome_fonetico_b: string (nullable = true)\n",
            " |-- nome_fonetico_a: string (nullable = true)\n",
            " |-- nome_fonetico_b: string (nullable = true)\n",
            " |-- nome_fonetico_mae_a: string (nullable = true)\n",
            " |-- nome_fonetico_mae_b: string (nullable = true)\n",
            "\n"
          ],
          "name": "stdout"
        }
      ]
    },
    {
      "cell_type": "markdown",
      "metadata": {
        "id": "xI9idf0j3rvs",
        "colab_type": "text"
      },
      "source": [
        "## Criação da Função de Similaridade"
      ]
    },
    {
      "cell_type": "code",
      "metadata": {
        "id": "4eOQ9ToC23q3",
        "colab_type": "code",
        "colab": {}
      },
      "source": [
        "def compare(primeiro_nome_fonetico_a, ultimo_nome_fonetico_a, nome_fonetico_mae_a, primeiro_nome_fonetico_b, ultimo_nome_fonetico_b, nome_fonetico_mae_b):\n",
        "  sim = 0\n",
        "  \n",
        "  #comparando atributos nominais (Phyton 3)\n",
        "  sim = jellyfish.jaro_winkler(primeiro_nome_fonetico_a.encode('utf-8'), primeiro_nome_fonetico_b.encode('utf-8'))\n",
        "  sim += jellyfish.jaro_winkler(ultimo_nome_fonetico_a.encode('utf-8'), ultimo_nome_fonetico_b.encode('utf-8'))\n",
        "  sim += jellyfish.jaro_winkler(nome_fonetico_mae_a.encode('utf-8'), nome_fonetico_mae_b.encode('utf-8'))\n",
        "  \n",
        "  #comparando atributos nominais (Phyton 2)\n",
        "  #  sim = jellyfish.jaro_winkler(primeiro_nome_fonetico_a.encode('utf-8'), primeiro_nome_fonetico_b.encode('utf-8'))\n",
        "  #  sim += jellyfish.jaro_winkler(unicode(ultimo_nome_fonetico_a), unicode(ultimo_nome_fonetico_b))\n",
        "  #  sim += jellyfish.jaro_winkler(unicode(nome_fonetico_mae_a), unicode(nome_fonetico_mae_b))\n",
        "  \n",
        "  #Media aritmética simples\n",
        "  sim = str(abs(float(sim/3)))\n",
        "  \n",
        "  return sim\n",
        "\n",
        "udf_compare = F.udf(compare, StringType())                           "
      ],
      "execution_count": 0,
      "outputs": []
    },
    {
      "cell_type": "code",
      "metadata": {
        "id": "bBe8z8R8P1YI",
        "colab_type": "code",
        "colab": {}
      },
      "source": [
        "# import unicodedata"
      ],
      "execution_count": 0,
      "outputs": []
    },
    {
      "cell_type": "markdown",
      "metadata": {
        "id": "NTNYJz_sCUQj",
        "colab_type": "text"
      },
      "source": [
        "## Rodando Comparação\n"
      ]
    },
    {
      "cell_type": "code",
      "metadata": {
        "id": "2ohXVDksCZgM",
        "colab_type": "code",
        "colab": {}
      },
      "source": [
        "dfr = dfl.withColumn('similaridade', udf_compare(F.col('primeiro_nome_fonetico_a'), \n",
        "                                                 F.col('ultimo_nome_fonetico_a'), \n",
        "                                                 F.col('nome_fonetico_mae_a'), \n",
        "                                                 F.col('primeiro_nome_fonetico_b'),\n",
        "                                                 F.col('ultimo_nome_fonetico_b'),\n",
        "                                                 F.col('nome_fonetico_mae_b')))"
      ],
      "execution_count": 0,
      "outputs": []
    },
    {
      "cell_type": "code",
      "metadata": {
        "id": "cEK387nvFGf6",
        "colab_type": "code",
        "outputId": "cc657e53-6e58-4f78-a376-ebe35bb51a61",
        "colab": {
          "base_uri": "https://localhost:8080/",
          "height": 2648
        }
      },
      "source": [
        "dfr.show()"
      ],
      "execution_count": 0,
      "outputs": [
        {
          "output_type": "error",
          "ename": "Py4JJavaError",
          "evalue": "ignored",
          "traceback": [
            "\u001b[0;31m---------------------------------------------------------------------------\u001b[0m",
            "\u001b[0;31mPy4JJavaError\u001b[0m                             Traceback (most recent call last)",
            "\u001b[0;32m<ipython-input-34-dfdd9d6c0b8e>\u001b[0m in \u001b[0;36m<module>\u001b[0;34m()\u001b[0m\n\u001b[0;32m----> 1\u001b[0;31m \u001b[0mdfr\u001b[0m\u001b[0;34m.\u001b[0m\u001b[0mshow\u001b[0m\u001b[0;34m(\u001b[0m\u001b[0;34m)\u001b[0m\u001b[0;34m\u001b[0m\u001b[0;34m\u001b[0m\u001b[0m\n\u001b[0m",
            "\u001b[0;32m/content/spark-2.4.2-bin-hadoop2.7/python/pyspark/sql/dataframe.py\u001b[0m in \u001b[0;36mshow\u001b[0;34m(self, n, truncate, vertical)\u001b[0m\n\u001b[1;32m    376\u001b[0m         \"\"\"\n\u001b[1;32m    377\u001b[0m         \u001b[0;32mif\u001b[0m \u001b[0misinstance\u001b[0m\u001b[0;34m(\u001b[0m\u001b[0mtruncate\u001b[0m\u001b[0;34m,\u001b[0m \u001b[0mbool\u001b[0m\u001b[0;34m)\u001b[0m \u001b[0;32mand\u001b[0m \u001b[0mtruncate\u001b[0m\u001b[0;34m:\u001b[0m\u001b[0;34m\u001b[0m\u001b[0;34m\u001b[0m\u001b[0m\n\u001b[0;32m--> 378\u001b[0;31m             \u001b[0mprint\u001b[0m\u001b[0;34m(\u001b[0m\u001b[0mself\u001b[0m\u001b[0;34m.\u001b[0m\u001b[0m_jdf\u001b[0m\u001b[0;34m.\u001b[0m\u001b[0mshowString\u001b[0m\u001b[0;34m(\u001b[0m\u001b[0mn\u001b[0m\u001b[0;34m,\u001b[0m \u001b[0;36m20\u001b[0m\u001b[0;34m,\u001b[0m \u001b[0mvertical\u001b[0m\u001b[0;34m)\u001b[0m\u001b[0;34m)\u001b[0m\u001b[0;34m\u001b[0m\u001b[0;34m\u001b[0m\u001b[0m\n\u001b[0m\u001b[1;32m    379\u001b[0m         \u001b[0;32melse\u001b[0m\u001b[0;34m:\u001b[0m\u001b[0;34m\u001b[0m\u001b[0;34m\u001b[0m\u001b[0m\n\u001b[1;32m    380\u001b[0m             \u001b[0mprint\u001b[0m\u001b[0;34m(\u001b[0m\u001b[0mself\u001b[0m\u001b[0;34m.\u001b[0m\u001b[0m_jdf\u001b[0m\u001b[0;34m.\u001b[0m\u001b[0mshowString\u001b[0m\u001b[0;34m(\u001b[0m\u001b[0mn\u001b[0m\u001b[0;34m,\u001b[0m \u001b[0mint\u001b[0m\u001b[0;34m(\u001b[0m\u001b[0mtruncate\u001b[0m\u001b[0;34m)\u001b[0m\u001b[0;34m,\u001b[0m \u001b[0mvertical\u001b[0m\u001b[0;34m)\u001b[0m\u001b[0;34m)\u001b[0m\u001b[0;34m\u001b[0m\u001b[0;34m\u001b[0m\u001b[0m\n",
            "\u001b[0;32m/content/spark-2.4.2-bin-hadoop2.7/python/lib/py4j-0.10.7-src.zip/py4j/java_gateway.py\u001b[0m in \u001b[0;36m__call__\u001b[0;34m(self, *args)\u001b[0m\n\u001b[1;32m   1255\u001b[0m         \u001b[0manswer\u001b[0m \u001b[0;34m=\u001b[0m \u001b[0mself\u001b[0m\u001b[0;34m.\u001b[0m\u001b[0mgateway_client\u001b[0m\u001b[0;34m.\u001b[0m\u001b[0msend_command\u001b[0m\u001b[0;34m(\u001b[0m\u001b[0mcommand\u001b[0m\u001b[0;34m)\u001b[0m\u001b[0;34m\u001b[0m\u001b[0;34m\u001b[0m\u001b[0m\n\u001b[1;32m   1256\u001b[0m         return_value = get_return_value(\n\u001b[0;32m-> 1257\u001b[0;31m             answer, self.gateway_client, self.target_id, self.name)\n\u001b[0m\u001b[1;32m   1258\u001b[0m \u001b[0;34m\u001b[0m\u001b[0m\n\u001b[1;32m   1259\u001b[0m         \u001b[0;32mfor\u001b[0m \u001b[0mtemp_arg\u001b[0m \u001b[0;32min\u001b[0m \u001b[0mtemp_args\u001b[0m\u001b[0;34m:\u001b[0m\u001b[0;34m\u001b[0m\u001b[0;34m\u001b[0m\u001b[0m\n",
            "\u001b[0;32m/content/spark-2.4.2-bin-hadoop2.7/python/pyspark/sql/utils.py\u001b[0m in \u001b[0;36mdeco\u001b[0;34m(*a, **kw)\u001b[0m\n\u001b[1;32m     61\u001b[0m     \u001b[0;32mdef\u001b[0m \u001b[0mdeco\u001b[0m\u001b[0;34m(\u001b[0m\u001b[0;34m*\u001b[0m\u001b[0ma\u001b[0m\u001b[0;34m,\u001b[0m \u001b[0;34m**\u001b[0m\u001b[0mkw\u001b[0m\u001b[0;34m)\u001b[0m\u001b[0;34m:\u001b[0m\u001b[0;34m\u001b[0m\u001b[0;34m\u001b[0m\u001b[0m\n\u001b[1;32m     62\u001b[0m         \u001b[0;32mtry\u001b[0m\u001b[0;34m:\u001b[0m\u001b[0;34m\u001b[0m\u001b[0;34m\u001b[0m\u001b[0m\n\u001b[0;32m---> 63\u001b[0;31m             \u001b[0;32mreturn\u001b[0m \u001b[0mf\u001b[0m\u001b[0;34m(\u001b[0m\u001b[0;34m*\u001b[0m\u001b[0ma\u001b[0m\u001b[0;34m,\u001b[0m \u001b[0;34m**\u001b[0m\u001b[0mkw\u001b[0m\u001b[0;34m)\u001b[0m\u001b[0;34m\u001b[0m\u001b[0;34m\u001b[0m\u001b[0m\n\u001b[0m\u001b[1;32m     64\u001b[0m         \u001b[0;32mexcept\u001b[0m \u001b[0mpy4j\u001b[0m\u001b[0;34m.\u001b[0m\u001b[0mprotocol\u001b[0m\u001b[0;34m.\u001b[0m\u001b[0mPy4JJavaError\u001b[0m \u001b[0;32mas\u001b[0m \u001b[0me\u001b[0m\u001b[0;34m:\u001b[0m\u001b[0;34m\u001b[0m\u001b[0;34m\u001b[0m\u001b[0m\n\u001b[1;32m     65\u001b[0m             \u001b[0ms\u001b[0m \u001b[0;34m=\u001b[0m \u001b[0me\u001b[0m\u001b[0;34m.\u001b[0m\u001b[0mjava_exception\u001b[0m\u001b[0;34m.\u001b[0m\u001b[0mtoString\u001b[0m\u001b[0;34m(\u001b[0m\u001b[0;34m)\u001b[0m\u001b[0;34m\u001b[0m\u001b[0;34m\u001b[0m\u001b[0m\n",
            "\u001b[0;32m/content/spark-2.4.2-bin-hadoop2.7/python/lib/py4j-0.10.7-src.zip/py4j/protocol.py\u001b[0m in \u001b[0;36mget_return_value\u001b[0;34m(answer, gateway_client, target_id, name)\u001b[0m\n\u001b[1;32m    326\u001b[0m                 raise Py4JJavaError(\n\u001b[1;32m    327\u001b[0m                     \u001b[0;34m\"An error occurred while calling {0}{1}{2}.\\n\"\u001b[0m\u001b[0;34m.\u001b[0m\u001b[0;34m\u001b[0m\u001b[0;34m\u001b[0m\u001b[0m\n\u001b[0;32m--> 328\u001b[0;31m                     format(target_id, \".\", name), value)\n\u001b[0m\u001b[1;32m    329\u001b[0m             \u001b[0;32melse\u001b[0m\u001b[0;34m:\u001b[0m\u001b[0;34m\u001b[0m\u001b[0;34m\u001b[0m\u001b[0m\n\u001b[1;32m    330\u001b[0m                 raise Py4JError(\n",
            "\u001b[0;31mPy4JJavaError\u001b[0m: An error occurred while calling o208.showString.\n: org.apache.spark.SparkException: Job aborted due to stage failure: Task 0 in stage 21.0 failed 1 times, most recent failure: Lost task 0.0 in stage 21.0 (TID 21, localhost, executor driver): org.apache.spark.api.python.PythonException: Traceback (most recent call last):\n  File \"/content/spark-2.4.2-bin-hadoop2.7/python/lib/pyspark.zip/pyspark/worker.py\", line 377, in main\n    process()\n  File \"/content/spark-2.4.2-bin-hadoop2.7/python/lib/pyspark.zip/pyspark/worker.py\", line 372, in process\n    serializer.dump_stream(func(split_index, iterator), outfile)\n  File \"/content/spark-2.4.2-bin-hadoop2.7/python/lib/pyspark.zip/pyspark/serializers.py\", line 345, in dump_stream\n    self.serializer.dump_stream(self._batched(iterator), stream)\n  File \"/content/spark-2.4.2-bin-hadoop2.7/python/lib/pyspark.zip/pyspark/serializers.py\", line 141, in dump_stream\n    for obj in iterator:\n  File \"/content/spark-2.4.2-bin-hadoop2.7/python/lib/pyspark.zip/pyspark/serializers.py\", line 334, in _batched\n    for item in iterator:\n  File \"<string>\", line 1, in <lambda>\n  File \"/content/spark-2.4.2-bin-hadoop2.7/python/lib/pyspark.zip/pyspark/worker.py\", line 85, in <lambda>\n    return lambda *a: f(*a)\n  File \"/content/spark-2.4.2-bin-hadoop2.7/python/lib/pyspark.zip/pyspark/util.py\", line 99, in wrapper\n    return f(*args, **kwargs)\n  File \"<ipython-input-31-d7fc86852511>\", line 5, in compare\nTypeError: str argument expected\n\n\tat org.apache.spark.api.python.BasePythonRunner$ReaderIterator.handlePythonException(PythonRunner.scala:453)\n\tat org.apache.spark.sql.execution.python.PythonUDFRunner$$anon$2.read(PythonUDFRunner.scala:81)\n\tat org.apache.spark.sql.execution.python.PythonUDFRunner$$anon$2.read(PythonUDFRunner.scala:64)\n\tat org.apache.spark.api.python.BasePythonRunner$ReaderIterator.hasNext(PythonRunner.scala:406)\n\tat org.apache.spark.InterruptibleIterator.hasNext(InterruptibleIterator.scala:37)\n\tat scala.collection.Iterator$$anon$11.hasNext(Iterator.scala:489)\n\tat scala.collection.Iterator$$anon$10.hasNext(Iterator.scala:458)\n\tat scala.collection.Iterator$$anon$10.hasNext(Iterator.scala:458)\n\tat org.apache.spark.sql.catalyst.expressions.GeneratedClass$GeneratedIteratorForCodegenStage4.processNext(Unknown Source)\n\tat org.apache.spark.sql.execution.BufferedRowIterator.hasNext(BufferedRowIterator.java:43)\n\tat org.apache.spark.sql.execution.WholeStageCodegenExec$$anon$2.hasNext(WholeStageCodegenExec.scala:636)\n\tat org.apache.spark.sql.execution.SparkPlan.$anonfun$getByteArrayRdd$1(SparkPlan.scala:255)\n\tat org.apache.spark.rdd.RDD.$anonfun$mapPartitionsInternal$2(RDD.scala:836)\n\tat org.apache.spark.rdd.RDD.$anonfun$mapPartitionsInternal$2$adapted(RDD.scala:836)\n\tat org.apache.spark.rdd.MapPartitionsRDD.compute(MapPartitionsRDD.scala:52)\n\tat org.apache.spark.rdd.RDD.computeOrReadCheckpoint(RDD.scala:324)\n\tat org.apache.spark.rdd.RDD.iterator(RDD.scala:288)\n\tat org.apache.spark.rdd.MapPartitionsRDD.compute(MapPartitionsRDD.scala:52)\n\tat org.apache.spark.rdd.RDD.computeOrReadCheckpoint(RDD.scala:324)\n\tat org.apache.spark.rdd.RDD.iterator(RDD.scala:288)\n\tat org.apache.spark.scheduler.ResultTask.runTask(ResultTask.scala:90)\n\tat org.apache.spark.scheduler.Task.run(Task.scala:121)\n\tat org.apache.spark.executor.Executor$TaskRunner.$anonfun$run$3(Executor.scala:411)\n\tat org.apache.spark.util.Utils$.tryWithSafeFinally(Utils.scala:1360)\n\tat org.apache.spark.executor.Executor$TaskRunner.run(Executor.scala:414)\n\tat java.base/java.util.concurrent.ThreadPoolExecutor.runWorker(ThreadPoolExecutor.java:1128)\n\tat java.base/java.util.concurrent.ThreadPoolExecutor$Worker.run(ThreadPoolExecutor.java:628)\n\tat java.base/java.lang.Thread.run(Thread.java:834)\n\nDriver stacktrace:\n\tat org.apache.spark.scheduler.DAGScheduler.failJobAndIndependentStages(DAGScheduler.scala:1889)\n\tat org.apache.spark.scheduler.DAGScheduler.$anonfun$abortStage$2(DAGScheduler.scala:1877)\n\tat org.apache.spark.scheduler.DAGScheduler.$anonfun$abortStage$2$adapted(DAGScheduler.scala:1876)\n\tat scala.collection.mutable.ResizableArray.foreach(ResizableArray.scala:62)\n\tat scala.collection.mutable.ResizableArray.foreach$(ResizableArray.scala:55)\n\tat scala.collection.mutable.ArrayBuffer.foreach(ArrayBuffer.scala:49)\n\tat org.apache.spark.scheduler.DAGScheduler.abortStage(DAGScheduler.scala:1876)\n\tat org.apache.spark.scheduler.DAGScheduler.$anonfun$handleTaskSetFailed$1(DAGScheduler.scala:926)\n\tat org.apache.spark.scheduler.DAGScheduler.$anonfun$handleTaskSetFailed$1$adapted(DAGScheduler.scala:926)\n\tat scala.Option.foreach(Option.scala:274)\n\tat org.apache.spark.scheduler.DAGScheduler.handleTaskSetFailed(DAGScheduler.scala:926)\n\tat org.apache.spark.scheduler.DAGSchedulerEventProcessLoop.doOnReceive(DAGScheduler.scala:2110)\n\tat org.apache.spark.scheduler.DAGSchedulerEventProcessLoop.onReceive(DAGScheduler.scala:2059)\n\tat org.apache.spark.scheduler.DAGSchedulerEventProcessLoop.onReceive(DAGScheduler.scala:2048)\n\tat org.apache.spark.util.EventLoop$$anon$1.run(EventLoop.scala:49)\n\tat org.apache.spark.scheduler.DAGScheduler.runJob(DAGScheduler.scala:737)\n\tat org.apache.spark.SparkContext.runJob(SparkContext.scala:2061)\n\tat org.apache.spark.SparkContext.runJob(SparkContext.scala:2082)\n\tat org.apache.spark.SparkContext.runJob(SparkContext.scala:2101)\n\tat org.apache.spark.sql.execution.SparkPlan.executeTake(SparkPlan.scala:365)\n\tat org.apache.spark.sql.execution.CollectLimitExec.executeCollect(limit.scala:38)\n\tat org.apache.spark.sql.Dataset.collectFromPlan(Dataset.scala:3383)\n\tat org.apache.spark.sql.Dataset.$anonfun$head$1(Dataset.scala:2544)\n\tat org.apache.spark.sql.Dataset.$anonfun$withAction$2(Dataset.scala:3364)\n\tat org.apache.spark.sql.execution.SQLExecution$.$anonfun$withNewExecutionId$1(SQLExecution.scala:78)\n\tat org.apache.spark.sql.execution.SQLExecution$.withSQLConfPropagated(SQLExecution.scala:125)\n\tat org.apache.spark.sql.execution.SQLExecution$.withNewExecutionId(SQLExecution.scala:73)\n\tat org.apache.spark.sql.Dataset.withAction(Dataset.scala:3364)\n\tat org.apache.spark.sql.Dataset.head(Dataset.scala:2544)\n\tat org.apache.spark.sql.Dataset.take(Dataset.scala:2758)\n\tat org.apache.spark.sql.Dataset.getRows(Dataset.scala:254)\n\tat org.apache.spark.sql.Dataset.showString(Dataset.scala:291)\n\tat java.base/jdk.internal.reflect.NativeMethodAccessorImpl.invoke0(Native Method)\n\tat java.base/jdk.internal.reflect.NativeMethodAccessorImpl.invoke(NativeMethodAccessorImpl.java:62)\n\tat java.base/jdk.internal.reflect.DelegatingMethodAccessorImpl.invoke(DelegatingMethodAccessorImpl.java:43)\n\tat java.base/java.lang.reflect.Method.invoke(Method.java:566)\n\tat py4j.reflection.MethodInvoker.invoke(MethodInvoker.java:244)\n\tat py4j.reflection.ReflectionEngine.invoke(ReflectionEngine.java:357)\n\tat py4j.Gateway.invoke(Gateway.java:282)\n\tat py4j.commands.AbstractCommand.invokeMethod(AbstractCommand.java:132)\n\tat py4j.commands.CallCommand.execute(CallCommand.java:79)\n\tat py4j.GatewayConnection.run(GatewayConnection.java:238)\n\tat java.base/java.lang.Thread.run(Thread.java:834)\nCaused by: org.apache.spark.api.python.PythonException: Traceback (most recent call last):\n  File \"/content/spark-2.4.2-bin-hadoop2.7/python/lib/pyspark.zip/pyspark/worker.py\", line 377, in main\n    process()\n  File \"/content/spark-2.4.2-bin-hadoop2.7/python/lib/pyspark.zip/pyspark/worker.py\", line 372, in process\n    serializer.dump_stream(func(split_index, iterator), outfile)\n  File \"/content/spark-2.4.2-bin-hadoop2.7/python/lib/pyspark.zip/pyspark/serializers.py\", line 345, in dump_stream\n    self.serializer.dump_stream(self._batched(iterator), stream)\n  File \"/content/spark-2.4.2-bin-hadoop2.7/python/lib/pyspark.zip/pyspark/serializers.py\", line 141, in dump_stream\n    for obj in iterator:\n  File \"/content/spark-2.4.2-bin-hadoop2.7/python/lib/pyspark.zip/pyspark/serializers.py\", line 334, in _batched\n    for item in iterator:\n  File \"<string>\", line 1, in <lambda>\n  File \"/content/spark-2.4.2-bin-hadoop2.7/python/lib/pyspark.zip/pyspark/worker.py\", line 85, in <lambda>\n    return lambda *a: f(*a)\n  File \"/content/spark-2.4.2-bin-hadoop2.7/python/lib/pyspark.zip/pyspark/util.py\", line 99, in wrapper\n    return f(*args, **kwargs)\n  File \"<ipython-input-31-d7fc86852511>\", line 5, in compare\nTypeError: str argument expected\n\n\tat org.apache.spark.api.python.BasePythonRunner$ReaderIterator.handlePythonException(PythonRunner.scala:453)\n\tat org.apache.spark.sql.execution.python.PythonUDFRunner$$anon$2.read(PythonUDFRunner.scala:81)\n\tat org.apache.spark.sql.execution.python.PythonUDFRunner$$anon$2.read(PythonUDFRunner.scala:64)\n\tat org.apache.spark.api.python.BasePythonRunner$ReaderIterator.hasNext(PythonRunner.scala:406)\n\tat org.apache.spark.InterruptibleIterator.hasNext(InterruptibleIterator.scala:37)\n\tat scala.collection.Iterator$$anon$11.hasNext(Iterator.scala:489)\n\tat scala.collection.Iterator$$anon$10.hasNext(Iterator.scala:458)\n\tat scala.collection.Iterator$$anon$10.hasNext(Iterator.scala:458)\n\tat org.apache.spark.sql.catalyst.expressions.GeneratedClass$GeneratedIteratorForCodegenStage4.processNext(Unknown Source)\n\tat org.apache.spark.sql.execution.BufferedRowIterator.hasNext(BufferedRowIterator.java:43)\n\tat org.apache.spark.sql.execution.WholeStageCodegenExec$$anon$2.hasNext(WholeStageCodegenExec.scala:636)\n\tat org.apache.spark.sql.execution.SparkPlan.$anonfun$getByteArrayRdd$1(SparkPlan.scala:255)\n\tat org.apache.spark.rdd.RDD.$anonfun$mapPartitionsInternal$2(RDD.scala:836)\n\tat org.apache.spark.rdd.RDD.$anonfun$mapPartitionsInternal$2$adapted(RDD.scala:836)\n\tat org.apache.spark.rdd.MapPartitionsRDD.compute(MapPartitionsRDD.scala:52)\n\tat org.apache.spark.rdd.RDD.computeOrReadCheckpoint(RDD.scala:324)\n\tat org.apache.spark.rdd.RDD.iterator(RDD.scala:288)\n\tat org.apache.spark.rdd.MapPartitionsRDD.compute(MapPartitionsRDD.scala:52)\n\tat org.apache.spark.rdd.RDD.computeOrReadCheckpoint(RDD.scala:324)\n\tat org.apache.spark.rdd.RDD.iterator(RDD.scala:288)\n\tat org.apache.spark.scheduler.ResultTask.runTask(ResultTask.scala:90)\n\tat org.apache.spark.scheduler.Task.run(Task.scala:121)\n\tat org.apache.spark.executor.Executor$TaskRunner.$anonfun$run$3(Executor.scala:411)\n\tat org.apache.spark.util.Utils$.tryWithSafeFinally(Utils.scala:1360)\n\tat org.apache.spark.executor.Executor$TaskRunner.run(Executor.scala:414)\n\tat java.base/java.util.concurrent.ThreadPoolExecutor.runWorker(ThreadPoolExecutor.java:1128)\n\tat java.base/java.util.concurrent.ThreadPoolExecutor$Worker.run(ThreadPoolExecutor.java:628)\n\t... 1 more\n"
          ]
        }
      ]
    },
    {
      "cell_type": "code",
      "metadata": {
        "id": "UVCMI0KhEglU",
        "colab_type": "code",
        "outputId": "8297f08f-f443-4a5d-c821-736e1020fbca",
        "colab": {
          "base_uri": "https://localhost:8080/",
          "height": 2648
        }
      },
      "source": [
        "dfr.select(['nome','nome_b','cpf','cpf_b', 'similaridade']).show()"
      ],
      "execution_count": 0,
      "outputs": [
        {
          "output_type": "error",
          "ename": "Py4JJavaError",
          "evalue": "ignored",
          "traceback": [
            "\u001b[0;31m---------------------------------------------------------------------------\u001b[0m",
            "\u001b[0;31mPy4JJavaError\u001b[0m                             Traceback (most recent call last)",
            "\u001b[0;32m<ipython-input-33-adfb80d2b0bd>\u001b[0m in \u001b[0;36m<module>\u001b[0;34m()\u001b[0m\n\u001b[0;32m----> 1\u001b[0;31m \u001b[0mdfr\u001b[0m\u001b[0;34m.\u001b[0m\u001b[0mselect\u001b[0m\u001b[0;34m(\u001b[0m\u001b[0;34m[\u001b[0m\u001b[0;34m'nome'\u001b[0m\u001b[0;34m,\u001b[0m\u001b[0;34m'nome_b'\u001b[0m\u001b[0;34m,\u001b[0m\u001b[0;34m'cpf'\u001b[0m\u001b[0;34m,\u001b[0m\u001b[0;34m'cpf_b'\u001b[0m\u001b[0;34m,\u001b[0m \u001b[0;34m'similaridade'\u001b[0m\u001b[0;34m]\u001b[0m\u001b[0;34m)\u001b[0m\u001b[0;34m.\u001b[0m\u001b[0mshow\u001b[0m\u001b[0;34m(\u001b[0m\u001b[0;34m)\u001b[0m\u001b[0;34m\u001b[0m\u001b[0;34m\u001b[0m\u001b[0m\n\u001b[0m",
            "\u001b[0;32m/content/spark-2.4.2-bin-hadoop2.7/python/pyspark/sql/dataframe.py\u001b[0m in \u001b[0;36mshow\u001b[0;34m(self, n, truncate, vertical)\u001b[0m\n\u001b[1;32m    376\u001b[0m         \"\"\"\n\u001b[1;32m    377\u001b[0m         \u001b[0;32mif\u001b[0m \u001b[0misinstance\u001b[0m\u001b[0;34m(\u001b[0m\u001b[0mtruncate\u001b[0m\u001b[0;34m,\u001b[0m \u001b[0mbool\u001b[0m\u001b[0;34m)\u001b[0m \u001b[0;32mand\u001b[0m \u001b[0mtruncate\u001b[0m\u001b[0;34m:\u001b[0m\u001b[0;34m\u001b[0m\u001b[0;34m\u001b[0m\u001b[0m\n\u001b[0;32m--> 378\u001b[0;31m             \u001b[0mprint\u001b[0m\u001b[0;34m(\u001b[0m\u001b[0mself\u001b[0m\u001b[0;34m.\u001b[0m\u001b[0m_jdf\u001b[0m\u001b[0;34m.\u001b[0m\u001b[0mshowString\u001b[0m\u001b[0;34m(\u001b[0m\u001b[0mn\u001b[0m\u001b[0;34m,\u001b[0m \u001b[0;36m20\u001b[0m\u001b[0;34m,\u001b[0m \u001b[0mvertical\u001b[0m\u001b[0;34m)\u001b[0m\u001b[0;34m)\u001b[0m\u001b[0;34m\u001b[0m\u001b[0;34m\u001b[0m\u001b[0m\n\u001b[0m\u001b[1;32m    379\u001b[0m         \u001b[0;32melse\u001b[0m\u001b[0;34m:\u001b[0m\u001b[0;34m\u001b[0m\u001b[0;34m\u001b[0m\u001b[0m\n\u001b[1;32m    380\u001b[0m             \u001b[0mprint\u001b[0m\u001b[0;34m(\u001b[0m\u001b[0mself\u001b[0m\u001b[0;34m.\u001b[0m\u001b[0m_jdf\u001b[0m\u001b[0;34m.\u001b[0m\u001b[0mshowString\u001b[0m\u001b[0;34m(\u001b[0m\u001b[0mn\u001b[0m\u001b[0;34m,\u001b[0m \u001b[0mint\u001b[0m\u001b[0;34m(\u001b[0m\u001b[0mtruncate\u001b[0m\u001b[0;34m)\u001b[0m\u001b[0;34m,\u001b[0m \u001b[0mvertical\u001b[0m\u001b[0;34m)\u001b[0m\u001b[0;34m)\u001b[0m\u001b[0;34m\u001b[0m\u001b[0;34m\u001b[0m\u001b[0m\n",
            "\u001b[0;32m/content/spark-2.4.2-bin-hadoop2.7/python/lib/py4j-0.10.7-src.zip/py4j/java_gateway.py\u001b[0m in \u001b[0;36m__call__\u001b[0;34m(self, *args)\u001b[0m\n\u001b[1;32m   1255\u001b[0m         \u001b[0manswer\u001b[0m \u001b[0;34m=\u001b[0m \u001b[0mself\u001b[0m\u001b[0;34m.\u001b[0m\u001b[0mgateway_client\u001b[0m\u001b[0;34m.\u001b[0m\u001b[0msend_command\u001b[0m\u001b[0;34m(\u001b[0m\u001b[0mcommand\u001b[0m\u001b[0;34m)\u001b[0m\u001b[0;34m\u001b[0m\u001b[0;34m\u001b[0m\u001b[0m\n\u001b[1;32m   1256\u001b[0m         return_value = get_return_value(\n\u001b[0;32m-> 1257\u001b[0;31m             answer, self.gateway_client, self.target_id, self.name)\n\u001b[0m\u001b[1;32m   1258\u001b[0m \u001b[0;34m\u001b[0m\u001b[0m\n\u001b[1;32m   1259\u001b[0m         \u001b[0;32mfor\u001b[0m \u001b[0mtemp_arg\u001b[0m \u001b[0;32min\u001b[0m \u001b[0mtemp_args\u001b[0m\u001b[0;34m:\u001b[0m\u001b[0;34m\u001b[0m\u001b[0;34m\u001b[0m\u001b[0m\n",
            "\u001b[0;32m/content/spark-2.4.2-bin-hadoop2.7/python/pyspark/sql/utils.py\u001b[0m in \u001b[0;36mdeco\u001b[0;34m(*a, **kw)\u001b[0m\n\u001b[1;32m     61\u001b[0m     \u001b[0;32mdef\u001b[0m \u001b[0mdeco\u001b[0m\u001b[0;34m(\u001b[0m\u001b[0;34m*\u001b[0m\u001b[0ma\u001b[0m\u001b[0;34m,\u001b[0m \u001b[0;34m**\u001b[0m\u001b[0mkw\u001b[0m\u001b[0;34m)\u001b[0m\u001b[0;34m:\u001b[0m\u001b[0;34m\u001b[0m\u001b[0;34m\u001b[0m\u001b[0m\n\u001b[1;32m     62\u001b[0m         \u001b[0;32mtry\u001b[0m\u001b[0;34m:\u001b[0m\u001b[0;34m\u001b[0m\u001b[0;34m\u001b[0m\u001b[0m\n\u001b[0;32m---> 63\u001b[0;31m             \u001b[0;32mreturn\u001b[0m \u001b[0mf\u001b[0m\u001b[0;34m(\u001b[0m\u001b[0;34m*\u001b[0m\u001b[0ma\u001b[0m\u001b[0;34m,\u001b[0m \u001b[0;34m**\u001b[0m\u001b[0mkw\u001b[0m\u001b[0;34m)\u001b[0m\u001b[0;34m\u001b[0m\u001b[0;34m\u001b[0m\u001b[0m\n\u001b[0m\u001b[1;32m     64\u001b[0m         \u001b[0;32mexcept\u001b[0m \u001b[0mpy4j\u001b[0m\u001b[0;34m.\u001b[0m\u001b[0mprotocol\u001b[0m\u001b[0;34m.\u001b[0m\u001b[0mPy4JJavaError\u001b[0m \u001b[0;32mas\u001b[0m \u001b[0me\u001b[0m\u001b[0;34m:\u001b[0m\u001b[0;34m\u001b[0m\u001b[0;34m\u001b[0m\u001b[0m\n\u001b[1;32m     65\u001b[0m             \u001b[0ms\u001b[0m \u001b[0;34m=\u001b[0m \u001b[0me\u001b[0m\u001b[0;34m.\u001b[0m\u001b[0mjava_exception\u001b[0m\u001b[0;34m.\u001b[0m\u001b[0mtoString\u001b[0m\u001b[0;34m(\u001b[0m\u001b[0;34m)\u001b[0m\u001b[0;34m\u001b[0m\u001b[0;34m\u001b[0m\u001b[0m\n",
            "\u001b[0;32m/content/spark-2.4.2-bin-hadoop2.7/python/lib/py4j-0.10.7-src.zip/py4j/protocol.py\u001b[0m in \u001b[0;36mget_return_value\u001b[0;34m(answer, gateway_client, target_id, name)\u001b[0m\n\u001b[1;32m    326\u001b[0m                 raise Py4JJavaError(\n\u001b[1;32m    327\u001b[0m                     \u001b[0;34m\"An error occurred while calling {0}{1}{2}.\\n\"\u001b[0m\u001b[0;34m.\u001b[0m\u001b[0;34m\u001b[0m\u001b[0;34m\u001b[0m\u001b[0m\n\u001b[0;32m--> 328\u001b[0;31m                     format(target_id, \".\", name), value)\n\u001b[0m\u001b[1;32m    329\u001b[0m             \u001b[0;32melse\u001b[0m\u001b[0;34m:\u001b[0m\u001b[0;34m\u001b[0m\u001b[0;34m\u001b[0m\u001b[0m\n\u001b[1;32m    330\u001b[0m                 raise Py4JError(\n",
            "\u001b[0;31mPy4JJavaError\u001b[0m: An error occurred while calling o216.showString.\n: org.apache.spark.SparkException: Job aborted due to stage failure: Task 0 in stage 19.0 failed 1 times, most recent failure: Lost task 0.0 in stage 19.0 (TID 19, localhost, executor driver): org.apache.spark.api.python.PythonException: Traceback (most recent call last):\n  File \"/content/spark-2.4.2-bin-hadoop2.7/python/lib/pyspark.zip/pyspark/worker.py\", line 377, in main\n    process()\n  File \"/content/spark-2.4.2-bin-hadoop2.7/python/lib/pyspark.zip/pyspark/worker.py\", line 372, in process\n    serializer.dump_stream(func(split_index, iterator), outfile)\n  File \"/content/spark-2.4.2-bin-hadoop2.7/python/lib/pyspark.zip/pyspark/serializers.py\", line 345, in dump_stream\n    self.serializer.dump_stream(self._batched(iterator), stream)\n  File \"/content/spark-2.4.2-bin-hadoop2.7/python/lib/pyspark.zip/pyspark/serializers.py\", line 141, in dump_stream\n    for obj in iterator:\n  File \"/content/spark-2.4.2-bin-hadoop2.7/python/lib/pyspark.zip/pyspark/serializers.py\", line 334, in _batched\n    for item in iterator:\n  File \"<string>\", line 1, in <lambda>\n  File \"/content/spark-2.4.2-bin-hadoop2.7/python/lib/pyspark.zip/pyspark/worker.py\", line 85, in <lambda>\n    return lambda *a: f(*a)\n  File \"/content/spark-2.4.2-bin-hadoop2.7/python/lib/pyspark.zip/pyspark/util.py\", line 99, in wrapper\n    return f(*args, **kwargs)\n  File \"<ipython-input-31-d7fc86852511>\", line 5, in compare\nTypeError: str argument expected\n\n\tat org.apache.spark.api.python.BasePythonRunner$ReaderIterator.handlePythonException(PythonRunner.scala:453)\n\tat org.apache.spark.sql.execution.python.PythonUDFRunner$$anon$2.read(PythonUDFRunner.scala:81)\n\tat org.apache.spark.sql.execution.python.PythonUDFRunner$$anon$2.read(PythonUDFRunner.scala:64)\n\tat org.apache.spark.api.python.BasePythonRunner$ReaderIterator.hasNext(PythonRunner.scala:406)\n\tat org.apache.spark.InterruptibleIterator.hasNext(InterruptibleIterator.scala:37)\n\tat scala.collection.Iterator$$anon$11.hasNext(Iterator.scala:489)\n\tat scala.collection.Iterator$$anon$10.hasNext(Iterator.scala:458)\n\tat scala.collection.Iterator$$anon$10.hasNext(Iterator.scala:458)\n\tat org.apache.spark.sql.catalyst.expressions.GeneratedClass$GeneratedIteratorForCodegenStage4.processNext(Unknown Source)\n\tat org.apache.spark.sql.execution.BufferedRowIterator.hasNext(BufferedRowIterator.java:43)\n\tat org.apache.spark.sql.execution.WholeStageCodegenExec$$anon$2.hasNext(WholeStageCodegenExec.scala:636)\n\tat org.apache.spark.sql.execution.SparkPlan.$anonfun$getByteArrayRdd$1(SparkPlan.scala:255)\n\tat org.apache.spark.rdd.RDD.$anonfun$mapPartitionsInternal$2(RDD.scala:836)\n\tat org.apache.spark.rdd.RDD.$anonfun$mapPartitionsInternal$2$adapted(RDD.scala:836)\n\tat org.apache.spark.rdd.MapPartitionsRDD.compute(MapPartitionsRDD.scala:52)\n\tat org.apache.spark.rdd.RDD.computeOrReadCheckpoint(RDD.scala:324)\n\tat org.apache.spark.rdd.RDD.iterator(RDD.scala:288)\n\tat org.apache.spark.rdd.MapPartitionsRDD.compute(MapPartitionsRDD.scala:52)\n\tat org.apache.spark.rdd.RDD.computeOrReadCheckpoint(RDD.scala:324)\n\tat org.apache.spark.rdd.RDD.iterator(RDD.scala:288)\n\tat org.apache.spark.scheduler.ResultTask.runTask(ResultTask.scala:90)\n\tat org.apache.spark.scheduler.Task.run(Task.scala:121)\n\tat org.apache.spark.executor.Executor$TaskRunner.$anonfun$run$3(Executor.scala:411)\n\tat org.apache.spark.util.Utils$.tryWithSafeFinally(Utils.scala:1360)\n\tat org.apache.spark.executor.Executor$TaskRunner.run(Executor.scala:414)\n\tat java.base/java.util.concurrent.ThreadPoolExecutor.runWorker(ThreadPoolExecutor.java:1128)\n\tat java.base/java.util.concurrent.ThreadPoolExecutor$Worker.run(ThreadPoolExecutor.java:628)\n\tat java.base/java.lang.Thread.run(Thread.java:834)\n\nDriver stacktrace:\n\tat org.apache.spark.scheduler.DAGScheduler.failJobAndIndependentStages(DAGScheduler.scala:1889)\n\tat org.apache.spark.scheduler.DAGScheduler.$anonfun$abortStage$2(DAGScheduler.scala:1877)\n\tat org.apache.spark.scheduler.DAGScheduler.$anonfun$abortStage$2$adapted(DAGScheduler.scala:1876)\n\tat scala.collection.mutable.ResizableArray.foreach(ResizableArray.scala:62)\n\tat scala.collection.mutable.ResizableArray.foreach$(ResizableArray.scala:55)\n\tat scala.collection.mutable.ArrayBuffer.foreach(ArrayBuffer.scala:49)\n\tat org.apache.spark.scheduler.DAGScheduler.abortStage(DAGScheduler.scala:1876)\n\tat org.apache.spark.scheduler.DAGScheduler.$anonfun$handleTaskSetFailed$1(DAGScheduler.scala:926)\n\tat org.apache.spark.scheduler.DAGScheduler.$anonfun$handleTaskSetFailed$1$adapted(DAGScheduler.scala:926)\n\tat scala.Option.foreach(Option.scala:274)\n\tat org.apache.spark.scheduler.DAGScheduler.handleTaskSetFailed(DAGScheduler.scala:926)\n\tat org.apache.spark.scheduler.DAGSchedulerEventProcessLoop.doOnReceive(DAGScheduler.scala:2110)\n\tat org.apache.spark.scheduler.DAGSchedulerEventProcessLoop.onReceive(DAGScheduler.scala:2059)\n\tat org.apache.spark.scheduler.DAGSchedulerEventProcessLoop.onReceive(DAGScheduler.scala:2048)\n\tat org.apache.spark.util.EventLoop$$anon$1.run(EventLoop.scala:49)\n\tat org.apache.spark.scheduler.DAGScheduler.runJob(DAGScheduler.scala:737)\n\tat org.apache.spark.SparkContext.runJob(SparkContext.scala:2061)\n\tat org.apache.spark.SparkContext.runJob(SparkContext.scala:2082)\n\tat org.apache.spark.SparkContext.runJob(SparkContext.scala:2101)\n\tat org.apache.spark.sql.execution.SparkPlan.executeTake(SparkPlan.scala:365)\n\tat org.apache.spark.sql.execution.CollectLimitExec.executeCollect(limit.scala:38)\n\tat org.apache.spark.sql.Dataset.collectFromPlan(Dataset.scala:3383)\n\tat org.apache.spark.sql.Dataset.$anonfun$head$1(Dataset.scala:2544)\n\tat org.apache.spark.sql.Dataset.$anonfun$withAction$2(Dataset.scala:3364)\n\tat org.apache.spark.sql.execution.SQLExecution$.$anonfun$withNewExecutionId$1(SQLExecution.scala:78)\n\tat org.apache.spark.sql.execution.SQLExecution$.withSQLConfPropagated(SQLExecution.scala:125)\n\tat org.apache.spark.sql.execution.SQLExecution$.withNewExecutionId(SQLExecution.scala:73)\n\tat org.apache.spark.sql.Dataset.withAction(Dataset.scala:3364)\n\tat org.apache.spark.sql.Dataset.head(Dataset.scala:2544)\n\tat org.apache.spark.sql.Dataset.take(Dataset.scala:2758)\n\tat org.apache.spark.sql.Dataset.getRows(Dataset.scala:254)\n\tat org.apache.spark.sql.Dataset.showString(Dataset.scala:291)\n\tat java.base/jdk.internal.reflect.NativeMethodAccessorImpl.invoke0(Native Method)\n\tat java.base/jdk.internal.reflect.NativeMethodAccessorImpl.invoke(NativeMethodAccessorImpl.java:62)\n\tat java.base/jdk.internal.reflect.DelegatingMethodAccessorImpl.invoke(DelegatingMethodAccessorImpl.java:43)\n\tat java.base/java.lang.reflect.Method.invoke(Method.java:566)\n\tat py4j.reflection.MethodInvoker.invoke(MethodInvoker.java:244)\n\tat py4j.reflection.ReflectionEngine.invoke(ReflectionEngine.java:357)\n\tat py4j.Gateway.invoke(Gateway.java:282)\n\tat py4j.commands.AbstractCommand.invokeMethod(AbstractCommand.java:132)\n\tat py4j.commands.CallCommand.execute(CallCommand.java:79)\n\tat py4j.GatewayConnection.run(GatewayConnection.java:238)\n\tat java.base/java.lang.Thread.run(Thread.java:834)\nCaused by: org.apache.spark.api.python.PythonException: Traceback (most recent call last):\n  File \"/content/spark-2.4.2-bin-hadoop2.7/python/lib/pyspark.zip/pyspark/worker.py\", line 377, in main\n    process()\n  File \"/content/spark-2.4.2-bin-hadoop2.7/python/lib/pyspark.zip/pyspark/worker.py\", line 372, in process\n    serializer.dump_stream(func(split_index, iterator), outfile)\n  File \"/content/spark-2.4.2-bin-hadoop2.7/python/lib/pyspark.zip/pyspark/serializers.py\", line 345, in dump_stream\n    self.serializer.dump_stream(self._batched(iterator), stream)\n  File \"/content/spark-2.4.2-bin-hadoop2.7/python/lib/pyspark.zip/pyspark/serializers.py\", line 141, in dump_stream\n    for obj in iterator:\n  File \"/content/spark-2.4.2-bin-hadoop2.7/python/lib/pyspark.zip/pyspark/serializers.py\", line 334, in _batched\n    for item in iterator:\n  File \"<string>\", line 1, in <lambda>\n  File \"/content/spark-2.4.2-bin-hadoop2.7/python/lib/pyspark.zip/pyspark/worker.py\", line 85, in <lambda>\n    return lambda *a: f(*a)\n  File \"/content/spark-2.4.2-bin-hadoop2.7/python/lib/pyspark.zip/pyspark/util.py\", line 99, in wrapper\n    return f(*args, **kwargs)\n  File \"<ipython-input-31-d7fc86852511>\", line 5, in compare\nTypeError: str argument expected\n\n\tat org.apache.spark.api.python.BasePythonRunner$ReaderIterator.handlePythonException(PythonRunner.scala:453)\n\tat org.apache.spark.sql.execution.python.PythonUDFRunner$$anon$2.read(PythonUDFRunner.scala:81)\n\tat org.apache.spark.sql.execution.python.PythonUDFRunner$$anon$2.read(PythonUDFRunner.scala:64)\n\tat org.apache.spark.api.python.BasePythonRunner$ReaderIterator.hasNext(PythonRunner.scala:406)\n\tat org.apache.spark.InterruptibleIterator.hasNext(InterruptibleIterator.scala:37)\n\tat scala.collection.Iterator$$anon$11.hasNext(Iterator.scala:489)\n\tat scala.collection.Iterator$$anon$10.hasNext(Iterator.scala:458)\n\tat scala.collection.Iterator$$anon$10.hasNext(Iterator.scala:458)\n\tat org.apache.spark.sql.catalyst.expressions.GeneratedClass$GeneratedIteratorForCodegenStage4.processNext(Unknown Source)\n\tat org.apache.spark.sql.execution.BufferedRowIterator.hasNext(BufferedRowIterator.java:43)\n\tat org.apache.spark.sql.execution.WholeStageCodegenExec$$anon$2.hasNext(WholeStageCodegenExec.scala:636)\n\tat org.apache.spark.sql.execution.SparkPlan.$anonfun$getByteArrayRdd$1(SparkPlan.scala:255)\n\tat org.apache.spark.rdd.RDD.$anonfun$mapPartitionsInternal$2(RDD.scala:836)\n\tat org.apache.spark.rdd.RDD.$anonfun$mapPartitionsInternal$2$adapted(RDD.scala:836)\n\tat org.apache.spark.rdd.MapPartitionsRDD.compute(MapPartitionsRDD.scala:52)\n\tat org.apache.spark.rdd.RDD.computeOrReadCheckpoint(RDD.scala:324)\n\tat org.apache.spark.rdd.RDD.iterator(RDD.scala:288)\n\tat org.apache.spark.rdd.MapPartitionsRDD.compute(MapPartitionsRDD.scala:52)\n\tat org.apache.spark.rdd.RDD.computeOrReadCheckpoint(RDD.scala:324)\n\tat org.apache.spark.rdd.RDD.iterator(RDD.scala:288)\n\tat org.apache.spark.scheduler.ResultTask.runTask(ResultTask.scala:90)\n\tat org.apache.spark.scheduler.Task.run(Task.scala:121)\n\tat org.apache.spark.executor.Executor$TaskRunner.$anonfun$run$3(Executor.scala:411)\n\tat org.apache.spark.util.Utils$.tryWithSafeFinally(Utils.scala:1360)\n\tat org.apache.spark.executor.Executor$TaskRunner.run(Executor.scala:414)\n\tat java.base/java.util.concurrent.ThreadPoolExecutor.runWorker(ThreadPoolExecutor.java:1128)\n\tat java.base/java.util.concurrent.ThreadPoolExecutor$Worker.run(ThreadPoolExecutor.java:628)\n\t... 1 more\n"
          ]
        }
      ]
    },
    {
      "cell_type": "code",
      "metadata": {
        "id": "nj_pQUaBE4Ch",
        "colab_type": "code",
        "colab": {}
      },
      "source": [
        "dfr.show()"
      ],
      "execution_count": 0,
      "outputs": []
    },
    {
      "cell_type": "code",
      "metadata": {
        "id": "m2iLls5YFIH1",
        "colab_type": "code",
        "colab": {}
      },
      "source": [
        ""
      ],
      "execution_count": 0,
      "outputs": []
    }
  ]
}