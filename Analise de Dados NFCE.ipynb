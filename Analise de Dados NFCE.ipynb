{
  "nbformat": 4,
  "nbformat_minor": 0,
  "metadata": {
    "colab": {
      "name": "Analise de Dados NFCE.ipynb",
      "version": "0.3.2",
      "provenance": [],
      "collapsed_sections": [],
      "include_colab_link": true
    },
    "kernelspec": {
      "name": "python2",
      "display_name": "Python 2"
    }
  },
  "cells": [
    {
      "cell_type": "markdown",
      "metadata": {
        "id": "view-in-github",
        "colab_type": "text"
      },
      "source": [
        "<a href=\"https://colab.research.google.com/github/EdnilsonRosa/Data-Science/blob/master/Analise%20de%20Dados%20NFCE.ipynb\" target=\"_parent\"><img src=\"https://colab.research.google.com/assets/colab-badge.svg\" alt=\"Open In Colab\"/></a>"
      ]
    },
    {
      "cell_type": "markdown",
      "metadata": {
        "id": "dkwwYrQnT6Lb",
        "colab_type": "text"
      },
      "source": [
        "Inicialização do Spark\n"
      ]
    },
    {
      "cell_type": "code",
      "metadata": {
        "id": "dkwvHdYmTikR",
        "colab_type": "code",
        "outputId": "9d327ef5-d53c-407a-a56c-8e2895d04b1e",
        "colab": {
          "base_uri": "https://localhost:8080/",
          "height": 67
        }
      },
      "source": [
        "\n",
        "#!apt-get install openjdk-8-jdk-headless -qq > /dev/null\n",
        "!wget -q http://archive.apache.org/dist/spark/spark-2.4.2/spark-2.4.2-bin-hadoop2.7.tgz\n",
        "!tar xf spark-2.4.2-bin-hadoop2.7.tgz\n",
        "!pip install -q findspark\n",
        "\n",
        "!java -version\n",
        "\n",
        "import os\n",
        "os.environ[\"JAVA_HOME\"] = \"/usr/lib/jvm/java-1.11.0-openjdk-amd64/\"\n",
        "os.environ[\"SPARK_HOME\"] = \"/content/spark-2.4.2-bin-hadoop2.7\"\n",
        "\n",
        "import findspark\n",
        "findspark.init()\n",
        "from pyspark.sql import SparkSession\n",
        "spark = SparkSession.builder.master(\"local[*]\").getOrCreate()\n",
        "\n",
        "### Chamada da biblioteca\n",
        "\n",
        "from pyspark.sql import SparkSession\n",
        "import pyspark.sql.functions as F\n",
        "from pyspark.sql.types import StringType\n",
        "from pyspark.sql.types import IntegerType\n",
        "\n",
        "### Inicializaçaõ da Sessão do Spark - \n",
        "\n",
        "spark = SparkSession.builder \\\n",
        "                    .appName(\"Tutorial PySpark SQL\") \\\n",
        "                    .config(\"spark.some.config.option\", \"some-value\") \\\n",
        "                    .getOrCreate()\n"
      ],
      "execution_count": 1,
      "outputs": [
        {
          "output_type": "stream",
          "text": [
            "openjdk version \"11.0.3\" 2019-04-16\n",
            "OpenJDK Runtime Environment (build 11.0.3+7-Ubuntu-1ubuntu218.04.1)\n",
            "OpenJDK 64-Bit Server VM (build 11.0.3+7-Ubuntu-1ubuntu218.04.1, mixed mode, sharing)\n"
          ],
          "name": "stdout"
        }
      ]
    },
    {
      "cell_type": "markdown",
      "metadata": {
        "id": "JDDX0BhaUlKF",
        "colab_type": "text"
      },
      "source": [
        "Montagem de drive do Google Drive e carga de dados da planilha"
      ]
    },
    {
      "cell_type": "code",
      "metadata": {
        "id": "p_98nLziUaHP",
        "colab_type": "code",
        "outputId": "ec9e68e0-bbd3-4657-80bd-b87e7aa2bf28",
        "colab": {
          "base_uri": "https://localhost:8080/",
          "height": 121
        }
      },
      "source": [
        "### Montagem de drive do Google\n",
        "### Será solicitada autorização\n",
        "### O Colab tem como raiz uma pasta 'content'\n",
        "\n",
        "from google.colab import drive\n",
        "drive.mount('/content/gdrive')\n"
      ],
      "execution_count": 2,
      "outputs": [
        {
          "output_type": "stream",
          "text": [
            "Go to this URL in a browser: https://accounts.google.com/o/oauth2/auth?client_id=947318989803-6bn6qk8qdgf4n4g3pfee6491hc0brc4i.apps.googleusercontent.com&redirect_uri=urn%3Aietf%3Awg%3Aoauth%3A2.0%3Aoob&scope=email%20https%3A%2F%2Fwww.googleapis.com%2Fauth%2Fdocs.test%20https%3A%2F%2Fwww.googleapis.com%2Fauth%2Fdrive%20https%3A%2F%2Fwww.googleapis.com%2Fauth%2Fdrive.photos.readonly%20https%3A%2F%2Fwww.googleapis.com%2Fauth%2Fpeopleapi.readonly&response_type=code\n",
            "\n",
            "Enter your authorization code:\n",
            "··········\n",
            "Mounted at /content/gdrive\n"
          ],
          "name": "stdout"
        }
      ]
    },
    {
      "cell_type": "code",
      "metadata": {
        "id": "M3at-rSjU-ir",
        "colab_type": "code",
        "colab": {}
      },
      "source": [
        "#Lendo dataframe com spark DataFrame a partir do arquivo csv colocado na pasta 'Colab Notebooks'\n",
        "df = spark.read.csv('gdrive/My Drive/Colab Notebooks/Consulta-NFCE-cerveja.csv', header=True, sep=';')"
      ],
      "execution_count": 0,
      "outputs": []
    },
    {
      "cell_type": "code",
      "metadata": {
        "id": "IVTMA8RmWiCJ",
        "colab_type": "code",
        "outputId": "087982a7-2699-4344-9778-488ec993f368",
        "colab": {
          "base_uri": "https://localhost:8080/",
          "height": 34
        }
      },
      "source": [
        "df.count()"
      ],
      "execution_count": 4,
      "outputs": [
        {
          "output_type": "execute_result",
          "data": {
            "text/plain": [
              "478161"
            ]
          },
          "metadata": {
            "tags": []
          },
          "execution_count": 4
        }
      ]
    },
    {
      "cell_type": "code",
      "metadata": {
        "id": "DQERmgp6Wvnv",
        "colab_type": "code",
        "outputId": "c934829d-f4e2-4229-c79d-5327e71bd70c",
        "colab": {
          "base_uri": "https://localhost:8080/",
          "height": 252
        }
      },
      "source": [
        "df.printSchema()"
      ],
      "execution_count": 5,
      "outputs": [
        {
          "output_type": "stream",
          "text": [
            "root\n",
            " |-- dtc_emissao: string (nullable = true)\n",
            " |-- cod_municipio_ibge_emi: string (nullable = true)\n",
            " |-- des_bairro_emi: string (nullable = true)\n",
            " |-- num_cep_emi: string (nullable = true)\n",
            " |-- des_item: string (nullable = true)\n",
            " |-- des_unid_comercial_item: string (nullable = true)\n",
            " |-- Quant_coml_item: string (nullable = true)\n",
            " |-- cod_padrao: string (nullable = true)\n",
            " |-- cod_produto: string (nullable = true)\n",
            " |-- cod_barra_nota_fiscal_eletr: string (nullable = true)\n",
            " |-- Valor_unit_item: string (nullable = true)\n",
            " |-- Valor_total_item: string (nullable = true)\n",
            "\n"
          ],
          "name": "stdout"
        }
      ]
    },
    {
      "cell_type": "code",
      "metadata": {
        "id": "9Ajzw_aNKbX0",
        "colab_type": "code",
        "colab": {
          "base_uri": "https://localhost:8080/",
          "height": 168
        },
        "outputId": "c486eb68-0ef4-4146-c1ae-f579cac45740"
      },
      "source": [
        "df.select('cod_produto').distinct().show()"
      ],
      "execution_count": 7,
      "outputs": [
        {
          "output_type": "stream",
          "text": [
            "+-----------+\n",
            "|cod_produto|\n",
            "+-----------+\n",
            "|   17019900|\n",
            "|   17011400|\n",
            "|   22030000|\n",
            "|   17011300|\n",
            "+-----------+\n",
            "\n"
          ],
          "name": "stdout"
        }
      ]
    },
    {
      "cell_type": "code",
      "metadata": {
        "id": "WjCI2lVJLETB",
        "colab_type": "code",
        "colab": {
          "base_uri": "https://localhost:8080/",
          "height": 454
        },
        "outputId": "a069604a-1386-454e-889c-438214951826"
      },
      "source": [
        "df.select('cod_produto','des_item').show()"
      ],
      "execution_count": 8,
      "outputs": [
        {
          "output_type": "stream",
          "text": [
            "+-----------+--------------------+\n",
            "|cod_produto|            des_item|\n",
            "+-----------+--------------------+\n",
            "|   17011300|ACUCAR EMPACOTADO...|\n",
            "|   17011300|ACUCAR EMPACOTADO...|\n",
            "|   17019900|ACUCAR MASCAVO BE...|\n",
            "|   22030000|    BRAHAMA CHOPP 1L|\n",
            "|   22030000|       DEVASSA 600ML|\n",
            "|   22030000|CERVEJA LOKAL 473...|\n",
            "|   17011300|     ACUCAR IMPERIAL|\n",
            "|   17011300|  ACUCAR AGROVALE 1K|\n",
            "|   17011300|  ACUCAR AGROVALE 1K|\n",
            "|   17011300|  ACUCAR AGROVALE 1K|\n",
            "|   22030000|CERVEJA BOHEMIA L...|\n",
            "|   22030000|CERVEJA PETRA PUR...|\n",
            "|   22030000|CERVEJA SKOL LATA...|\n",
            "|   17019900|ACUCAR UNIAO REFI...|\n",
            "|   22030000|CERVEJA LATAO ITA...|\n",
            "|   22030000|BRAHMA PILSEN GAR...|\n",
            "|   22030000|            HEINEKEN|\n",
            "|   22030000|            HEINEKEN|\n",
            "|   22030000|            HEINEKEN|\n",
            "|   22030000|   BOHEMIA LONG NECK|\n",
            "+-----------+--------------------+\n",
            "only showing top 20 rows\n",
            "\n"
          ],
          "name": "stdout"
        }
      ]
    },
    {
      "cell_type": "code",
      "metadata": {
        "id": "E7MzqkKnLQDh",
        "colab_type": "code",
        "colab": {
          "base_uri": "https://localhost:8080/",
          "height": 474
        },
        "outputId": "084d80d6-374d-4722-8144-039b390eed4b"
      },
      "source": [
        "df.filter(F.col('cod_produto') == '22030000').show()"
      ],
      "execution_count": 10,
      "outputs": [
        {
          "output_type": "stream",
          "text": [
            "+--------------------+----------------------+--------------+-----------+--------------------+-----------------------+---------------+----------+-----------+---------------------------+---------------+----------------+\n",
            "|         dtc_emissao|cod_municipio_ibge_emi|des_bairro_emi|num_cep_emi|            des_item|des_unid_comercial_item|Quant_coml_item|cod_padrao|cod_produto|cod_barra_nota_fiscal_eletr|Valor_unit_item|Valor_total_item|\n",
            "+--------------------+----------------------+--------------+-----------+--------------------+-----------------------+---------------+----------+-----------+---------------------------+---------------+----------------+\n",
            "|2019-04-17 11:07:...|               2913606|        Pontal|   45654050|    BRAHAMA CHOPP 1L|                     UN|            5,0|     NCM  |   22030000|                   SEM GTIN|           7,50|           37,50|\n",
            "|2019-04-17 11:07:...|               2913606|        Pontal|   45654050|       DEVASSA 600ML|                     UN|            5,0|     NCM  |   22030000|                   SEM GTIN|           7,50|           37,50|\n",
            "|2019-04-17 09:15:...|               2927408|  AGUAS CLARAS|   41311570|CERVEJA LOKAL 473...|                    UND|            5,0|     NCM  |   22030000|              7898377660223|           2,50|           12,50|\n",
            "|2019-04-17 17:54:...|               2927804|        CENTRO|   45725000|CERVEJA BOHEMIA L...|                     UN|           10,0|     NCM  |   22030000|              7891991006125|           3,00|           30,00|\n",
            "|2019-04-18 08:11:...|               2905800|        CENTRO|   45445000|CERVEJA PETRA PUR...|                     UN|            5,0|     NCM  |   22030000|              7897395099336|          29,00|          145,00|\n",
            "|2019-04-18 08:11:...|               2905800|        CENTRO|   45445000|CERVEJA SKOL LATA...|                     UN|            2,0|     NCM  |   22030000|              7891149100002|          26,00|           52,00|\n",
            "|2019-04-17 17:32:...|               2927408|    Pernambues|   41100280|CERVEJA LATAO ITA...|                     pc|           10,0|     NCM  |   22030000|              7897395040727|           6,00|           60,00|\n",
            "|2019-04-17 19:25:...|               2932903|      Campinho|   45400000|BRAHMA PILSEN GAR...|                     UN|            5,0|     NCM  |   22030000|              7891149103041|           6,50|           32,50|\n",
            "|2019-04-17 22:00:...|               2925303|      TRANCOSO|   45810000|            HEINEKEN|                     UN|            1,0|     NCM  |   22030000|                   SEM GTIN|          17,00|           17,00|\n",
            "|2019-04-17 22:00:...|               2925303|      TRANCOSO|   45810000|            HEINEKEN|                     UN|            2,0|     NCM  |   22030000|                   SEM GTIN|          17,00|           34,00|\n",
            "|2019-04-17 22:00:...|               2925303|      TRANCOSO|   45810000|            HEINEKEN|                     UN|            1,0|     NCM  |   22030000|                   SEM GTIN|          17,00|           17,00|\n",
            "|2019-04-17 22:00:...|               2925303|      TRANCOSO|   45810000|   BOHEMIA LONG NECK|                     UN|            1,0|     NCM  |   22030000|                   SEM GTIN|          15,00|           15,00|\n",
            "|2019-04-17 22:00:...|               2925303|      TRANCOSO|   45810000|   BOHEMIA LONG NECK|                     UN|            2,0|     NCM  |   22030000|                   SEM GTIN|          15,00|           30,00|\n",
            "|2019-04-18 07:53:...|               2919801|        CENTRO|   46500000|CERVEJA SKOL LATA...|                     PC|          113,0|     NCM  |   22030000|              7891149100002|          19,81|        2.238,53|\n",
            "|2019-04-18 07:53:...|               2919801|        CENTRO|   46500000|CERVEJA SKOL LATA...|                     PC|            1,0|     NCM  |   22030000|              7891149100002|          19,81|           19,81|\n",
            "|2019-04-18 07:53:...|               2919801|        CENTRO|   46500000|CERVEJA SKOL LATA...|                     PC|            1,0|     NCM  |   22030000|              7891149100002|          19,81|           19,81|\n",
            "|2019-04-18 07:53:...|               2919801|        CENTRO|   46500000|CERVEJA SKOL LATA...|                     PC|            1,0|     NCM  |   22030000|              7891149100002|          19,81|           19,81|\n",
            "|2019-04-18 07:53:...|               2919801|        CENTRO|   46500000|CERVEJA SKOL LATA...|                     PC|            1,0|     NCM  |   22030000|              7891149100002|          19,81|           19,81|\n",
            "|2019-04-18 07:53:...|               2919801|        CENTRO|   46500000|CERVEJA SKOL LATA...|                     PC|            1,0|     NCM  |   22030000|              7891149100002|          19,81|           19,81|\n",
            "|2019-04-18 07:53:...|               2919801|        CENTRO|   46500000|CERVEJA SKOL LATA...|                     PC|            1,0|     NCM  |   22030000|              7891149100002|          19,81|           19,81|\n",
            "+--------------------+----------------------+--------------+-----------+--------------------+-----------------------+---------------+----------+-----------+---------------------------+---------------+----------------+\n",
            "only showing top 20 rows\n",
            "\n"
          ],
          "name": "stdout"
        }
      ]
    },
    {
      "cell_type": "code",
      "metadata": {
        "id": "nrOOH6L_LvDx",
        "colab_type": "code",
        "colab": {}
      },
      "source": [
        "dfc = df.filter(F.col('cod_produto') == '22030000')"
      ],
      "execution_count": 0,
      "outputs": []
    },
    {
      "cell_type": "code",
      "metadata": {
        "id": "nDpVmdK1L4Ng",
        "colab_type": "code",
        "colab": {
          "base_uri": "https://localhost:8080/",
          "height": 34
        },
        "outputId": "39de89a9-3351-47d9-f0b2-094c2eb95b0e"
      },
      "source": [
        "dfc.count()"
      ],
      "execution_count": 13,
      "outputs": [
        {
          "output_type": "execute_result",
          "data": {
            "text/plain": [
              "252830"
            ]
          },
          "metadata": {
            "tags": []
          },
          "execution_count": 13
        }
      ]
    },
    {
      "cell_type": "code",
      "metadata": {
        "id": "XBha5OcnL8FJ",
        "colab_type": "code",
        "colab": {
          "base_uri": "https://localhost:8080/",
          "height": 466
        },
        "outputId": "f2d04728-5e8f-4549-a6e7-00a832dfa194"
      },
      "source": [
        "dfc.select('des_item').distinct().show()"
      ],
      "execution_count": 14,
      "outputs": [
        {
          "output_type": "stream",
          "text": [
            "+--------------------+\n",
            "|            des_item|\n",
            "+--------------------+\n",
            "|   CERVEJA 600 CAIXA|\n",
            "|CERV ITA GO DRAFT...|\n",
            "|          PEPSI ZERO|\n",
            "|CERV SCHIN LT 12X...|\n",
            "| CERVEJA BRAHMA LATA|\n",
            "|       SUCO DE LIMAO|\n",
            "|PCT.CERV. DEVASSA...|\n",
            "|CERVEJA NOVA SCHI...|\n",
            "|SKOL LATA 350ML CX12|\n",
            "|       ENER UP 250ML|\n",
            "|        1-BLUSA TORY|\n",
            "|     EISENBADHN LATA|\n",
            "|CERV STELLA ARTOI...|\n",
            "|CERVEJA BRAHMA CH...|\n",
            "|CERVEJA ITAIPAVA ...|\n",
            "| ANTART PILSEN 350ML|\n",
            "|CERVEJA SKOL LATA...|\n",
            "|            GO DRAFT|\n",
            "|CERV BADEN BADEN ...|\n",
            "|CERVEJA BRAHMA ZE...|\n",
            "+--------------------+\n",
            "only showing top 20 rows\n",
            "\n"
          ],
          "name": "stdout"
        }
      ]
    },
    {
      "cell_type": "code",
      "metadata": {
        "id": "WakHFrpZMHye",
        "colab_type": "code",
        "colab": {
          "base_uri": "https://localhost:8080/",
          "height": 466
        },
        "outputId": "3222498a-37f0-4b48-d034-1059d81c6adf"
      },
      "source": [
        "dfc.groupBy('des_item').count().orderBy('count',ascending=[0]).show()"
      ],
      "execution_count": 19,
      "outputs": [
        {
          "output_type": "stream",
          "text": [
            "+--------------------+-----+\n",
            "|            des_item|count|\n",
            "+--------------------+-----+\n",
            "|     &CERV SKOL LATA| 1680|\n",
            "|       CERV.SKOL LTA| 1630|\n",
            "|CERV LT DEVASSA P...| 1588|\n",
            "|CERV BOHEMIA LT 3...| 1541|\n",
            "|CERV  DEVASSA SLE...| 1501|\n",
            "|    CERVEJA ITAIPAVA| 1453|\n",
            "|  CERVEJA SKOL 350ML| 1434|\n",
            "|CERV ITAIPAVA LT ...| 1288|\n",
            "|&CERV PETRA PURO ...| 1251|\n",
            "|CERV PET P MALT35...| 1234|\n",
            "|&CERVEJA BOHEMIA ...| 1162|\n",
            "|       &CERV SKOL LT| 1132|\n",
            "|               CHOPP| 1101|\n",
            "|      &CERV ITAIPAVA| 1054|\n",
            "|CERV BOHEMIA P M ...|  994|\n",
            "|     CERVEJA BOHEMIA|  986|\n",
            "|CERV LT BOHEMIA P...|  980|\n",
            "|CERVEJA ITAIPAVA ...|  977|\n",
            "| CERV SCHIN LT 350ML|  974|\n",
            "| &CERV STELLA ARTOIS|  951|\n",
            "+--------------------+-----+\n",
            "only showing top 20 rows\n",
            "\n"
          ],
          "name": "stdout"
        }
      ]
    }
  ]
}